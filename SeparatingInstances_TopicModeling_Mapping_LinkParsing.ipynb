{
 "cells": [
  {
   "cell_type": "markdown",
   "metadata": {},
   "source": [
    "# Distinguishing Cited and Repackaged Instances, Topic Modeling, Mapping, & Link Parsing"
   ]
  },
  {
   "cell_type": "markdown",
   "metadata": {},
   "source": [
    "## Distinguishing Cited and Repackaged Instances"
   ]
  },
  {
   "cell_type": "code",
   "execution_count": 1,
   "metadata": {},
   "outputs": [
    {
     "name": "stderr",
     "output_type": "stream",
     "text": [
      "c:\\Users\\Ksell\\anaconda3\\Lib\\site-packages\\pandas\\core\\arrays\\masked.py:60: UserWarning: Pandas requires version '1.3.6' or newer of 'bottleneck' (version '1.3.5' currently installed).\n",
      "  from pandas.core import (\n"
     ]
    },
    {
     "data": {
      "text/plain": [
       "<bound method NDFrame.head of                                                    url  \\\n",
       "0    http://bonddad.blogspot.com/2021/12/manufactur...   \n",
       "1    http://bonddad.blogspot.com/2023/09/initial-jo...   \n",
       "2    http://bostongis.org/?content_name=umn_datasou...   \n",
       "3    http://bostongis.org/?content_name=umn_datasou...   \n",
       "4    http://colonialsense.com/society-lifestyle/cen...   \n",
       "..                                                 ...   \n",
       "767   https://www.medfieldpubliclibrary.org/databases/   \n",
       "768  https://www.nature.com/articles/s41893-020-006...   \n",
       "769  https://www.plannedparenthoodaction.org/florid...   \n",
       "770  https://www.socialexplorer.com/data/acs2006/me...   \n",
       "771        https://yelmwa.gov/news_detail_t10_r448.php   \n",
       "\n",
       "                                           Found Links  \\\n",
       "0                      http://www.census.gov/econ/www/   \n",
       "1                      http://www.census.gov/econ/www/   \n",
       "2       http://www.census.gov/geo/www/tiger/index.html   \n",
       "3     http://www.census.gov/geo/www/cob/bdy_files.html   \n",
       "4    mailto:?subject=Colonial Sense: Society-Lifest...   \n",
       "..                                                 ...   \n",
       "767         http://www.census.gov/data/data-tools.html   \n",
       "768  https://www.census.gov/programs-surveys/acs/da...   \n",
       "769   https://www.census.gov/prod/2013pubs/p20-570.pdf   \n",
       "770  http://www.census.gov/hhes/www/poverty/newguid...   \n",
       "771                          https://2020census.gov/en   \n",
       "\n",
       "                                               content  \n",
       "0    the bonddad blog manufacturing still red hot c...  \n",
       "1    the bonddad blog initial jobless claims remain...  \n",
       "2    ogr odbcboston geographic information systemsh...  \n",
       "3    ogr odbcboston geographic information systemsh...  \n",
       "4    colonial sense societylifestyle census governa...  \n",
       "..                                                 ...  \n",
       "767   508 3594544  medfieldminlibnetaccount catalog...  \n",
       "768  skip to main contentadvertisementnature sustai...  \n",
       "769  go to contentgo to navigationgo to site search...  \n",
       "770  whats newdata releasenow live on social explor...  \n",
       "771  skip to contentyelm washingtonnavigation logoe...  \n",
       "\n",
       "[772 rows x 3 columns]>"
      ]
     },
     "execution_count": 1,
     "metadata": {},
     "output_type": "execute_result"
    }
   ],
   "source": [
    "import pandas as pd # used for creating/manipulating data frames\n",
    "\n",
    "# read in data\n",
    "foundlinks = pd.read_excel(\"foundlinks.modeling.xlsx\")\n",
    "foundlinks.head"
   ]
  },
  {
   "cell_type": "code",
   "execution_count": 2,
   "metadata": {},
   "outputs": [
    {
     "name": "stderr",
     "output_type": "stream",
     "text": [
      "C:\\Users\\Ksell\\AppData\\Local\\Temp\\ipykernel_12724\\2461475174.py:8: FutureWarning: DataFrame.applymap has been deprecated. Use DataFrame.map instead.\n",
      "  foundlinks = foundlinks.applymap(lambda x: x.lower() if isinstance(x, str) else x)\n"
     ]
    }
   ],
   "source": [
    "# Perform cleaning again to the data just to be safe\n",
    "\n",
    "#getting rid of special characters and lower caseing content\n",
    "pattern = r'[^a-zA-Z0-9\\s]'\n",
    "foundlinks['content'] = foundlinks['content'].str.replace(pattern,'',regex=True)\n",
    "# Remove new line characters\n",
    "foundlinks['content'] = foundlinks['content'].str.replace(r'\\n', '', regex=True)\n",
    "foundlinks = foundlinks.applymap(lambda x: x.lower() if isinstance(x, str) else x)"
   ]
  },
  {
   "cell_type": "code",
   "execution_count": 5,
   "metadata": {},
   "outputs": [
    {
     "data": {
      "text/html": [
       "<div>\n",
       "<style scoped>\n",
       "    .dataframe tbody tr th:only-of-type {\n",
       "        vertical-align: middle;\n",
       "    }\n",
       "\n",
       "    .dataframe tbody tr th {\n",
       "        vertical-align: top;\n",
       "    }\n",
       "\n",
       "    .dataframe thead th {\n",
       "        text-align: right;\n",
       "    }\n",
       "</style>\n",
       "<table border=\"1\" class=\"dataframe\">\n",
       "  <thead>\n",
       "    <tr style=\"text-align: right;\">\n",
       "      <th></th>\n",
       "      <th>url</th>\n",
       "      <th>Found Links</th>\n",
       "    </tr>\n",
       "  </thead>\n",
       "  <tbody>\n",
       "    <tr>\n",
       "      <th>0</th>\n",
       "      <td>http://bonddad.blogspot.com/2021/12/manufactur...</td>\n",
       "      <td>[http://www.census.gov/econ/www/]</td>\n",
       "    </tr>\n",
       "    <tr>\n",
       "      <th>1</th>\n",
       "      <td>http://bonddad.blogspot.com/2023/09/initial-jo...</td>\n",
       "      <td>[http://www.census.gov/econ/www/]</td>\n",
       "    </tr>\n",
       "    <tr>\n",
       "      <th>2</th>\n",
       "      <td>http://bostongis.org/?content_name=umn_datasou...</td>\n",
       "      <td>[http://www.census.gov/geo/www/tiger/index.htm...</td>\n",
       "    </tr>\n",
       "    <tr>\n",
       "      <th>3</th>\n",
       "      <td>http://colonialsense.com/society-lifestyle/cen...</td>\n",
       "      <td>[mailto:?subject=colonial sense: society-lifes...</td>\n",
       "    </tr>\n",
       "    <tr>\n",
       "      <th>4</th>\n",
       "      <td>http://fileformats.archiveteam.org/index.php?t...</td>\n",
       "      <td>[https://www.census.gov/programs-surveys/cps.h...</td>\n",
       "    </tr>\n",
       "    <tr>\n",
       "      <th>...</th>\n",
       "      <td>...</td>\n",
       "      <td>...</td>\n",
       "    </tr>\n",
       "    <tr>\n",
       "      <th>324</th>\n",
       "      <td>https://www.withdra.com/p/mind-the-gap-explori...</td>\n",
       "      <td>[https://www.census.gov/library/publications/2...</td>\n",
       "    </tr>\n",
       "    <tr>\n",
       "      <th>325</th>\n",
       "      <td>https://www.wxpr.org/2022-07-28/these-hurrican...</td>\n",
       "      <td>[https://data.census.gov/]</td>\n",
       "    </tr>\n",
       "    <tr>\n",
       "      <th>326</th>\n",
       "      <td>https://www.wyomingpublicmedia.org/news/2021-0...</td>\n",
       "      <td>[https://www.census.gov/data/experimental-data...</td>\n",
       "    </tr>\n",
       "    <tr>\n",
       "      <th>327</th>\n",
       "      <td>https://yelmwa.gov/i_want_to/contact/send_a_no...</td>\n",
       "      <td>[https://2020census.gov/en]</td>\n",
       "    </tr>\n",
       "    <tr>\n",
       "      <th>328</th>\n",
       "      <td>https://yelmwa.gov/news_detail_t10_r448.php</td>\n",
       "      <td>[https://2020census.gov/en]</td>\n",
       "    </tr>\n",
       "  </tbody>\n",
       "</table>\n",
       "<p>329 rows × 2 columns</p>\n",
       "</div>"
      ],
      "text/plain": [
       "                                                   url  \\\n",
       "0    http://bonddad.blogspot.com/2021/12/manufactur...   \n",
       "1    http://bonddad.blogspot.com/2023/09/initial-jo...   \n",
       "2    http://bostongis.org/?content_name=umn_datasou...   \n",
       "3    http://colonialsense.com/society-lifestyle/cen...   \n",
       "4    http://fileformats.archiveteam.org/index.php?t...   \n",
       "..                                                 ...   \n",
       "324  https://www.withdra.com/p/mind-the-gap-explori...   \n",
       "325  https://www.wxpr.org/2022-07-28/these-hurrican...   \n",
       "326  https://www.wyomingpublicmedia.org/news/2021-0...   \n",
       "327  https://yelmwa.gov/i_want_to/contact/send_a_no...   \n",
       "328        https://yelmwa.gov/news_detail_t10_r448.php   \n",
       "\n",
       "                                           Found Links  \n",
       "0                    [http://www.census.gov/econ/www/]  \n",
       "1                    [http://www.census.gov/econ/www/]  \n",
       "2    [http://www.census.gov/geo/www/tiger/index.htm...  \n",
       "3    [mailto:?subject=colonial sense: society-lifes...  \n",
       "4    [https://www.census.gov/programs-surveys/cps.h...  \n",
       "..                                                 ...  \n",
       "324  [https://www.census.gov/library/publications/2...  \n",
       "325                         [https://data.census.gov/]  \n",
       "326  [https://www.census.gov/data/experimental-data...  \n",
       "327                        [https://2020census.gov/en]  \n",
       "328                        [https://2020census.gov/en]  \n",
       "\n",
       "[329 rows x 2 columns]"
      ]
     },
     "execution_count": 5,
     "metadata": {},
     "output_type": "execute_result"
    }
   ],
   "source": [
    "#Sites had multiple found links, combining them to reduce duplicate URls and content\n",
    "unique_links_per_url = foundlinks.groupby('url')['Found Links'].unique().reset_index()\n",
    "unique_links_per_url # view data"
   ]
  },
  {
   "cell_type": "code",
   "execution_count": 6,
   "metadata": {},
   "outputs": [
    {
     "data": {
      "text/html": [
       "<div>\n",
       "<style scoped>\n",
       "    .dataframe tbody tr th:only-of-type {\n",
       "        vertical-align: middle;\n",
       "    }\n",
       "\n",
       "    .dataframe tbody tr th {\n",
       "        vertical-align: top;\n",
       "    }\n",
       "\n",
       "    .dataframe thead th {\n",
       "        text-align: right;\n",
       "    }\n",
       "</style>\n",
       "<table border=\"1\" class=\"dataframe\">\n",
       "  <thead>\n",
       "    <tr style=\"text-align: right;\">\n",
       "      <th></th>\n",
       "      <th>url</th>\n",
       "      <th>Found Links</th>\n",
       "      <th>Source</th>\n",
       "    </tr>\n",
       "  </thead>\n",
       "  <tbody>\n",
       "    <tr>\n",
       "      <th>0</th>\n",
       "      <td>http://bonddad.blogspot.com/2021/12/manufactur...</td>\n",
       "      <td>[http://www.census.gov/econ/www/]</td>\n",
       "      <td>cited</td>\n",
       "    </tr>\n",
       "    <tr>\n",
       "      <th>1</th>\n",
       "      <td>http://bonddad.blogspot.com/2023/09/initial-jo...</td>\n",
       "      <td>[http://www.census.gov/econ/www/]</td>\n",
       "      <td>cited</td>\n",
       "    </tr>\n",
       "    <tr>\n",
       "      <th>2</th>\n",
       "      <td>http://bostongis.org/?content_name=umn_datasou...</td>\n",
       "      <td>[http://www.census.gov/geo/www/tiger/index.htm...</td>\n",
       "      <td>cited</td>\n",
       "    </tr>\n",
       "    <tr>\n",
       "      <th>3</th>\n",
       "      <td>http://colonialsense.com/society-lifestyle/cen...</td>\n",
       "      <td>[mailto:?subject=colonial sense: society-lifes...</td>\n",
       "      <td>cited</td>\n",
       "    </tr>\n",
       "    <tr>\n",
       "      <th>4</th>\n",
       "      <td>http://fileformats.archiveteam.org/index.php?t...</td>\n",
       "      <td>[https://www.census.gov/programs-surveys/cps.h...</td>\n",
       "      <td>cited</td>\n",
       "    </tr>\n",
       "    <tr>\n",
       "      <th>...</th>\n",
       "      <td>...</td>\n",
       "      <td>...</td>\n",
       "      <td>...</td>\n",
       "    </tr>\n",
       "    <tr>\n",
       "      <th>324</th>\n",
       "      <td>https://www.withdra.com/p/mind-the-gap-explori...</td>\n",
       "      <td>[https://www.census.gov/library/publications/2...</td>\n",
       "      <td>cited</td>\n",
       "    </tr>\n",
       "    <tr>\n",
       "      <th>325</th>\n",
       "      <td>https://www.wxpr.org/2022-07-28/these-hurrican...</td>\n",
       "      <td>[https://data.census.gov/]</td>\n",
       "      <td>repackaged</td>\n",
       "    </tr>\n",
       "    <tr>\n",
       "      <th>326</th>\n",
       "      <td>https://www.wyomingpublicmedia.org/news/2021-0...</td>\n",
       "      <td>[https://www.census.gov/data/experimental-data...</td>\n",
       "      <td>repackaged</td>\n",
       "    </tr>\n",
       "    <tr>\n",
       "      <th>327</th>\n",
       "      <td>https://yelmwa.gov/i_want_to/contact/send_a_no...</td>\n",
       "      <td>[https://2020census.gov/en]</td>\n",
       "      <td>cited</td>\n",
       "    </tr>\n",
       "    <tr>\n",
       "      <th>328</th>\n",
       "      <td>https://yelmwa.gov/news_detail_t10_r448.php</td>\n",
       "      <td>[https://2020census.gov/en]</td>\n",
       "      <td>cited</td>\n",
       "    </tr>\n",
       "  </tbody>\n",
       "</table>\n",
       "<p>329 rows × 3 columns</p>\n",
       "</div>"
      ],
      "text/plain": [
       "                                                   url  \\\n",
       "0    http://bonddad.blogspot.com/2021/12/manufactur...   \n",
       "1    http://bonddad.blogspot.com/2023/09/initial-jo...   \n",
       "2    http://bostongis.org/?content_name=umn_datasou...   \n",
       "3    http://colonialsense.com/society-lifestyle/cen...   \n",
       "4    http://fileformats.archiveteam.org/index.php?t...   \n",
       "..                                                 ...   \n",
       "324  https://www.withdra.com/p/mind-the-gap-explori...   \n",
       "325  https://www.wxpr.org/2022-07-28/these-hurrican...   \n",
       "326  https://www.wyomingpublicmedia.org/news/2021-0...   \n",
       "327  https://yelmwa.gov/i_want_to/contact/send_a_no...   \n",
       "328        https://yelmwa.gov/news_detail_t10_r448.php   \n",
       "\n",
       "                                           Found Links      Source  \n",
       "0                    [http://www.census.gov/econ/www/]       cited  \n",
       "1                    [http://www.census.gov/econ/www/]       cited  \n",
       "2    [http://www.census.gov/geo/www/tiger/index.htm...       cited  \n",
       "3    [mailto:?subject=colonial sense: society-lifes...       cited  \n",
       "4    [https://www.census.gov/programs-surveys/cps.h...       cited  \n",
       "..                                                 ...         ...  \n",
       "324  [https://www.census.gov/library/publications/2...       cited  \n",
       "325                         [https://data.census.gov/]  repackaged  \n",
       "326  [https://www.census.gov/data/experimental-data...  repackaged  \n",
       "327                        [https://2020census.gov/en]       cited  \n",
       "328                        [https://2020census.gov/en]       cited  \n",
       "\n",
       "[329 rows x 3 columns]"
      ]
     },
     "execution_count": 6,
     "metadata": {},
     "output_type": "execute_result"
    }
   ],
   "source": [
    "#key words for finding if site is repackaged or cited\n",
    "\n",
    "keywords = [\"tables\",\"table\",\"data\",\"quickfacts\"]\n",
    "\n",
    "pattern = '|'.join(keywords)  \n",
    "\n",
    "# Function to check if any link in the list contains a keyword\n",
    "def contains_keyword(links, pattern):\n",
    "    # Return True if any link contains a keyword, otherwise False\n",
    "    return any(pd.notna(link) and pd.Series(link).str.contains(pattern, case=False, regex=True).any() \n",
    "               for link in links)\n",
    "\n",
    "# Apply the function to create a new column 'contains_keywords'\n",
    "unique_links_per_url['Source'] = unique_links_per_url['Found Links'].apply(lambda x: contains_keyword(x, pattern))\n",
    "unique_links_per_url['Source'] = unique_links_per_url['Source'].replace({True: 'repackaged', False: 'cited'})\n",
    "\n",
    "unique_links_per_url"
   ]
  },
  {
   "cell_type": "code",
   "execution_count": 7,
   "metadata": {},
   "outputs": [
    {
     "data": {
      "text/html": [
       "<div>\n",
       "<style scoped>\n",
       "    .dataframe tbody tr th:only-of-type {\n",
       "        vertical-align: middle;\n",
       "    }\n",
       "\n",
       "    .dataframe tbody tr th {\n",
       "        vertical-align: top;\n",
       "    }\n",
       "\n",
       "    .dataframe thead th {\n",
       "        text-align: right;\n",
       "    }\n",
       "</style>\n",
       "<table border=\"1\" class=\"dataframe\">\n",
       "  <thead>\n",
       "    <tr style=\"text-align: right;\">\n",
       "      <th></th>\n",
       "      <th>url</th>\n",
       "      <th>content</th>\n",
       "    </tr>\n",
       "  </thead>\n",
       "  <tbody>\n",
       "    <tr>\n",
       "      <th>0</th>\n",
       "      <td>http://bonddad.blogspot.com/2021/12/manufactur...</td>\n",
       "      <td>the bonddad blog manufacturing still red hot c...</td>\n",
       "    </tr>\n",
       "    <tr>\n",
       "      <th>1</th>\n",
       "      <td>http://bonddad.blogspot.com/2023/09/initial-jo...</td>\n",
       "      <td>the bonddad blog initial jobless claims remain...</td>\n",
       "    </tr>\n",
       "    <tr>\n",
       "      <th>2</th>\n",
       "      <td>http://bostongis.org/?content_name=umn_datasou...</td>\n",
       "      <td>ogr odbcboston geographic information systemsh...</td>\n",
       "    </tr>\n",
       "    <tr>\n",
       "      <th>3</th>\n",
       "      <td>http://colonialsense.com/society-lifestyle/cen...</td>\n",
       "      <td>colonial sense societylifestyle census governa...</td>\n",
       "    </tr>\n",
       "    <tr>\n",
       "      <th>4</th>\n",
       "      <td>http://fileformats.archiveteam.org/index.php?t...</td>\n",
       "      <td>cps project  just solve the file format proble...</td>\n",
       "    </tr>\n",
       "    <tr>\n",
       "      <th>...</th>\n",
       "      <td>...</td>\n",
       "      <td>...</td>\n",
       "    </tr>\n",
       "    <tr>\n",
       "      <th>324</th>\n",
       "      <td>https://www.withdra.com/p/mind-the-gap-explori...</td>\n",
       "      <td>vibecession exploring the growing divide betwe...</td>\n",
       "    </tr>\n",
       "    <tr>\n",
       "      <th>325</th>\n",
       "      <td>https://www.wxpr.org/2022-07-28/these-hurrican...</td>\n",
       "      <td>these hurricane flood maps reveal the climate ...</td>\n",
       "    </tr>\n",
       "    <tr>\n",
       "      <th>326</th>\n",
       "      <td>https://www.wyomingpublicmedia.org/news/2021-0...</td>\n",
       "      <td>single mothers bore brunt of coronavirus anxie...</td>\n",
       "    </tr>\n",
       "    <tr>\n",
       "      <th>327</th>\n",
       "      <td>https://yelmwa.gov/i_want_to/contact/send_a_no...</td>\n",
       "      <td>welcome to yelm washingtonskip to contentsearc...</td>\n",
       "    </tr>\n",
       "    <tr>\n",
       "      <th>328</th>\n",
       "      <td>https://yelmwa.gov/news_detail_t10_r448.php</td>\n",
       "      <td>skip to contentyelm washingtonnavigation logoe...</td>\n",
       "    </tr>\n",
       "  </tbody>\n",
       "</table>\n",
       "<p>329 rows × 2 columns</p>\n",
       "</div>"
      ],
      "text/plain": [
       "                                                   url  \\\n",
       "0    http://bonddad.blogspot.com/2021/12/manufactur...   \n",
       "1    http://bonddad.blogspot.com/2023/09/initial-jo...   \n",
       "2    http://bostongis.org/?content_name=umn_datasou...   \n",
       "3    http://colonialsense.com/society-lifestyle/cen...   \n",
       "4    http://fileformats.archiveteam.org/index.php?t...   \n",
       "..                                                 ...   \n",
       "324  https://www.withdra.com/p/mind-the-gap-explori...   \n",
       "325  https://www.wxpr.org/2022-07-28/these-hurrican...   \n",
       "326  https://www.wyomingpublicmedia.org/news/2021-0...   \n",
       "327  https://yelmwa.gov/i_want_to/contact/send_a_no...   \n",
       "328        https://yelmwa.gov/news_detail_t10_r448.php   \n",
       "\n",
       "                                               content  \n",
       "0    the bonddad blog manufacturing still red hot c...  \n",
       "1    the bonddad blog initial jobless claims remain...  \n",
       "2    ogr odbcboston geographic information systemsh...  \n",
       "3    colonial sense societylifestyle census governa...  \n",
       "4    cps project  just solve the file format proble...  \n",
       "..                                                 ...  \n",
       "324  vibecession exploring the growing divide betwe...  \n",
       "325  these hurricane flood maps reveal the climate ...  \n",
       "326  single mothers bore brunt of coronavirus anxie...  \n",
       "327  welcome to yelm washingtonskip to contentsearc...  \n",
       "328  skip to contentyelm washingtonnavigation logoe...  \n",
       "\n",
       "[329 rows x 2 columns]"
      ]
     },
     "execution_count": 7,
     "metadata": {},
     "output_type": "execute_result"
    }
   ],
   "source": [
    "# combining content since we combined the links\n",
    "combined_content = foundlinks.groupby('url')['content'].apply(' '.join).reset_index()\n",
    "combined_content"
   ]
  },
  {
   "cell_type": "code",
   "execution_count": 8,
   "metadata": {},
   "outputs": [
    {
     "data": {
      "text/html": [
       "<div>\n",
       "<style scoped>\n",
       "    .dataframe tbody tr th:only-of-type {\n",
       "        vertical-align: middle;\n",
       "    }\n",
       "\n",
       "    .dataframe tbody tr th {\n",
       "        vertical-align: top;\n",
       "    }\n",
       "\n",
       "    .dataframe thead th {\n",
       "        text-align: right;\n",
       "    }\n",
       "</style>\n",
       "<table border=\"1\" class=\"dataframe\">\n",
       "  <thead>\n",
       "    <tr style=\"text-align: right;\">\n",
       "      <th></th>\n",
       "      <th>url</th>\n",
       "      <th>Found Links</th>\n",
       "      <th>Source</th>\n",
       "      <th>content</th>\n",
       "    </tr>\n",
       "  </thead>\n",
       "  <tbody>\n",
       "    <tr>\n",
       "      <th>0</th>\n",
       "      <td>http://bonddad.blogspot.com/2021/12/manufactur...</td>\n",
       "      <td>[http://www.census.gov/econ/www/]</td>\n",
       "      <td>cited</td>\n",
       "      <td>the bonddad blog manufacturing still red hot c...</td>\n",
       "    </tr>\n",
       "    <tr>\n",
       "      <th>1</th>\n",
       "      <td>http://bonddad.blogspot.com/2023/09/initial-jo...</td>\n",
       "      <td>[http://www.census.gov/econ/www/]</td>\n",
       "      <td>cited</td>\n",
       "      <td>the bonddad blog initial jobless claims remain...</td>\n",
       "    </tr>\n",
       "    <tr>\n",
       "      <th>2</th>\n",
       "      <td>http://bostongis.org/?content_name=umn_datasou...</td>\n",
       "      <td>[http://www.census.gov/geo/www/tiger/index.htm...</td>\n",
       "      <td>cited</td>\n",
       "      <td>ogr odbcboston geographic information systemsh...</td>\n",
       "    </tr>\n",
       "    <tr>\n",
       "      <th>3</th>\n",
       "      <td>http://colonialsense.com/society-lifestyle/cen...</td>\n",
       "      <td>[mailto:?subject=colonial sense: society-lifes...</td>\n",
       "      <td>cited</td>\n",
       "      <td>colonial sense societylifestyle census governa...</td>\n",
       "    </tr>\n",
       "    <tr>\n",
       "      <th>4</th>\n",
       "      <td>http://fileformats.archiveteam.org/index.php?t...</td>\n",
       "      <td>[https://www.census.gov/programs-surveys/cps.h...</td>\n",
       "      <td>cited</td>\n",
       "      <td>cps project  just solve the file format proble...</td>\n",
       "    </tr>\n",
       "    <tr>\n",
       "      <th>...</th>\n",
       "      <td>...</td>\n",
       "      <td>...</td>\n",
       "      <td>...</td>\n",
       "      <td>...</td>\n",
       "    </tr>\n",
       "    <tr>\n",
       "      <th>324</th>\n",
       "      <td>https://www.withdra.com/p/mind-the-gap-explori...</td>\n",
       "      <td>[https://www.census.gov/library/publications/2...</td>\n",
       "      <td>cited</td>\n",
       "      <td>vibecession exploring the growing divide betwe...</td>\n",
       "    </tr>\n",
       "    <tr>\n",
       "      <th>325</th>\n",
       "      <td>https://www.wxpr.org/2022-07-28/these-hurrican...</td>\n",
       "      <td>[https://data.census.gov/]</td>\n",
       "      <td>repackaged</td>\n",
       "      <td>these hurricane flood maps reveal the climate ...</td>\n",
       "    </tr>\n",
       "    <tr>\n",
       "      <th>326</th>\n",
       "      <td>https://www.wyomingpublicmedia.org/news/2021-0...</td>\n",
       "      <td>[https://www.census.gov/data/experimental-data...</td>\n",
       "      <td>repackaged</td>\n",
       "      <td>single mothers bore brunt of coronavirus anxie...</td>\n",
       "    </tr>\n",
       "    <tr>\n",
       "      <th>327</th>\n",
       "      <td>https://yelmwa.gov/i_want_to/contact/send_a_no...</td>\n",
       "      <td>[https://2020census.gov/en]</td>\n",
       "      <td>cited</td>\n",
       "      <td>welcome to yelm washingtonskip to contentsearc...</td>\n",
       "    </tr>\n",
       "    <tr>\n",
       "      <th>328</th>\n",
       "      <td>https://yelmwa.gov/news_detail_t10_r448.php</td>\n",
       "      <td>[https://2020census.gov/en]</td>\n",
       "      <td>cited</td>\n",
       "      <td>skip to contentyelm washingtonnavigation logoe...</td>\n",
       "    </tr>\n",
       "  </tbody>\n",
       "</table>\n",
       "<p>329 rows × 4 columns</p>\n",
       "</div>"
      ],
      "text/plain": [
       "                                                   url  \\\n",
       "0    http://bonddad.blogspot.com/2021/12/manufactur...   \n",
       "1    http://bonddad.blogspot.com/2023/09/initial-jo...   \n",
       "2    http://bostongis.org/?content_name=umn_datasou...   \n",
       "3    http://colonialsense.com/society-lifestyle/cen...   \n",
       "4    http://fileformats.archiveteam.org/index.php?t...   \n",
       "..                                                 ...   \n",
       "324  https://www.withdra.com/p/mind-the-gap-explori...   \n",
       "325  https://www.wxpr.org/2022-07-28/these-hurrican...   \n",
       "326  https://www.wyomingpublicmedia.org/news/2021-0...   \n",
       "327  https://yelmwa.gov/i_want_to/contact/send_a_no...   \n",
       "328        https://yelmwa.gov/news_detail_t10_r448.php   \n",
       "\n",
       "                                           Found Links      Source  \\\n",
       "0                    [http://www.census.gov/econ/www/]       cited   \n",
       "1                    [http://www.census.gov/econ/www/]       cited   \n",
       "2    [http://www.census.gov/geo/www/tiger/index.htm...       cited   \n",
       "3    [mailto:?subject=colonial sense: society-lifes...       cited   \n",
       "4    [https://www.census.gov/programs-surveys/cps.h...       cited   \n",
       "..                                                 ...         ...   \n",
       "324  [https://www.census.gov/library/publications/2...       cited   \n",
       "325                         [https://data.census.gov/]  repackaged   \n",
       "326  [https://www.census.gov/data/experimental-data...  repackaged   \n",
       "327                        [https://2020census.gov/en]       cited   \n",
       "328                        [https://2020census.gov/en]       cited   \n",
       "\n",
       "                                               content  \n",
       "0    the bonddad blog manufacturing still red hot c...  \n",
       "1    the bonddad blog initial jobless claims remain...  \n",
       "2    ogr odbcboston geographic information systemsh...  \n",
       "3    colonial sense societylifestyle census governa...  \n",
       "4    cps project  just solve the file format proble...  \n",
       "..                                                 ...  \n",
       "324  vibecession exploring the growing divide betwe...  \n",
       "325  these hurricane flood maps reveal the climate ...  \n",
       "326  single mothers bore brunt of coronavirus anxie...  \n",
       "327  welcome to yelm washingtonskip to contentsearc...  \n",
       "328  skip to contentyelm washingtonnavigation logoe...  \n",
       "\n",
       "[329 rows x 4 columns]"
      ]
     },
     "execution_count": 8,
     "metadata": {},
     "output_type": "execute_result"
    }
   ],
   "source": [
    "# create and view final data\n",
    "final_data = pd.merge(unique_links_per_url, combined_content, on='url')\n",
    "final_data"
   ]
  },
  {
   "cell_type": "markdown",
   "metadata": {},
   "source": [
    "## Topic Modeling"
   ]
  },
  {
   "cell_type": "markdown",
   "metadata": {},
   "source": [
    "### LDA"
   ]
  },
  {
   "cell_type": "code",
   "execution_count": 9,
   "metadata": {},
   "outputs": [],
   "source": [
    "from sklearn.feature_extraction.text import CountVectorizer # turn corpus of text into document-term matrix\n",
    "from gensim.corpora import Dictionary # create dictionary\n",
    "from nltk.corpus import stopwords # removal of stopwords\n",
    "from nltk.stem import WordNetLemmatizer # lemmatize text\n",
    "\n",
    "# Initialize the lemmatizer\n",
    "lemmatizer = WordNetLemmatizer()\n",
    "\n",
    "# Define stop words\n",
    "stop_words = stopwords.words('english') # standard English stopwords\n",
    "stop_words.extend([\"data\", \"census\", \"bureau\"]) # words specific to this data set that add little meaning\n",
    "\n",
    "# Preprocessing function to lemmatize text\n",
    "def preprocess(text):\n",
    "    tokens = text.split()  # tokenization\n",
    "    lemmatized = [lemmatizer.lemmatize(token) for token in tokens]  \n",
    "    return ' '.join(lemmatized)  # Return the lemmatized text\n",
    "\n",
    "# Apply the preprocessing function to the content\n",
    "final_data['content'] = final_data['content'].apply(preprocess)\n",
    "\n",
    "# Vectorize the content with CountVectorizer\n",
    "vec = CountVectorizer(stop_words=stop_words, max_df=0.8, min_df=0.2, token_pattern=r'\\b[a-zA-Z]{3,}\\b') \n",
    "X = vec.fit_transform(final_data['content']) # removes stopwords, words in more than 80% and less than 20% of records, numbers, and words with less than 3 characters\n",
    "\n",
    "# Map terms to their ids for gensim compatibility\n",
    "terms = vec.get_feature_names_out()\n",
    "\n",
    "# Prepare the texts as tokenized lists (for coherence calculation)\n",
    "tokenized_texts = [doc.split() for doc in final_data['content']]\n",
    "\n",
    "# Create dictionary for coherence model\n",
    "dictionary = Dictionary(tokenized_texts)\n",
    "\n",
    "# Range of topic numbers to test\n",
    "topics_range = range(3, 25)"
   ]
  },
  {
   "cell_type": "code",
   "execution_count": 10,
   "metadata": {},
   "outputs": [
    {
     "name": "stdout",
     "output_type": "stream",
     "text": [
      "Topics: 3, Coherence: -0.8600, Exclusivity: 0.8833\n",
      "Topics: 4, Coherence: -0.8546, Exclusivity: 0.8500\n",
      "Topics: 5, Coherence: -0.8313, Exclusivity: 0.8000\n",
      "Topics: 6, Coherence: -0.8464, Exclusivity: 0.7583\n",
      "Topics: 7, Coherence: -0.8134, Exclusivity: 0.6714\n",
      "Topics: 8, Coherence: -0.8098, Exclusivity: 0.6375\n",
      "Topics: 9, Coherence: -0.8396, Exclusivity: 0.6556\n",
      "Topics: 10, Coherence: -0.8522, Exclusivity: 0.6250\n",
      "Topics: 11, Coherence: -0.8502, Exclusivity: 0.5773\n",
      "Topics: 12, Coherence: -0.8242, Exclusivity: 0.5708\n",
      "Topics: 13, Coherence: -0.8212, Exclusivity: 0.5423\n",
      "Topics: 14, Coherence: -0.8510, Exclusivity: 0.5429\n",
      "Topics: 15, Coherence: -0.8412, Exclusivity: 0.5000\n",
      "Topics: 16, Coherence: -0.8761, Exclusivity: 0.4750\n",
      "Topics: 17, Coherence: -0.8323, Exclusivity: 0.4647\n",
      "Topics: 18, Coherence: -0.8724, Exclusivity: 0.4361\n",
      "Topics: 19, Coherence: -0.8545, Exclusivity: 0.4421\n",
      "Topics: 20, Coherence: -0.8564, Exclusivity: 0.4275\n",
      "Topics: 21, Coherence: -0.8613, Exclusivity: 0.4143\n",
      "Topics: 22, Coherence: -0.8376, Exclusivity: 0.4045\n",
      "Topics: 23, Coherence: -0.8443, Exclusivity: 0.3935\n",
      "Topics: 24, Coherence: -0.8429, Exclusivity: 0.3833\n"
     ]
    }
   ],
   "source": [
    "import numpy as np # numpy functions\n",
    "from sklearn.decomposition import LatentDirichletAllocation # LDA model\n",
    "from gensim.models.coherencemodel import CoherenceModel # coherence scores\n",
    "from sklearn.preprocessing import normalize # exclusivity calc\n",
    "\n",
    "# Define a function to calculate coherence and exclusivity\n",
    "def evaluate_topic_model(X, tokenized_texts, terms, num_topics, dictionary):\n",
    "    # Initialize LDA\n",
    "    lda = LatentDirichletAllocation(n_components=num_topics, random_state=225)\n",
    "    lda.fit(X)\n",
    "\n",
    "    # Calculate Coherence\n",
    "    topics = []\n",
    "    for topic in lda.components_:\n",
    "        top_word_ids = topic.argsort()[-20:][::-1]  # analyzes top 20 words\n",
    "        topic_words = [terms[i] for i in top_word_ids]\n",
    "        topics.append(topic_words)\n",
    "\n",
    "    coherence_model = CoherenceModel(\n",
    "        topics=topics,\n",
    "        texts=tokenized_texts,\n",
    "        dictionary=dictionary,\n",
    "        coherence='u_mass'\n",
    "    )\n",
    "    coherence_score = coherence_model.get_coherence()\n",
    "\n",
    "    # Calculate Exclusivity\n",
    "    topic_word_distributions = normalize(lda.components_, norm='l1', axis=1)\n",
    "    exclusivity_scores = []\n",
    "    for i, topic in enumerate(topic_word_distributions):\n",
    "        top_word_ids = topic.argsort()[-20:][::-1]\n",
    "        top_words = [terms[idx] for idx in top_word_ids]\n",
    "\n",
    "        # Calculate exclusivity as uniqueness of each word in the topic\n",
    "        exclusivity = 0\n",
    "        for word in top_words:\n",
    "            word_count = sum(word in other_topic for other_topic in topics)\n",
    "            exclusivity += 1 / word_count  # Higher exclusivity if the word is rare across topics\n",
    "        exclusivity_scores.append(exclusivity / len(top_words))  # Average exclusivity for this topic\n",
    "\n",
    "    # Average exclusivity across all topics\n",
    "    average_exclusivity = np.mean(exclusivity_scores)\n",
    "\n",
    "    return coherence_score, average_exclusivity\n",
    "\n",
    "\n",
    "results = []\n",
    "\n",
    "for num_topics in topics_range:\n",
    "    coherence_score, exclusivity_score = evaluate_topic_model(X, tokenized_texts, terms, num_topics, dictionary)\n",
    "    results.append({\n",
    "        'num_topics': num_topics,\n",
    "        'coherence': coherence_score,\n",
    "        'exclusivity': exclusivity_score\n",
    "    })\n",
    "\n",
    "# Display results\n",
    "for result in results:\n",
    "    print(f\"Topics: {result['num_topics']}, Coherence: {result['coherence']:.4f}, Exclusivity: {result['exclusivity']:.4f}\")"
   ]
  },
  {
   "cell_type": "code",
   "execution_count": 11,
   "metadata": {},
   "outputs": [
    {
     "data": {
      "application/vnd.plotly.v1+json": {
       "config": {
        "plotlyServerURL": "https://plot.ly"
       },
       "data": [
        {
         "hovertemplate": "variable=coherence<br>Number of Topics=%{x}<br>Score=%{y}<extra></extra>",
         "legendgroup": "coherence",
         "line": {
          "color": "#636efa",
          "dash": "solid"
         },
         "marker": {
          "symbol": "circle"
         },
         "mode": "lines",
         "name": "coherence",
         "orientation": "v",
         "showlegend": true,
         "type": "scatter",
         "x": [
          3,
          4,
          5,
          6,
          7,
          8,
          9,
          10,
          11,
          12,
          13,
          14,
          15,
          16,
          17,
          18,
          19,
          20,
          21,
          22,
          23,
          24
         ],
         "xaxis": "x",
         "y": [
          -0.8600278920826536,
          -0.8546476253858808,
          -0.8313492652908238,
          -0.8463831336601585,
          -0.8134297365933787,
          -0.8098322278412243,
          -0.8396328646286976,
          -0.8522122025914947,
          -0.8501516325713904,
          -0.8241895085948293,
          -0.8211832009885304,
          -0.8509516456125867,
          -0.8412064903132909,
          -0.8760831300616507,
          -0.8322784984134779,
          -0.872352267613002,
          -0.8545356554588118,
          -0.8563568929419576,
          -0.8613369081033727,
          -0.837570582369927,
          -0.844288287949474,
          -0.8428813918777118
         ],
         "yaxis": "y"
        }
       ],
       "layout": {
        "legend": {
         "title": {
          "text": "Metrics"
         },
         "tracegroupgap": 0
        },
        "showlegend": false,
        "template": {
         "data": {
          "bar": [
           {
            "error_x": {
             "color": "#2a3f5f"
            },
            "error_y": {
             "color": "#2a3f5f"
            },
            "marker": {
             "line": {
              "color": "#E5ECF6",
              "width": 0.5
             },
             "pattern": {
              "fillmode": "overlay",
              "size": 10,
              "solidity": 0.2
             }
            },
            "type": "bar"
           }
          ],
          "barpolar": [
           {
            "marker": {
             "line": {
              "color": "#E5ECF6",
              "width": 0.5
             },
             "pattern": {
              "fillmode": "overlay",
              "size": 10,
              "solidity": 0.2
             }
            },
            "type": "barpolar"
           }
          ],
          "carpet": [
           {
            "aaxis": {
             "endlinecolor": "#2a3f5f",
             "gridcolor": "white",
             "linecolor": "white",
             "minorgridcolor": "white",
             "startlinecolor": "#2a3f5f"
            },
            "baxis": {
             "endlinecolor": "#2a3f5f",
             "gridcolor": "white",
             "linecolor": "white",
             "minorgridcolor": "white",
             "startlinecolor": "#2a3f5f"
            },
            "type": "carpet"
           }
          ],
          "choropleth": [
           {
            "colorbar": {
             "outlinewidth": 0,
             "ticks": ""
            },
            "type": "choropleth"
           }
          ],
          "contour": [
           {
            "colorbar": {
             "outlinewidth": 0,
             "ticks": ""
            },
            "colorscale": [
             [
              0,
              "#0d0887"
             ],
             [
              0.1111111111111111,
              "#46039f"
             ],
             [
              0.2222222222222222,
              "#7201a8"
             ],
             [
              0.3333333333333333,
              "#9c179e"
             ],
             [
              0.4444444444444444,
              "#bd3786"
             ],
             [
              0.5555555555555556,
              "#d8576b"
             ],
             [
              0.6666666666666666,
              "#ed7953"
             ],
             [
              0.7777777777777778,
              "#fb9f3a"
             ],
             [
              0.8888888888888888,
              "#fdca26"
             ],
             [
              1,
              "#f0f921"
             ]
            ],
            "type": "contour"
           }
          ],
          "contourcarpet": [
           {
            "colorbar": {
             "outlinewidth": 0,
             "ticks": ""
            },
            "type": "contourcarpet"
           }
          ],
          "heatmap": [
           {
            "colorbar": {
             "outlinewidth": 0,
             "ticks": ""
            },
            "colorscale": [
             [
              0,
              "#0d0887"
             ],
             [
              0.1111111111111111,
              "#46039f"
             ],
             [
              0.2222222222222222,
              "#7201a8"
             ],
             [
              0.3333333333333333,
              "#9c179e"
             ],
             [
              0.4444444444444444,
              "#bd3786"
             ],
             [
              0.5555555555555556,
              "#d8576b"
             ],
             [
              0.6666666666666666,
              "#ed7953"
             ],
             [
              0.7777777777777778,
              "#fb9f3a"
             ],
             [
              0.8888888888888888,
              "#fdca26"
             ],
             [
              1,
              "#f0f921"
             ]
            ],
            "type": "heatmap"
           }
          ],
          "heatmapgl": [
           {
            "colorbar": {
             "outlinewidth": 0,
             "ticks": ""
            },
            "colorscale": [
             [
              0,
              "#0d0887"
             ],
             [
              0.1111111111111111,
              "#46039f"
             ],
             [
              0.2222222222222222,
              "#7201a8"
             ],
             [
              0.3333333333333333,
              "#9c179e"
             ],
             [
              0.4444444444444444,
              "#bd3786"
             ],
             [
              0.5555555555555556,
              "#d8576b"
             ],
             [
              0.6666666666666666,
              "#ed7953"
             ],
             [
              0.7777777777777778,
              "#fb9f3a"
             ],
             [
              0.8888888888888888,
              "#fdca26"
             ],
             [
              1,
              "#f0f921"
             ]
            ],
            "type": "heatmapgl"
           }
          ],
          "histogram": [
           {
            "marker": {
             "pattern": {
              "fillmode": "overlay",
              "size": 10,
              "solidity": 0.2
             }
            },
            "type": "histogram"
           }
          ],
          "histogram2d": [
           {
            "colorbar": {
             "outlinewidth": 0,
             "ticks": ""
            },
            "colorscale": [
             [
              0,
              "#0d0887"
             ],
             [
              0.1111111111111111,
              "#46039f"
             ],
             [
              0.2222222222222222,
              "#7201a8"
             ],
             [
              0.3333333333333333,
              "#9c179e"
             ],
             [
              0.4444444444444444,
              "#bd3786"
             ],
             [
              0.5555555555555556,
              "#d8576b"
             ],
             [
              0.6666666666666666,
              "#ed7953"
             ],
             [
              0.7777777777777778,
              "#fb9f3a"
             ],
             [
              0.8888888888888888,
              "#fdca26"
             ],
             [
              1,
              "#f0f921"
             ]
            ],
            "type": "histogram2d"
           }
          ],
          "histogram2dcontour": [
           {
            "colorbar": {
             "outlinewidth": 0,
             "ticks": ""
            },
            "colorscale": [
             [
              0,
              "#0d0887"
             ],
             [
              0.1111111111111111,
              "#46039f"
             ],
             [
              0.2222222222222222,
              "#7201a8"
             ],
             [
              0.3333333333333333,
              "#9c179e"
             ],
             [
              0.4444444444444444,
              "#bd3786"
             ],
             [
              0.5555555555555556,
              "#d8576b"
             ],
             [
              0.6666666666666666,
              "#ed7953"
             ],
             [
              0.7777777777777778,
              "#fb9f3a"
             ],
             [
              0.8888888888888888,
              "#fdca26"
             ],
             [
              1,
              "#f0f921"
             ]
            ],
            "type": "histogram2dcontour"
           }
          ],
          "mesh3d": [
           {
            "colorbar": {
             "outlinewidth": 0,
             "ticks": ""
            },
            "type": "mesh3d"
           }
          ],
          "parcoords": [
           {
            "line": {
             "colorbar": {
              "outlinewidth": 0,
              "ticks": ""
             }
            },
            "type": "parcoords"
           }
          ],
          "pie": [
           {
            "automargin": true,
            "type": "pie"
           }
          ],
          "scatter": [
           {
            "fillpattern": {
             "fillmode": "overlay",
             "size": 10,
             "solidity": 0.2
            },
            "type": "scatter"
           }
          ],
          "scatter3d": [
           {
            "line": {
             "colorbar": {
              "outlinewidth": 0,
              "ticks": ""
             }
            },
            "marker": {
             "colorbar": {
              "outlinewidth": 0,
              "ticks": ""
             }
            },
            "type": "scatter3d"
           }
          ],
          "scattercarpet": [
           {
            "marker": {
             "colorbar": {
              "outlinewidth": 0,
              "ticks": ""
             }
            },
            "type": "scattercarpet"
           }
          ],
          "scattergeo": [
           {
            "marker": {
             "colorbar": {
              "outlinewidth": 0,
              "ticks": ""
             }
            },
            "type": "scattergeo"
           }
          ],
          "scattergl": [
           {
            "marker": {
             "colorbar": {
              "outlinewidth": 0,
              "ticks": ""
             }
            },
            "type": "scattergl"
           }
          ],
          "scattermapbox": [
           {
            "marker": {
             "colorbar": {
              "outlinewidth": 0,
              "ticks": ""
             }
            },
            "type": "scattermapbox"
           }
          ],
          "scatterpolar": [
           {
            "marker": {
             "colorbar": {
              "outlinewidth": 0,
              "ticks": ""
             }
            },
            "type": "scatterpolar"
           }
          ],
          "scatterpolargl": [
           {
            "marker": {
             "colorbar": {
              "outlinewidth": 0,
              "ticks": ""
             }
            },
            "type": "scatterpolargl"
           }
          ],
          "scatterternary": [
           {
            "marker": {
             "colorbar": {
              "outlinewidth": 0,
              "ticks": ""
             }
            },
            "type": "scatterternary"
           }
          ],
          "surface": [
           {
            "colorbar": {
             "outlinewidth": 0,
             "ticks": ""
            },
            "colorscale": [
             [
              0,
              "#0d0887"
             ],
             [
              0.1111111111111111,
              "#46039f"
             ],
             [
              0.2222222222222222,
              "#7201a8"
             ],
             [
              0.3333333333333333,
              "#9c179e"
             ],
             [
              0.4444444444444444,
              "#bd3786"
             ],
             [
              0.5555555555555556,
              "#d8576b"
             ],
             [
              0.6666666666666666,
              "#ed7953"
             ],
             [
              0.7777777777777778,
              "#fb9f3a"
             ],
             [
              0.8888888888888888,
              "#fdca26"
             ],
             [
              1,
              "#f0f921"
             ]
            ],
            "type": "surface"
           }
          ],
          "table": [
           {
            "cells": {
             "fill": {
              "color": "#EBF0F8"
             },
             "line": {
              "color": "white"
             }
            },
            "header": {
             "fill": {
              "color": "#C8D4E3"
             },
             "line": {
              "color": "white"
             }
            },
            "type": "table"
           }
          ]
         },
         "layout": {
          "annotationdefaults": {
           "arrowcolor": "#2a3f5f",
           "arrowhead": 0,
           "arrowwidth": 1
          },
          "autotypenumbers": "strict",
          "coloraxis": {
           "colorbar": {
            "outlinewidth": 0,
            "ticks": ""
           }
          },
          "colorscale": {
           "diverging": [
            [
             0,
             "#8e0152"
            ],
            [
             0.1,
             "#c51b7d"
            ],
            [
             0.2,
             "#de77ae"
            ],
            [
             0.3,
             "#f1b6da"
            ],
            [
             0.4,
             "#fde0ef"
            ],
            [
             0.5,
             "#f7f7f7"
            ],
            [
             0.6,
             "#e6f5d0"
            ],
            [
             0.7,
             "#b8e186"
            ],
            [
             0.8,
             "#7fbc41"
            ],
            [
             0.9,
             "#4d9221"
            ],
            [
             1,
             "#276419"
            ]
           ],
           "sequential": [
            [
             0,
             "#0d0887"
            ],
            [
             0.1111111111111111,
             "#46039f"
            ],
            [
             0.2222222222222222,
             "#7201a8"
            ],
            [
             0.3333333333333333,
             "#9c179e"
            ],
            [
             0.4444444444444444,
             "#bd3786"
            ],
            [
             0.5555555555555556,
             "#d8576b"
            ],
            [
             0.6666666666666666,
             "#ed7953"
            ],
            [
             0.7777777777777778,
             "#fb9f3a"
            ],
            [
             0.8888888888888888,
             "#fdca26"
            ],
            [
             1,
             "#f0f921"
            ]
           ],
           "sequentialminus": [
            [
             0,
             "#0d0887"
            ],
            [
             0.1111111111111111,
             "#46039f"
            ],
            [
             0.2222222222222222,
             "#7201a8"
            ],
            [
             0.3333333333333333,
             "#9c179e"
            ],
            [
             0.4444444444444444,
             "#bd3786"
            ],
            [
             0.5555555555555556,
             "#d8576b"
            ],
            [
             0.6666666666666666,
             "#ed7953"
            ],
            [
             0.7777777777777778,
             "#fb9f3a"
            ],
            [
             0.8888888888888888,
             "#fdca26"
            ],
            [
             1,
             "#f0f921"
            ]
           ]
          },
          "colorway": [
           "#636efa",
           "#EF553B",
           "#00cc96",
           "#ab63fa",
           "#FFA15A",
           "#19d3f3",
           "#FF6692",
           "#B6E880",
           "#FF97FF",
           "#FECB52"
          ],
          "font": {
           "color": "#2a3f5f"
          },
          "geo": {
           "bgcolor": "white",
           "lakecolor": "white",
           "landcolor": "#E5ECF6",
           "showlakes": true,
           "showland": true,
           "subunitcolor": "white"
          },
          "hoverlabel": {
           "align": "left"
          },
          "hovermode": "closest",
          "mapbox": {
           "style": "light"
          },
          "paper_bgcolor": "white",
          "plot_bgcolor": "#E5ECF6",
          "polar": {
           "angularaxis": {
            "gridcolor": "white",
            "linecolor": "white",
            "ticks": ""
           },
           "bgcolor": "#E5ECF6",
           "radialaxis": {
            "gridcolor": "white",
            "linecolor": "white",
            "ticks": ""
           }
          },
          "scene": {
           "xaxis": {
            "backgroundcolor": "#E5ECF6",
            "gridcolor": "white",
            "gridwidth": 2,
            "linecolor": "white",
            "showbackground": true,
            "ticks": "",
            "zerolinecolor": "white"
           },
           "yaxis": {
            "backgroundcolor": "#E5ECF6",
            "gridcolor": "white",
            "gridwidth": 2,
            "linecolor": "white",
            "showbackground": true,
            "ticks": "",
            "zerolinecolor": "white"
           },
           "zaxis": {
            "backgroundcolor": "#E5ECF6",
            "gridcolor": "white",
            "gridwidth": 2,
            "linecolor": "white",
            "showbackground": true,
            "ticks": "",
            "zerolinecolor": "white"
           }
          },
          "shapedefaults": {
           "line": {
            "color": "#2a3f5f"
           }
          },
          "ternary": {
           "aaxis": {
            "gridcolor": "white",
            "linecolor": "white",
            "ticks": ""
           },
           "baxis": {
            "gridcolor": "white",
            "linecolor": "white",
            "ticks": ""
           },
           "bgcolor": "#E5ECF6",
           "caxis": {
            "gridcolor": "white",
            "linecolor": "white",
            "ticks": ""
           }
          },
          "title": {
           "x": 0.05
          },
          "xaxis": {
           "automargin": true,
           "gridcolor": "white",
           "linecolor": "white",
           "ticks": "",
           "title": {
            "standoff": 15
           },
           "zerolinecolor": "white",
           "zerolinewidth": 2
          },
          "yaxis": {
           "automargin": true,
           "gridcolor": "white",
           "linecolor": "white",
           "ticks": "",
           "title": {
            "standoff": 15
           },
           "zerolinecolor": "white",
           "zerolinewidth": 2
          }
         }
        },
        "title": {
         "text": "Coherence Scores for Different Number of Topics"
        },
        "xaxis": {
         "anchor": "y",
         "domain": [
          0,
          1
         ],
         "title": {
          "text": "Number of Topics"
         }
        },
        "yaxis": {
         "anchor": "x",
         "domain": [
          0,
          1
         ],
         "title": {
          "text": "Score"
         }
        }
       }
      }
     },
     "metadata": {},
     "output_type": "display_data"
    }
   ],
   "source": [
    "import plotly.express as px # plotting\n",
    "\n",
    "# Convert results to a DataFrame\n",
    "df_results = pd.DataFrame(results)\n",
    "\n",
    "# Line plot for coherence over the range of topics\n",
    "fig = px.line(\n",
    "    df_results,\n",
    "    x='num_topics',\n",
    "    y=['coherence',],\n",
    "    labels={'num_topics': 'Number of Topics', 'value': 'Score'},\n",
    "    title='Coherence Scores for Different Number of Topics'\n",
    ")\n",
    "\n",
    "# Update layout for better readability\n",
    "fig.update_layout(\n",
    "    xaxis_title='Number of Topics',\n",
    "    yaxis_title='Score',\n",
    "    legend_title_text='Metrics',\n",
    "    showlegend=False\n",
    ")\n",
    "\n",
    "fig.show()"
   ]
  },
  {
   "cell_type": "code",
   "execution_count": 12,
   "metadata": {},
   "outputs": [
    {
     "data": {
      "application/vnd.plotly.v1+json": {
       "config": {
        "plotlyServerURL": "https://plot.ly"
       },
       "data": [
        {
         "hovertemplate": "variable=exclusivity<br>Number of Topics=%{x}<br>Score=%{y}<extra></extra>",
         "legendgroup": "exclusivity",
         "line": {
          "color": "#636efa",
          "dash": "solid"
         },
         "marker": {
          "symbol": "circle"
         },
         "mode": "lines",
         "name": "exclusivity",
         "orientation": "v",
         "showlegend": true,
         "type": "scatter",
         "x": [
          3,
          4,
          5,
          6,
          7,
          8,
          9,
          10,
          11,
          12,
          13,
          14,
          15,
          16,
          17,
          18,
          19,
          20,
          21,
          22,
          23,
          24
         ],
         "xaxis": "x",
         "y": [
          0.8833333333333333,
          0.85,
          0.8,
          0.7583333333333333,
          0.6714285714285714,
          0.6375,
          0.6555555555555556,
          0.625,
          0.5772727272727273,
          0.5708333333333334,
          0.5423076923076924,
          0.5428571428571428,
          0.5,
          0.475,
          0.46470588235294114,
          0.4361111111111111,
          0.44210526315789467,
          0.42749999999999994,
          0.4142857142857143,
          0.40454545454545454,
          0.39347826086956533,
          0.3833333333333333
         ],
         "yaxis": "y"
        }
       ],
       "layout": {
        "legend": {
         "title": {
          "text": "Metrics"
         },
         "tracegroupgap": 0
        },
        "showlegend": false,
        "template": {
         "data": {
          "bar": [
           {
            "error_x": {
             "color": "#2a3f5f"
            },
            "error_y": {
             "color": "#2a3f5f"
            },
            "marker": {
             "line": {
              "color": "#E5ECF6",
              "width": 0.5
             },
             "pattern": {
              "fillmode": "overlay",
              "size": 10,
              "solidity": 0.2
             }
            },
            "type": "bar"
           }
          ],
          "barpolar": [
           {
            "marker": {
             "line": {
              "color": "#E5ECF6",
              "width": 0.5
             },
             "pattern": {
              "fillmode": "overlay",
              "size": 10,
              "solidity": 0.2
             }
            },
            "type": "barpolar"
           }
          ],
          "carpet": [
           {
            "aaxis": {
             "endlinecolor": "#2a3f5f",
             "gridcolor": "white",
             "linecolor": "white",
             "minorgridcolor": "white",
             "startlinecolor": "#2a3f5f"
            },
            "baxis": {
             "endlinecolor": "#2a3f5f",
             "gridcolor": "white",
             "linecolor": "white",
             "minorgridcolor": "white",
             "startlinecolor": "#2a3f5f"
            },
            "type": "carpet"
           }
          ],
          "choropleth": [
           {
            "colorbar": {
             "outlinewidth": 0,
             "ticks": ""
            },
            "type": "choropleth"
           }
          ],
          "contour": [
           {
            "colorbar": {
             "outlinewidth": 0,
             "ticks": ""
            },
            "colorscale": [
             [
              0,
              "#0d0887"
             ],
             [
              0.1111111111111111,
              "#46039f"
             ],
             [
              0.2222222222222222,
              "#7201a8"
             ],
             [
              0.3333333333333333,
              "#9c179e"
             ],
             [
              0.4444444444444444,
              "#bd3786"
             ],
             [
              0.5555555555555556,
              "#d8576b"
             ],
             [
              0.6666666666666666,
              "#ed7953"
             ],
             [
              0.7777777777777778,
              "#fb9f3a"
             ],
             [
              0.8888888888888888,
              "#fdca26"
             ],
             [
              1,
              "#f0f921"
             ]
            ],
            "type": "contour"
           }
          ],
          "contourcarpet": [
           {
            "colorbar": {
             "outlinewidth": 0,
             "ticks": ""
            },
            "type": "contourcarpet"
           }
          ],
          "heatmap": [
           {
            "colorbar": {
             "outlinewidth": 0,
             "ticks": ""
            },
            "colorscale": [
             [
              0,
              "#0d0887"
             ],
             [
              0.1111111111111111,
              "#46039f"
             ],
             [
              0.2222222222222222,
              "#7201a8"
             ],
             [
              0.3333333333333333,
              "#9c179e"
             ],
             [
              0.4444444444444444,
              "#bd3786"
             ],
             [
              0.5555555555555556,
              "#d8576b"
             ],
             [
              0.6666666666666666,
              "#ed7953"
             ],
             [
              0.7777777777777778,
              "#fb9f3a"
             ],
             [
              0.8888888888888888,
              "#fdca26"
             ],
             [
              1,
              "#f0f921"
             ]
            ],
            "type": "heatmap"
           }
          ],
          "heatmapgl": [
           {
            "colorbar": {
             "outlinewidth": 0,
             "ticks": ""
            },
            "colorscale": [
             [
              0,
              "#0d0887"
             ],
             [
              0.1111111111111111,
              "#46039f"
             ],
             [
              0.2222222222222222,
              "#7201a8"
             ],
             [
              0.3333333333333333,
              "#9c179e"
             ],
             [
              0.4444444444444444,
              "#bd3786"
             ],
             [
              0.5555555555555556,
              "#d8576b"
             ],
             [
              0.6666666666666666,
              "#ed7953"
             ],
             [
              0.7777777777777778,
              "#fb9f3a"
             ],
             [
              0.8888888888888888,
              "#fdca26"
             ],
             [
              1,
              "#f0f921"
             ]
            ],
            "type": "heatmapgl"
           }
          ],
          "histogram": [
           {
            "marker": {
             "pattern": {
              "fillmode": "overlay",
              "size": 10,
              "solidity": 0.2
             }
            },
            "type": "histogram"
           }
          ],
          "histogram2d": [
           {
            "colorbar": {
             "outlinewidth": 0,
             "ticks": ""
            },
            "colorscale": [
             [
              0,
              "#0d0887"
             ],
             [
              0.1111111111111111,
              "#46039f"
             ],
             [
              0.2222222222222222,
              "#7201a8"
             ],
             [
              0.3333333333333333,
              "#9c179e"
             ],
             [
              0.4444444444444444,
              "#bd3786"
             ],
             [
              0.5555555555555556,
              "#d8576b"
             ],
             [
              0.6666666666666666,
              "#ed7953"
             ],
             [
              0.7777777777777778,
              "#fb9f3a"
             ],
             [
              0.8888888888888888,
              "#fdca26"
             ],
             [
              1,
              "#f0f921"
             ]
            ],
            "type": "histogram2d"
           }
          ],
          "histogram2dcontour": [
           {
            "colorbar": {
             "outlinewidth": 0,
             "ticks": ""
            },
            "colorscale": [
             [
              0,
              "#0d0887"
             ],
             [
              0.1111111111111111,
              "#46039f"
             ],
             [
              0.2222222222222222,
              "#7201a8"
             ],
             [
              0.3333333333333333,
              "#9c179e"
             ],
             [
              0.4444444444444444,
              "#bd3786"
             ],
             [
              0.5555555555555556,
              "#d8576b"
             ],
             [
              0.6666666666666666,
              "#ed7953"
             ],
             [
              0.7777777777777778,
              "#fb9f3a"
             ],
             [
              0.8888888888888888,
              "#fdca26"
             ],
             [
              1,
              "#f0f921"
             ]
            ],
            "type": "histogram2dcontour"
           }
          ],
          "mesh3d": [
           {
            "colorbar": {
             "outlinewidth": 0,
             "ticks": ""
            },
            "type": "mesh3d"
           }
          ],
          "parcoords": [
           {
            "line": {
             "colorbar": {
              "outlinewidth": 0,
              "ticks": ""
             }
            },
            "type": "parcoords"
           }
          ],
          "pie": [
           {
            "automargin": true,
            "type": "pie"
           }
          ],
          "scatter": [
           {
            "fillpattern": {
             "fillmode": "overlay",
             "size": 10,
             "solidity": 0.2
            },
            "type": "scatter"
           }
          ],
          "scatter3d": [
           {
            "line": {
             "colorbar": {
              "outlinewidth": 0,
              "ticks": ""
             }
            },
            "marker": {
             "colorbar": {
              "outlinewidth": 0,
              "ticks": ""
             }
            },
            "type": "scatter3d"
           }
          ],
          "scattercarpet": [
           {
            "marker": {
             "colorbar": {
              "outlinewidth": 0,
              "ticks": ""
             }
            },
            "type": "scattercarpet"
           }
          ],
          "scattergeo": [
           {
            "marker": {
             "colorbar": {
              "outlinewidth": 0,
              "ticks": ""
             }
            },
            "type": "scattergeo"
           }
          ],
          "scattergl": [
           {
            "marker": {
             "colorbar": {
              "outlinewidth": 0,
              "ticks": ""
             }
            },
            "type": "scattergl"
           }
          ],
          "scattermapbox": [
           {
            "marker": {
             "colorbar": {
              "outlinewidth": 0,
              "ticks": ""
             }
            },
            "type": "scattermapbox"
           }
          ],
          "scatterpolar": [
           {
            "marker": {
             "colorbar": {
              "outlinewidth": 0,
              "ticks": ""
             }
            },
            "type": "scatterpolar"
           }
          ],
          "scatterpolargl": [
           {
            "marker": {
             "colorbar": {
              "outlinewidth": 0,
              "ticks": ""
             }
            },
            "type": "scatterpolargl"
           }
          ],
          "scatterternary": [
           {
            "marker": {
             "colorbar": {
              "outlinewidth": 0,
              "ticks": ""
             }
            },
            "type": "scatterternary"
           }
          ],
          "surface": [
           {
            "colorbar": {
             "outlinewidth": 0,
             "ticks": ""
            },
            "colorscale": [
             [
              0,
              "#0d0887"
             ],
             [
              0.1111111111111111,
              "#46039f"
             ],
             [
              0.2222222222222222,
              "#7201a8"
             ],
             [
              0.3333333333333333,
              "#9c179e"
             ],
             [
              0.4444444444444444,
              "#bd3786"
             ],
             [
              0.5555555555555556,
              "#d8576b"
             ],
             [
              0.6666666666666666,
              "#ed7953"
             ],
             [
              0.7777777777777778,
              "#fb9f3a"
             ],
             [
              0.8888888888888888,
              "#fdca26"
             ],
             [
              1,
              "#f0f921"
             ]
            ],
            "type": "surface"
           }
          ],
          "table": [
           {
            "cells": {
             "fill": {
              "color": "#EBF0F8"
             },
             "line": {
              "color": "white"
             }
            },
            "header": {
             "fill": {
              "color": "#C8D4E3"
             },
             "line": {
              "color": "white"
             }
            },
            "type": "table"
           }
          ]
         },
         "layout": {
          "annotationdefaults": {
           "arrowcolor": "#2a3f5f",
           "arrowhead": 0,
           "arrowwidth": 1
          },
          "autotypenumbers": "strict",
          "coloraxis": {
           "colorbar": {
            "outlinewidth": 0,
            "ticks": ""
           }
          },
          "colorscale": {
           "diverging": [
            [
             0,
             "#8e0152"
            ],
            [
             0.1,
             "#c51b7d"
            ],
            [
             0.2,
             "#de77ae"
            ],
            [
             0.3,
             "#f1b6da"
            ],
            [
             0.4,
             "#fde0ef"
            ],
            [
             0.5,
             "#f7f7f7"
            ],
            [
             0.6,
             "#e6f5d0"
            ],
            [
             0.7,
             "#b8e186"
            ],
            [
             0.8,
             "#7fbc41"
            ],
            [
             0.9,
             "#4d9221"
            ],
            [
             1,
             "#276419"
            ]
           ],
           "sequential": [
            [
             0,
             "#0d0887"
            ],
            [
             0.1111111111111111,
             "#46039f"
            ],
            [
             0.2222222222222222,
             "#7201a8"
            ],
            [
             0.3333333333333333,
             "#9c179e"
            ],
            [
             0.4444444444444444,
             "#bd3786"
            ],
            [
             0.5555555555555556,
             "#d8576b"
            ],
            [
             0.6666666666666666,
             "#ed7953"
            ],
            [
             0.7777777777777778,
             "#fb9f3a"
            ],
            [
             0.8888888888888888,
             "#fdca26"
            ],
            [
             1,
             "#f0f921"
            ]
           ],
           "sequentialminus": [
            [
             0,
             "#0d0887"
            ],
            [
             0.1111111111111111,
             "#46039f"
            ],
            [
             0.2222222222222222,
             "#7201a8"
            ],
            [
             0.3333333333333333,
             "#9c179e"
            ],
            [
             0.4444444444444444,
             "#bd3786"
            ],
            [
             0.5555555555555556,
             "#d8576b"
            ],
            [
             0.6666666666666666,
             "#ed7953"
            ],
            [
             0.7777777777777778,
             "#fb9f3a"
            ],
            [
             0.8888888888888888,
             "#fdca26"
            ],
            [
             1,
             "#f0f921"
            ]
           ]
          },
          "colorway": [
           "#636efa",
           "#EF553B",
           "#00cc96",
           "#ab63fa",
           "#FFA15A",
           "#19d3f3",
           "#FF6692",
           "#B6E880",
           "#FF97FF",
           "#FECB52"
          ],
          "font": {
           "color": "#2a3f5f"
          },
          "geo": {
           "bgcolor": "white",
           "lakecolor": "white",
           "landcolor": "#E5ECF6",
           "showlakes": true,
           "showland": true,
           "subunitcolor": "white"
          },
          "hoverlabel": {
           "align": "left"
          },
          "hovermode": "closest",
          "mapbox": {
           "style": "light"
          },
          "paper_bgcolor": "white",
          "plot_bgcolor": "#E5ECF6",
          "polar": {
           "angularaxis": {
            "gridcolor": "white",
            "linecolor": "white",
            "ticks": ""
           },
           "bgcolor": "#E5ECF6",
           "radialaxis": {
            "gridcolor": "white",
            "linecolor": "white",
            "ticks": ""
           }
          },
          "scene": {
           "xaxis": {
            "backgroundcolor": "#E5ECF6",
            "gridcolor": "white",
            "gridwidth": 2,
            "linecolor": "white",
            "showbackground": true,
            "ticks": "",
            "zerolinecolor": "white"
           },
           "yaxis": {
            "backgroundcolor": "#E5ECF6",
            "gridcolor": "white",
            "gridwidth": 2,
            "linecolor": "white",
            "showbackground": true,
            "ticks": "",
            "zerolinecolor": "white"
           },
           "zaxis": {
            "backgroundcolor": "#E5ECF6",
            "gridcolor": "white",
            "gridwidth": 2,
            "linecolor": "white",
            "showbackground": true,
            "ticks": "",
            "zerolinecolor": "white"
           }
          },
          "shapedefaults": {
           "line": {
            "color": "#2a3f5f"
           }
          },
          "ternary": {
           "aaxis": {
            "gridcolor": "white",
            "linecolor": "white",
            "ticks": ""
           },
           "baxis": {
            "gridcolor": "white",
            "linecolor": "white",
            "ticks": ""
           },
           "bgcolor": "#E5ECF6",
           "caxis": {
            "gridcolor": "white",
            "linecolor": "white",
            "ticks": ""
           }
          },
          "title": {
           "x": 0.05
          },
          "xaxis": {
           "automargin": true,
           "gridcolor": "white",
           "linecolor": "white",
           "ticks": "",
           "title": {
            "standoff": 15
           },
           "zerolinecolor": "white",
           "zerolinewidth": 2
          },
          "yaxis": {
           "automargin": true,
           "gridcolor": "white",
           "linecolor": "white",
           "ticks": "",
           "title": {
            "standoff": 15
           },
           "zerolinecolor": "white",
           "zerolinewidth": 2
          }
         }
        },
        "title": {
         "text": "Exclusivity Scores for Different Number of Topics"
        },
        "xaxis": {
         "anchor": "y",
         "domain": [
          0,
          1
         ],
         "title": {
          "text": "Number of Topics"
         }
        },
        "yaxis": {
         "anchor": "x",
         "domain": [
          0,
          1
         ],
         "title": {
          "text": "Score"
         }
        }
       }
      }
     },
     "metadata": {},
     "output_type": "display_data"
    }
   ],
   "source": [
    "# Line plot for exclusivity over the range of topics\n",
    "fig = px.line(\n",
    "    df_results,\n",
    "    x='num_topics',\n",
    "    y=['exclusivity'],\n",
    "    labels={'num_topics': 'Number of Topics', 'value': 'Score'},\n",
    "    title='Exclusivity Scores for Different Number of Topics'\n",
    ")\n",
    "\n",
    "# Update layout for better readability\n",
    "fig.update_layout(\n",
    "    xaxis_title='Number of Topics',\n",
    "    yaxis_title='Score',\n",
    "    legend_title_text='Metrics',\n",
    "    showlegend=False\n",
    ")\n",
    "\n",
    "fig.show()"
   ]
  },
  {
   "cell_type": "code",
   "execution_count": 13,
   "metadata": {},
   "outputs": [
    {
     "data": {
      "application/vnd.plotly.v1+json": {
       "config": {
        "plotlyServerURL": "https://plot.ly"
       },
       "data": [
        {
         "hovertemplate": "Num Topics: %{marker.color}<br>Coherence: %{x}<br>Exclusivity: %{y}",
         "legendgroup": "",
         "marker": {
          "color": [
           3,
           4,
           5,
           6,
           7,
           8,
           9,
           10,
           11,
           12,
           13,
           14,
           15,
           16,
           17,
           18,
           19,
           20,
           21,
           22,
           23,
           24
          ],
          "coloraxis": "coloraxis",
          "size": 10,
          "symbol": "circle"
         },
         "mode": "markers",
         "name": "",
         "orientation": "v",
         "showlegend": false,
         "type": "scatter",
         "x": [
          -0.8600278920826536,
          -0.8546476253858808,
          -0.8313492652908238,
          -0.8463831336601585,
          -0.8134297365933787,
          -0.8098322278412243,
          -0.8396328646286976,
          -0.8522122025914947,
          -0.8501516325713904,
          -0.8241895085948293,
          -0.8211832009885304,
          -0.8509516456125867,
          -0.8412064903132909,
          -0.8760831300616507,
          -0.8322784984134779,
          -0.872352267613002,
          -0.8545356554588118,
          -0.8563568929419576,
          -0.8613369081033727,
          -0.837570582369927,
          -0.844288287949474,
          -0.8428813918777118
         ],
         "xaxis": "x",
         "y": [
          0.8833333333333333,
          0.85,
          0.8,
          0.7583333333333333,
          0.6714285714285714,
          0.6375,
          0.6555555555555556,
          0.625,
          0.5772727272727273,
          0.5708333333333334,
          0.5423076923076924,
          0.5428571428571428,
          0.5,
          0.475,
          0.46470588235294114,
          0.4361111111111111,
          0.44210526315789467,
          0.42749999999999994,
          0.4142857142857143,
          0.40454545454545454,
          0.39347826086956533,
          0.3833333333333333
         ],
         "yaxis": "y"
        }
       ],
       "layout": {
        "coloraxis": {
         "colorbar": {
          "title": {
           "text": "Number of Topics"
          }
         },
         "colorscale": [
          [
           0,
           "#0d0887"
          ],
          [
           0.1111111111111111,
           "#46039f"
          ],
          [
           0.2222222222222222,
           "#7201a8"
          ],
          [
           0.3333333333333333,
           "#9c179e"
          ],
          [
           0.4444444444444444,
           "#bd3786"
          ],
          [
           0.5555555555555556,
           "#d8576b"
          ],
          [
           0.6666666666666666,
           "#ed7953"
          ],
          [
           0.7777777777777778,
           "#fb9f3a"
          ],
          [
           0.8888888888888888,
           "#fdca26"
          ],
          [
           1,
           "#f0f921"
          ]
         ]
        },
        "legend": {
         "tracegroupgap": 0
        },
        "template": {
         "data": {
          "bar": [
           {
            "error_x": {
             "color": "#2a3f5f"
            },
            "error_y": {
             "color": "#2a3f5f"
            },
            "marker": {
             "line": {
              "color": "#E5ECF6",
              "width": 0.5
             },
             "pattern": {
              "fillmode": "overlay",
              "size": 10,
              "solidity": 0.2
             }
            },
            "type": "bar"
           }
          ],
          "barpolar": [
           {
            "marker": {
             "line": {
              "color": "#E5ECF6",
              "width": 0.5
             },
             "pattern": {
              "fillmode": "overlay",
              "size": 10,
              "solidity": 0.2
             }
            },
            "type": "barpolar"
           }
          ],
          "carpet": [
           {
            "aaxis": {
             "endlinecolor": "#2a3f5f",
             "gridcolor": "white",
             "linecolor": "white",
             "minorgridcolor": "white",
             "startlinecolor": "#2a3f5f"
            },
            "baxis": {
             "endlinecolor": "#2a3f5f",
             "gridcolor": "white",
             "linecolor": "white",
             "minorgridcolor": "white",
             "startlinecolor": "#2a3f5f"
            },
            "type": "carpet"
           }
          ],
          "choropleth": [
           {
            "colorbar": {
             "outlinewidth": 0,
             "ticks": ""
            },
            "type": "choropleth"
           }
          ],
          "contour": [
           {
            "colorbar": {
             "outlinewidth": 0,
             "ticks": ""
            },
            "colorscale": [
             [
              0,
              "#0d0887"
             ],
             [
              0.1111111111111111,
              "#46039f"
             ],
             [
              0.2222222222222222,
              "#7201a8"
             ],
             [
              0.3333333333333333,
              "#9c179e"
             ],
             [
              0.4444444444444444,
              "#bd3786"
             ],
             [
              0.5555555555555556,
              "#d8576b"
             ],
             [
              0.6666666666666666,
              "#ed7953"
             ],
             [
              0.7777777777777778,
              "#fb9f3a"
             ],
             [
              0.8888888888888888,
              "#fdca26"
             ],
             [
              1,
              "#f0f921"
             ]
            ],
            "type": "contour"
           }
          ],
          "contourcarpet": [
           {
            "colorbar": {
             "outlinewidth": 0,
             "ticks": ""
            },
            "type": "contourcarpet"
           }
          ],
          "heatmap": [
           {
            "colorbar": {
             "outlinewidth": 0,
             "ticks": ""
            },
            "colorscale": [
             [
              0,
              "#0d0887"
             ],
             [
              0.1111111111111111,
              "#46039f"
             ],
             [
              0.2222222222222222,
              "#7201a8"
             ],
             [
              0.3333333333333333,
              "#9c179e"
             ],
             [
              0.4444444444444444,
              "#bd3786"
             ],
             [
              0.5555555555555556,
              "#d8576b"
             ],
             [
              0.6666666666666666,
              "#ed7953"
             ],
             [
              0.7777777777777778,
              "#fb9f3a"
             ],
             [
              0.8888888888888888,
              "#fdca26"
             ],
             [
              1,
              "#f0f921"
             ]
            ],
            "type": "heatmap"
           }
          ],
          "heatmapgl": [
           {
            "colorbar": {
             "outlinewidth": 0,
             "ticks": ""
            },
            "colorscale": [
             [
              0,
              "#0d0887"
             ],
             [
              0.1111111111111111,
              "#46039f"
             ],
             [
              0.2222222222222222,
              "#7201a8"
             ],
             [
              0.3333333333333333,
              "#9c179e"
             ],
             [
              0.4444444444444444,
              "#bd3786"
             ],
             [
              0.5555555555555556,
              "#d8576b"
             ],
             [
              0.6666666666666666,
              "#ed7953"
             ],
             [
              0.7777777777777778,
              "#fb9f3a"
             ],
             [
              0.8888888888888888,
              "#fdca26"
             ],
             [
              1,
              "#f0f921"
             ]
            ],
            "type": "heatmapgl"
           }
          ],
          "histogram": [
           {
            "marker": {
             "pattern": {
              "fillmode": "overlay",
              "size": 10,
              "solidity": 0.2
             }
            },
            "type": "histogram"
           }
          ],
          "histogram2d": [
           {
            "colorbar": {
             "outlinewidth": 0,
             "ticks": ""
            },
            "colorscale": [
             [
              0,
              "#0d0887"
             ],
             [
              0.1111111111111111,
              "#46039f"
             ],
             [
              0.2222222222222222,
              "#7201a8"
             ],
             [
              0.3333333333333333,
              "#9c179e"
             ],
             [
              0.4444444444444444,
              "#bd3786"
             ],
             [
              0.5555555555555556,
              "#d8576b"
             ],
             [
              0.6666666666666666,
              "#ed7953"
             ],
             [
              0.7777777777777778,
              "#fb9f3a"
             ],
             [
              0.8888888888888888,
              "#fdca26"
             ],
             [
              1,
              "#f0f921"
             ]
            ],
            "type": "histogram2d"
           }
          ],
          "histogram2dcontour": [
           {
            "colorbar": {
             "outlinewidth": 0,
             "ticks": ""
            },
            "colorscale": [
             [
              0,
              "#0d0887"
             ],
             [
              0.1111111111111111,
              "#46039f"
             ],
             [
              0.2222222222222222,
              "#7201a8"
             ],
             [
              0.3333333333333333,
              "#9c179e"
             ],
             [
              0.4444444444444444,
              "#bd3786"
             ],
             [
              0.5555555555555556,
              "#d8576b"
             ],
             [
              0.6666666666666666,
              "#ed7953"
             ],
             [
              0.7777777777777778,
              "#fb9f3a"
             ],
             [
              0.8888888888888888,
              "#fdca26"
             ],
             [
              1,
              "#f0f921"
             ]
            ],
            "type": "histogram2dcontour"
           }
          ],
          "mesh3d": [
           {
            "colorbar": {
             "outlinewidth": 0,
             "ticks": ""
            },
            "type": "mesh3d"
           }
          ],
          "parcoords": [
           {
            "line": {
             "colorbar": {
              "outlinewidth": 0,
              "ticks": ""
             }
            },
            "type": "parcoords"
           }
          ],
          "pie": [
           {
            "automargin": true,
            "type": "pie"
           }
          ],
          "scatter": [
           {
            "fillpattern": {
             "fillmode": "overlay",
             "size": 10,
             "solidity": 0.2
            },
            "type": "scatter"
           }
          ],
          "scatter3d": [
           {
            "line": {
             "colorbar": {
              "outlinewidth": 0,
              "ticks": ""
             }
            },
            "marker": {
             "colorbar": {
              "outlinewidth": 0,
              "ticks": ""
             }
            },
            "type": "scatter3d"
           }
          ],
          "scattercarpet": [
           {
            "marker": {
             "colorbar": {
              "outlinewidth": 0,
              "ticks": ""
             }
            },
            "type": "scattercarpet"
           }
          ],
          "scattergeo": [
           {
            "marker": {
             "colorbar": {
              "outlinewidth": 0,
              "ticks": ""
             }
            },
            "type": "scattergeo"
           }
          ],
          "scattergl": [
           {
            "marker": {
             "colorbar": {
              "outlinewidth": 0,
              "ticks": ""
             }
            },
            "type": "scattergl"
           }
          ],
          "scattermapbox": [
           {
            "marker": {
             "colorbar": {
              "outlinewidth": 0,
              "ticks": ""
             }
            },
            "type": "scattermapbox"
           }
          ],
          "scatterpolar": [
           {
            "marker": {
             "colorbar": {
              "outlinewidth": 0,
              "ticks": ""
             }
            },
            "type": "scatterpolar"
           }
          ],
          "scatterpolargl": [
           {
            "marker": {
             "colorbar": {
              "outlinewidth": 0,
              "ticks": ""
             }
            },
            "type": "scatterpolargl"
           }
          ],
          "scatterternary": [
           {
            "marker": {
             "colorbar": {
              "outlinewidth": 0,
              "ticks": ""
             }
            },
            "type": "scatterternary"
           }
          ],
          "surface": [
           {
            "colorbar": {
             "outlinewidth": 0,
             "ticks": ""
            },
            "colorscale": [
             [
              0,
              "#0d0887"
             ],
             [
              0.1111111111111111,
              "#46039f"
             ],
             [
              0.2222222222222222,
              "#7201a8"
             ],
             [
              0.3333333333333333,
              "#9c179e"
             ],
             [
              0.4444444444444444,
              "#bd3786"
             ],
             [
              0.5555555555555556,
              "#d8576b"
             ],
             [
              0.6666666666666666,
              "#ed7953"
             ],
             [
              0.7777777777777778,
              "#fb9f3a"
             ],
             [
              0.8888888888888888,
              "#fdca26"
             ],
             [
              1,
              "#f0f921"
             ]
            ],
            "type": "surface"
           }
          ],
          "table": [
           {
            "cells": {
             "fill": {
              "color": "#EBF0F8"
             },
             "line": {
              "color": "white"
             }
            },
            "header": {
             "fill": {
              "color": "#C8D4E3"
             },
             "line": {
              "color": "white"
             }
            },
            "type": "table"
           }
          ]
         },
         "layout": {
          "annotationdefaults": {
           "arrowcolor": "#2a3f5f",
           "arrowhead": 0,
           "arrowwidth": 1
          },
          "autotypenumbers": "strict",
          "coloraxis": {
           "colorbar": {
            "outlinewidth": 0,
            "ticks": ""
           }
          },
          "colorscale": {
           "diverging": [
            [
             0,
             "#8e0152"
            ],
            [
             0.1,
             "#c51b7d"
            ],
            [
             0.2,
             "#de77ae"
            ],
            [
             0.3,
             "#f1b6da"
            ],
            [
             0.4,
             "#fde0ef"
            ],
            [
             0.5,
             "#f7f7f7"
            ],
            [
             0.6,
             "#e6f5d0"
            ],
            [
             0.7,
             "#b8e186"
            ],
            [
             0.8,
             "#7fbc41"
            ],
            [
             0.9,
             "#4d9221"
            ],
            [
             1,
             "#276419"
            ]
           ],
           "sequential": [
            [
             0,
             "#0d0887"
            ],
            [
             0.1111111111111111,
             "#46039f"
            ],
            [
             0.2222222222222222,
             "#7201a8"
            ],
            [
             0.3333333333333333,
             "#9c179e"
            ],
            [
             0.4444444444444444,
             "#bd3786"
            ],
            [
             0.5555555555555556,
             "#d8576b"
            ],
            [
             0.6666666666666666,
             "#ed7953"
            ],
            [
             0.7777777777777778,
             "#fb9f3a"
            ],
            [
             0.8888888888888888,
             "#fdca26"
            ],
            [
             1,
             "#f0f921"
            ]
           ],
           "sequentialminus": [
            [
             0,
             "#0d0887"
            ],
            [
             0.1111111111111111,
             "#46039f"
            ],
            [
             0.2222222222222222,
             "#7201a8"
            ],
            [
             0.3333333333333333,
             "#9c179e"
            ],
            [
             0.4444444444444444,
             "#bd3786"
            ],
            [
             0.5555555555555556,
             "#d8576b"
            ],
            [
             0.6666666666666666,
             "#ed7953"
            ],
            [
             0.7777777777777778,
             "#fb9f3a"
            ],
            [
             0.8888888888888888,
             "#fdca26"
            ],
            [
             1,
             "#f0f921"
            ]
           ]
          },
          "colorway": [
           "#636efa",
           "#EF553B",
           "#00cc96",
           "#ab63fa",
           "#FFA15A",
           "#19d3f3",
           "#FF6692",
           "#B6E880",
           "#FF97FF",
           "#FECB52"
          ],
          "font": {
           "color": "#2a3f5f"
          },
          "geo": {
           "bgcolor": "white",
           "lakecolor": "white",
           "landcolor": "#E5ECF6",
           "showlakes": true,
           "showland": true,
           "subunitcolor": "white"
          },
          "hoverlabel": {
           "align": "left"
          },
          "hovermode": "closest",
          "mapbox": {
           "style": "light"
          },
          "paper_bgcolor": "white",
          "plot_bgcolor": "#E5ECF6",
          "polar": {
           "angularaxis": {
            "gridcolor": "white",
            "linecolor": "white",
            "ticks": ""
           },
           "bgcolor": "#E5ECF6",
           "radialaxis": {
            "gridcolor": "white",
            "linecolor": "white",
            "ticks": ""
           }
          },
          "scene": {
           "xaxis": {
            "backgroundcolor": "#E5ECF6",
            "gridcolor": "white",
            "gridwidth": 2,
            "linecolor": "white",
            "showbackground": true,
            "ticks": "",
            "zerolinecolor": "white"
           },
           "yaxis": {
            "backgroundcolor": "#E5ECF6",
            "gridcolor": "white",
            "gridwidth": 2,
            "linecolor": "white",
            "showbackground": true,
            "ticks": "",
            "zerolinecolor": "white"
           },
           "zaxis": {
            "backgroundcolor": "#E5ECF6",
            "gridcolor": "white",
            "gridwidth": 2,
            "linecolor": "white",
            "showbackground": true,
            "ticks": "",
            "zerolinecolor": "white"
           }
          },
          "shapedefaults": {
           "line": {
            "color": "#2a3f5f"
           }
          },
          "ternary": {
           "aaxis": {
            "gridcolor": "white",
            "linecolor": "white",
            "ticks": ""
           },
           "baxis": {
            "gridcolor": "white",
            "linecolor": "white",
            "ticks": ""
           },
           "bgcolor": "#E5ECF6",
           "caxis": {
            "gridcolor": "white",
            "linecolor": "white",
            "ticks": ""
           }
          },
          "title": {
           "x": 0.05
          },
          "xaxis": {
           "automargin": true,
           "gridcolor": "white",
           "linecolor": "white",
           "ticks": "",
           "title": {
            "standoff": 15
           },
           "zerolinecolor": "white",
           "zerolinewidth": 2
          },
          "yaxis": {
           "automargin": true,
           "gridcolor": "white",
           "linecolor": "white",
           "ticks": "",
           "title": {
            "standoff": 15
           },
           "zerolinecolor": "white",
           "zerolinewidth": 2
          }
         }
        },
        "title": {
         "text": "Coherence vs. Exclusivity Scores for Different Number of Topics"
        },
        "xaxis": {
         "anchor": "y",
         "domain": [
          0,
          1
         ],
         "title": {
          "text": "Coherence Score"
         }
        },
        "yaxis": {
         "anchor": "x",
         "domain": [
          0,
          1
         ],
         "title": {
          "text": "Exclusivity Score"
         }
        }
       }
      }
     },
     "metadata": {},
     "output_type": "display_data"
    }
   ],
   "source": [
    "#Interactive graph of coherance and exclusivity\n",
    "fig = px.scatter(\n",
    "    df_results,\n",
    "    x='coherence', \n",
    "    y='exclusivity',\n",
    "    color='num_topics', \n",
    "    labels={\n",
    "        'coherence': 'Coherence Score',\n",
    "        'exclusivity': 'Exclusivity Score',\n",
    "        'num_topics': 'Number of Topics'\n",
    "    },\n",
    "    title='Coherence vs. Exclusivity Scores for Different Number of Topics'\n",
    ")\n",
    "\n",
    "fig.update_traces(marker=dict(size=10), hovertemplate='Num Topics: %{marker.color}<br>Coherence: %{x}<br>Exclusivity: %{y}')\n",
    "\n",
    "fig.update_layout(\n",
    "    xaxis_title='Coherence Score',\n",
    "    yaxis_title='Exclusivity Score',\n",
    "    coloraxis_colorbar=dict(title='Number of Topics')\n",
    ")\n",
    "\n",
    "fig.show()"
   ]
  },
  {
   "cell_type": "code",
   "execution_count": 14,
   "metadata": {},
   "outputs": [
    {
     "name": "stdout",
     "output_type": "stream",
     "text": [
      "5\n",
      "213\n"
     ]
    }
   ],
   "source": [
    "#LDA Topic Modeling\n",
    "vec = CountVectorizer(stop_words=stop_words, max_df=0.80, min_df=0.20, token_pattern=r'\\b[a-zA-Z]{3,}\\b') # vectorizer\n",
    "X = vec.fit_transform(final_data['content']) # transform content \n",
    "lda = LatentDirichletAllocation(n_components=5, random_state=225) # LDA modeling\n",
    "doc_topics = lda.fit_transform(X)\n",
    "print(lda.components_.shape[0]) #topics\n",
    "print(lda.components_.shape[1]) #words"
   ]
  },
  {
   "cell_type": "code",
   "execution_count": 15,
   "metadata": {},
   "outputs": [
    {
     "name": "stdout",
     "output_type": "stream",
     "text": [
      "Topic #0: county, estimate, state, code, household, income, united, information, use, source, website, file, area, official, government, population, person, place, address, updated\n",
      "Topic #1: survey, age, health, child, population, question, people, school, national, community, american, year, group, person, across, information, work, change, resource, level\n",
      "Topic #2: state, home, new, health, care, city, information, community, public, service, business, research, access, resource, online, center, program, policy, department, including\n",
      "Topic #3: house, good, statistic, housing, area, price, service, value, home, month, new, estimate, used, cost, made, state, percent, average, annual, united\n",
      "Topic #4: year, may, people, one, market, also, time, new, like, march, would, family, business, rate, day, number, make, get, work, way\n"
     ]
    }
   ],
   "source": [
    "vocab = np.array(vec.get_feature_names_out()) # extract words\n",
    "\n",
    "n_words = 20 # top 20 words\n",
    "n_topics = 5 # 4 topics\n",
    "\n",
    "def imp_words(topic, n_words):\n",
    "    # Get indices of the top 'n_words' in descending order\n",
    "    top_word_indices = np.argsort(topic)[-n_words:][::-1]\n",
    "    return vocab[top_word_indices]\n",
    "words_in_topic = [imp_words(topic, n_words) for topic in lda.components_]\n",
    "\n",
    "# Display only the specified number of topics\n",
    "for idx, words in enumerate(words_in_topic[:n_topics]):\n",
    "    print(f\"Topic #{idx}: {', '.join(words)}\")"
   ]
  },
  {
   "cell_type": "code",
   "execution_count": 16,
   "metadata": {},
   "outputs": [
    {
     "name": "stdout",
     "output_type": "stream",
     "text": [
      "Topic 0:\n",
      "   county: 0.1071\n",
      "   estimate: 0.0572\n",
      "   state: 0.0379\n",
      "   code: 0.0346\n",
      "   household: 0.0259\n",
      "   income: 0.0246\n",
      "   united: 0.0240\n",
      "   information: 0.0239\n",
      "   use: 0.0211\n",
      "   source: 0.0207\n",
      "   website: 0.0200\n",
      "   file: 0.0195\n",
      "   area: 0.0191\n",
      "   official: 0.0166\n",
      "   government: 0.0162\n",
      "   population: 0.0135\n",
      "   person: 0.0134\n",
      "   place: 0.0133\n",
      "   address: 0.0133\n",
      "   updated: 0.0131\n",
      "Topic 1:\n",
      "   survey: 0.1291\n",
      "   age: 0.0959\n",
      "   health: 0.0947\n",
      "   child: 0.0704\n",
      "   population: 0.0573\n",
      "   question: 0.0375\n",
      "   people: 0.0310\n",
      "   school: 0.0300\n",
      "   national: 0.0276\n",
      "   community: 0.0273\n",
      "   american: 0.0261\n",
      "   year: 0.0254\n",
      "   group: 0.0184\n",
      "   person: 0.0117\n",
      "   across: 0.0110\n",
      "   information: 0.0108\n",
      "   work: 0.0102\n",
      "   change: 0.0098\n",
      "   resource: 0.0095\n",
      "   level: 0.0092\n",
      "Topic 2:\n",
      "   state: 0.0326\n",
      "   home: 0.0257\n",
      "   new: 0.0253\n",
      "   health: 0.0231\n",
      "   care: 0.0224\n",
      "   city: 0.0215\n",
      "   information: 0.0198\n",
      "   community: 0.0194\n",
      "   public: 0.0189\n",
      "   service: 0.0175\n",
      "   business: 0.0158\n",
      "   research: 0.0157\n",
      "   access: 0.0151\n",
      "   resource: 0.0144\n",
      "   online: 0.0137\n",
      "   center: 0.0127\n",
      "   program: 0.0126\n",
      "   policy: 0.0124\n",
      "   department: 0.0119\n",
      "   including: 0.0117\n",
      "Topic 3:\n",
      "   house: 0.0486\n",
      "   good: 0.0469\n",
      "   statistic: 0.0396\n",
      "   housing: 0.0361\n",
      "   area: 0.0360\n",
      "   price: 0.0305\n",
      "   service: 0.0262\n",
      "   value: 0.0256\n",
      "   home: 0.0205\n",
      "   month: 0.0203\n",
      "   new: 0.0183\n",
      "   estimate: 0.0183\n",
      "   used: 0.0171\n",
      "   cost: 0.0162\n",
      "   made: 0.0150\n",
      "   state: 0.0143\n",
      "   percent: 0.0139\n",
      "   average: 0.0139\n",
      "   annual: 0.0135\n",
      "   united: 0.0133\n",
      "Topic 4:\n",
      "   year: 0.0291\n",
      "   may: 0.0236\n",
      "   people: 0.0219\n",
      "   one: 0.0197\n",
      "   market: 0.0179\n",
      "   also: 0.0173\n",
      "   time: 0.0165\n",
      "   new: 0.0160\n",
      "   like: 0.0145\n",
      "   march: 0.0140\n",
      "   would: 0.0139\n",
      "   family: 0.0139\n",
      "   business: 0.0136\n",
      "   rate: 0.0131\n",
      "   day: 0.0125\n",
      "   number: 0.0119\n",
      "   make: 0.0113\n",
      "   get: 0.0107\n",
      "   work: 0.0105\n",
      "   way: 0.0098\n"
     ]
    }
   ],
   "source": [
    "# Normalize topic-word distributions to get probabilities\n",
    "topic_word_distributions = normalize(lda.components_, norm='l1', axis=1)\n",
    "\n",
    "# Collect top words and their probabilities for each topic\n",
    "top_words_with_probs = {}\n",
    "for topic_idx, topic in enumerate(topic_word_distributions):\n",
    "    top_word_ids = topic.argsort()[-n_words:][::-1]  # Get indices of top n words for this topic\n",
    "    top_words_probs = [(vocab[i], topic[i]) for i in top_word_ids]  # Get word-probability pairs\n",
    "    top_words_with_probs[f'Topic {topic_idx}'] = top_words_probs\n",
    "\n",
    "# Display the results\n",
    "for topic, words in top_words_with_probs.items():\n",
    "    print(f\"{topic}:\")\n",
    "    for word, prob in words:\n",
    "        print(f\"   {word}: {prob:.4f}\")"
   ]
  },
  {
   "cell_type": "code",
   "execution_count": 17,
   "metadata": {},
   "outputs": [],
   "source": [
    "# plotting topics\n",
    "plot_data = []\n",
    "for topic, words in top_words_with_probs.items():\n",
    "    for word, prob in words:\n",
    "        plot_data.append({'Topic': topic, 'Word': word, 'Probability': prob})\n",
    "\n",
    "# break up data into each topic\n",
    "df_plot = pd.DataFrame(plot_data)\n",
    "df_plot_0 = df_plot[df_plot[\"Topic\"]==\"Topic 0\"]\n",
    "df_plot_1 = df_plot[df_plot[\"Topic\"]==\"Topic 1\"]\n",
    "df_plot_2 = df_plot[df_plot[\"Topic\"]==\"Topic 2\"]\n",
    "df_plot_3 = df_plot[df_plot[\"Topic\"]==\"Topic 3\"]\n",
    "df_plot_4 = df_plot[df_plot[\"Topic\"]==\"Topic 4\"]"
   ]
  },
  {
   "cell_type": "code",
   "execution_count": 18,
   "metadata": {},
   "outputs": [
    {
     "data": {
      "image/png": "[encoded data removed]",
      "text/plain": [
       "<Figure size 1200x600 with 1 Axes>"
      ]
     },
     "metadata": {},
     "output_type": "display_data"
    }
   ],
   "source": [
    "import matplotlib.pyplot as plt # plotting\n",
    "import seaborn as sns # plotting\n",
    "\n",
    "# Plotting the distributions\n",
    "plt.figure(figsize=(12, 6))\n",
    "sns.barplot(data=df_plot_0, x='Word', y='Probability', palette='viridis')\n",
    "\n",
    "# Add title and labels\n",
    "plt.title('Top Words Distribution - Topic 0')\n",
    "plt.xlabel('Words')\n",
    "plt.ylabel('Probability')\n",
    "plt.xticks(rotation=45)\n",
    "plt.tight_layout()\n",
    "plt.show()"
   ]
  },
  {
   "cell_type": "code",
   "execution_count": 19,
   "metadata": {},
   "outputs": [
    {
     "data": {
      "image/png": "[encoded data removed]",
      "text/plain": [
       "<Figure size 1200x600 with 1 Axes>"
      ]
     },
     "metadata": {},
     "output_type": "display_data"
    }
   ],
   "source": [
    "# Plotting the distributions\n",
    "plt.figure(figsize=(12, 6))\n",
    "sns.barplot(data=df_plot_1, x='Word', y='Probability', palette='viridis')\n",
    "\n",
    "# Add title and labels\n",
    "plt.title('Top Words Distribution - Topic 1')\n",
    "plt.xlabel('Words')\n",
    "plt.ylabel('Probability')\n",
    "plt.xticks(rotation=45)\n",
    "plt.tight_layout()\n",
    "plt.show()"
   ]
  },
  {
   "cell_type": "code",
   "execution_count": 20,
   "metadata": {},
   "outputs": [
    {
     "data": {
      "image/png": "[encoded data removed]",
      "text/plain": [
       "<Figure size 1200x600 with 1 Axes>"
      ]
     },
     "metadata": {},
     "output_type": "display_data"
    }
   ],
   "source": [
    "# Plotting the distributions\n",
    "plt.figure(figsize=(12, 6))\n",
    "sns.barplot(data=df_plot_2, x='Word', y='Probability', palette='viridis')\n",
    "\n",
    "# Add title and labels\n",
    "plt.title('Top Words Distribution - Topic 2')\n",
    "plt.xlabel('Words')\n",
    "plt.ylabel('Probability')\n",
    "plt.xticks(rotation=45)\n",
    "plt.tight_layout()\n",
    "plt.show()"
   ]
  },
  {
   "cell_type": "code",
   "execution_count": 21,
   "metadata": {},
   "outputs": [
    {
     "data": {
      "image/png": "[encoded data removed]",
      "text/plain": [
       "<Figure size 1200x600 with 1 Axes>"
      ]
     },
     "metadata": {},
     "output_type": "display_data"
    }
   ],
   "source": [
    "# Plotting the distributions\n",
    "plt.figure(figsize=(12, 6))\n",
    "sns.barplot(data=df_plot_3, x='Word', y='Probability', palette='viridis')\n",
    "\n",
    "# Add title and labels\n",
    "plt.title('Top Words Distribution - Topic 3')\n",
    "plt.xlabel('Words')\n",
    "plt.ylabel('Probability')\n",
    "plt.xticks(rotation=45)\n",
    "plt.tight_layout()\n",
    "plt.show()"
   ]
  },
  {
   "cell_type": "code",
   "execution_count": 22,
   "metadata": {},
   "outputs": [
    {
     "data": {
      "image/png": "[encoded data removed]",
      "text/plain": [
       "<Figure size 1200x600 with 1 Axes>"
      ]
     },
     "metadata": {},
     "output_type": "display_data"
    }
   ],
   "source": [
    "# Plotting the distributions\n",
    "plt.figure(figsize=(12, 6))\n",
    "sns.barplot(data=df_plot_4, x='Word', y='Probability', palette='viridis')\n",
    "\n",
    "# Add title and labels\n",
    "plt.title('Top Words Distribution - Topic 4')\n",
    "plt.xlabel('Words')\n",
    "plt.ylabel('Probability')\n",
    "plt.xticks(rotation=45)\n",
    "plt.tight_layout()\n",
    "plt.show()"
   ]
  },
  {
   "cell_type": "code",
   "execution_count": 23,
   "metadata": {},
   "outputs": [
    {
     "data": {
      "text/html": [
       "<div>\n",
       "<style scoped>\n",
       "    .dataframe tbody tr th:only-of-type {\n",
       "        vertical-align: middle;\n",
       "    }\n",
       "\n",
       "    .dataframe tbody tr th {\n",
       "        vertical-align: top;\n",
       "    }\n",
       "\n",
       "    .dataframe thead th {\n",
       "        text-align: right;\n",
       "    }\n",
       "</style>\n",
       "<table border=\"1\" class=\"dataframe\">\n",
       "  <thead>\n",
       "    <tr style=\"text-align: right;\">\n",
       "      <th></th>\n",
       "      <th>Topic_0</th>\n",
       "      <th>Topic_1</th>\n",
       "      <th>Topic_2</th>\n",
       "      <th>Topic_3</th>\n",
       "      <th>Topic_4</th>\n",
       "    </tr>\n",
       "  </thead>\n",
       "  <tbody>\n",
       "    <tr>\n",
       "      <th>Document_0</th>\n",
       "      <td>0.00</td>\n",
       "      <td>0.00</td>\n",
       "      <td>0.00</td>\n",
       "      <td>0.09</td>\n",
       "      <td>0.91</td>\n",
       "    </tr>\n",
       "    <tr>\n",
       "      <th>Document_1</th>\n",
       "      <td>0.00</td>\n",
       "      <td>0.00</td>\n",
       "      <td>0.00</td>\n",
       "      <td>0.00</td>\n",
       "      <td>0.99</td>\n",
       "    </tr>\n",
       "    <tr>\n",
       "      <th>Document_2</th>\n",
       "      <td>0.33</td>\n",
       "      <td>0.01</td>\n",
       "      <td>0.29</td>\n",
       "      <td>0.02</td>\n",
       "      <td>0.35</td>\n",
       "    </tr>\n",
       "    <tr>\n",
       "      <th>Document_3</th>\n",
       "      <td>0.19</td>\n",
       "      <td>0.04</td>\n",
       "      <td>0.15</td>\n",
       "      <td>0.08</td>\n",
       "      <td>0.54</td>\n",
       "    </tr>\n",
       "    <tr>\n",
       "      <th>Document_4</th>\n",
       "      <td>0.40</td>\n",
       "      <td>0.09</td>\n",
       "      <td>0.36</td>\n",
       "      <td>0.01</td>\n",
       "      <td>0.14</td>\n",
       "    </tr>\n",
       "    <tr>\n",
       "      <th>...</th>\n",
       "      <td>...</td>\n",
       "      <td>...</td>\n",
       "      <td>...</td>\n",
       "      <td>...</td>\n",
       "      <td>...</td>\n",
       "    </tr>\n",
       "    <tr>\n",
       "      <th>Document_324</th>\n",
       "      <td>0.00</td>\n",
       "      <td>0.00</td>\n",
       "      <td>0.00</td>\n",
       "      <td>0.02</td>\n",
       "      <td>0.97</td>\n",
       "    </tr>\n",
       "    <tr>\n",
       "      <th>Document_325</th>\n",
       "      <td>0.03</td>\n",
       "      <td>0.00</td>\n",
       "      <td>0.36</td>\n",
       "      <td>0.15</td>\n",
       "      <td>0.45</td>\n",
       "    </tr>\n",
       "    <tr>\n",
       "      <th>Document_326</th>\n",
       "      <td>0.00</td>\n",
       "      <td>0.02</td>\n",
       "      <td>0.49</td>\n",
       "      <td>0.00</td>\n",
       "      <td>0.48</td>\n",
       "    </tr>\n",
       "    <tr>\n",
       "      <th>Document_327</th>\n",
       "      <td>0.21</td>\n",
       "      <td>0.01</td>\n",
       "      <td>0.78</td>\n",
       "      <td>0.01</td>\n",
       "      <td>0.01</td>\n",
       "    </tr>\n",
       "    <tr>\n",
       "      <th>Document_328</th>\n",
       "      <td>0.02</td>\n",
       "      <td>0.02</td>\n",
       "      <td>0.74</td>\n",
       "      <td>0.02</td>\n",
       "      <td>0.20</td>\n",
       "    </tr>\n",
       "  </tbody>\n",
       "</table>\n",
       "<p>329 rows × 5 columns</p>\n",
       "</div>"
      ],
      "text/plain": [
       "              Topic_0  Topic_1  Topic_2  Topic_3  Topic_4\n",
       "Document_0       0.00     0.00     0.00     0.09     0.91\n",
       "Document_1       0.00     0.00     0.00     0.00     0.99\n",
       "Document_2       0.33     0.01     0.29     0.02     0.35\n",
       "Document_3       0.19     0.04     0.15     0.08     0.54\n",
       "Document_4       0.40     0.09     0.36     0.01     0.14\n",
       "...               ...      ...      ...      ...      ...\n",
       "Document_324     0.00     0.00     0.00     0.02     0.97\n",
       "Document_325     0.03     0.00     0.36     0.15     0.45\n",
       "Document_326     0.00     0.02     0.49     0.00     0.48\n",
       "Document_327     0.21     0.01     0.78     0.01     0.01\n",
       "Document_328     0.02     0.02     0.74     0.02     0.20\n",
       "\n",
       "[329 rows x 5 columns]"
      ]
     },
     "execution_count": 23,
     "metadata": {},
     "output_type": "execute_result"
    }
   ],
   "source": [
    "#Probability of each document per topic\n",
    "cols = [\"Topic_\" + str(each) for each in range(lda.n_components)]\n",
    "docs = [\"Document_\" + str(each) for each in range(X.shape[0])]\n",
    "\n",
    "df_topics = pd.DataFrame(np.round(doc_topics,2),\n",
    "                         columns=cols,\n",
    "                         index=docs)\n",
    "\n",
    "df_topics"
   ]
  },
  {
   "cell_type": "code",
   "execution_count": 24,
   "metadata": {},
   "outputs": [
    {
     "name": "stdout",
     "output_type": "stream",
     "text": [
      "            Topic_0  Topic_1  Topic_2  Topic_3  Topic_4  top_topic\n",
      "Document_0     0.00     0.00     0.00     0.09     0.91          4\n",
      "Document_1     0.00     0.00     0.00     0.00     0.99          4\n",
      "Document_2     0.33     0.01     0.29     0.02     0.35          4\n",
      "Document_3     0.19     0.04     0.15     0.08     0.54          4\n",
      "Document_4     0.40     0.09     0.36     0.01     0.14          0\n",
      "Document_5     0.08     0.05     0.14     0.40     0.34          3\n",
      "Document_6     0.00     0.00     0.98     0.00     0.00          2\n",
      "Document_7     0.47     0.01     0.51     0.01     0.01          2\n",
      "Document_8     0.03     0.00     0.00     0.00     0.97          4\n",
      "Document_9     0.19     0.00     0.73     0.04     0.03          2\n"
     ]
    }
   ],
   "source": [
    "#Assigning each document the topic with the highest probability\n",
    "imp_topic = np.argmax(df_topics.values, axis=1)\n",
    "df_topics[\"top_topic\"] = imp_topic\n",
    "print(df_topics.head(10))"
   ]
  },
  {
   "cell_type": "code",
   "execution_count": 25,
   "metadata": {},
   "outputs": [
    {
     "data": {
      "text/html": [
       "<div>\n",
       "<style scoped>\n",
       "    .dataframe tbody tr th:only-of-type {\n",
       "        vertical-align: middle;\n",
       "    }\n",
       "\n",
       "    .dataframe tbody tr th {\n",
       "        vertical-align: top;\n",
       "    }\n",
       "\n",
       "    .dataframe thead th {\n",
       "        text-align: right;\n",
       "    }\n",
       "</style>\n",
       "<table border=\"1\" class=\"dataframe\">\n",
       "  <thead>\n",
       "    <tr style=\"text-align: right;\">\n",
       "      <th></th>\n",
       "      <th>url</th>\n",
       "      <th>Found Links</th>\n",
       "      <th>Source</th>\n",
       "      <th>content</th>\n",
       "      <th>Topic_Name</th>\n",
       "    </tr>\n",
       "  </thead>\n",
       "  <tbody>\n",
       "    <tr>\n",
       "      <th>0</th>\n",
       "      <td>http://bonddad.blogspot.com/2021/12/manufactur...</td>\n",
       "      <td>[http://www.census.gov/econ/www/]</td>\n",
       "      <td>cited</td>\n",
       "      <td>the bonddad blog manufacturing still red hot c...</td>\n",
       "      <td>Annual Market Trends: Business, Family, and Ec...</td>\n",
       "    </tr>\n",
       "    <tr>\n",
       "      <th>1</th>\n",
       "      <td>http://bonddad.blogspot.com/2023/09/initial-jo...</td>\n",
       "      <td>[http://www.census.gov/econ/www/]</td>\n",
       "      <td>cited</td>\n",
       "      <td>the bonddad blog initial jobless claim remain ...</td>\n",
       "      <td>Annual Market Trends: Business, Family, and Ec...</td>\n",
       "    </tr>\n",
       "    <tr>\n",
       "      <th>2</th>\n",
       "      <td>http://bostongis.org/?content_name=umn_datasou...</td>\n",
       "      <td>[http://www.census.gov/geo/www/tiger/index.htm...</td>\n",
       "      <td>cited</td>\n",
       "      <td>ogr odbcboston geographic information systemsh...</td>\n",
       "      <td>Annual Market Trends: Business, Family, and Ec...</td>\n",
       "    </tr>\n",
       "    <tr>\n",
       "      <th>3</th>\n",
       "      <td>http://colonialsense.com/society-lifestyle/cen...</td>\n",
       "      <td>[mailto:?subject=colonial sense: society-lifes...</td>\n",
       "      <td>cited</td>\n",
       "      <td>colonial sense societylifestyle census governa...</td>\n",
       "      <td>Annual Market Trends: Business, Family, and Ec...</td>\n",
       "    </tr>\n",
       "    <tr>\n",
       "      <th>4</th>\n",
       "      <td>http://fileformats.archiveteam.org/index.php?t...</td>\n",
       "      <td>[https://www.census.gov/programs-surveys/cps.h...</td>\n",
       "      <td>cited</td>\n",
       "      <td>cps project just solve the file format problem...</td>\n",
       "      <td>Comprehensive County Data: Population, Income,...</td>\n",
       "    </tr>\n",
       "    <tr>\n",
       "      <th>...</th>\n",
       "      <td>...</td>\n",
       "      <td>...</td>\n",
       "      <td>...</td>\n",
       "      <td>...</td>\n",
       "      <td>...</td>\n",
       "    </tr>\n",
       "    <tr>\n",
       "      <th>324</th>\n",
       "      <td>https://www.withdra.com/p/mind-the-gap-explori...</td>\n",
       "      <td>[https://www.census.gov/library/publications/2...</td>\n",
       "      <td>cited</td>\n",
       "      <td>vibecession exploring the growing divide betwe...</td>\n",
       "      <td>Annual Market Trends: Business, Family, and Ec...</td>\n",
       "    </tr>\n",
       "    <tr>\n",
       "      <th>325</th>\n",
       "      <td>https://www.wxpr.org/2022-07-28/these-hurrican...</td>\n",
       "      <td>[https://data.census.gov/]</td>\n",
       "      <td>repackaged</td>\n",
       "      <td>these hurricane flood map reveal the climate f...</td>\n",
       "      <td>Annual Market Trends: Business, Family, and Ec...</td>\n",
       "    </tr>\n",
       "    <tr>\n",
       "      <th>326</th>\n",
       "      <td>https://www.wyomingpublicmedia.org/news/2021-0...</td>\n",
       "      <td>[https://www.census.gov/data/experimental-data...</td>\n",
       "      <td>repackaged</td>\n",
       "      <td>single mother bore brunt of coronavirus anxiet...</td>\n",
       "      <td>State and Community Health Services: Access an...</td>\n",
       "    </tr>\n",
       "    <tr>\n",
       "      <th>327</th>\n",
       "      <td>https://yelmwa.gov/i_want_to/contact/send_a_no...</td>\n",
       "      <td>[https://2020census.gov/en]</td>\n",
       "      <td>cited</td>\n",
       "      <td>welcome to yelm washingtonskip to contentsearc...</td>\n",
       "      <td>State and Community Health Services: Access an...</td>\n",
       "    </tr>\n",
       "    <tr>\n",
       "      <th>328</th>\n",
       "      <td>https://yelmwa.gov/news_detail_t10_r448.php</td>\n",
       "      <td>[https://2020census.gov/en]</td>\n",
       "      <td>cited</td>\n",
       "      <td>skip to contentyelm washingtonnavigation logoe...</td>\n",
       "      <td>State and Community Health Services: Access an...</td>\n",
       "    </tr>\n",
       "  </tbody>\n",
       "</table>\n",
       "<p>329 rows × 5 columns</p>\n",
       "</div>"
      ],
      "text/plain": [
       "                                                   url  \\\n",
       "0    http://bonddad.blogspot.com/2021/12/manufactur...   \n",
       "1    http://bonddad.blogspot.com/2023/09/initial-jo...   \n",
       "2    http://bostongis.org/?content_name=umn_datasou...   \n",
       "3    http://colonialsense.com/society-lifestyle/cen...   \n",
       "4    http://fileformats.archiveteam.org/index.php?t...   \n",
       "..                                                 ...   \n",
       "324  https://www.withdra.com/p/mind-the-gap-explori...   \n",
       "325  https://www.wxpr.org/2022-07-28/these-hurrican...   \n",
       "326  https://www.wyomingpublicmedia.org/news/2021-0...   \n",
       "327  https://yelmwa.gov/i_want_to/contact/send_a_no...   \n",
       "328        https://yelmwa.gov/news_detail_t10_r448.php   \n",
       "\n",
       "                                           Found Links      Source  \\\n",
       "0                    [http://www.census.gov/econ/www/]       cited   \n",
       "1                    [http://www.census.gov/econ/www/]       cited   \n",
       "2    [http://www.census.gov/geo/www/tiger/index.htm...       cited   \n",
       "3    [mailto:?subject=colonial sense: society-lifes...       cited   \n",
       "4    [https://www.census.gov/programs-surveys/cps.h...       cited   \n",
       "..                                                 ...         ...   \n",
       "324  [https://www.census.gov/library/publications/2...       cited   \n",
       "325                         [https://data.census.gov/]  repackaged   \n",
       "326  [https://www.census.gov/data/experimental-data...  repackaged   \n",
       "327                        [https://2020census.gov/en]       cited   \n",
       "328                        [https://2020census.gov/en]       cited   \n",
       "\n",
       "                                               content  \\\n",
       "0    the bonddad blog manufacturing still red hot c...   \n",
       "1    the bonddad blog initial jobless claim remain ...   \n",
       "2    ogr odbcboston geographic information systemsh...   \n",
       "3    colonial sense societylifestyle census governa...   \n",
       "4    cps project just solve the file format problem...   \n",
       "..                                                 ...   \n",
       "324  vibecession exploring the growing divide betwe...   \n",
       "325  these hurricane flood map reveal the climate f...   \n",
       "326  single mother bore brunt of coronavirus anxiet...   \n",
       "327  welcome to yelm washingtonskip to contentsearc...   \n",
       "328  skip to contentyelm washingtonnavigation logoe...   \n",
       "\n",
       "                                            Topic_Name  \n",
       "0    Annual Market Trends: Business, Family, and Ec...  \n",
       "1    Annual Market Trends: Business, Family, and Ec...  \n",
       "2    Annual Market Trends: Business, Family, and Ec...  \n",
       "3    Annual Market Trends: Business, Family, and Ec...  \n",
       "4    Comprehensive County Data: Population, Income,...  \n",
       "..                                                 ...  \n",
       "324  Annual Market Trends: Business, Family, and Ec...  \n",
       "325  Annual Market Trends: Business, Family, and Ec...  \n",
       "326  State and Community Health Services: Access an...  \n",
       "327  State and Community Health Services: Access an...  \n",
       "328  State and Community Health Services: Access an...  \n",
       "\n",
       "[329 rows x 5 columns]"
      ]
     },
     "execution_count": 25,
     "metadata": {},
     "output_type": "execute_result"
    }
   ],
   "source": [
    "#Adding topics into original DF\n",
    "conditions = [df_topics[\"top_topic\"] == 0, df_topics[\"top_topic\"] == 1, df_topics[\"top_topic\"] == 2, \n",
    "              df_topics[\"top_topic\"] == 3, df_topics[\"top_topic\"] == 4]\n",
    "\n",
    "choices = [\"Comprehensive County Data: Population, Income, and Government Resources\", \n",
    "           \"National Health and Demographic Survey: Insights Across Communities\", \n",
    "           \"State and Community Health Services: Access and Resources\", \n",
    "           \"Housing Market Analysis: Prices, Values, and Statistics\",\n",
    "           \"Annual Market Trends: Business, Family, and Economic Insights\"]\n",
    "final_data.loc[:,\"Topic_Name\"] = np.select(conditions, choices, default=\"Other\")\n",
    "\n",
    "final_data"
   ]
  },
  {
   "cell_type": "code",
   "execution_count": 26,
   "metadata": {},
   "outputs": [
    {
     "data": {
      "text/plain": [
       "Topic_Name\n",
       "State and Community Health Services: Access and Resources                  124\n",
       "Annual Market Trends: Business, Family, and Economic Insights              115\n",
       "Comprehensive County Data: Population, Income, and Government Resources     69\n",
       "Housing Market Analysis: Prices, Values, and Statistics                     11\n",
       "National Health and Demographic Survey: Insights Across Communities         10\n",
       "Name: count, dtype: int64"
      ]
     },
     "execution_count": 26,
     "metadata": {},
     "output_type": "execute_result"
    }
   ],
   "source": [
    "# Simple count of topics\n",
    "final_data['Topic_Name'].value_counts()"
   ]
  },
  {
   "cell_type": "code",
   "execution_count": null,
   "metadata": {},
   "outputs": [],
   "source": [
    "# split data into repackaged and cited instances\n",
    "final_data_repackaged = final_data[final_data['Source']=='repackaged']\n",
    "final_data_cited = final_data[final_data['Source']=='cited']\n"
   ]
  },
  {
   "cell_type": "code",
   "execution_count": 28,
   "metadata": {},
   "outputs": [
    {
     "data": {
      "image/png": "[encoded data removed]",
      "text/plain": [
       "<Figure size 1000x600 with 1 Axes>"
      ]
     },
     "metadata": {},
     "output_type": "display_data"
    }
   ],
   "source": [
    "import textwrap # wrap labels\n",
    "\n",
    "# Get the value counts\n",
    "topic_counts = final_data_repackaged['Topic_Name'].value_counts()\n",
    "\n",
    "# Define a list of blue shades\n",
    "blue_shades = ['#0000CD', '#4169E1', '#1E90FF', '#87CEEB', '#ADD8E6']\n",
    "\n",
    "# Wrap the x-axis labels\n",
    "wrapped_labels = [textwrap.fill(label, width=20) for label in topic_counts.index]\n",
    "\n",
    "# Create a bar chart\n",
    "plt.figure(figsize=(10, 6))\n",
    "topic_counts.plot(kind='bar', color=blue_shades[:len(topic_counts)])\n",
    "plt.title('Distribution of Repackaged Topics')\n",
    "plt.xlabel('Topics')\n",
    "plt.ylabel('Count')\n",
    "plt.xticks(ticks=range(len(wrapped_labels)), labels=wrapped_labels, rotation=0)\n",
    "plt.grid(axis='y')\n",
    "\n",
    "# Show the plot\n",
    "plt.tight_layout()\n",
    "plt.show()"
   ]
  },
  {
   "cell_type": "code",
   "execution_count": 29,
   "metadata": {},
   "outputs": [
    {
     "data": {
      "image/png": "[encoded data removed]",
      "text/plain": [
       "<Figure size 1000x600 with 1 Axes>"
      ]
     },
     "metadata": {},
     "output_type": "display_data"
    }
   ],
   "source": [
    "# Get the value counts\n",
    "topic_counts = final_data_cited['Topic_Name'].value_counts()\n",
    "\n",
    "# Define a list of blue shades\n",
    "blue_shades = ['#0000CD', '#4169E1', '#1E90FF', '#87CEEB', '#ADD8E6']\n",
    "\n",
    "# Wrap the x-axis labels\n",
    "wrapped_labels = [textwrap.fill(label, width=20) for label in topic_counts.index]\n",
    "\n",
    "# Create a bar chart\n",
    "plt.figure(figsize=(10, 6))\n",
    "topic_counts.plot(kind='bar', color=blue_shades[:len(topic_counts)])\n",
    "plt.title('Distribution of Cited Topics')\n",
    "plt.xlabel('Topics')\n",
    "plt.ylabel('Count')\n",
    "plt.xticks(ticks=range(len(wrapped_labels)), labels=wrapped_labels, rotation=0)\n",
    "plt.grid(axis='y')\n",
    "\n",
    "# Show the plot\n",
    "plt.tight_layout()\n",
    "plt.show()"
   ]
  },
  {
   "cell_type": "markdown",
   "metadata": {},
   "source": [
    "## Mapping"
   ]
  },
  {
   "cell_type": "markdown",
   "metadata": {},
   "source": [
    "### Repackaged"
   ]
  },
  {
   "cell_type": "code",
   "execution_count": 30,
   "metadata": {},
   "outputs": [
    {
     "name": "stdout",
     "output_type": "stream",
     "text": [
      "Could not resolve https://hcup-us.ahrq.gov:443/reports/statbriefs/sb138.jsp: DNS resolution failed\n"
     ]
    },
    {
     "ename": "KeyboardInterrupt",
     "evalue": "",
     "output_type": "error",
     "traceback": [
      "\u001b[1;31m---------------------------------------------------------------------------\u001b[0m",
      "\u001b[1;31mKeyboardInterrupt\u001b[0m                         Traceback (most recent call last)",
      "Cell \u001b[1;32mIn[30], line 48\u001b[0m\n\u001b[0;32m     45\u001b[0m urls_repackaged \u001b[38;5;241m=\u001b[39m \u001b[38;5;28mlist\u001b[39m(\u001b[38;5;28mset\u001b[39m(urls_repackaged)) \u001b[38;5;66;03m# remove duplicate urls\u001b[39;00m\n\u001b[0;32m     47\u001b[0m \u001b[38;5;66;03m# Process each URL and save the results into a DataFrame\u001b[39;00m\n\u001b[1;32m---> 48\u001b[0m map_df_repackaged \u001b[38;5;241m=\u001b[39m process_urls(urls_repackaged)\n\u001b[0;32m     49\u001b[0m \u001b[38;5;28mprint\u001b[39m(map_df_repackaged)\n",
      "Cell \u001b[1;32mIn[30], line 29\u001b[0m, in \u001b[0;36mprocess_urls\u001b[1;34m(urls)\u001b[0m\n\u001b[0;32m     27\u001b[0m domain \u001b[38;5;241m=\u001b[39m url\u001b[38;5;241m.\u001b[39msplit(\u001b[38;5;124m'\u001b[39m\u001b[38;5;124m//\u001b[39m\u001b[38;5;124m'\u001b[39m)[\u001b[38;5;241m-\u001b[39m\u001b[38;5;241m1\u001b[39m]\u001b[38;5;241m.\u001b[39msplit(\u001b[38;5;124m'\u001b[39m\u001b[38;5;124m/\u001b[39m\u001b[38;5;124m'\u001b[39m)[\u001b[38;5;241m0\u001b[39m]\n\u001b[0;32m     28\u001b[0m ip_add \u001b[38;5;241m=\u001b[39m socket\u001b[38;5;241m.\u001b[39mgethostbyname(domain)\n\u001b[1;32m---> 29\u001b[0m details \u001b[38;5;241m=\u001b[39m get_details(ip_add)\n\u001b[0;32m     30\u001b[0m details[\u001b[38;5;124m\"\u001b[39m\u001b[38;5;124mURL\u001b[39m\u001b[38;5;124m\"\u001b[39m] \u001b[38;5;241m=\u001b[39m url\n\u001b[0;32m     31\u001b[0m data\u001b[38;5;241m.\u001b[39mappend(details)\n",
      "Cell \u001b[1;32mIn[30], line 12\u001b[0m, in \u001b[0;36mget_details\u001b[1;34m(ip)\u001b[0m\n\u001b[0;32m     11\u001b[0m \u001b[38;5;28;01mdef\u001b[39;00m \u001b[38;5;21mget_details\u001b[39m(ip):\n\u001b[1;32m---> 12\u001b[0m     res \u001b[38;5;241m=\u001b[39m DbIpCity\u001b[38;5;241m.\u001b[39mget(ip, api_key\u001b[38;5;241m=\u001b[39m\u001b[38;5;124m\"\u001b[39m\u001b[38;5;124mfree\u001b[39m\u001b[38;5;124m\"\u001b[39m)\n\u001b[0;32m     13\u001b[0m     \u001b[38;5;28;01mreturn\u001b[39;00m {\n\u001b[0;32m     14\u001b[0m         \u001b[38;5;124m\"\u001b[39m\u001b[38;5;124mIP Address\u001b[39m\u001b[38;5;124m\"\u001b[39m: res\u001b[38;5;241m.\u001b[39mip_address,\n\u001b[0;32m     15\u001b[0m         \u001b[38;5;124m\"\u001b[39m\u001b[38;5;124mCity\u001b[39m\u001b[38;5;124m\"\u001b[39m: res\u001b[38;5;241m.\u001b[39mcity,\n\u001b[1;32m   (...)\u001b[0m\n\u001b[0;32m     19\u001b[0m         \u001b[38;5;124m\"\u001b[39m\u001b[38;5;124mlongitude\u001b[39m\u001b[38;5;124m\"\u001b[39m: res\u001b[38;5;241m.\u001b[39mlongitude\n\u001b[0;32m     20\u001b[0m     }\n",
      "File \u001b[1;32mc:\\Users\\Ksell\\anaconda3\\Lib\\site-packages\\ip2geotools\\databases\\noncommercial.py:71\u001b[0m, in \u001b[0;36mDbIpCity.get\u001b[1;34m(ip_address, api_key, db_path, username, password)\u001b[0m\n\u001b[0;32m     68\u001b[0m ip_location\u001b[38;5;241m.\u001b[39mcity \u001b[38;5;241m=\u001b[39m content\u001b[38;5;241m.\u001b[39mget(\u001b[38;5;124m'\u001b[39m\u001b[38;5;124mcity\u001b[39m\u001b[38;5;124m'\u001b[39m)\n\u001b[0;32m     70\u001b[0m \u001b[38;5;66;03m# get lat/lon from OSM\u001b[39;00m\n\u001b[1;32m---> 71\u001b[0m osm \u001b[38;5;241m=\u001b[39m geocoder\u001b[38;5;241m.\u001b[39mosm(content\u001b[38;5;241m.\u001b[39mget(\u001b[38;5;124m'\u001b[39m\u001b[38;5;124mcity\u001b[39m\u001b[38;5;124m'\u001b[39m, \u001b[38;5;124m'\u001b[39m\u001b[38;5;124m'\u001b[39m) \u001b[38;5;241m+\u001b[39m \u001b[38;5;124m'\u001b[39m\u001b[38;5;124m, \u001b[39m\u001b[38;5;124m'\u001b[39m\n\u001b[0;32m     72\u001b[0m                    \u001b[38;5;241m+\u001b[39m content\u001b[38;5;241m.\u001b[39mget(\u001b[38;5;124m'\u001b[39m\u001b[38;5;124mstateProv\u001b[39m\u001b[38;5;124m'\u001b[39m, \u001b[38;5;124m'\u001b[39m\u001b[38;5;124m'\u001b[39m) \u001b[38;5;241m+\u001b[39m \u001b[38;5;124m'\u001b[39m\u001b[38;5;124m \u001b[39m\u001b[38;5;124m'\u001b[39m\n\u001b[0;32m     73\u001b[0m                    \u001b[38;5;241m+\u001b[39m content\u001b[38;5;241m.\u001b[39mget(\u001b[38;5;124m'\u001b[39m\u001b[38;5;124mcountryCode\u001b[39m\u001b[38;5;124m'\u001b[39m, \u001b[38;5;124m'\u001b[39m\u001b[38;5;124m'\u001b[39m),\n\u001b[0;32m     74\u001b[0m                    timeout\u001b[38;5;241m=\u001b[39m\u001b[38;5;241m62\u001b[39m)\n\u001b[0;32m     76\u001b[0m \u001b[38;5;28;01mif\u001b[39;00m osm\u001b[38;5;241m.\u001b[39mok:\n\u001b[0;32m     77\u001b[0m     osm \u001b[38;5;241m=\u001b[39m osm\u001b[38;5;241m.\u001b[39mjson\n",
      "File \u001b[1;32mc:\\Users\\Ksell\\anaconda3\\Lib\\site-packages\\geocoder\\api.py:458\u001b[0m, in \u001b[0;36mosm\u001b[1;34m(location, **kwargs)\u001b[0m\n\u001b[0;32m    451\u001b[0m \u001b[38;5;28;01mdef\u001b[39;00m \u001b[38;5;21mosm\u001b[39m(location, \u001b[38;5;241m*\u001b[39m\u001b[38;5;241m*\u001b[39mkwargs):\n\u001b[0;32m    452\u001b[0m \u001b[38;5;250m    \u001b[39m\u001b[38;5;124;03m\"\"\"OSM Provider\u001b[39;00m\n\u001b[0;32m    453\u001b[0m \n\u001b[0;32m    454\u001b[0m \u001b[38;5;124;03m    :param ``location``: Your search location you want geocoded.\u001b[39;00m\n\u001b[0;32m    455\u001b[0m \u001b[38;5;124;03m    :param ``url``: Custom OSM Server URL location\u001b[39;00m\n\u001b[0;32m    456\u001b[0m \u001b[38;5;124;03m               (ex: http://nominatim.openstreetmap.org/search)\u001b[39;00m\n\u001b[0;32m    457\u001b[0m \u001b[38;5;124;03m    \"\"\"\u001b[39;00m\n\u001b[1;32m--> 458\u001b[0m     \u001b[38;5;28;01mreturn\u001b[39;00m get(location, provider\u001b[38;5;241m=\u001b[39m\u001b[38;5;124m'\u001b[39m\u001b[38;5;124mosm\u001b[39m\u001b[38;5;124m'\u001b[39m, \u001b[38;5;241m*\u001b[39m\u001b[38;5;241m*\u001b[39mkwargs)\n",
      "File \u001b[1;32mc:\\Users\\Ksell\\anaconda3\\Lib\\site-packages\\geocoder\\api.py:198\u001b[0m, in \u001b[0;36mget\u001b[1;34m(location, **kwargs)\u001b[0m\n\u001b[0;32m    196\u001b[0m     \u001b[38;5;28;01mif\u001b[39;00m method \u001b[38;5;129;01mnot\u001b[39;00m \u001b[38;5;129;01min\u001b[39;00m options[provider]:\n\u001b[0;32m    197\u001b[0m         \u001b[38;5;28;01mraise\u001b[39;00m \u001b[38;5;167;01mValueError\u001b[39;00m(\u001b[38;5;124m\"\u001b[39m\u001b[38;5;124mInvalid method\u001b[39m\u001b[38;5;124m\"\u001b[39m)\n\u001b[1;32m--> 198\u001b[0m \u001b[38;5;28;01mreturn\u001b[39;00m options[provider][method](location, \u001b[38;5;241m*\u001b[39m\u001b[38;5;241m*\u001b[39mkwargs)\n",
      "File \u001b[1;32mc:\\Users\\Ksell\\anaconda3\\Lib\\site-packages\\geocoder\\base.py:410\u001b[0m, in \u001b[0;36mMultipleResultsQuery.__init__\u001b[1;34m(self, location, **kwargs)\u001b[0m\n\u001b[0;32m    407\u001b[0m \u001b[38;5;28mself\u001b[39m\u001b[38;5;241m.\u001b[39m_before_initialize(location, \u001b[38;5;241m*\u001b[39m\u001b[38;5;241m*\u001b[39mkwargs)\n\u001b[0;32m    409\u001b[0m \u001b[38;5;66;03m# query and parse results\u001b[39;00m\n\u001b[1;32m--> 410\u001b[0m \u001b[38;5;28mself\u001b[39m\u001b[38;5;241m.\u001b[39m_initialize()\n",
      "File \u001b[1;32mc:\\Users\\Ksell\\anaconda3\\Lib\\site-packages\\geocoder\\base.py:457\u001b[0m, in \u001b[0;36mMultipleResultsQuery._initialize\u001b[1;34m(self)\u001b[0m\n\u001b[0;32m    455\u001b[0m \u001b[38;5;28;01mdef\u001b[39;00m \u001b[38;5;21m_initialize\u001b[39m(\u001b[38;5;28mself\u001b[39m):\n\u001b[0;32m    456\u001b[0m     \u001b[38;5;66;03m# query URL and get valid JSON (also stored in self.json)\u001b[39;00m\n\u001b[1;32m--> 457\u001b[0m     json_response \u001b[38;5;241m=\u001b[39m \u001b[38;5;28mself\u001b[39m\u001b[38;5;241m.\u001b[39m_connect()\n\u001b[0;32m    459\u001b[0m     \u001b[38;5;66;03m# catch errors\u001b[39;00m\n\u001b[0;32m    460\u001b[0m     has_error \u001b[38;5;241m=\u001b[39m \u001b[38;5;28mself\u001b[39m\u001b[38;5;241m.\u001b[39m_catch_errors(\n\u001b[0;32m    461\u001b[0m         json_response) \u001b[38;5;28;01mif\u001b[39;00m json_response \u001b[38;5;28;01melse\u001b[39;00m \u001b[38;5;28;01mTrue\u001b[39;00m\n",
      "File \u001b[1;32mc:\\Users\\Ksell\\anaconda3\\Lib\\site-packages\\geocoder\\base.py:479\u001b[0m, in \u001b[0;36mMultipleResultsQuery._connect\u001b[1;34m(self)\u001b[0m\n\u001b[0;32m    475\u001b[0m \u001b[38;5;28mself\u001b[39m\u001b[38;5;241m.\u001b[39mstatus_code \u001b[38;5;241m=\u001b[39m \u001b[38;5;124m'\u001b[39m\u001b[38;5;124mUnknown\u001b[39m\u001b[38;5;124m'\u001b[39m\n\u001b[0;32m    477\u001b[0m \u001b[38;5;28;01mtry\u001b[39;00m:\n\u001b[0;32m    478\u001b[0m     \u001b[38;5;66;03m# make request and get response\u001b[39;00m\n\u001b[1;32m--> 479\u001b[0m     \u001b[38;5;28mself\u001b[39m\u001b[38;5;241m.\u001b[39mresponse \u001b[38;5;241m=\u001b[39m response \u001b[38;5;241m=\u001b[39m \u001b[38;5;28mself\u001b[39m\u001b[38;5;241m.\u001b[39mrate_limited_get(\n\u001b[0;32m    480\u001b[0m         \u001b[38;5;28mself\u001b[39m\u001b[38;5;241m.\u001b[39murl,\n\u001b[0;32m    481\u001b[0m         params\u001b[38;5;241m=\u001b[39m\u001b[38;5;28mself\u001b[39m\u001b[38;5;241m.\u001b[39mparams,\n\u001b[0;32m    482\u001b[0m         headers\u001b[38;5;241m=\u001b[39m\u001b[38;5;28mself\u001b[39m\u001b[38;5;241m.\u001b[39mheaders,\n\u001b[0;32m    483\u001b[0m         timeout\u001b[38;5;241m=\u001b[39m\u001b[38;5;28mself\u001b[39m\u001b[38;5;241m.\u001b[39mtimeout,\n\u001b[0;32m    484\u001b[0m         proxies\u001b[38;5;241m=\u001b[39m\u001b[38;5;28mself\u001b[39m\u001b[38;5;241m.\u001b[39mproxies\n\u001b[0;32m    485\u001b[0m     )\n\u001b[0;32m    487\u001b[0m     \u001b[38;5;66;03m# check that response is ok\u001b[39;00m\n\u001b[0;32m    488\u001b[0m     \u001b[38;5;28mself\u001b[39m\u001b[38;5;241m.\u001b[39mstatus_code \u001b[38;5;241m=\u001b[39m response\u001b[38;5;241m.\u001b[39mstatus_code\n",
      "File \u001b[1;32mc:\\Users\\Ksell\\anaconda3\\Lib\\site-packages\\geocoder\\base.py:510\u001b[0m, in \u001b[0;36mMultipleResultsQuery.rate_limited_get\u001b[1;34m(self, url, **kwargs)\u001b[0m\n\u001b[0;32m    508\u001b[0m \u001b[38;5;28;01mdef\u001b[39;00m \u001b[38;5;21mrate_limited_get\u001b[39m(\u001b[38;5;28mself\u001b[39m, url, \u001b[38;5;241m*\u001b[39m\u001b[38;5;241m*\u001b[39mkwargs):\n\u001b[0;32m    509\u001b[0m \u001b[38;5;250m    \u001b[39m\u001b[38;5;124;03m\"\"\" By default, simply wraps a session.get request\"\"\"\u001b[39;00m\n\u001b[1;32m--> 510\u001b[0m     \u001b[38;5;28;01mreturn\u001b[39;00m \u001b[38;5;28mself\u001b[39m\u001b[38;5;241m.\u001b[39msession\u001b[38;5;241m.\u001b[39mget(url, \u001b[38;5;241m*\u001b[39m\u001b[38;5;241m*\u001b[39mkwargs)\n",
      "File \u001b[1;32mc:\\Users\\Ksell\\anaconda3\\Lib\\site-packages\\requests\\sessions.py:600\u001b[0m, in \u001b[0;36mSession.get\u001b[1;34m(self, url, **kwargs)\u001b[0m\n\u001b[0;32m    592\u001b[0m \u001b[38;5;250m\u001b[39m\u001b[38;5;124mr\u001b[39m\u001b[38;5;124;03m\"\"\"Sends a GET request. Returns :class:`Response` object.\u001b[39;00m\n\u001b[0;32m    593\u001b[0m \n\u001b[0;32m    594\u001b[0m \u001b[38;5;124;03m:param url: URL for the new :class:`Request` object.\u001b[39;00m\n\u001b[0;32m    595\u001b[0m \u001b[38;5;124;03m:param \\*\\*kwargs: Optional arguments that ``request`` takes.\u001b[39;00m\n\u001b[0;32m    596\u001b[0m \u001b[38;5;124;03m:rtype: requests.Response\u001b[39;00m\n\u001b[0;32m    597\u001b[0m \u001b[38;5;124;03m\"\"\"\u001b[39;00m\n\u001b[0;32m    599\u001b[0m kwargs\u001b[38;5;241m.\u001b[39msetdefault(\u001b[38;5;124m\"\u001b[39m\u001b[38;5;124mallow_redirects\u001b[39m\u001b[38;5;124m\"\u001b[39m, \u001b[38;5;28;01mTrue\u001b[39;00m)\n\u001b[1;32m--> 600\u001b[0m \u001b[38;5;28;01mreturn\u001b[39;00m \u001b[38;5;28mself\u001b[39m\u001b[38;5;241m.\u001b[39mrequest(\u001b[38;5;124m\"\u001b[39m\u001b[38;5;124mGET\u001b[39m\u001b[38;5;124m\"\u001b[39m, url, \u001b[38;5;241m*\u001b[39m\u001b[38;5;241m*\u001b[39mkwargs)\n",
      "File \u001b[1;32mc:\\Users\\Ksell\\anaconda3\\Lib\\site-packages\\requests\\sessions.py:587\u001b[0m, in \u001b[0;36mSession.request\u001b[1;34m(self, method, url, params, data, headers, cookies, files, auth, timeout, allow_redirects, proxies, hooks, stream, verify, cert, json)\u001b[0m\n\u001b[0;32m    582\u001b[0m send_kwargs \u001b[38;5;241m=\u001b[39m {\n\u001b[0;32m    583\u001b[0m     \u001b[38;5;124m\"\u001b[39m\u001b[38;5;124mtimeout\u001b[39m\u001b[38;5;124m\"\u001b[39m: timeout,\n\u001b[0;32m    584\u001b[0m     \u001b[38;5;124m\"\u001b[39m\u001b[38;5;124mallow_redirects\u001b[39m\u001b[38;5;124m\"\u001b[39m: allow_redirects,\n\u001b[0;32m    585\u001b[0m }\n\u001b[0;32m    586\u001b[0m send_kwargs\u001b[38;5;241m.\u001b[39mupdate(settings)\n\u001b[1;32m--> 587\u001b[0m resp \u001b[38;5;241m=\u001b[39m \u001b[38;5;28mself\u001b[39m\u001b[38;5;241m.\u001b[39msend(prep, \u001b[38;5;241m*\u001b[39m\u001b[38;5;241m*\u001b[39msend_kwargs)\n\u001b[0;32m    589\u001b[0m \u001b[38;5;28;01mreturn\u001b[39;00m resp\n",
      "File \u001b[1;32mc:\\Users\\Ksell\\anaconda3\\Lib\\site-packages\\requests\\sessions.py:701\u001b[0m, in \u001b[0;36mSession.send\u001b[1;34m(self, request, **kwargs)\u001b[0m\n\u001b[0;32m    698\u001b[0m start \u001b[38;5;241m=\u001b[39m preferred_clock()\n\u001b[0;32m    700\u001b[0m \u001b[38;5;66;03m# Send the request\u001b[39;00m\n\u001b[1;32m--> 701\u001b[0m r \u001b[38;5;241m=\u001b[39m adapter\u001b[38;5;241m.\u001b[39msend(request, \u001b[38;5;241m*\u001b[39m\u001b[38;5;241m*\u001b[39mkwargs)\n\u001b[0;32m    703\u001b[0m \u001b[38;5;66;03m# Total elapsed time of the request (approximately)\u001b[39;00m\n\u001b[0;32m    704\u001b[0m elapsed \u001b[38;5;241m=\u001b[39m preferred_clock() \u001b[38;5;241m-\u001b[39m start\n",
      "File \u001b[1;32mc:\\Users\\Ksell\\anaconda3\\Lib\\site-packages\\requests\\adapters.py:487\u001b[0m, in \u001b[0;36mHTTPAdapter.send\u001b[1;34m(self, request, stream, timeout, verify, cert, proxies)\u001b[0m\n\u001b[0;32m    484\u001b[0m     timeout \u001b[38;5;241m=\u001b[39m TimeoutSauce(connect\u001b[38;5;241m=\u001b[39mtimeout, read\u001b[38;5;241m=\u001b[39mtimeout)\n\u001b[0;32m    486\u001b[0m \u001b[38;5;28;01mtry\u001b[39;00m:\n\u001b[1;32m--> 487\u001b[0m     resp \u001b[38;5;241m=\u001b[39m conn\u001b[38;5;241m.\u001b[39murlopen(\n\u001b[0;32m    488\u001b[0m         method\u001b[38;5;241m=\u001b[39mrequest\u001b[38;5;241m.\u001b[39mmethod,\n\u001b[0;32m    489\u001b[0m         url\u001b[38;5;241m=\u001b[39murl,\n\u001b[0;32m    490\u001b[0m         body\u001b[38;5;241m=\u001b[39mrequest\u001b[38;5;241m.\u001b[39mbody,\n\u001b[0;32m    491\u001b[0m         headers\u001b[38;5;241m=\u001b[39mrequest\u001b[38;5;241m.\u001b[39mheaders,\n\u001b[0;32m    492\u001b[0m         redirect\u001b[38;5;241m=\u001b[39m\u001b[38;5;28;01mFalse\u001b[39;00m,\n\u001b[0;32m    493\u001b[0m         assert_same_host\u001b[38;5;241m=\u001b[39m\u001b[38;5;28;01mFalse\u001b[39;00m,\n\u001b[0;32m    494\u001b[0m         preload_content\u001b[38;5;241m=\u001b[39m\u001b[38;5;28;01mFalse\u001b[39;00m,\n\u001b[0;32m    495\u001b[0m         decode_content\u001b[38;5;241m=\u001b[39m\u001b[38;5;28;01mFalse\u001b[39;00m,\n\u001b[0;32m    496\u001b[0m         retries\u001b[38;5;241m=\u001b[39m\u001b[38;5;28mself\u001b[39m\u001b[38;5;241m.\u001b[39mmax_retries,\n\u001b[0;32m    497\u001b[0m         timeout\u001b[38;5;241m=\u001b[39mtimeout,\n\u001b[0;32m    498\u001b[0m         chunked\u001b[38;5;241m=\u001b[39mchunked,\n\u001b[0;32m    499\u001b[0m     )\n\u001b[0;32m    501\u001b[0m \u001b[38;5;28;01mexcept\u001b[39;00m (ProtocolError, \u001b[38;5;167;01mOSError\u001b[39;00m) \u001b[38;5;28;01mas\u001b[39;00m err:\n\u001b[0;32m    502\u001b[0m     \u001b[38;5;28;01mraise\u001b[39;00m \u001b[38;5;167;01mConnectionError\u001b[39;00m(err, request\u001b[38;5;241m=\u001b[39mrequest)\n",
      "File \u001b[1;32mc:\\Users\\Ksell\\anaconda3\\Lib\\site-packages\\urllib3\\connectionpool.py:714\u001b[0m, in \u001b[0;36mHTTPConnectionPool.urlopen\u001b[1;34m(self, method, url, body, headers, retries, redirect, assert_same_host, timeout, pool_timeout, release_conn, chunked, body_pos, **response_kw)\u001b[0m\n\u001b[0;32m    711\u001b[0m     \u001b[38;5;28mself\u001b[39m\u001b[38;5;241m.\u001b[39m_prepare_proxy(conn)\n\u001b[0;32m    713\u001b[0m \u001b[38;5;66;03m# Make the request on the httplib connection object.\u001b[39;00m\n\u001b[1;32m--> 714\u001b[0m httplib_response \u001b[38;5;241m=\u001b[39m \u001b[38;5;28mself\u001b[39m\u001b[38;5;241m.\u001b[39m_make_request(\n\u001b[0;32m    715\u001b[0m     conn,\n\u001b[0;32m    716\u001b[0m     method,\n\u001b[0;32m    717\u001b[0m     url,\n\u001b[0;32m    718\u001b[0m     timeout\u001b[38;5;241m=\u001b[39mtimeout_obj,\n\u001b[0;32m    719\u001b[0m     body\u001b[38;5;241m=\u001b[39mbody,\n\u001b[0;32m    720\u001b[0m     headers\u001b[38;5;241m=\u001b[39mheaders,\n\u001b[0;32m    721\u001b[0m     chunked\u001b[38;5;241m=\u001b[39mchunked,\n\u001b[0;32m    722\u001b[0m )\n\u001b[0;32m    724\u001b[0m \u001b[38;5;66;03m# If we're going to release the connection in ``finally:``, then\u001b[39;00m\n\u001b[0;32m    725\u001b[0m \u001b[38;5;66;03m# the response doesn't need to know about the connection. Otherwise\u001b[39;00m\n\u001b[0;32m    726\u001b[0m \u001b[38;5;66;03m# it will also try to release it and we'll have a double-release\u001b[39;00m\n\u001b[0;32m    727\u001b[0m \u001b[38;5;66;03m# mess.\u001b[39;00m\n\u001b[0;32m    728\u001b[0m response_conn \u001b[38;5;241m=\u001b[39m conn \u001b[38;5;28;01mif\u001b[39;00m \u001b[38;5;129;01mnot\u001b[39;00m release_conn \u001b[38;5;28;01melse\u001b[39;00m \u001b[38;5;28;01mNone\u001b[39;00m\n",
      "File \u001b[1;32mc:\\Users\\Ksell\\anaconda3\\Lib\\site-packages\\urllib3\\connectionpool.py:466\u001b[0m, in \u001b[0;36mHTTPConnectionPool._make_request\u001b[1;34m(self, conn, method, url, timeout, chunked, **httplib_request_kw)\u001b[0m\n\u001b[0;32m    461\u001b[0m             httplib_response \u001b[38;5;241m=\u001b[39m conn\u001b[38;5;241m.\u001b[39mgetresponse()\n\u001b[0;32m    462\u001b[0m         \u001b[38;5;28;01mexcept\u001b[39;00m \u001b[38;5;167;01mBaseException\u001b[39;00m \u001b[38;5;28;01mas\u001b[39;00m e:\n\u001b[0;32m    463\u001b[0m             \u001b[38;5;66;03m# Remove the TypeError from the exception chain in\u001b[39;00m\n\u001b[0;32m    464\u001b[0m             \u001b[38;5;66;03m# Python 3 (including for exceptions like SystemExit).\u001b[39;00m\n\u001b[0;32m    465\u001b[0m             \u001b[38;5;66;03m# Otherwise it looks like a bug in the code.\u001b[39;00m\n\u001b[1;32m--> 466\u001b[0m             six\u001b[38;5;241m.\u001b[39mraise_from(e, \u001b[38;5;28;01mNone\u001b[39;00m)\n\u001b[0;32m    467\u001b[0m \u001b[38;5;28;01mexcept\u001b[39;00m (SocketTimeout, BaseSSLError, SocketError) \u001b[38;5;28;01mas\u001b[39;00m e:\n\u001b[0;32m    468\u001b[0m     \u001b[38;5;28mself\u001b[39m\u001b[38;5;241m.\u001b[39m_raise_timeout(err\u001b[38;5;241m=\u001b[39me, url\u001b[38;5;241m=\u001b[39murl, timeout_value\u001b[38;5;241m=\u001b[39mread_timeout)\n",
      "File \u001b[1;32m<string>:3\u001b[0m, in \u001b[0;36mraise_from\u001b[1;34m(value, from_value)\u001b[0m\n",
      "File \u001b[1;32mc:\\Users\\Ksell\\anaconda3\\Lib\\site-packages\\urllib3\\connectionpool.py:461\u001b[0m, in \u001b[0;36mHTTPConnectionPool._make_request\u001b[1;34m(self, conn, method, url, timeout, chunked, **httplib_request_kw)\u001b[0m\n\u001b[0;32m    458\u001b[0m \u001b[38;5;28;01mexcept\u001b[39;00m \u001b[38;5;167;01mTypeError\u001b[39;00m:\n\u001b[0;32m    459\u001b[0m     \u001b[38;5;66;03m# Python 3\u001b[39;00m\n\u001b[0;32m    460\u001b[0m     \u001b[38;5;28;01mtry\u001b[39;00m:\n\u001b[1;32m--> 461\u001b[0m         httplib_response \u001b[38;5;241m=\u001b[39m conn\u001b[38;5;241m.\u001b[39mgetresponse()\n\u001b[0;32m    462\u001b[0m     \u001b[38;5;28;01mexcept\u001b[39;00m \u001b[38;5;167;01mBaseException\u001b[39;00m \u001b[38;5;28;01mas\u001b[39;00m e:\n\u001b[0;32m    463\u001b[0m         \u001b[38;5;66;03m# Remove the TypeError from the exception chain in\u001b[39;00m\n\u001b[0;32m    464\u001b[0m         \u001b[38;5;66;03m# Python 3 (including for exceptions like SystemExit).\u001b[39;00m\n\u001b[0;32m    465\u001b[0m         \u001b[38;5;66;03m# Otherwise it looks like a bug in the code.\u001b[39;00m\n\u001b[0;32m    466\u001b[0m         six\u001b[38;5;241m.\u001b[39mraise_from(e, \u001b[38;5;28;01mNone\u001b[39;00m)\n",
      "File \u001b[1;32mc:\\Users\\Ksell\\anaconda3\\Lib\\http\\client.py:1375\u001b[0m, in \u001b[0;36mHTTPConnection.getresponse\u001b[1;34m(self)\u001b[0m\n\u001b[0;32m   1373\u001b[0m \u001b[38;5;28;01mtry\u001b[39;00m:\n\u001b[0;32m   1374\u001b[0m     \u001b[38;5;28;01mtry\u001b[39;00m:\n\u001b[1;32m-> 1375\u001b[0m         response\u001b[38;5;241m.\u001b[39mbegin()\n\u001b[0;32m   1376\u001b[0m     \u001b[38;5;28;01mexcept\u001b[39;00m \u001b[38;5;167;01mConnectionError\u001b[39;00m:\n\u001b[0;32m   1377\u001b[0m         \u001b[38;5;28mself\u001b[39m\u001b[38;5;241m.\u001b[39mclose()\n",
      "File \u001b[1;32mc:\\Users\\Ksell\\anaconda3\\Lib\\http\\client.py:318\u001b[0m, in \u001b[0;36mHTTPResponse.begin\u001b[1;34m(self)\u001b[0m\n\u001b[0;32m    316\u001b[0m \u001b[38;5;66;03m# read until we get a non-100 response\u001b[39;00m\n\u001b[0;32m    317\u001b[0m \u001b[38;5;28;01mwhile\u001b[39;00m \u001b[38;5;28;01mTrue\u001b[39;00m:\n\u001b[1;32m--> 318\u001b[0m     version, status, reason \u001b[38;5;241m=\u001b[39m \u001b[38;5;28mself\u001b[39m\u001b[38;5;241m.\u001b[39m_read_status()\n\u001b[0;32m    319\u001b[0m     \u001b[38;5;28;01mif\u001b[39;00m status \u001b[38;5;241m!=\u001b[39m CONTINUE:\n\u001b[0;32m    320\u001b[0m         \u001b[38;5;28;01mbreak\u001b[39;00m\n",
      "File \u001b[1;32mc:\\Users\\Ksell\\anaconda3\\Lib\\http\\client.py:279\u001b[0m, in \u001b[0;36mHTTPResponse._read_status\u001b[1;34m(self)\u001b[0m\n\u001b[0;32m    278\u001b[0m \u001b[38;5;28;01mdef\u001b[39;00m \u001b[38;5;21m_read_status\u001b[39m(\u001b[38;5;28mself\u001b[39m):\n\u001b[1;32m--> 279\u001b[0m     line \u001b[38;5;241m=\u001b[39m \u001b[38;5;28mstr\u001b[39m(\u001b[38;5;28mself\u001b[39m\u001b[38;5;241m.\u001b[39mfp\u001b[38;5;241m.\u001b[39mreadline(_MAXLINE \u001b[38;5;241m+\u001b[39m \u001b[38;5;241m1\u001b[39m), \u001b[38;5;124m\"\u001b[39m\u001b[38;5;124miso-8859-1\u001b[39m\u001b[38;5;124m\"\u001b[39m)\n\u001b[0;32m    280\u001b[0m     \u001b[38;5;28;01mif\u001b[39;00m \u001b[38;5;28mlen\u001b[39m(line) \u001b[38;5;241m>\u001b[39m _MAXLINE:\n\u001b[0;32m    281\u001b[0m         \u001b[38;5;28;01mraise\u001b[39;00m LineTooLong(\u001b[38;5;124m\"\u001b[39m\u001b[38;5;124mstatus line\u001b[39m\u001b[38;5;124m\"\u001b[39m)\n",
      "File \u001b[1;32mc:\\Users\\Ksell\\anaconda3\\Lib\\socket.py:706\u001b[0m, in \u001b[0;36mSocketIO.readinto\u001b[1;34m(self, b)\u001b[0m\n\u001b[0;32m    704\u001b[0m \u001b[38;5;28;01mwhile\u001b[39;00m \u001b[38;5;28;01mTrue\u001b[39;00m:\n\u001b[0;32m    705\u001b[0m     \u001b[38;5;28;01mtry\u001b[39;00m:\n\u001b[1;32m--> 706\u001b[0m         \u001b[38;5;28;01mreturn\u001b[39;00m \u001b[38;5;28mself\u001b[39m\u001b[38;5;241m.\u001b[39m_sock\u001b[38;5;241m.\u001b[39mrecv_into(b)\n\u001b[0;32m    707\u001b[0m     \u001b[38;5;28;01mexcept\u001b[39;00m timeout:\n\u001b[0;32m    708\u001b[0m         \u001b[38;5;28mself\u001b[39m\u001b[38;5;241m.\u001b[39m_timeout_occurred \u001b[38;5;241m=\u001b[39m \u001b[38;5;28;01mTrue\u001b[39;00m\n",
      "File \u001b[1;32mc:\\Users\\Ksell\\anaconda3\\Lib\\ssl.py:1278\u001b[0m, in \u001b[0;36mSSLSocket.recv_into\u001b[1;34m(self, buffer, nbytes, flags)\u001b[0m\n\u001b[0;32m   1274\u001b[0m     \u001b[38;5;28;01mif\u001b[39;00m flags \u001b[38;5;241m!=\u001b[39m \u001b[38;5;241m0\u001b[39m:\n\u001b[0;32m   1275\u001b[0m         \u001b[38;5;28;01mraise\u001b[39;00m \u001b[38;5;167;01mValueError\u001b[39;00m(\n\u001b[0;32m   1276\u001b[0m           \u001b[38;5;124m\"\u001b[39m\u001b[38;5;124mnon-zero flags not allowed in calls to recv_into() on \u001b[39m\u001b[38;5;132;01m%s\u001b[39;00m\u001b[38;5;124m\"\u001b[39m \u001b[38;5;241m%\u001b[39m\n\u001b[0;32m   1277\u001b[0m           \u001b[38;5;28mself\u001b[39m\u001b[38;5;241m.\u001b[39m\u001b[38;5;18m__class__\u001b[39m)\n\u001b[1;32m-> 1278\u001b[0m     \u001b[38;5;28;01mreturn\u001b[39;00m \u001b[38;5;28mself\u001b[39m\u001b[38;5;241m.\u001b[39mread(nbytes, buffer)\n\u001b[0;32m   1279\u001b[0m \u001b[38;5;28;01melse\u001b[39;00m:\n\u001b[0;32m   1280\u001b[0m     \u001b[38;5;28;01mreturn\u001b[39;00m \u001b[38;5;28msuper\u001b[39m()\u001b[38;5;241m.\u001b[39mrecv_into(buffer, nbytes, flags)\n",
      "File \u001b[1;32mc:\\Users\\Ksell\\anaconda3\\Lib\\ssl.py:1134\u001b[0m, in \u001b[0;36mSSLSocket.read\u001b[1;34m(self, len, buffer)\u001b[0m\n\u001b[0;32m   1132\u001b[0m \u001b[38;5;28;01mtry\u001b[39;00m:\n\u001b[0;32m   1133\u001b[0m     \u001b[38;5;28;01mif\u001b[39;00m buffer \u001b[38;5;129;01mis\u001b[39;00m \u001b[38;5;129;01mnot\u001b[39;00m \u001b[38;5;28;01mNone\u001b[39;00m:\n\u001b[1;32m-> 1134\u001b[0m         \u001b[38;5;28;01mreturn\u001b[39;00m \u001b[38;5;28mself\u001b[39m\u001b[38;5;241m.\u001b[39m_sslobj\u001b[38;5;241m.\u001b[39mread(\u001b[38;5;28mlen\u001b[39m, buffer)\n\u001b[0;32m   1135\u001b[0m     \u001b[38;5;28;01melse\u001b[39;00m:\n\u001b[0;32m   1136\u001b[0m         \u001b[38;5;28;01mreturn\u001b[39;00m \u001b[38;5;28mself\u001b[39m\u001b[38;5;241m.\u001b[39m_sslobj\u001b[38;5;241m.\u001b[39mread(\u001b[38;5;28mlen\u001b[39m)\n",
      "\u001b[1;31mKeyboardInterrupt\u001b[0m: "
     ]
    }
   ],
   "source": [
    "# mapping packages\n",
    "from geopy.geocoders import Nominatim\n",
    "from tqdm import tqdm\n",
    "import re\n",
    "import socket\n",
    "import time\n",
    "from ip2geotools.databases.noncommercial import DbIpCity\n",
    "import idna\n",
    "\n",
    "# Function to get the details of the IP address including city, country, coordinates, etc.\n",
    "def get_details(ip):\n",
    "    res = DbIpCity.get(ip, api_key=\"free\")\n",
    "    return {\n",
    "        \"IP Address\": res.ip_address,\n",
    "        \"City\": res.city,\n",
    "        \"Region\": res.region,\n",
    "        \"Country\": res.country,\n",
    "        \"latitude\": res.latitude, # we will get errors for latitude and longitude; this is resolved in the next step\n",
    "        \"longitude\": res.longitude\n",
    "    }\n",
    "\n",
    "# Function to process a list of URLs and save the results into a DataFrame\n",
    "def process_urls(urls):\n",
    "    data = []\n",
    "    for url in urls:\n",
    "        try:\n",
    "            domain = url.split('//')[-1].split('/')[0]\n",
    "            ip_add = socket.gethostbyname(domain)\n",
    "            details = get_details(ip_add)\n",
    "            details[\"URL\"] = url\n",
    "            data.append(details)\n",
    "            time.sleep(1)  # Add delay to prevent rate limiting\n",
    "        except socket.gaierror:\n",
    "            print(f\"Could not resolve {url}: DNS resolution failed\")\n",
    "        except idna.core.IDNAError as e:\n",
    "            print(f\"Could not process {url}: {e}\")\n",
    "        except Exception as e:\n",
    "            print(f\"Could not process {url}: {e}\")\n",
    "\n",
    "    df = pd.DataFrame(data)\n",
    "    return df\n",
    "\n",
    "# List of URLs to process\n",
    "urls_repackaged = final_data_repackaged['url']\n",
    "urls_repackaged = list(set(urls_repackaged)) # remove duplicate urls\n",
    "\n",
    "# Process each URL and save the results into a DataFrame\n",
    "map_df_repackaged = process_urls(urls_repackaged)\n",
    "print(map_df_repackaged)"
   ]
  },
  {
   "cell_type": "code",
   "execution_count": null,
   "metadata": {},
   "outputs": [],
   "source": [
    "map_df_repackaged['City'] = map_df_repackaged['City'].apply(lambda x: re.sub(r'\\(.*?\\)', '', x).strip()) # removing data in parenthesis for city so we can get lat and long\n",
    "\n",
    "# Initialize the geolocator\n",
    "geolocator = Nominatim(user_agent=\"capstone_data_pull2\")\n",
    "\n",
    "# Function to get latitude and longitude\n",
    "def get_lat_long(city, region, country):\n",
    "    location = geolocator.geocode(f\"{city}, {region}, {country}\", timeout=10)\n",
    "    if location:\n",
    "        return location.latitude, location.longitude\n",
    "    else:\n",
    "        return None, None\n",
    "\n",
    "for index, row in tqdm(map_df_repackaged.iterrows(), total=map_df_repackaged.shape[0]):\n",
    "    latitude, longitude = get_lat_long(row['City'], row['Region'], row['Country'])\n",
    "    map_df_repackaged.at[index, 'latitude'] = latitude\n",
    "    map_df_repackaged.at[index, 'longitude'] = longitude"
   ]
  },
  {
   "cell_type": "code",
   "execution_count": null,
   "metadata": {},
   "outputs": [],
   "source": [
    "# Renaming the column\n",
    "map_df_repackaged.rename(columns={'URL': 'url'}, inplace=True)\n",
    "\n",
    "# Merge the DataFrames on the 'URL' column\n",
    "map_df_repackaged_merged = pd.merge(map_df_repackaged, final_data_repackaged, on='url', how='inner')\n",
    "map_df_repackaged_merged"
   ]
  },
  {
   "cell_type": "code",
   "execution_count": null,
   "metadata": {},
   "outputs": [
    {
     "data": {
      "application/vnd.plotly.v1+json": {
       "config": {
        "plotlyServerURL": "https://plot.ly"
       },
       "data": [
        {
         "hoverinfo": "text",
         "lat": [
          25.7741728,
          47.6038321,
          34.0536909,
          42.3656347,
          47.6038321,
          37.7792588,
          37.7792588,
          37.7792588,
          39.030019100000004,
          39.030019100000004,
          34.0536909,
          25.7741728,
          33.7085883,
          39.030019100000004,
          41.4996574,
          33.4255117,
          47.6038321,
          37.7792588,
          42.3554334,
          25.7741728,
          39.030019100000004,
          40.7899291,
          52.5103817,
          25.7741728,
          43.6534817,
          34.0536909,
          42.8867166,
          39.100105,
          43.4652699,
          43.6534817,
          39.030019100000004,
          43.6534817,
          45.5616075,
          33.7085883,
          37.7792588,
          25.7741728,
          40.8174216,
          38.951883,
          37.3893889,
          41.4996574,
          32.9481789,
          43.6534817,
          41.4996574,
          40.7127281,
          33.7489924,
          43.6534817,
          25.7741728,
          25.7741728,
          37.3893889,
          34.0536909,
          39.030019100000004,
          25.7741728,
          39.030019100000004,
          39.030019100000004,
          25.7741728,
          43.6534817,
          39.030019100000004,
          34.0536909,
          39.030019100000004,
          25.7741728,
          40.7127281,
          43.6534817,
          25.7741728,
          42.7338254,
          33.9170444,
          41.4996574,
          38.9583737,
          43.6534817,
          37.3893889,
          41.8755616,
          45.5616075,
          43.6534817,
          41.4996574,
          25.7741728,
          42.098698,
          39.030019100000004,
          43.6534817,
          25.7741728,
          39.030019100000004,
          29.7589382,
          45.5616075,
          43.6534817,
          37.8044557,
          25.7741728,
          43.6534817,
          45.5202471,
          37.7792588,
          43.6534817,
          37.7792588,
          25.7741728,
          43.6534817,
          25.7741728,
          25.7741728,
          42.098698,
          34.0536909,
          37.8044557,
          43.6534817,
          34.0536909,
          40.8042674,
          47.6038321,
          37.8044557,
          33.7085883,
          40.7127281,
          33.7085883,
          40.7127281,
          54.42340085,
          39.030019100000004,
          43.6534817,
          40.2663107,
          37.3541132,
          33.7085883,
          39.030019100000004,
          37.8044557,
          33.7489924,
          33.4255117,
          40.7127281,
          33.7939953,
          37.7792588,
          40.2663107,
          47.6038321,
          33.7939953,
          42.7338254,
          40.8042674,
          40.7127281,
          38.8950368,
          37.3893889
         ],
         "lon": [
          -80.19362,
          -122.330062,
          -118.242766,
          -71.1040018,
          -122.330062,
          -122.4193286,
          -122.4193286,
          -122.4193286,
          -77.46964646557657,
          -77.46964646557657,
          -118.242766,
          -80.19362,
          -117.7926096,
          -77.46964646557657,
          -81.6936772,
          -111.940016,
          -122.330062,
          -122.4193286,
          -71.060511,
          -80.19362,
          -77.46964646557657,
          -74.0566735,
          13.4349112,
          -80.19362,
          -79.3839347,
          -118.242766,
          -78.8783922,
          -94.5781416,
          -80.5222961,
          -79.3839347,
          -77.46964646557657,
          -79.3839347,
          -94.1642004,
          -117.7926096,
          -122.4193286,
          -80.19362,
          -74.3954057,
          -92.3337366,
          -122.0832101,
          -81.6936772,
          -96.7297206,
          -79.3839347,
          -81.6936772,
          -74.0060152,
          -84.3902644,
          -79.3839347,
          -80.19362,
          -80.19362,
          -122.0832101,
          -118.242766,
          -77.46964646557657,
          -80.19362,
          -77.46964646557657,
          -77.46964646557657,
          -80.19362,
          -79.3839347,
          -77.46964646557657,
          -118.242766,
          -77.46964646557657,
          -80.19362,
          -74.0060152,
          -79.3839347,
          -80.19362,
          -84.5546295,
          -117.888855,
          -81.6936772,
          -77.3579805,
          -79.3839347,
          -122.0832101,
          -87.6244212,
          -94.1642004,
          -79.3839347,
          -81.6936772,
          -80.19362,
          -75.9125187,
          -77.46964646557657,
          -79.3839347,
          -80.19362,
          -77.46964646557657,
          -95.3676974,
          -94.1642004,
          -79.3839347,
          -122.271356,
          -80.19362,
          -79.3839347,
          -122.674194,
          -122.4193286,
          -79.3839347,
          -122.4193286,
          -80.19362,
          -79.3839347,
          -80.19362,
          -80.19362,
          -75.9125187,
          -118.242766,
          -122.271356,
          -79.3839347,
          -118.242766,
          -74.012084,
          -122.330062,
          -122.271356,
          -117.7926096,
          -74.0060152,
          -117.7926096,
          -74.0060152,
          -3.425688623372903,
          -77.46964646557657,
          -79.3839347,
          -76.8861122,
          -121.955174,
          -117.7926096,
          -77.46964646557657,
          -122.271356,
          -84.3902644,
          -111.940016,
          -74.0060152,
          -84.6604899,
          -122.4193286,
          -76.8861122,
          -122.330062,
          -84.6604899,
          -84.5546295,
          -74.012084,
          -74.0060152,
          -77.0365427,
          -122.0832101
         ],
         "marker": {
          "color": [
           "blue",
           "red",
           "red",
           "lightgreen",
           "red",
           "blue",
           "red",
           "blue",
           "red",
           "red",
           "lightgreen",
           "lightgreen",
           "lightgreen",
           "red",
           "red",
           "blue",
           "blue",
           "lightgreen",
           "red",
           "blue",
           "red",
           "red",
           "lightgreen",
           "blue",
           "red",
           "red",
           "lightgreen",
           "lightgreen",
           "lightgreen",
           "lightgreen",
           "red",
           "red",
           "red",
           "blue",
           "red",
           "lightgreen",
           "lightgreen",
           "red",
           "lightgreen",
           "red",
           "red",
           "red",
           "red",
           "red",
           "lightgreen",
           "lightgreen",
           "red",
           "lightgreen",
           "lightgreen",
           "lightgreen",
           "red",
           "lightgreen",
           "red",
           "lightgreen",
           "red",
           "red",
           "red",
           "lightgreen",
           "red",
           "blue",
           "red",
           "blue",
           "blue",
           "red",
           "lightgreen",
           "red",
           "lightgreen",
           "red",
           "lightgreen",
           "lightgreen",
           "red",
           "red",
           "red",
           "blue",
           "blue",
           "red",
           "red",
           "red",
           "red",
           "red",
           "red",
           "red",
           "red",
           "blue",
           "purple",
           "lightgreen",
           "lightgreen",
           "lightgreen",
           "blue",
           "blue",
           "blue",
           "pink",
           "red",
           "blue",
           "red",
           "red",
           "red",
           "red",
           "blue",
           "red",
           "red",
           "blue",
           "red",
           "blue",
           "red",
           "lightgreen",
           "red",
           "red",
           "blue",
           "lightgreen",
           "blue",
           "blue",
           "lightgreen",
           "lightgreen",
           "blue",
           "red",
           "blue",
           "lightgreen",
           "blue",
           "red",
           "pink",
           "lightgreen",
           "blue",
           "red",
           "red",
           "lightgreen"
          ],
          "line": {
           "color": "black",
           "width": 1
          },
          "size": 10
         },
         "mode": "markers",
         "showlegend": false,
         "text": [
          "https://catalog.data.gov/dataset/tiger-line-shapefile-2019-county-guanica-municipio-pr-all-roads-county-based-shapefile",
          "https://www.camillaga.net/how_do_i/contact_us/index.php",
          "https://nick975.com/states-people-live-longest/",
          "https://www.komodohealth.com/perspectives/drug-snapshot-hem-onc",
          "https://reason.org/k12-ed-spending/k-12-education-spending-spotlight/?gclid=cjwkcajwvdajbhbeeiwaemh1uyduhci_z-lb1xg1b9o_xusmbbwd1lcfckpuglgt1wvnbiwhnur4rbocnrgqavd_bwe",
          "https://www.wikidata.org/wiki/q1546",
          "https://www.medfieldpubliclibrary.org/databases/",
          "https://ar.wikipedia.org/wiki/%d8%a8%d9%84%d8%af%d8%a9_%d8%a5%d9%8a%d8%b1%d8%a8%d9%84%d9%8a%d9%86_(%d9%85%d9%8a%d8%b4%d9%8a%d8%ba%d8%a7%d9%86)",
          "https://libguides.luc.edu/c.php?g=49661&p=320200",
          "https://oklahoma.gov/health/locations/county-health-departments/noble-county-health-department-draft/data-and-statistics.html",
          "https://kingfm.com/cheyenne-named-top-city-in-wyoming-to-get-a-job-in-2021/",
          "https://www.apr.org/science-health/2020-07-01/to-be-young-a-doctor-and-black-overcoming-racial-barriers-in-medical-training",
          "https://www.moneygeek.com/insurance/auto/why-is-your-car-insurance-so-expensive/florida/",
          "https://ocls.indwes.edu/tutorials/criminal-justice-political-science-websites",
          "https://hopewelltwp.com/documents/ordinance-o1961-7/",
          "http://www.tuscco.com/event/tuscaloosa-county-land-tax-sale/",
          "https://www.spencercountyky.gov/contacts/maps.php",
          "https://newsbusters.org/blogs/nb/tom-blumer/2015/11/03/ap-quickly-takes-story-awful-factory-orders-top-business-news-page?utm_source=akdart",
          "https://proagency.tripod.com/skp-co.html",
          "https://alfred.stlouisfed.org/series?seid=puaany36055a647ncen&utm_source=series_page&utm_medium=related_content&utm_term=related_resources&utm_campaign=alfred",
          "https://libguides.columbiasouthern.edu/c.php?g=377987&p=8638933",
          "https://sprawltag.com/promote-your-business-in-dfw/",
          "https://comecon.media/background/grammy-awards-u-s-census-bureau-publishes-industry-data/760/",
          "https://www.bts.gov/content/principal-means-transportation-work",
          "https://www.wakeforestnc.gov/file/10549",
          "https://espnsiouxfalls.com/two-south-dakota-counties-are-among-the-healthiest-in-america/",
          "https://www.hawaiifreepress.com/articles-main/id/22718/hawaii-2nd-worst-state-for-drivers",
          "https://www.byjoecapozzi.com/post/food-charity-relocating-weekly-lake-worth-beach-distribution-site-to-boynton-beach-mall",
          "https://economistmom.com/tag/shecession/",
          "https://crimeresearch.org/2024/01/updated-information-on-mass-public-shootings-from-1998-through-october-2023/",
          "https://libraryguides.nau.edu/c.php?g=1296183&p=9521124",
          "https://memberportal.keywestchamber.org/restaurants/duffy%27s-steak-and-lobster-house-3953",
          "https://fortscott.com/events/details/game-night-every-friday-at-the-museum-of-creativity-03-29-2024-21344",
          "https://www.incomebyzipcode.com/california/95222",
          "https://astoriapost.com/city-expands-list-of-queens-neighborhoods-prioritized-for-covid-19-vaccine-distribution",
          "https://www.nature.com/articles/s41893-020-00678-z?utm_source=natureasia&utm_medium=referral&utm_content=jp_content&utm_campaign=jjpn_1_rm01_jp_natsustain_article_2021&error=cookies_not_supported&code=b5cbd035-cacd-4092-9ed3-ad29d7fd515a",
          "http://li558-193.members.linode.com/index.php?threads/fixing-inequality-through-taxes.397225/page-27#post-1064921429",
          "https://careshq.org/keywords/congress/",
          "https://davidllorito.blogspot.com/2006/10/philippine-export-numbers.html",
          "https://hopewelltwp.com/documents/ordinance-o1999-3/",
          "https://orangecityiowa.com/places/category/tv-internet/",
          "https://web.keywestchamber.org/wedding-ceremonyreception-locations/hyatt-centric-key-west-resort-and-spa-3085",
          "https://hopewelltwp.com/documents/resolution-2012-07-beavercountyhazard/",
          "https://www.cuyahogacounty.gov/calendar?pagesize=24&it=current%20events&year_month=2024%2fapril%2c2024%2foctober%2c2024%2fjune",
          "https://www.randomacts.org/kindness-stories/random-acts-board-member-helps-feed-families-with-our-table-lawrence/",
          "https://migranttales.net/race-files-why-racist-is-such-a-powerful-word/",
          "https://fred.stlouisfed.org/series/smu06310845552410001sa",
          "https://www.kennedy.senate.gov/public/2023/3/kennedy-stop-and-frisk-is-constitutional-let-new-orleans-use-it-to-prevent-crime",
          "https://www.bauaw.org/2017/03/bauaw2003-bauaw-newsletter-thursday.html",
          "https://womiowensboro.com/bucees-now-open-in-richmond-kentucky/",
          "https://libguides.csun.edu/gis",
          "https://www.wxpr.org/2022-07-28/these-hurricane-flood-maps-reveal-the-climate-future-for-miami-nyc-and-d-c",
          "https://libguides.richmond.edu/c.php?g=1351186&p=10161190",
          "https://www.pineapplemoney.com/make-money/is-157000-a-good-salary",
          "https://www.wyomingpublicmedia.org/news/2021-07-27/report-single-mothers-bore-brunt-of-pandemic-anxieties",
          "https://openvpn.net/blog/vpn-app-for-iphone/",
          "https://libguides.twu.edu/c.php?g=270126&p=4375579",
          "https://97x.com/kansas-officials-catch-someone-fishing-with-a-9mm-handgun/",
          "https://lindenhall.libguides.com/c.php?g=775369&p=7341863",
          "https://catalog.data.gov/dataset/tiger-line-shapefile-2022-county-toa-alta-municipio-pr-topological-faces-area-hydrography-relat",
          "https://cuyahogacounty.gov/county-events/county-event-detail/2020/09/24/boards-and-commissions/technicaladvisorycommitteemeeting-_c2fbfb0a-d5d0-497b-98b1-eae8b5558b3d",
          "https://www.citytistics.com/city/soperton-georgia/",
          "https://catalog.data.gov/dataset/tiger-line-shapefile-2019-county-johnson-county-ks-area-hydrography-county-based-shapefile",
          "https://www.connetquotlibrary.org/digital/",
          "https://bldgblog.com/2015/01/the-electromagnetic-fortification-of-the-suburbs/",
          "https://hopewelltwp.com/documents/pa-child-abuse-clearance-form/",
          "https://positivechangepc.com/uncategorized/dominion-scana-merger-in-doubt-as-south-carolina-mulls-nixing-cost-recovery-for-summer-nuke-project/",
          "https://www.urban.org/features/ghosts-housing-discrimination-reach-beyond-redlining",
          "https://stuffblackpeopledontlike.blogspot.com/2017/07/not-joke-fear-of-black-violence-cancels.html?showcomment=1499164899773",
          "https://apartmentpropertyvaluation.com/cap-rate/idaho/",
          "https://chamber.hollywoodchamber.org/list/member/canada-florida-chamber-of-commerce-9885",
          "https://memberportal.keywestchamber.org/2021/night-club",
          "https://hopewelltwp.com/documents/resolution-r1999-129/",
          "https://catalog.data.gov/dataset/tiger-line-shapefile-2022-county-calhoun-county-ar-area-hydrography",
          "https://gobroomecounty.com/e911/fire-training-schedule",
          "https://guides.mclibrary.duke.edu/healthstatistics",
          "https://www.disasterloanadvisors.com/kentucky-eviction-tenant-rental-assistance-programs/",
          "https://www.caring.com/senior-living/memory-care-facilities/hawaii/honolulu-county",
          "https://www.chesapeakecommons.org/post/accessing-environmental-justice-datasets",
          "https://www.mdanderson.org/education-training/clinical-training/graduate-medical-education/residencies-fellowships/neuro-oncology.html",
          "https://fortscott.com/members/ql/housing-apartments-61",
          "https://memberportal.keywestchamber.org/v12/directory/public-utilities/keys-energy-services-364",
          "https://www.evolverealtynv.com/resources.html",
          "https://catalog.data.gov/dataset/tiger-line-shapefile-2019-county-dearborn-county-in-all-roads-county-based-shapefile",
          "https://censusreporter.org/topics/disability/",
          "https://soldbyde.com/your-home-equity-can-offset-affordability-challenges/",
          "https://www.hrw.org/news/2020/09/23/us-needs-address-economic-hardship-rights-impacts-covid-19",
          "https://www.spacecoastflmortgage.com/home-equity-can-be-a-game-changer-when-you-sell/",
          "https://www.wikidata.org/wiki/q578055",
          "https://catalog.data.gov/dataset/tiger-line-shapefile-2019-county-clinton-county-oh-address-range-feature-county-based",
          "https://www.laalmanac.com/population/po16ad.php",
          "https://www.bea.gov/news/2024/us-international-trade-goods-and-services-april-2024",
          "https://bmcpublichealth.biomedcentral.com/articles/10.1186/s12889-022-14149-x",
          "https://broomecountyny.gov/dpw/release/roadwork71723",
          "https://kffm.com/ixp/113/p/wine-pairing-dinner-the-seasons-yakima/",
          "https://www.keywestchamber.org/latest-community-news/key-to-business-premiers-on-yacht-rock-937-fm",
          "https://www.politifact.com/factchecks/2018/oct/02/d-cole-phelps/does-nc-have-5th-highest-health-insurance-premiums/",
          "https://929thebull.com/spill-the-beans-rumors-percolate-as-yakima-may-get-a-new-cafe/",
          "https://policescorecard.org/tx/police-department/bertram",
          "https://www.deltami.gov/residents/flooded_home_.php",
          "https://www.sanpete.com/sterling.html",
          "https://www.incomebyzipcode.com/california/95303",
          "https://cuyahogacounty.gov/calendar/event-detail/2011/08/17/boards-and-commissions/8-17-2011_aaad5ee8-befb-410c-9b48-01c2b96920d8",
          "https://www.incomebyzipcode.com/florida/32439",
          "https://cuyahogacounty.gov/county-events/county-event-detail/2024/05/23/consumer-affairs-calendar/in-the-neighborhood",
          "https://vaersanalysis.info/2021/09/10/vaers-summary-for-covid-19-vaccines-through-9-03-2021/",
          "https://www.votemadison.com/election-information/election-results",
          "https://web.oceansidechamber.com/external/wcpages/wcdirectory/results/listing.aspx?listingid=4217",
          "https://www.adamscountypa.gov/departments/commissioners/calendar/adams-county-annual-salary-board-meeting/adams-county-annual-salary-board-meeting",
          "https://investment.org/capital-gain-tax-rates/california/1031-exchange-fullerton-california/",
          "https://www.incomebyzipcode.com/alabama/35089",
          "https://catalog.data.gov/dataset/tiger-line-shapefile-2020-county-covington-city-va-all-roads",
          "https://www.oceansidechamber.com/oceanside-blog/from-refugee-to-a-businesswoman-an-american-success-story",
          "https://www.forbes.com/sites/michaelgoldstein/2022/12/08/why-do-women-like-to-travel-more-than-men/?sh=596558c6339b",
          "https://smokerisehoa.org/smoke-rise-census-data/",
          "https://cuyahogacounty.gov/department-of-development-old",
          "https://fred.stlouisfed.org/series/pua0t17mn27063a647ncen",
          "https://www.marketplace.org/2012/11/07/two-americas-election-map-divided-paycheck/",
          "https://www.adamscountypa.gov/municipalities/tyronetownship",
          "https://co.clarion.pa.us/newslist.php",
          "https://www.census.gov/construction/chars/definitions/index.html",
          "https://polaristradinggroup.com/trade-strategy-7-3-19/",
          "https://www.harriscountyga.gov/2020/page/4/",
          "https://wsbs.com/light-up-2022-deadline-reminder/",
          "https://hillcountryportal.com/sansabacounty.html",
          "https://daytonology.blogspot.com/2008/03/"
         ],
         "type": "scattergeo"
        },
        {
         "lat": [
          null
         ],
         "lon": [
          null
         ],
         "marker": {
          "color": "blue",
          "size": 10
         },
         "mode": "markers",
         "name": "Comprehensive County Data: Population, Income, and Government Resources",
         "type": "scattergeo"
        },
        {
         "lat": [
          null
         ],
         "lon": [
          null
         ],
         "marker": {
          "color": "purple",
          "size": 10
         },
         "mode": "markers",
         "name": "National Health and Demographic Survey: Insights Across Communities",
         "type": "scattergeo"
        },
        {
         "lat": [
          null
         ],
         "lon": [
          null
         ],
         "marker": {
          "color": "red",
          "size": 10
         },
         "mode": "markers",
         "name": "State and Community Health Services: Access and Resources",
         "type": "scattergeo"
        },
        {
         "lat": [
          null
         ],
         "lon": [
          null
         ],
         "marker": {
          "color": "pink",
          "size": 10
         },
         "mode": "markers",
         "name": "Housing Market Analysis: Prices, Values, and Statistics",
         "type": "scattergeo"
        },
        {
         "lat": [
          null
         ],
         "lon": [
          null
         ],
         "marker": {
          "color": "lightgreen",
          "size": 10
         },
         "mode": "markers",
         "name": "Annual Market Trends: Business, Family, and Economic Insights",
         "type": "scattergeo"
        },
        {
         "lat": [
          null
         ],
         "lon": [
          null
         ],
         "marker": {
          "color": "gray",
          "size": 10
         },
         "mode": "markers",
         "name": "Other",
         "type": "scattergeo"
        }
       ],
       "layout": {
        "geo": {
         "scope": "north america"
        },
        "legend": {
         "itemsizing": "constant",
         "title": {
          "text": "Topics"
         }
        },
        "template": {
         "data": {
          "bar": [
           {
            "error_x": {
             "color": "#2a3f5f"
            },
            "error_y": {
             "color": "#2a3f5f"
            },
            "marker": {
             "line": {
              "color": "#E5ECF6",
              "width": 0.5
             },
             "pattern": {
              "fillmode": "overlay",
              "size": 10,
              "solidity": 0.2
             }
            },
            "type": "bar"
           }
          ],
          "barpolar": [
           {
            "marker": {
             "line": {
              "color": "#E5ECF6",
              "width": 0.5
             },
             "pattern": {
              "fillmode": "overlay",
              "size": 10,
              "solidity": 0.2
             }
            },
            "type": "barpolar"
           }
          ],
          "carpet": [
           {
            "aaxis": {
             "endlinecolor": "#2a3f5f",
             "gridcolor": "white",
             "linecolor": "white",
             "minorgridcolor": "white",
             "startlinecolor": "#2a3f5f"
            },
            "baxis": {
             "endlinecolor": "#2a3f5f",
             "gridcolor": "white",
             "linecolor": "white",
             "minorgridcolor": "white",
             "startlinecolor": "#2a3f5f"
            },
            "type": "carpet"
           }
          ],
          "choropleth": [
           {
            "colorbar": {
             "outlinewidth": 0,
             "ticks": ""
            },
            "type": "choropleth"
           }
          ],
          "contour": [
           {
            "colorbar": {
             "outlinewidth": 0,
             "ticks": ""
            },
            "colorscale": [
             [
              0,
              "#0d0887"
             ],
             [
              0.1111111111111111,
              "#46039f"
             ],
             [
              0.2222222222222222,
              "#7201a8"
             ],
             [
              0.3333333333333333,
              "#9c179e"
             ],
             [
              0.4444444444444444,
              "#bd3786"
             ],
             [
              0.5555555555555556,
              "#d8576b"
             ],
             [
              0.6666666666666666,
              "#ed7953"
             ],
             [
              0.7777777777777778,
              "#fb9f3a"
             ],
             [
              0.8888888888888888,
              "#fdca26"
             ],
             [
              1,
              "#f0f921"
             ]
            ],
            "type": "contour"
           }
          ],
          "contourcarpet": [
           {
            "colorbar": {
             "outlinewidth": 0,
             "ticks": ""
            },
            "type": "contourcarpet"
           }
          ],
          "heatmap": [
           {
            "colorbar": {
             "outlinewidth": 0,
             "ticks": ""
            },
            "colorscale": [
             [
              0,
              "#0d0887"
             ],
             [
              0.1111111111111111,
              "#46039f"
             ],
             [
              0.2222222222222222,
              "#7201a8"
             ],
             [
              0.3333333333333333,
              "#9c179e"
             ],
             [
              0.4444444444444444,
              "#bd3786"
             ],
             [
              0.5555555555555556,
              "#d8576b"
             ],
             [
              0.6666666666666666,
              "#ed7953"
             ],
             [
              0.7777777777777778,
              "#fb9f3a"
             ],
             [
              0.8888888888888888,
              "#fdca26"
             ],
             [
              1,
              "#f0f921"
             ]
            ],
            "type": "heatmap"
           }
          ],
          "heatmapgl": [
           {
            "colorbar": {
             "outlinewidth": 0,
             "ticks": ""
            },
            "colorscale": [
             [
              0,
              "#0d0887"
             ],
             [
              0.1111111111111111,
              "#46039f"
             ],
             [
              0.2222222222222222,
              "#7201a8"
             ],
             [
              0.3333333333333333,
              "#9c179e"
             ],
             [
              0.4444444444444444,
              "#bd3786"
             ],
             [
              0.5555555555555556,
              "#d8576b"
             ],
             [
              0.6666666666666666,
              "#ed7953"
             ],
             [
              0.7777777777777778,
              "#fb9f3a"
             ],
             [
              0.8888888888888888,
              "#fdca26"
             ],
             [
              1,
              "#f0f921"
             ]
            ],
            "type": "heatmapgl"
           }
          ],
          "histogram": [
           {
            "marker": {
             "pattern": {
              "fillmode": "overlay",
              "size": 10,
              "solidity": 0.2
             }
            },
            "type": "histogram"
           }
          ],
          "histogram2d": [
           {
            "colorbar": {
             "outlinewidth": 0,
             "ticks": ""
            },
            "colorscale": [
             [
              0,
              "#0d0887"
             ],
             [
              0.1111111111111111,
              "#46039f"
             ],
             [
              0.2222222222222222,
              "#7201a8"
             ],
             [
              0.3333333333333333,
              "#9c179e"
             ],
             [
              0.4444444444444444,
              "#bd3786"
             ],
             [
              0.5555555555555556,
              "#d8576b"
             ],
             [
              0.6666666666666666,
              "#ed7953"
             ],
             [
              0.7777777777777778,
              "#fb9f3a"
             ],
             [
              0.8888888888888888,
              "#fdca26"
             ],
             [
              1,
              "#f0f921"
             ]
            ],
            "type": "histogram2d"
           }
          ],
          "histogram2dcontour": [
           {
            "colorbar": {
             "outlinewidth": 0,
             "ticks": ""
            },
            "colorscale": [
             [
              0,
              "#0d0887"
             ],
             [
              0.1111111111111111,
              "#46039f"
             ],
             [
              0.2222222222222222,
              "#7201a8"
             ],
             [
              0.3333333333333333,
              "#9c179e"
             ],
             [
              0.4444444444444444,
              "#bd3786"
             ],
             [
              0.5555555555555556,
              "#d8576b"
             ],
             [
              0.6666666666666666,
              "#ed7953"
             ],
             [
              0.7777777777777778,
              "#fb9f3a"
             ],
             [
              0.8888888888888888,
              "#fdca26"
             ],
             [
              1,
              "#f0f921"
             ]
            ],
            "type": "histogram2dcontour"
           }
          ],
          "mesh3d": [
           {
            "colorbar": {
             "outlinewidth": 0,
             "ticks": ""
            },
            "type": "mesh3d"
           }
          ],
          "parcoords": [
           {
            "line": {
             "colorbar": {
              "outlinewidth": 0,
              "ticks": ""
             }
            },
            "type": "parcoords"
           }
          ],
          "pie": [
           {
            "automargin": true,
            "type": "pie"
           }
          ],
          "scatter": [
           {
            "fillpattern": {
             "fillmode": "overlay",
             "size": 10,
             "solidity": 0.2
            },
            "type": "scatter"
           }
          ],
          "scatter3d": [
           {
            "line": {
             "colorbar": {
              "outlinewidth": 0,
              "ticks": ""
             }
            },
            "marker": {
             "colorbar": {
              "outlinewidth": 0,
              "ticks": ""
             }
            },
            "type": "scatter3d"
           }
          ],
          "scattercarpet": [
           {
            "marker": {
             "colorbar": {
              "outlinewidth": 0,
              "ticks": ""
             }
            },
            "type": "scattercarpet"
           }
          ],
          "scattergeo": [
           {
            "marker": {
             "colorbar": {
              "outlinewidth": 0,
              "ticks": ""
             }
            },
            "type": "scattergeo"
           }
          ],
          "scattergl": [
           {
            "marker": {
             "colorbar": {
              "outlinewidth": 0,
              "ticks": ""
             }
            },
            "type": "scattergl"
           }
          ],
          "scattermapbox": [
           {
            "marker": {
             "colorbar": {
              "outlinewidth": 0,
              "ticks": ""
             }
            },
            "type": "scattermapbox"
           }
          ],
          "scatterpolar": [
           {
            "marker": {
             "colorbar": {
              "outlinewidth": 0,
              "ticks": ""
             }
            },
            "type": "scatterpolar"
           }
          ],
          "scatterpolargl": [
           {
            "marker": {
             "colorbar": {
              "outlinewidth": 0,
              "ticks": ""
             }
            },
            "type": "scatterpolargl"
           }
          ],
          "scatterternary": [
           {
            "marker": {
             "colorbar": {
              "outlinewidth": 0,
              "ticks": ""
             }
            },
            "type": "scatterternary"
           }
          ],
          "surface": [
           {
            "colorbar": {
             "outlinewidth": 0,
             "ticks": ""
            },
            "colorscale": [
             [
              0,
              "#0d0887"
             ],
             [
              0.1111111111111111,
              "#46039f"
             ],
             [
              0.2222222222222222,
              "#7201a8"
             ],
             [
              0.3333333333333333,
              "#9c179e"
             ],
             [
              0.4444444444444444,
              "#bd3786"
             ],
             [
              0.5555555555555556,
              "#d8576b"
             ],
             [
              0.6666666666666666,
              "#ed7953"
             ],
             [
              0.7777777777777778,
              "#fb9f3a"
             ],
             [
              0.8888888888888888,
              "#fdca26"
             ],
             [
              1,
              "#f0f921"
             ]
            ],
            "type": "surface"
           }
          ],
          "table": [
           {
            "cells": {
             "fill": {
              "color": "#EBF0F8"
             },
             "line": {
              "color": "white"
             }
            },
            "header": {
             "fill": {
              "color": "#C8D4E3"
             },
             "line": {
              "color": "white"
             }
            },
            "type": "table"
           }
          ]
         },
         "layout": {
          "annotationdefaults": {
           "arrowcolor": "#2a3f5f",
           "arrowhead": 0,
           "arrowwidth": 1
          },
          "autotypenumbers": "strict",
          "coloraxis": {
           "colorbar": {
            "outlinewidth": 0,
            "ticks": ""
           }
          },
          "colorscale": {
           "diverging": [
            [
             0,
             "#8e0152"
            ],
            [
             0.1,
             "#c51b7d"
            ],
            [
             0.2,
             "#de77ae"
            ],
            [
             0.3,
             "#f1b6da"
            ],
            [
             0.4,
             "#fde0ef"
            ],
            [
             0.5,
             "#f7f7f7"
            ],
            [
             0.6,
             "#e6f5d0"
            ],
            [
             0.7,
             "#b8e186"
            ],
            [
             0.8,
             "#7fbc41"
            ],
            [
             0.9,
             "#4d9221"
            ],
            [
             1,
             "#276419"
            ]
           ],
           "sequential": [
            [
             0,
             "#0d0887"
            ],
            [
             0.1111111111111111,
             "#46039f"
            ],
            [
             0.2222222222222222,
             "#7201a8"
            ],
            [
             0.3333333333333333,
             "#9c179e"
            ],
            [
             0.4444444444444444,
             "#bd3786"
            ],
            [
             0.5555555555555556,
             "#d8576b"
            ],
            [
             0.6666666666666666,
             "#ed7953"
            ],
            [
             0.7777777777777778,
             "#fb9f3a"
            ],
            [
             0.8888888888888888,
             "#fdca26"
            ],
            [
             1,
             "#f0f921"
            ]
           ],
           "sequentialminus": [
            [
             0,
             "#0d0887"
            ],
            [
             0.1111111111111111,
             "#46039f"
            ],
            [
             0.2222222222222222,
             "#7201a8"
            ],
            [
             0.3333333333333333,
             "#9c179e"
            ],
            [
             0.4444444444444444,
             "#bd3786"
            ],
            [
             0.5555555555555556,
             "#d8576b"
            ],
            [
             0.6666666666666666,
             "#ed7953"
            ],
            [
             0.7777777777777778,
             "#fb9f3a"
            ],
            [
             0.8888888888888888,
             "#fdca26"
            ],
            [
             1,
             "#f0f921"
            ]
           ]
          },
          "colorway": [
           "#636efa",
           "#EF553B",
           "#00cc96",
           "#ab63fa",
           "#FFA15A",
           "#19d3f3",
           "#FF6692",
           "#B6E880",
           "#FF97FF",
           "#FECB52"
          ],
          "font": {
           "color": "#2a3f5f"
          },
          "geo": {
           "bgcolor": "white",
           "lakecolor": "white",
           "landcolor": "#E5ECF6",
           "showlakes": true,
           "showland": true,
           "subunitcolor": "white"
          },
          "hoverlabel": {
           "align": "left"
          },
          "hovermode": "closest",
          "mapbox": {
           "style": "light"
          },
          "paper_bgcolor": "white",
          "plot_bgcolor": "#E5ECF6",
          "polar": {
           "angularaxis": {
            "gridcolor": "white",
            "linecolor": "white",
            "ticks": ""
           },
           "bgcolor": "#E5ECF6",
           "radialaxis": {
            "gridcolor": "white",
            "linecolor": "white",
            "ticks": ""
           }
          },
          "scene": {
           "xaxis": {
            "backgroundcolor": "#E5ECF6",
            "gridcolor": "white",
            "gridwidth": 2,
            "linecolor": "white",
            "showbackground": true,
            "ticks": "",
            "zerolinecolor": "white"
           },
           "yaxis": {
            "backgroundcolor": "#E5ECF6",
            "gridcolor": "white",
            "gridwidth": 2,
            "linecolor": "white",
            "showbackground": true,
            "ticks": "",
            "zerolinecolor": "white"
           },
           "zaxis": {
            "backgroundcolor": "#E5ECF6",
            "gridcolor": "white",
            "gridwidth": 2,
            "linecolor": "white",
            "showbackground": true,
            "ticks": "",
            "zerolinecolor": "white"
           }
          },
          "shapedefaults": {
           "line": {
            "color": "#2a3f5f"
           }
          },
          "ternary": {
           "aaxis": {
            "gridcolor": "white",
            "linecolor": "white",
            "ticks": ""
           },
           "baxis": {
            "gridcolor": "white",
            "linecolor": "white",
            "ticks": ""
           },
           "bgcolor": "#E5ECF6",
           "caxis": {
            "gridcolor": "white",
            "linecolor": "white",
            "ticks": ""
           }
          },
          "title": {
           "x": 0.05
          },
          "xaxis": {
           "automargin": true,
           "gridcolor": "white",
           "linecolor": "white",
           "ticks": "",
           "title": {
            "standoff": 15
           },
           "zerolinecolor": "white",
           "zerolinewidth": 2
          },
          "yaxis": {
           "automargin": true,
           "gridcolor": "white",
           "linecolor": "white",
           "ticks": "",
           "title": {
            "standoff": 15
           },
           "zerolinecolor": "white",
           "zerolinewidth": 2
          }
         }
        },
        "title": {
         "text": "Instances of Repackaged Census Data"
        }
       }
      }
     },
     "metadata": {},
     "output_type": "display_data"
    }
   ],
   "source": [
    "#Mapping data\n",
    "import plotly.graph_objects as go\n",
    "\n",
    "# Define a color map for the topics\n",
    "color_map = {\n",
    "    'Comprehensive County Data: Population, Income, and Government Resources': 'blue',\n",
    "    'National Health and Demographic Survey: Insights Across Communities': 'purple',\n",
    "    'State and Community Health Services: Access and Resources': 'red',\n",
    "    'Housing Market Analysis: Prices, Values, and Statistics': 'pink',\n",
    "    'Annual Market Trends: Business, Family, and Economic Insights': 'lightgreen',\n",
    "    'Other': 'gray'\n",
    "}\n",
    "\n",
    "# Map the Topic_Name to colors\n",
    "map_df_repackaged_merged['color'] = map_df_repackaged_merged['Topic_Name'].map(color_map)\n",
    "\n",
    "# Create the scatter geo plot\n",
    "fig = go.Figure(data=go.Scattergeo(\n",
    "    lon=map_df_repackaged_merged['longitude'],\n",
    "    lat=map_df_repackaged_merged['latitude'],\n",
    "    mode='markers',\n",
    "    text=map_df_repackaged_merged['url'],\n",
    "    hoverinfo='text',\n",
    "    marker=dict(color=map_df_repackaged_merged['color'], size=10, line=dict(width=1, color='black')),\n",
    "    showlegend=False\n",
    "))\n",
    "\n",
    "# Update the layout to include a legend\n",
    "fig.update_layout(\n",
    "    title='Instances of Repackaged Census Data',\n",
    "    geo_scope='north america',\n",
    "    legend_title_text='Topics',\n",
    "    legend=dict(\n",
    "        itemsizing='constant'\n",
    "    )\n",
    ")\n",
    "\n",
    "# Add legend items manually\n",
    "for topic, color in color_map.items():\n",
    "    fig.add_trace(go.Scattergeo(\n",
    "        lon=[None], lat=[None],\n",
    "        mode='markers',\n",
    "        marker=dict(size=10, color=color),\n",
    "        name=topic\n",
    "    ))\n",
    "\n",
    "# Show the plot\n",
    "fig.show()"
   ]
  },
  {
   "cell_type": "markdown",
   "metadata": {},
   "source": [
    "### Cited"
   ]
  },
  {
   "cell_type": "code",
   "execution_count": null,
   "metadata": {},
   "outputs": [],
   "source": [
    "# Function to get the details of the IP address including city, country, coordinates, etc.\n",
    "def get_details(ip):\n",
    "    res = DbIpCity.get(ip, api_key=\"free\")\n",
    "    return {\n",
    "        \"IP Address\": res.ip_address,\n",
    "        \"City\": res.city,\n",
    "        \"Region\": res.region,\n",
    "        \"Country\": res.country,\n",
    "        \"latitude\": res.latitude, # we will get errors for latitude and longitude; this is resolved in the next step\n",
    "        \"longitude\": res.longitude\n",
    "    }\n",
    "\n",
    "# Function to process a list of URLs and save the results into a DataFrame\n",
    "def process_urls(urls):\n",
    "    data = []\n",
    "    for url in urls:\n",
    "        try:\n",
    "            domain = url.split('//')[-1].split('/')[0]\n",
    "            ip_add = socket.gethostbyname(domain)\n",
    "            details = get_details(ip_add)\n",
    "            details[\"URL\"] = url\n",
    "            data.append(details)\n",
    "            time.sleep(1)  # Add delay to prevent rate limiting\n",
    "        except socket.gaierror:\n",
    "            print(f\"Could not resolve {url}: DNS resolution failed\")\n",
    "        except idna.core.IDNAError as e:\n",
    "            print(f\"Could not process {url}: {e}\")\n",
    "        except Exception as e:\n",
    "            print(f\"Could not process {url}: {e}\")\n",
    "\n",
    "    df = pd.DataFrame(data)\n",
    "    return df\n",
    "\n",
    "# List of URLs to process\n",
    "urls_cited = final_data_cited['url']\n",
    "urls_cited = list(set(urls_cited)) # remove duplicate urls\n",
    "\n",
    "# Process each URL and save the results into a DataFrame\n",
    "map_df_cited = process_urls(urls_cited)\n",
    "print(map_df_cited)"
   ]
  },
  {
   "cell_type": "code",
   "execution_count": 172,
   "metadata": {},
   "outputs": [
    {
     "name": "stderr",
     "output_type": "stream",
     "text": [
      "100%|██████████| 201/201 [02:33<00:00,  1.31it/s]\n"
     ]
    }
   ],
   "source": [
    "# resolve lat/long errors\n",
    "\n",
    "map_df_cited['City'] = map_df_cited['City'].apply(lambda x: re.sub(r'\\(.*?\\)', '', x).strip()) # removing data in parenthesis for city so we can get lat and long\n",
    "\n",
    "# Initialize the geolocator\n",
    "geolocator = Nominatim(user_agent=\"capstone_data_pull3\")\n",
    "\n",
    "# Function to get latitude and longitude\n",
    "def get_lat_long(city, region, country):\n",
    "    location = geolocator.geocode(f\"{city}, {region}, {country}\", timeout=10)\n",
    "    if location:\n",
    "        return location.latitude, location.longitude\n",
    "    else:\n",
    "        return None, None\n",
    "\n",
    "for index, row in tqdm(map_df_cited.iterrows(), total=map_df_cited.shape[0]):\n",
    "    latitude, longitude = get_lat_long(row['City'], row['Region'], row['Country'])\n",
    "    map_df_cited.at[index, 'latitude'] = latitude\n",
    "    map_df_cited.at[index, 'longitude'] = longitude"
   ]
  },
  {
   "cell_type": "code",
   "execution_count": null,
   "metadata": {},
   "outputs": [],
   "source": [
    "# Renaming the column\n",
    "map_df_cited.rename(columns={'URL': 'url'}, inplace=True)\n",
    "\n",
    "# Merge the DataFrames on the 'URL' column\n",
    "map_df_cited_merged = pd.merge(map_df_cited, final_data_cited, on='url', how='inner')\n",
    "map_df_cited_merged"
   ]
  },
  {
   "cell_type": "code",
   "execution_count": 148,
   "metadata": {},
   "outputs": [
    {
     "data": {
      "application/vnd.plotly.v1+json": {
       "config": {
        "plotlyServerURL": "https://plot.ly"
       },
       "data": [
        {
         "hoverinfo": "text",
         "lat": [
          42.7338254,
          41.8755616,
          40.8042674,
          25.7741728,
          25.7741728,
          25.7741728,
          43.6534817,
          43.6534817,
          43.6534817,
          40.7127281,
          33.7085883,
          43.6534817,
          43.6534817,
          39.030019100000004,
          27.9477595,
          40.7127281,
          42.3554334,
          25.7741728,
          47.6038321,
          34.0536909,
          37.3893889,
          25.7741728,
          25.7741728,
          43.6534817,
          37.3893889,
          25.7741728,
          33.4255117,
          35.2272086,
          37.3893889,
          44.9772995,
          40.4416941,
          25.7741728,
          25.7741728,
          43.6534817,
          39.100105,
          38.8950368,
          39.030019100000004,
          37.3893889,
          38.8950368,
          34.0536909,
          25.7741728,
          43.6534817,
          38.8950368,
          25.7741728,
          25.7741728,
          33.4638745,
          38.8950368,
          27.9477595,
          33.7939953,
          35.996653,
          33.7489924,
          33.4255117,
          39.030019100000004,
          33.7489924,
          33.7489924,
          33.7489924,
          33.4255117,
          40.7596198,
          40.8584328,
          25.7741728,
          39.7573207,
          39.030019100000004,
          25.7741728,
          39.030019100000004,
          34.0536909,
          37.3893889,
          41.8755616,
          36.740236,
          33.2095614,
          33.7489924,
          60.1674881,
          32.7762719,
          33.9528472,
          33.7489924,
          33.7489924,
          36.6673066,
          33.7489924,
          43.6534817,
          34.0536909,
          33.7489924,
          33.7489924,
          43.6534817,
          41.8755616,
          37.8044557,
          44.2602244,
          37.3893889,
          43.6534817,
          43.6534817,
          47.6038321,
          33.4255117,
          43.6534817,
          37.3893889,
          39.9784186,
          45.5202471,
          27.9477595,
          39.030019100000004,
          60.1674881,
          43.6534817,
          34.0536909,
          43.6534817,
          25.7741728,
          51.4893335,
          37.3893889,
          25.7741728,
          43.6534817,
          40.0996009,
          39.9784186,
          33.4255117,
          43.6534817,
          32.7762719,
          41.8328085,
          43.6534817,
          39.030019100000004,
          44.2602244,
          43.2560802,
          33.7939953,
          34.0536909,
          43.6534817,
          39.030019100000004,
          37.3893889,
          42.7338254,
          43.6534817,
          33.7939953,
          43.6534817,
          43.6534817,
          40.8584328,
          37.7792588,
          43.6534817,
          33.4255117,
          25.7741728,
          38.8950368,
          25.7741728,
          43.6534817,
          37.3893889,
          43.6534817,
          40.8584328,
          43.6534817,
          40.8584328,
          43.6534817,
          39.030019100000004,
          34.0536909,
          34.0536909,
          34.0536909,
          47.6038321,
          43.6534817,
          42.3656347,
          43.6534817,
          39.030019100000004,
          43.6534817,
          43.6534817,
          43.6534817,
          33.6408845,
          25.7741728,
          25.7741728,
          40.4416941,
          37.3893889,
          35.595363,
          44.2602244,
          43.6534817,
          44.2602244,
          37.7792588,
          40.2663107,
          39.7990175,
          43.6534817,
          41.546069,
          34.0536909,
          34.0536909,
          37.3893889,
          25.7741728,
          25.7741728,
          41.8755616,
          37.3893889,
          40.7127281,
          33.7489924,
          43.51714415,
          25.7741728,
          25.7741728,
          39.030019100000004,
          38.8950368,
          25.7741728,
          40.7596198,
          43.6534817,
          37.8044557,
          37.3893889,
          39.030019100000004,
          42.3554334,
          39.100105,
          43.6534817,
          43.6534817,
          25.7741728,
          43.6534817,
          25.7741728,
          33.9170444,
          42.8867166,
          37.7792588,
          43.6534817,
          37.3893889,
          38.8950368,
          25.7741728,
          34.0536909,
          25.7741728
         ],
         "lon": [
          -84.5546295,
          -87.6244212,
          -74.012084,
          -80.19362,
          -80.19362,
          -80.19362,
          -79.3839347,
          -79.3839347,
          -79.3839347,
          -74.0060152,
          -117.7926096,
          -79.3839347,
          -79.3839347,
          -77.46964646557657,
          -82.458444,
          -74.0060152,
          -71.060511,
          -80.19362,
          -122.330062,
          -118.242766,
          -122.0832101,
          -80.19362,
          -80.19362,
          -79.3839347,
          -122.0832101,
          -80.19362,
          -111.940016,
          -80.8430827,
          -122.0832101,
          -93.2654692,
          -79.9900861,
          -80.19362,
          -80.19362,
          -79.3839347,
          -94.5781416,
          -77.0365427,
          -77.46964646557657,
          -122.0832101,
          -77.0365427,
          -118.242766,
          -80.19362,
          -79.3839347,
          -77.0365427,
          -80.19362,
          -80.19362,
          -88.8152074,
          -77.0365427,
          -82.458444,
          -84.6604899,
          -78.9018053,
          -84.3902644,
          -111.940016,
          -77.46964646557657,
          -84.3902644,
          -84.3902644,
          -84.3902644,
          -111.940016,
          -111.886797,
          -74.1637553,
          -80.19362,
          -89.6536926,
          -77.46964646557657,
          -80.19362,
          -77.46964646557657,
          -118.242766,
          -122.0832101,
          -87.6244212,
          -81.9421666,
          -87.5675258,
          -84.3902644,
          24.9427473,
          -96.7968559,
          -84.5496148,
          -84.3902644,
          -84.3902644,
          -78.3882002,
          -84.3902644,
          -79.3839347,
          -118.242766,
          -84.3902644,
          -84.3902644,
          -79.3839347,
          -87.6244212,
          -122.271356,
          -72.5750364,
          -122.0832101,
          -79.3839347,
          -79.3839347,
          -122.330062,
          -111.940016,
          -79.3839347,
          -122.0832101,
          -86.1283681,
          -122.674194,
          -82.458444,
          -77.46964646557657,
          24.9427473,
          -79.3839347,
          -118.242766,
          -79.3839347,
          -80.19362,
          -0.14405508452768728,
          -122.0832101,
          -80.19362,
          -79.3839347,
          -83.1135563,
          -86.1283681,
          -111.940016,
          -79.3839347,
          -96.7968559,
          -87.9289504,
          -79.3839347,
          -77.46964646557657,
          -72.5750364,
          -79.8728583,
          -84.6604899,
          -118.242766,
          -79.3839347,
          -77.46964646557657,
          -122.0832101,
          -84.5546295,
          -79.3839347,
          -84.6604899,
          -79.3839347,
          -79.3839347,
          -74.1637553,
          -122.4193286,
          -79.3839347,
          -111.940016,
          -80.19362,
          -77.0365427,
          -80.19362,
          -79.3839347,
          -122.0832101,
          -79.3839347,
          -74.1637553,
          -79.3839347,
          -74.1637553,
          -79.3839347,
          -77.46964646557657,
          -118.242766,
          -118.242766,
          -118.242766,
          -122.330062,
          -79.3839347,
          -71.1040018,
          -79.3839347,
          -77.46964646557657,
          -79.3839347,
          -79.3839347,
          -79.3839347,
          -117.6029341,
          -80.19362,
          -80.19362,
          -79.9900861,
          -122.0832101,
          -82.5508407,
          -72.5750364,
          -79.3839347,
          -72.5750364,
          -122.4193286,
          -76.8861122,
          -89.6439575,
          -79.3839347,
          -84.1362047,
          -118.242766,
          -118.242766,
          -122.0832101,
          -80.19362,
          -80.19362,
          -87.6244212,
          -122.0832101,
          -74.0060152,
          -84.3902644,
          11.763928194732205,
          -80.19362,
          -80.19362,
          -77.46964646557657,
          -77.0365427,
          -80.19362,
          -111.886797,
          -79.3839347,
          -122.271356,
          -122.0832101,
          -77.46964646557657,
          -71.060511,
          -94.5781416,
          -79.3839347,
          -79.3839347,
          -80.19362,
          -79.3839347,
          -80.19362,
          -117.888855,
          -78.8783922,
          -122.4193286,
          -79.3839347,
          -122.0832101,
          -77.0365427,
          -80.19362,
          -118.242766,
          -80.19362
         ],
         "marker": {
          "color": [
           "red",
           "pink",
           "lightgreen",
           "blue",
           "lightgreen",
           "blue",
           "lightgreen",
           "red",
           "lightgreen",
           "purple",
           "lightgreen",
           "lightgreen",
           "red",
           "lightgreen",
           "lightgreen",
           "red",
           "lightgreen",
           "blue",
           "lightgreen",
           "red",
           "blue",
           "lightgreen",
           "blue",
           "lightgreen",
           "lightgreen",
           "pink",
           "lightgreen",
           "purple",
           "lightgreen",
           "lightgreen",
           "lightgreen",
           "blue",
           "blue",
           "red",
           "red",
           "red",
           "red",
           "lightgreen",
           "red",
           "red",
           "blue",
           "red",
           "lightgreen",
           "blue",
           "red",
           "lightgreen",
           "lightgreen",
           "lightgreen",
           "blue",
           "blue",
           "purple",
           "lightgreen",
           "blue",
           "blue",
           "blue",
           "purple",
           "red",
           "blue",
           "lightgreen",
           "blue",
           "red",
           "purple",
           "red",
           "lightgreen",
           "lightgreen",
           "lightgreen",
           "red",
           "red",
           "blue",
           "red",
           "red",
           "red",
           "blue",
           "red",
           "lightgreen",
           "red",
           "blue",
           "lightgreen",
           "red",
           "blue",
           "lightgreen",
           "purple",
           "red",
           "pink",
           "red",
           "lightgreen",
           "red",
           "red",
           "red",
           "lightgreen",
           "red",
           "lightgreen",
           "red",
           "lightgreen",
           "lightgreen",
           "purple",
           "red",
           "lightgreen",
           "red",
           "blue",
           "blue",
           "lightgreen",
           "lightgreen",
           "blue",
           "blue",
           "lightgreen",
           "red",
           "purple",
           "lightgreen",
           "lightgreen",
           "lightgreen",
           "blue",
           "red",
           "red",
           "red",
           "blue",
           "lightgreen",
           "red",
           "purple",
           "lightgreen",
           "red",
           "blue",
           "pink",
           "lightgreen",
           "lightgreen",
           "pink",
           "lightgreen",
           "red",
           "red",
           "blue",
           "red",
           "blue",
           "lightgreen",
           "lightgreen",
           "blue",
           "pink",
           "lightgreen",
           "red",
           "lightgreen",
           "lightgreen",
           "red",
           "blue",
           "red",
           "red",
           "lightgreen",
           "lightgreen",
           "red",
           "red",
           "lightgreen",
           "lightgreen",
           "lightgreen",
           "blue",
           "blue",
           "red",
           "red",
           "lightgreen",
           "lightgreen",
           "red",
           "blue",
           "red",
           "lightgreen",
           "red",
           "red",
           "red",
           "lightgreen",
           "red",
           "red",
           "lightgreen",
           "lightgreen",
           "lightgreen",
           "pink",
           "lightgreen",
           "red",
           "lightgreen",
           "pink",
           "lightgreen",
           "blue",
           "lightgreen",
           "lightgreen",
           "blue",
           "blue",
           "lightgreen",
           "red",
           "lightgreen",
           "pink",
           "red",
           "red",
           "blue",
           "lightgreen",
           "blue",
           "lightgreen",
           "blue",
           "lightgreen",
           "lightgreen",
           "lightgreen",
           "lightgreen",
           "lightgreen",
           "lightgreen",
           "red",
           "red",
           "blue"
          ],
          "line": {
           "color": "black",
           "width": 1
          },
          "size": 10
         },
         "mode": "markers",
         "showlegend": false,
         "text": [
          "https://hardingnj.org/resident/calendar/board-of-adjustment-meeting-1695339000",
          "https://www.solarenergylocal.com/states/hawaii/96703/",
          "https://medicareonvideo.com/tips-for-healthy-aging/",
          "https://statisticalatlas.com/place/alabama/pinckard/national-origin",
          "https://www.apartmentlist.com/fl/sugarmill-woods",
          "https://alfred.stlouisfed.org/series?seid=pe5t17ut49023a647ncen",
          "http://www.eagentsdemo.com/property-detail-quickcma?lid=240816",
          "https://www.homesnacks.com/ct/ridgefield-cost-of-living/",
          "https://horasis.org/us-trade-policy-change-in-the-air/",
          "https://www.islipida.com/why-islip/market-profile.html",
          "https://gerryavrealtor.com/home-builders-ramp-up-construction-based-on-demand/",
          "https://wakeupnz.org/blog/wake-up-nz-vaers-is-a-passive-reporting-system-for-adverse-events-covid-19-jabs/",
          "https://www.homesnacks.com/ny/troy-cost-of-living/",
          "https://forecastcapitalmanagement.com/am-market-commentary/markets-retreat-as-china-dominates-the-news",
          "https://www.hanifonmedia.com/census-2010-turn-it-in-selma-%e2%80%94-and-america/",
          "https://routelines.com/poster.php?id=360",
          "http://bostongis.org/?content_name=umn_datasources",
          "https://alfred.stlouisfed.org/series?seid=b080acs020079&utm_source=series_page&utm_medium=related_content&utm_term=related_resources&utm_campaign=alfred",
          "https://elca.org/our%20work/relief%20and%20development/elca%20world%20hunger",
          "https://vote.narf.org/native-american-census/",
          "http://www.bessettepitney.net/2014/07/the-fourth-of-july.html",
          "https://www.commondreams.org/tag/wilbur-ross",
          "https://fred.stlouisfed.org/series/b01002001e032003",
          "https://cornerstonewealth.biz/resources/articles/starting-a-family-the-total-cost-of-a-baby",
          "http://www.deferredconsumption.com/2012/10/no-our-incomes-dont-just-feel-like.html",
          "https://statisticalatlas.com/zip/80860/national-origin",
          "https://geostrategy-direct.com/2022/10/abrams-x-aims-to-keep-u-s-main-battle-tanks-relevant-for-next-cold-war/",
          "https://www.childhealthdata.org/learn-about-the-nsch/survey-instruments?utm_source=drc_newsletter&utm_medium=email&utm_campaign=2021-2022_idq",
          "http://www.justupthepike.com/2012/06/building-accessory-apartments-in-moco.html?showcomment=1340911534010",
          "https://www.restorationofamerica.com/restoration-news/eric/heres-the-lefts-playbook-for-rigging-elections-in-2024/",
          "https://otisandjames.com/2009/04/24/well-how-bout-thisits-katie-cody/",
          "https://fred.stlouisfed.org/series/b03002002e021179",
          "https://fred.stlouisfed.org/series/b14005dcyacs039141",
          "https://www.immihelp.com/h1b-visa-sponsors/01interactive_inc/view-2019-i_200_19080_407818/",
          "https://www.northdata.com/?id=5351954732",
          "https://data.va.gov/browse?tags=breast+cancer",
          "https://carmenjacksoncpa.com/newsletter-archives/",
          "https://philvalentineblog.blogspot.com/2019/08/trumps-ultimate-plan-for-china.html",
          "https://www.hobbsevents.org/events/tiny-census-live-concerts-featuring-gigi-hess/",
          "http://svmilestone.com/schedule-appointment",
          "https://statisticalatlas.com/zip/62426/household-income",
          "http://www.jsharf.com/view/?tag=andrew-jackson",
          "http://reddragonleo.com/2010/08/25/rally-time/",
          "https://fred.stlouisfed.org/series/peu18la22053a647ncen",
          "https://www.wcbe.org/npr-news/2024-06-05/broadband-subsidies-for-rural-americans-are-ending-putting-telehealth-at-risk",
          "http://www.ext.msstate.edu/newsletters/mississippi-marketmaker/2021/vol-11-no-8-seafood-and-fish-markets-the-united-states-and?page=2",
          "http://reddragonleo.com/2018/01/03/es-morning-update-january-3rd-2018/",
          "https://www.capitalspectator.com/macro-briefing-7-june-2022/",
          "https://fred.stlouisfed.org/series/b03002012e053045",
          "http://fileformats.archiveteam.org/index.php?title=cps_project&oldid=37627",
          "https://statisticalatlas.com/block-group/washington/snohomish-county/052607-1/ancestry",
          "https://par-newhaven.org/category/housing/page/3/",
          "https://meps.ahrq.gov/data_stats/download_data/pufs/h163/h163doc.shtml",
          "https://statisticalatlas.com/zip/34268/overview",
          "https://statisticalatlas.com/zip/36343/race-and-ethnicity",
          "https://statisticalatlas.com/block-group/north-carolina/richmond-county/970100-1/age-and-sex",
          "https://stromlawyers.com/blog/nursing-home-neglect-is-this-silent-killer-lurking-in-your-loved-ones-home/",
          "https://usboundary.com/areas/state%20legislative%20district%20lower%20chamber/missouri/state%20house%20district%20104/197400",
          "https://thetravelvertical.com/tag/cloudkitchens/",
          "https://fred.stlouisfed.org/series/b03002015e048227",
          "https://illinoissenatedemocrats.com/?amp;start=16&start=2284",
          "https://www.socialexplorer.com/data/acs2006/metadata/?ds=acs06&var=b18012015",
          "https://fedscoop.com/census-begins-website-redesign/",
          "https://www.wgbh.org/news/national/2019-10-14/the-trump-administration-is-trying-hard-to-thwart-obamacare-hows-that-going",
          "https://hot1047.com/sioux-falls-had-one-of-the-fastest-growing-pre-covid-economies-in-america/",
          "https://www.globalsmallbusinessblog.com/2021/07/china-and-america-dominate-like-never.html",
          "https://www.greenvillecounty.org/businesshours.aspx",
          "https://www.indexmundi.com/facts/united-states/state-finances/alabama/total-revenue/amount",
          "https://www.putnamgeneral.com/getpage.php?name=community&sub=careers",
          "https://link.springer.com/article/10.1007/s11199-011-9968-6?error=cookies_not_supported&code=ba7fbff0-198f-4882-9175-afb4b18a01d1",
          "https://websitesimilar.com/louisiana.gov",
          "https://www.asbmb.org/asbmb-today/policy/050223/asbmb-better-wages-benefits-for-postdocs",
          "https://alfred.stlouisfed.org/series?seid=dp04acs022109",
          "https://www.gaf.ca/en-ca/blog/residential-roofing/5-ways-for-roofers-to-celebrate-vets-beyond-veterans-day-281474980167054",
          "https://www.upworthy.com/10-things-that-made-us-smile-this-week-11-18-22?rebelltitem=10",
          "https://www.ecsmallbiz.org/useful-links/",
          "https://statisticalatlas.com/place/alabama/enterprise/languages",
          "https://brooksfin.com/resources/articles/child-education-cost",
          "http://wolffgroup.biz/gilroy",
          "https://statisticalatlas.com/zip/81023/industries",
          "https://www.upworthy.com/a-guy-hung-an-offensive-sign-around-his-neck-to-make-a-solid-point-and-it-worked?g=3",
          "https://publicschoolsk12.com/all-schools/wi/door-county/",
          "http://villageoflakeorion.org/index.php/forms-info",
          "https://greatbradley.weebly.com/2015-willow-sculpture.html",
          "http://labor.state.vt.us/employer.cfm?stfips=50&empid=109153494",
          "https://lifetimesthreelivingwithlbd.blogspot.com/2016/01/mandate-prompt-public-release-of.html",
          "https://www.fortbendcountytx.gov/government/departments/public-transportation/disadvantaged-business-enterprise-program/resources",
          "https://www.plannedparenthoodaction.org/florida-alliance-planned-parenthood-affiliates/press-releases/florida-planned-parenthood-slams-florida-house-republicans-for-passing-the-worst-womens-health-legislation-in-a-generation",
          "https://yelmwa.gov/news_detail_t10_r448.php",
          "https://geostrategy-direct.com/2015/04/n-korea-warms-to-russia-with-preparations-for-kim-visit-to-moscow/",
          "https://lakeconews.com/news?itemid='''a=''a='&start=48",
          "http://bonddad.blogspot.com/2021/12/manufacturing-still-red-hot.html",
          "https://governor.wv.gov/news/press-releases/2020/pages/gov.-justice-adds-tanning-businesses-to-list-of-week-4-reopenings.aspx",
          "https://www.autismdad.net/category/autism-and-education/",
          "https://www.capitalspectator.com/macro-briefing-25-march-2021/",
          "https://www.socialexplorer.com/data/acs2006/metadata/?ds=acs06&var=c17012005",
          "https://www.pubrecord.org/menominee-county-property-records-michigan/",
          "https://www.candobetter.net/population",
          "http://www.janetpepedavis.com/2528-dekoven-belmont-ca~l5073853",
          "https://www.immihelp.com/greencard-sponsors/168_inc/view-2010-a_07341_02769/",
          "https://alfred.stlouisfed.org/series?seid=mhiciubnm35057a052ncen",
          "https://www.papayakart.com/what-are-the-origins-of-international-womens-day/",
          "https://bonddad.blogspot.com/2023/04/scenes-from-march-employment-report-1.html",
          "https://alfred.stlouisfed.org/series?seid=b03002009e041041&utm_source=series_page&utm_medium=related_content&utm_term=related_resources&utm_campaign=alfred",
          "https://www.citytowninfo.com/places/north-carolina/banner-elk",
          "http://wcrsfm.org/category/topics/black-lives-matter",
          "https://www.tax.virginia.gov/register-business-virginia",
          "https://texascensus.org/our-research/texas-counties-with-high-child-undercounts-in-the-2020-us-census-0/",
          "https://www.googblogs.com/tag/algorithms/page/2/",
          "https://punsalad.com/cgi-bin/ps?spec=2006/12",
          "http://www.proudlyserving.com/archives/2006/09/index.html",
          "https://census.hawaii.gov/main/2023-county-population-estimates/",
          "https://knightguides.wartburg.edu/sociology/so101",
          "http://www.vtlmi.info/employer.cfm?naics=339113&lvl=6&stfips=50&cty=000&sort=liststate%20desc",
          "https://library.mcmaster.ca/data/us-census-bureau",
          "https://alfred.stlouisfed.org/series?seid=b03002001e006073&utm_source=series_page&utm_medium=related_content&utm_term=related_resources&utm_campaign=alfred",
          "https://kffm.com/ixp/139/p/yakima-airport-snack-survey/",
          "https://www.losangelesblade.com/2023/06/28/xavier-becerra-karine-jean-pierre-headline-hhs-pride-summit/",
          "https://www.socialexplorer.com/data/acs2011_5yr/metadata/?ds=acs11_5yr&var=b23001040",
          "https://www.globalsmallbusinessblog.com/2007/08/doing-business-with-world.html",
          "https://www.equipmentfa.com/industry-data/163/full-report-on-manufacturers-shipments-inventories-and-orders-october-2013",
          "https://www.americanclassroom.com/school/470288000997-adamsville-elementary/",
          "https://fred.stlouisfed.org/series/nhsussptqp",
          "http://www.jsharf.com/view/?m=201507",
          "https://coramdeoifs.com/resources/articles/child-education-cost",
          "https://utilitieslocal.com/states/colorado/walsenburg/",
          "https://facultyblog.law.ucdavis.edu/?tag=/conflict-of-interest",
          "https://readsludge.com/democracy/",
          "https://easton.sals.edu/event/easton-volunteer-fire-department-drill-night/?instance_id=3275",
          "https://fred.stlouisfed.org/series/mhiwy56003a052ncen",
          "https://nap.nationalacademies.org/read/12956/chapter/11#263",
          "https://fred.stlouisfed.org/series/ppciubu18in18105a156ncen",
          "https://meilleurssitesderencontre.info/the-challenges-of-dating-while-living-with-your-parents.html",
          "https://ozconservative.blogspot.com/2010/07/?m=0",
          "https://roadsidethoughts.com/wa/rockford-xx-spokane-profile.htm",
          "https://utilitieslocal.com/states/louisiana/new-iberia/",
          "https://www.citysignal.com/how-to-find-affordable-nyc-apartments/",
          "https://www.dorsey-co.com/beat-em-and-join-em-online-retail-neednt-be-the-enemy-of-brick-and-mortar/",
          "https://www.jsharf.com/view/?tag=art",
          "https://www.dailykos.com/stories/2011/12/02/1041673/-official-unemployment-rate-drops-to-two-year-low,-but-jobs-report-sends-conflicting-signals",
          "http://www.onlinehomesource.com/185-noyo-dr-san-jose-ca~l5391995",
          "https://kbat.com/make-yourself-at-home-cities-with-the-most-homeowners/",
          "http://www.motihome.com/324-flora-vista-ave-sunnyvale-ca~l4871825",
          "https://yelmwa.gov/i_want_to/contact/send_a_note_to_the_police_chief.php",
          "https://genfinplan.com/stocks-end-a-volatile-week-mixed-as-signs-of-a-debt-limit-deal-emerge/",
          "https://www.rgfamilylaw.com/blog/2021/february/fighting-to-recover-child-support-in-new-jersey/",
          "https://publicschoolsk12.com/elementary-schools/ok/pittsburg-county/401944002381.html",
          "https://guides.wpunj.edu/c.php?g=723592&p=5162491",
          "https://www.aacsb.edu/insights/articles/2023/03/the-equalizing-power-of-sisterhood",
          "https://dwlrealestate.com/magazine/why-todays-housing-inventory-proves-the-market-isnt-headed-for-a-crash",
          "https://www.withdra.com/p/mind-the-gap-exploring-the-growing",
          "https://docs.melissa.com/on-premise-api/geocoder-object/geocoder-object-reference-guide.html",
          "https://statisticalatlas.com/zip/62434/overview",
          "https://fred.stlouisfed.org/series/netlothtax",
          "https://www.choicesmagazine.org/choices-magazine/submitted-articles/why-we-need-federal-statistical-data-for-states-and-counties",
          "http://bonddad.blogspot.com/2023/09/initial-jobless-claims-remain-higher-on.html",
          "https://www.cognitivemarketresearch.com/oral-fluid-drug-test-cassette-market-report",
          "http://www.vtlmi.info/employer.cfm?naics=325211&lvl=6&stfips=50&cty=000&sort=listcity%20desc",
          "https://www.homesnacks.com/best-counties-in-texas/",
          "http://www.vtlmi.info/employer.cfm?naics=312111&lvl=6&stfips=50&cty=000&sort=listcity%20desc",
          "https://equitablegrowth.org/veterans-in-the-u-s-labor-market-face-barriers-to-success-that-can-and-should-be-addressed/",
          "https://www.redistricting.state.pa.us/right-to-know",
          "https://dceoapps.ildceo.net/buyillinois/dceo/faq.aspx",
          "https://www.lowerkeysflmortgage.com/are-you-wondering-if-this-is-the-year-to-buy-a-home/",
          "http://colonialsense.com/society-lifestyle/census/governance.php?cs=12970",
          "http://www.lauramillerrealtor.com/property-detail-quickcma?lid=5399132",
          "http://www.shashijaggia.com/438-s-buena-vista-av-san-jose-ca~l5057472",
          "http://www.junglewatch.info/2023/",
          "https://www.cognizant.com/us/en/insights/insights-blog/developing-a-skills-based-workforce-wf2459000",
          "https://www.upworthy.com/what-i-said-to-god-after-the-san-bernardino-mass-shooting",
          "https://www.solarenergylocal.com/states/massachusetts/01524/",
          "https://www.globalsmallbusinessblog.com/2008/04/how-to-take-on-world.html",
          "http://laserlab.com/company_profile.php",
          "http://theeconomiccollapseblog.com/tag/living-paycheck-to-paycheck/",
          "http://iso4app.net/",
          "https://www.ktvq.com/us-news/high-school-facilities-director-discovers-century-old-time-capsule-during-demolition-of-old-building",
          "https://alfred.stlouisfed.org/series?seid=b03002007e022123",
          "https://libguides.library.gatech.edu/latinx-hispanic-communities-heritage/gettingstarted",
          "http://reddragonleo.com/2017/03/23/es-morning-update-march-23rd-2017/",
          "https://alfred.stlouisfed.org/series?seid=mhiin18073a052ncen",
          "https://usboundary.com/areas/state%20legislative%20district%20upper%20chamber/virginia/state%20senate%20district%203/201583",
          "https://www.immihelp.com/h1b-visa-sponsors/3i_infotech_inc/view-2023-i_200_23142_042685/",
          "http://ljm3.aniello.co/utilities.html",
          "https://grocerants.blogspot.com/2016/09/?m=0",
          "https://www.wikiwand.com/en/2011_united_kingdom_census",
          "https://www.bostongis.com/?content_name=udig",
          "https://www.northdata.com/?id=35825824",
          "https://www.jaildata.com/prison/keokuk-county-jail",
          "https://off-guardian.org/2022/01/22/hiding-the-bodies/",
          "https://alfred.stlouisfed.org/series?seid=sm443141usn&utm_source=series_page&utm_medium=related_content&utm_term=related_resources&utm_campaign=alfred",
          "https://www.libertystorch.info/2022/01/31/just-woke-up-a-short-time-ago/",
          "https://fred.stlouisfed.org/series/mhiva51021a052ncen",
          "https://www.benjaminspaulding.com/tag/mash-ups-2/",
          "http://www.cancerrealitycheck.com/2019/07/05/supplementary-materialss1-excel-excel-version-of-the-data-for-figs-figs55c7/",
          "https://bayrising.org/tag/covid-pandemic/",
          "https://www.cfodive.com/news/inflation-cools-reassuring-fed-unexpectedly-hot-gains-q1-retail-sales-powell-federal-reserve/716255/?utm_source=sailthru&utm_medium=email&utm_campaign=issue:%202024-05-16%20cfo%20dive%20%5bissue:62114%5d&utm_term=cfo%20dive",
          "http://www.andrewtrumper.com/2008/01/war-is-not-cheap.html",
          "http://reddragonleo.com/2018/03/22/es-morning-update-march-22nd-2018/",
          "https://alfred.stlouisfed.org/series?seid=expdacef621allest",
          "http://michellelinhomes.com/purple/1886-norton-sound-cm-san-jose-ca~l5057031",
          "https://alfred.stlouisfed.org/series?seid=b03002013e045075"
         ],
         "type": "scattergeo"
        },
        {
         "lat": [
          null
         ],
         "lon": [
          null
         ],
         "marker": {
          "color": "blue",
          "size": 10
         },
         "mode": "markers",
         "name": "Comprehensive County Data: Population, Income, and Government Resources",
         "type": "scattergeo"
        },
        {
         "lat": [
          null
         ],
         "lon": [
          null
         ],
         "marker": {
          "color": "purple",
          "size": 10
         },
         "mode": "markers",
         "name": "National Health and Demographic Survey: Insights Across Communities",
         "type": "scattergeo"
        },
        {
         "lat": [
          null
         ],
         "lon": [
          null
         ],
         "marker": {
          "color": "red",
          "size": 10
         },
         "mode": "markers",
         "name": "State and Community Health Services: Access and Resources",
         "type": "scattergeo"
        },
        {
         "lat": [
          null
         ],
         "lon": [
          null
         ],
         "marker": {
          "color": "pink",
          "size": 10
         },
         "mode": "markers",
         "name": "Housing Market Analysis: Prices, Values, and Statistics",
         "type": "scattergeo"
        },
        {
         "lat": [
          null
         ],
         "lon": [
          null
         ],
         "marker": {
          "color": "lightgreen",
          "size": 10
         },
         "mode": "markers",
         "name": "Annual Market Trends: Business, Family, and Economic Insights",
         "type": "scattergeo"
        },
        {
         "lat": [
          null
         ],
         "lon": [
          null
         ],
         "marker": {
          "color": "gray",
          "size": 10
         },
         "mode": "markers",
         "name": "Other",
         "type": "scattergeo"
        }
       ],
       "layout": {
        "geo": {
         "scope": "north america"
        },
        "legend": {
         "itemsizing": "constant",
         "title": {
          "text": "Topics"
         }
        },
        "template": {
         "data": {
          "bar": [
           {
            "error_x": {
             "color": "#2a3f5f"
            },
            "error_y": {
             "color": "#2a3f5f"
            },
            "marker": {
             "line": {
              "color": "#E5ECF6",
              "width": 0.5
             },
             "pattern": {
              "fillmode": "overlay",
              "size": 10,
              "solidity": 0.2
             }
            },
            "type": "bar"
           }
          ],
          "barpolar": [
           {
            "marker": {
             "line": {
              "color": "#E5ECF6",
              "width": 0.5
             },
             "pattern": {
              "fillmode": "overlay",
              "size": 10,
              "solidity": 0.2
             }
            },
            "type": "barpolar"
           }
          ],
          "carpet": [
           {
            "aaxis": {
             "endlinecolor": "#2a3f5f",
             "gridcolor": "white",
             "linecolor": "white",
             "minorgridcolor": "white",
             "startlinecolor": "#2a3f5f"
            },
            "baxis": {
             "endlinecolor": "#2a3f5f",
             "gridcolor": "white",
             "linecolor": "white",
             "minorgridcolor": "white",
             "startlinecolor": "#2a3f5f"
            },
            "type": "carpet"
           }
          ],
          "choropleth": [
           {
            "colorbar": {
             "outlinewidth": 0,
             "ticks": ""
            },
            "type": "choropleth"
           }
          ],
          "contour": [
           {
            "colorbar": {
             "outlinewidth": 0,
             "ticks": ""
            },
            "colorscale": [
             [
              0,
              "#0d0887"
             ],
             [
              0.1111111111111111,
              "#46039f"
             ],
             [
              0.2222222222222222,
              "#7201a8"
             ],
             [
              0.3333333333333333,
              "#9c179e"
             ],
             [
              0.4444444444444444,
              "#bd3786"
             ],
             [
              0.5555555555555556,
              "#d8576b"
             ],
             [
              0.6666666666666666,
              "#ed7953"
             ],
             [
              0.7777777777777778,
              "#fb9f3a"
             ],
             [
              0.8888888888888888,
              "#fdca26"
             ],
             [
              1,
              "#f0f921"
             ]
            ],
            "type": "contour"
           }
          ],
          "contourcarpet": [
           {
            "colorbar": {
             "outlinewidth": 0,
             "ticks": ""
            },
            "type": "contourcarpet"
           }
          ],
          "heatmap": [
           {
            "colorbar": {
             "outlinewidth": 0,
             "ticks": ""
            },
            "colorscale": [
             [
              0,
              "#0d0887"
             ],
             [
              0.1111111111111111,
              "#46039f"
             ],
             [
              0.2222222222222222,
              "#7201a8"
             ],
             [
              0.3333333333333333,
              "#9c179e"
             ],
             [
              0.4444444444444444,
              "#bd3786"
             ],
             [
              0.5555555555555556,
              "#d8576b"
             ],
             [
              0.6666666666666666,
              "#ed7953"
             ],
             [
              0.7777777777777778,
              "#fb9f3a"
             ],
             [
              0.8888888888888888,
              "#fdca26"
             ],
             [
              1,
              "#f0f921"
             ]
            ],
            "type": "heatmap"
           }
          ],
          "heatmapgl": [
           {
            "colorbar": {
             "outlinewidth": 0,
             "ticks": ""
            },
            "colorscale": [
             [
              0,
              "#0d0887"
             ],
             [
              0.1111111111111111,
              "#46039f"
             ],
             [
              0.2222222222222222,
              "#7201a8"
             ],
             [
              0.3333333333333333,
              "#9c179e"
             ],
             [
              0.4444444444444444,
              "#bd3786"
             ],
             [
              0.5555555555555556,
              "#d8576b"
             ],
             [
              0.6666666666666666,
              "#ed7953"
             ],
             [
              0.7777777777777778,
              "#fb9f3a"
             ],
             [
              0.8888888888888888,
              "#fdca26"
             ],
             [
              1,
              "#f0f921"
             ]
            ],
            "type": "heatmapgl"
           }
          ],
          "histogram": [
           {
            "marker": {
             "pattern": {
              "fillmode": "overlay",
              "size": 10,
              "solidity": 0.2
             }
            },
            "type": "histogram"
           }
          ],
          "histogram2d": [
           {
            "colorbar": {
             "outlinewidth": 0,
             "ticks": ""
            },
            "colorscale": [
             [
              0,
              "#0d0887"
             ],
             [
              0.1111111111111111,
              "#46039f"
             ],
             [
              0.2222222222222222,
              "#7201a8"
             ],
             [
              0.3333333333333333,
              "#9c179e"
             ],
             [
              0.4444444444444444,
              "#bd3786"
             ],
             [
              0.5555555555555556,
              "#d8576b"
             ],
             [
              0.6666666666666666,
              "#ed7953"
             ],
             [
              0.7777777777777778,
              "#fb9f3a"
             ],
             [
              0.8888888888888888,
              "#fdca26"
             ],
             [
              1,
              "#f0f921"
             ]
            ],
            "type": "histogram2d"
           }
          ],
          "histogram2dcontour": [
           {
            "colorbar": {
             "outlinewidth": 0,
             "ticks": ""
            },
            "colorscale": [
             [
              0,
              "#0d0887"
             ],
             [
              0.1111111111111111,
              "#46039f"
             ],
             [
              0.2222222222222222,
              "#7201a8"
             ],
             [
              0.3333333333333333,
              "#9c179e"
             ],
             [
              0.4444444444444444,
              "#bd3786"
             ],
             [
              0.5555555555555556,
              "#d8576b"
             ],
             [
              0.6666666666666666,
              "#ed7953"
             ],
             [
              0.7777777777777778,
              "#fb9f3a"
             ],
             [
              0.8888888888888888,
              "#fdca26"
             ],
             [
              1,
              "#f0f921"
             ]
            ],
            "type": "histogram2dcontour"
           }
          ],
          "mesh3d": [
           {
            "colorbar": {
             "outlinewidth": 0,
             "ticks": ""
            },
            "type": "mesh3d"
           }
          ],
          "parcoords": [
           {
            "line": {
             "colorbar": {
              "outlinewidth": 0,
              "ticks": ""
             }
            },
            "type": "parcoords"
           }
          ],
          "pie": [
           {
            "automargin": true,
            "type": "pie"
           }
          ],
          "scatter": [
           {
            "fillpattern": {
             "fillmode": "overlay",
             "size": 10,
             "solidity": 0.2
            },
            "type": "scatter"
           }
          ],
          "scatter3d": [
           {
            "line": {
             "colorbar": {
              "outlinewidth": 0,
              "ticks": ""
             }
            },
            "marker": {
             "colorbar": {
              "outlinewidth": 0,
              "ticks": ""
             }
            },
            "type": "scatter3d"
           }
          ],
          "scattercarpet": [
           {
            "marker": {
             "colorbar": {
              "outlinewidth": 0,
              "ticks": ""
             }
            },
            "type": "scattercarpet"
           }
          ],
          "scattergeo": [
           {
            "marker": {
             "colorbar": {
              "outlinewidth": 0,
              "ticks": ""
             }
            },
            "type": "scattergeo"
           }
          ],
          "scattergl": [
           {
            "marker": {
             "colorbar": {
              "outlinewidth": 0,
              "ticks": ""
             }
            },
            "type": "scattergl"
           }
          ],
          "scattermapbox": [
           {
            "marker": {
             "colorbar": {
              "outlinewidth": 0,
              "ticks": ""
             }
            },
            "type": "scattermapbox"
           }
          ],
          "scatterpolar": [
           {
            "marker": {
             "colorbar": {
              "outlinewidth": 0,
              "ticks": ""
             }
            },
            "type": "scatterpolar"
           }
          ],
          "scatterpolargl": [
           {
            "marker": {
             "colorbar": {
              "outlinewidth": 0,
              "ticks": ""
             }
            },
            "type": "scatterpolargl"
           }
          ],
          "scatterternary": [
           {
            "marker": {
             "colorbar": {
              "outlinewidth": 0,
              "ticks": ""
             }
            },
            "type": "scatterternary"
           }
          ],
          "surface": [
           {
            "colorbar": {
             "outlinewidth": 0,
             "ticks": ""
            },
            "colorscale": [
             [
              0,
              "#0d0887"
             ],
             [
              0.1111111111111111,
              "#46039f"
             ],
             [
              0.2222222222222222,
              "#7201a8"
             ],
             [
              0.3333333333333333,
              "#9c179e"
             ],
             [
              0.4444444444444444,
              "#bd3786"
             ],
             [
              0.5555555555555556,
              "#d8576b"
             ],
             [
              0.6666666666666666,
              "#ed7953"
             ],
             [
              0.7777777777777778,
              "#fb9f3a"
             ],
             [
              0.8888888888888888,
              "#fdca26"
             ],
             [
              1,
              "#f0f921"
             ]
            ],
            "type": "surface"
           }
          ],
          "table": [
           {
            "cells": {
             "fill": {
              "color": "#EBF0F8"
             },
             "line": {
              "color": "white"
             }
            },
            "header": {
             "fill": {
              "color": "#C8D4E3"
             },
             "line": {
              "color": "white"
             }
            },
            "type": "table"
           }
          ]
         },
         "layout": {
          "annotationdefaults": {
           "arrowcolor": "#2a3f5f",
           "arrowhead": 0,
           "arrowwidth": 1
          },
          "autotypenumbers": "strict",
          "coloraxis": {
           "colorbar": {
            "outlinewidth": 0,
            "ticks": ""
           }
          },
          "colorscale": {
           "diverging": [
            [
             0,
             "#8e0152"
            ],
            [
             0.1,
             "#c51b7d"
            ],
            [
             0.2,
             "#de77ae"
            ],
            [
             0.3,
             "#f1b6da"
            ],
            [
             0.4,
             "#fde0ef"
            ],
            [
             0.5,
             "#f7f7f7"
            ],
            [
             0.6,
             "#e6f5d0"
            ],
            [
             0.7,
             "#b8e186"
            ],
            [
             0.8,
             "#7fbc41"
            ],
            [
             0.9,
             "#4d9221"
            ],
            [
             1,
             "#276419"
            ]
           ],
           "sequential": [
            [
             0,
             "#0d0887"
            ],
            [
             0.1111111111111111,
             "#46039f"
            ],
            [
             0.2222222222222222,
             "#7201a8"
            ],
            [
             0.3333333333333333,
             "#9c179e"
            ],
            [
             0.4444444444444444,
             "#bd3786"
            ],
            [
             0.5555555555555556,
             "#d8576b"
            ],
            [
             0.6666666666666666,
             "#ed7953"
            ],
            [
             0.7777777777777778,
             "#fb9f3a"
            ],
            [
             0.8888888888888888,
             "#fdca26"
            ],
            [
             1,
             "#f0f921"
            ]
           ],
           "sequentialminus": [
            [
             0,
             "#0d0887"
            ],
            [
             0.1111111111111111,
             "#46039f"
            ],
            [
             0.2222222222222222,
             "#7201a8"
            ],
            [
             0.3333333333333333,
             "#9c179e"
            ],
            [
             0.4444444444444444,
             "#bd3786"
            ],
            [
             0.5555555555555556,
             "#d8576b"
            ],
            [
             0.6666666666666666,
             "#ed7953"
            ],
            [
             0.7777777777777778,
             "#fb9f3a"
            ],
            [
             0.8888888888888888,
             "#fdca26"
            ],
            [
             1,
             "#f0f921"
            ]
           ]
          },
          "colorway": [
           "#636efa",
           "#EF553B",
           "#00cc96",
           "#ab63fa",
           "#FFA15A",
           "#19d3f3",
           "#FF6692",
           "#B6E880",
           "#FF97FF",
           "#FECB52"
          ],
          "font": {
           "color": "#2a3f5f"
          },
          "geo": {
           "bgcolor": "white",
           "lakecolor": "white",
           "landcolor": "#E5ECF6",
           "showlakes": true,
           "showland": true,
           "subunitcolor": "white"
          },
          "hoverlabel": {
           "align": "left"
          },
          "hovermode": "closest",
          "mapbox": {
           "style": "light"
          },
          "paper_bgcolor": "white",
          "plot_bgcolor": "#E5ECF6",
          "polar": {
           "angularaxis": {
            "gridcolor": "white",
            "linecolor": "white",
            "ticks": ""
           },
           "bgcolor": "#E5ECF6",
           "radialaxis": {
            "gridcolor": "white",
            "linecolor": "white",
            "ticks": ""
           }
          },
          "scene": {
           "xaxis": {
            "backgroundcolor": "#E5ECF6",
            "gridcolor": "white",
            "gridwidth": 2,
            "linecolor": "white",
            "showbackground": true,
            "ticks": "",
            "zerolinecolor": "white"
           },
           "yaxis": {
            "backgroundcolor": "#E5ECF6",
            "gridcolor": "white",
            "gridwidth": 2,
            "linecolor": "white",
            "showbackground": true,
            "ticks": "",
            "zerolinecolor": "white"
           },
           "zaxis": {
            "backgroundcolor": "#E5ECF6",
            "gridcolor": "white",
            "gridwidth": 2,
            "linecolor": "white",
            "showbackground": true,
            "ticks": "",
            "zerolinecolor": "white"
           }
          },
          "shapedefaults": {
           "line": {
            "color": "#2a3f5f"
           }
          },
          "ternary": {
           "aaxis": {
            "gridcolor": "white",
            "linecolor": "white",
            "ticks": ""
           },
           "baxis": {
            "gridcolor": "white",
            "linecolor": "white",
            "ticks": ""
           },
           "bgcolor": "#E5ECF6",
           "caxis": {
            "gridcolor": "white",
            "linecolor": "white",
            "ticks": ""
           }
          },
          "title": {
           "x": 0.05
          },
          "xaxis": {
           "automargin": true,
           "gridcolor": "white",
           "linecolor": "white",
           "ticks": "",
           "title": {
            "standoff": 15
           },
           "zerolinecolor": "white",
           "zerolinewidth": 2
          },
          "yaxis": {
           "automargin": true,
           "gridcolor": "white",
           "linecolor": "white",
           "ticks": "",
           "title": {
            "standoff": 15
           },
           "zerolinecolor": "white",
           "zerolinewidth": 2
          }
         }
        },
        "title": {
         "text": "Instances of Cited Census Data"
        }
       }
      }
     },
     "metadata": {},
     "output_type": "display_data"
    }
   ],
   "source": [
    "# Define a color map for the topics\n",
    "color_map = {\n",
    "    'Comprehensive County Data: Population, Income, and Government Resources': 'blue',\n",
    "    'National Health and Demographic Survey: Insights Across Communities': 'purple',\n",
    "    'State and Community Health Services: Access and Resources': 'red',\n",
    "    'Housing Market Analysis: Prices, Values, and Statistics': 'pink',\n",
    "    'Annual Market Trends: Business, Family, and Economic Insights': 'lightgreen',\n",
    "    'Other': 'gray'\n",
    "}\n",
    "\n",
    "# Map the Topic_Name to colors\n",
    "map_df_cited_merged['color'] = map_df_cited_merged['Topic_Name'].map(color_map)\n",
    "\n",
    "# Create the scatter geo plot\n",
    "fig = go.Figure(data=go.Scattergeo(\n",
    "    lon=map_df_cited_merged['longitude'],\n",
    "    lat=map_df_cited_merged['latitude'],\n",
    "    mode='markers',\n",
    "    text=map_df_cited_merged['url'],\n",
    "    hoverinfo='text',\n",
    "    marker=dict(color=map_df_cited_merged['color'], size=10, line=dict(width=1, color='black')),\n",
    "    showlegend=False\n",
    "))\n",
    "\n",
    "# Update the layout to include a legend\n",
    "fig.update_layout(\n",
    "    title='Instances of Cited Census Data',\n",
    "    geo_scope='north america',\n",
    "    legend_title_text='Topics',\n",
    "    legend=dict(\n",
    "        itemsizing='constant'\n",
    "    )\n",
    ")\n",
    "\n",
    "# Add legend items manually\n",
    "for topic, color in color_map.items():\n",
    "    fig.add_trace(go.Scattergeo(\n",
    "        lon=[None], lat=[None],\n",
    "        mode='markers',\n",
    "        marker=dict(size=10, color=color),\n",
    "        name=topic\n",
    "    ))\n",
    "\n",
    "# Show the plot\n",
    "fig.show()"
   ]
  },
  {
   "cell_type": "markdown",
   "metadata": {},
   "source": [
    "## Seed Link Analysis"
   ]
  },
  {
   "cell_type": "code",
   "execution_count": 42,
   "metadata": {},
   "outputs": [],
   "source": [
    "r_url = final_data_repackaged['url'].tolist()\n",
    "c_url = final_data_cited['url'].tolist()"
   ]
  },
  {
   "cell_type": "markdown",
   "metadata": {},
   "source": [
    "Repackaged"
   ]
  },
  {
   "cell_type": "code",
   "execution_count": 44,
   "metadata": {},
   "outputs": [],
   "source": [
    "# Parsing links and creating a dataframe\n",
    "from urllib.parse import urlparse # parse out urls\n",
    "\n",
    "seed_parsed_url = []\n",
    "\n",
    "for url in r_url:\n",
    "    seed_parsed = urlparse(url)\n",
    "    seed_parsed_url.append({\n",
    "        \"URL\": url,\n",
    "        \"Scheme\": seed_parsed.scheme,\n",
    "        \"Netloc\": seed_parsed.netloc,\n",
    "        \"Path\": seed_parsed.path,\n",
    "        \"Query\": seed_parsed.query\n",
    "    })\n",
    "\n",
    "# Convert the list of dictionaries to a DataFrame\n",
    "r_seed_parsed_links = pd.DataFrame(seed_parsed_url)"
   ]
  },
  {
   "cell_type": "code",
   "execution_count": 45,
   "metadata": {},
   "outputs": [
    {
     "name": "stdout",
     "output_type": "stream",
     "text": [
      "                                                   URL Scheme  \\\n",
      "0    http://li558-193.members.linode.com/index.php?...   http   \n",
      "1    http://www.tuscco.com/event/tuscaloosa-county-...   http   \n",
      "2    https://929thebull.com/spill-the-beans-rumors-...  https   \n",
      "3    https://97x.com/kansas-officials-catch-someone...  https   \n",
      "4    https://alfred.stlouisfed.org/series?seid=puaa...  https   \n",
      "..                                                 ...    ...   \n",
      "123            https://www.wakeforestnc.gov/file/10549  https   \n",
      "124                https://www.wikidata.org/wiki/q1546  https   \n",
      "125              https://www.wikidata.org/wiki/q578055  https   \n",
      "126  https://www.wxpr.org/2022-07-28/these-hurrican...  https   \n",
      "127  https://www.wyomingpublicmedia.org/news/2021-0...  https   \n",
      "\n",
      "                           Netloc  \\\n",
      "0    li558-193.members.linode.com   \n",
      "1                  www.tuscco.com   \n",
      "2                  929thebull.com   \n",
      "3                         97x.com   \n",
      "4           alfred.stlouisfed.org   \n",
      "..                            ...   \n",
      "123          www.wakeforestnc.gov   \n",
      "124              www.wikidata.org   \n",
      "125              www.wikidata.org   \n",
      "126                  www.wxpr.org   \n",
      "127    www.wyomingpublicmedia.org   \n",
      "\n",
      "                                                  Path  \\\n",
      "0                                           /index.php   \n",
      "1              /event/tuscaloosa-county-land-tax-sale/   \n",
      "2    /spill-the-beans-rumors-percolate-as-yakima-ma...   \n",
      "3    /kansas-officials-catch-someone-fishing-with-a...   \n",
      "4                                              /series   \n",
      "..                                                 ...   \n",
      "123                                        /file/10549   \n",
      "124                                        /wiki/q1546   \n",
      "125                                      /wiki/q578055   \n",
      "126  /2022-07-28/these-hurricane-flood-maps-reveal-...   \n",
      "127  /news/2021-07-27/report-single-mothers-bore-br...   \n",
      "\n",
      "                                                 Query  \n",
      "0    threads/fixing-inequality-through-taxes.397225...  \n",
      "1                                                 <NA>  \n",
      "2                                                 <NA>  \n",
      "3                                                 <NA>  \n",
      "4    seid=puaany36055a647ncen&utm_source=series_pag...  \n",
      "..                                                 ...  \n",
      "123                                               <NA>  \n",
      "124                                               <NA>  \n",
      "125                                               <NA>  \n",
      "126                                               <NA>  \n",
      "127                                               <NA>  \n",
      "\n",
      "[128 rows x 5 columns]\n"
     ]
    }
   ],
   "source": [
    "# Filter out any row in paths that has NA or only a / in it \n",
    "r_seed_parsed_links = r_seed_parsed_links.replace('', pd.NA).dropna(subset=['Path'])\n",
    "r_seed_parsed_links = r_seed_parsed_links[r_seed_parsed_links['Path'] != '/']\n",
    "\n",
    "print(r_seed_parsed_links)"
   ]
  },
  {
   "cell_type": "code",
   "execution_count": 46,
   "metadata": {},
   "outputs": [
    {
     "name": "stdout",
     "output_type": "stream",
     "text": [
      "Netloc distribution:\n",
      "Netloc\n",
      "catalog.data.gov                   7\n",
      "hopewelltwp.com                    5\n",
      "cuyahogacounty.gov                 4\n",
      "www.incomebyzipcode.com            4\n",
      "memberportal.keywestchamber.org    3\n",
      "                                  ..\n",
      "libguides.luc.edu                  1\n",
      "libguides.csun.edu                 1\n",
      "libguides.columbiasouthern.edu     1\n",
      "kingfm.com                         1\n",
      "www.wyomingpublicmedia.org         1\n",
      "Name: count, Length: 106, dtype: int64\n"
     ]
    }
   ],
   "source": [
    "netloc_distribution = r_seed_parsed_links['Netloc'].value_counts()\n",
    "print(\"Netloc distribution:\")\n",
    "print(netloc_distribution)"
   ]
  },
  {
   "cell_type": "code",
   "execution_count": 49,
   "metadata": {},
   "outputs": [
    {
     "data": {
      "image/png": "[encoded data removed]",
      "text/plain": [
       "<Figure size 1000x600 with 1 Axes>"
      ]
     },
     "metadata": {},
     "output_type": "display_data"
    }
   ],
   "source": [
    "# Plot netloc distribution (top 10)\n",
    "plt.figure(figsize=(10, 6))\n",
    "top_netlocs = r_seed_parsed_links['Netloc'].value_counts().nlargest(10)\n",
    "sns.barplot(x=top_netlocs.index, y=top_netlocs.values)\n",
    "plt.title('Top 10 Repackaged Seed Links Netlocs')\n",
    "plt.xlabel('Netloc')\n",
    "plt.ylabel('Count')\n",
    "plt.xticks(rotation=45, ha = 'right')\n",
    "plt.show()"
   ]
  },
  {
   "cell_type": "markdown",
   "metadata": {},
   "source": [
    "Cited"
   ]
  },
  {
   "cell_type": "code",
   "execution_count": 50,
   "metadata": {},
   "outputs": [],
   "source": [
    "# Parsing links and creating a dataframe\n",
    "from urllib.parse import urlparse # parse out urls\n",
    "\n",
    "c_seed_parsed_url = []\n",
    "\n",
    "for url in c_url:\n",
    "    c_seed_parsed = urlparse(url)\n",
    "    c_seed_parsed_url.append({\n",
    "        \"URL\": url,\n",
    "        \"Scheme\": c_seed_parsed.scheme,\n",
    "        \"Netloc\": c_seed_parsed.netloc,\n",
    "        \"Path\": c_seed_parsed.path,\n",
    "        \"Query\": c_seed_parsed.query\n",
    "    })\n",
    "\n",
    "# Convert the list of dictionaries to a DataFrame\n",
    "c_seed_parsed_links = pd.DataFrame(c_seed_parsed_url)"
   ]
  },
  {
   "cell_type": "code",
   "execution_count": 51,
   "metadata": {},
   "outputs": [
    {
     "name": "stdout",
     "output_type": "stream",
     "text": [
      "                                                   URL Scheme  \\\n",
      "0    http://bonddad.blogspot.com/2021/12/manufactur...   http   \n",
      "1    http://bonddad.blogspot.com/2023/09/initial-jo...   http   \n",
      "3    http://colonialsense.com/society-lifestyle/cen...   http   \n",
      "4    http://fileformats.archiveteam.org/index.php?t...   http   \n",
      "6    http://labor.state.vt.us/employer.cfm?stfips=5...   http   \n",
      "..                                                 ...    ...   \n",
      "196  https://www.wgbh.org/news/national/2019-10-14/...  https   \n",
      "197  https://www.wikiwand.com/en/2011_united_kingdo...  https   \n",
      "198  https://www.withdra.com/p/mind-the-gap-explori...  https   \n",
      "199  https://yelmwa.gov/i_want_to/contact/send_a_no...  https   \n",
      "200        https://yelmwa.gov/news_detail_t10_r448.php  https   \n",
      "\n",
      "                          Netloc  \\\n",
      "0           bonddad.blogspot.com   \n",
      "1           bonddad.blogspot.com   \n",
      "3              colonialsense.com   \n",
      "4    fileformats.archiveteam.org   \n",
      "6              labor.state.vt.us   \n",
      "..                           ...   \n",
      "196                 www.wgbh.org   \n",
      "197             www.wikiwand.com   \n",
      "198              www.withdra.com   \n",
      "199                   yelmwa.gov   \n",
      "200                   yelmwa.gov   \n",
      "\n",
      "                                                  Path  \\\n",
      "0            /2021/12/manufacturing-still-red-hot.html   \n",
      "1    /2023/09/initial-jobless-claims-remain-higher-...   \n",
      "3             /society-lifestyle/census/governance.php   \n",
      "4                                           /index.php   \n",
      "6                                        /employer.cfm   \n",
      "..                                                 ...   \n",
      "196  /news/national/2019-10-14/the-trump-administra...   \n",
      "197                     /en/2011_united_kingdom_census   \n",
      "198              /p/mind-the-gap-exploring-the-growing   \n",
      "199  /i_want_to/contact/send_a_note_to_the_police_c...   \n",
      "200                          /news_detail_t10_r448.php   \n",
      "\n",
      "                             Query  \n",
      "0                             <NA>  \n",
      "1                             <NA>  \n",
      "3                         cs=12970  \n",
      "4    title=cps_project&oldid=37627  \n",
      "6        stfips=50&empid=109153494  \n",
      "..                             ...  \n",
      "196                           <NA>  \n",
      "197                           <NA>  \n",
      "198                           <NA>  \n",
      "199                           <NA>  \n",
      "200                           <NA>  \n",
      "\n",
      "[194 rows x 5 columns]\n"
     ]
    }
   ],
   "source": [
    "# Filter out any row in paths that has NA or only a / in it \n",
    "c_seed_parsed_links = c_seed_parsed_links.replace('', pd.NA).dropna(subset=['Path'])\n",
    "c_seed_parsed_links = c_seed_parsed_links[c_seed_parsed_links['Path'] != '/']\n",
    "\n",
    "print(c_seed_parsed_links)"
   ]
  },
  {
   "cell_type": "code",
   "execution_count": 52,
   "metadata": {},
   "outputs": [
    {
     "name": "stdout",
     "output_type": "stream",
     "text": [
      "Netloc distribution:\n",
      "Netloc\n",
      "alfred.stlouisfed.org      11\n",
      "fred.stlouisfed.org        11\n",
      "statisticalatlas.com       10\n",
      "reddragonleo.com            4\n",
      "bonddad.blogspot.com        3\n",
      "                           ..\n",
      "horasis.org                 1\n",
      "hardingnj.org               1\n",
      "guides.wpunj.edu            1\n",
      "grocerants.blogspot.com     1\n",
      "otisandjames.com            1\n",
      "Name: count, Length: 139, dtype: int64\n"
     ]
    }
   ],
   "source": [
    "netloc_distribution = c_seed_parsed_links['Netloc'].value_counts()\n",
    "print(\"Netloc distribution:\")\n",
    "print(netloc_distribution)"
   ]
  },
  {
   "cell_type": "code",
   "execution_count": 53,
   "metadata": {},
   "outputs": [
    {
     "data": {
      "image/png": "[encoded data removed]",
      "text/plain": [
       "<Figure size 1000x600 with 1 Axes>"
      ]
     },
     "metadata": {},
     "output_type": "display_data"
    }
   ],
   "source": [
    "# Plot netloc distribution (top 10)\n",
    "plt.figure(figsize=(10, 6))\n",
    "top_netlocs = c_seed_parsed_links['Netloc'].value_counts().nlargest(10)\n",
    "sns.barplot(x=top_netlocs.index, y=top_netlocs.values)\n",
    "plt.title('Top 10 Cited Seed Links Netlocs')\n",
    "plt.xlabel('Netloc')\n",
    "plt.ylabel('Count')\n",
    "plt.xticks(rotation=45, ha = 'right')\n",
    "plt.show()"
   ]
  },
  {
   "cell_type": "markdown",
   "metadata": {},
   "source": [
    "## USCB Link Parsing"
   ]
  },
  {
   "cell_type": "code",
   "execution_count": 36,
   "metadata": {},
   "outputs": [
    {
     "data": {
      "text/plain": [
       "702"
      ]
     },
     "execution_count": 36,
     "metadata": {},
     "output_type": "execute_result"
    }
   ],
   "source": [
    "from urllib.parse import urlparse # parse out urls\n",
    "\n",
    "#Saving Found Links into a list for later analysis\n",
    "urls = foundlinks['Found Links'].tolist()\n",
    "\n",
    "# Filter out URLs that are just 'census.gov' or 'census.gov/'\n",
    "filtered_urls = [\n",
    "    url for url in urls \n",
    "    if not (urlparse(url).netloc == 'www.census.gov' and (urlparse(url).path == '' or urlparse(url).path == '/'))\n",
    "]\n",
    "\n",
    "len(filtered_urls)"
   ]
  },
  {
   "cell_type": "code",
   "execution_count": 37,
   "metadata": {},
   "outputs": [],
   "source": [
    "#Identify patterns for repackaged links\n",
    "data_tables_patterns = ['table', 'dataset', 'data', 'productview']\n",
    "repackaged_data_tables_urls = [url for url in filtered_urls if any(pattern in url for pattern in data_tables_patterns)]\n",
    "cited_data_tables_urls = [url for url in filtered_urls if not any(pattern in url for pattern in data_tables_patterns)]"
   ]
  },
  {
   "cell_type": "code",
   "execution_count": 38,
   "metadata": {},
   "outputs": [
    {
     "data": {
      "text/plain": [
       "189"
      ]
     },
     "execution_count": 38,
     "metadata": {},
     "output_type": "execute_result"
    }
   ],
   "source": [
    "#Grabbing number of links\n",
    "len(repackaged_data_tables_urls)"
   ]
  },
  {
   "cell_type": "code",
   "execution_count": 39,
   "metadata": {},
   "outputs": [
    {
     "data": {
      "text/plain": [
       "513"
      ]
     },
     "execution_count": 39,
     "metadata": {},
     "output_type": "execute_result"
    }
   ],
   "source": [
    "#Grabbing number of links\n",
    "len(cited_data_tables_urls)"
   ]
  },
  {
   "cell_type": "markdown",
   "metadata": {},
   "source": [
    "### Repackaged"
   ]
  },
  {
   "cell_type": "code",
   "execution_count": 40,
   "metadata": {},
   "outputs": [],
   "source": [
    "# Parsing links and creating a dataframe\n",
    "\n",
    "r_parsed = []\n",
    "\n",
    "for url in repackaged_data_tables_urls:\n",
    "    parsed_url = urlparse(url)\n",
    "    r_parsed.append({\n",
    "        \"URL\": url,\n",
    "        \"Scheme\": parsed_url.scheme,\n",
    "        \"Netloc\": parsed_url.netloc,\n",
    "        \"Path\": parsed_url.path,\n",
    "        \"Query\": parsed_url.query\n",
    "    })\n",
    "\n",
    "# Convert the list of dictionaries to a DataFrame\n",
    "r_parsed_links = pd.DataFrame(r_parsed)"
   ]
  },
  {
   "cell_type": "code",
   "execution_count": null,
   "metadata": {},
   "outputs": [],
   "source": [
    "# Filter out any row in paths that has NA or only a / in it \n",
    "r_parsed_links = r_parsed_links.replace('', pd.NA).dropna(subset=['Path'])\n",
    "r_parsed_links = r_parsed_links[r_parsed_links['Path'] != '/']\n",
    "\n",
    "print(r_parsed_links)"
   ]
  },
  {
   "cell_type": "code",
   "execution_count": null,
   "metadata": {},
   "outputs": [],
   "source": [
    "# Count the number of URLs\n",
    "url_count = r_parsed_links['URL'].count()\n",
    "print(f\"Total number of URLs: {url_count}\")\n",
    "\n",
    "# Count the number of unique schemes\n",
    "unique_schemes = r_parsed_links['Scheme'].nunique()\n",
    "print(f\"Number of unique schemes: {unique_schemes}\")\n",
    "\n",
    "# Count the number of unique netlocs\n",
    "unique_netlocs = r_parsed_links['Netloc'].nunique()\n",
    "print(f\"Number of unique netlocs: {unique_netlocs}\")\n",
    "\n",
    "# Count the number of unique Paths\n",
    "unique_paths = r_parsed_links['Path'].nunique()\n",
    "print(f\"Number of unique Paths: {unique_paths}\")"
   ]
  },
  {
   "cell_type": "code",
   "execution_count": null,
   "metadata": {},
   "outputs": [],
   "source": [
    "# Extracting additional insights\n",
    "from collections import Counter\n",
    "\n",
    "# 1. Identify the most common URL paths\n",
    "r_paths = r_parsed_links['Path']\n",
    "r_path_counts = Counter(r_paths)\n",
    "r_most_common_paths = r_path_counts.most_common(15)\n",
    "\n",
    "print(\"\\nMost common Repackaged URL paths:\")\n",
    "for path, count in r_most_common_paths:\n",
    "    print(f\"{path}: {count}\")"
   ]
  },
  {
   "cell_type": "code",
   "execution_count": null,
   "metadata": {},
   "outputs": [],
   "source": [
    "tables, counts = zip(*r_most_common_paths)\n",
    "# Create a DataFrame from the tables and counts\n",
    "data = {'Census Table': tables, 'Number of References': counts}\n",
    "df = pd.DataFrame(data)\n",
    "\n",
    "# Create an interactive horizontal bar chart\n",
    "fig = px.bar(df, \n",
    "             x='Number of References', \n",
    "             y='Census Table', \n",
    "             orientation='h',  # Horizontal bars\n",
    "             title=\"Top 15 Most Referenced U.S. Census Paths in Repackaged Instances\",\n",
    "             labels={'Number of References': 'Number of References', 'Census Table': 'Census Table'},\n",
    "             color='Number of References',  # Color bars based on count\n",
    "             text='Number of References')  # Show count on hover\n",
    "\n",
    "# Customize the hover data (you can modify this to include more details)\n",
    "fig.update_traces(texttemplate='%{text}', textposition='outside')\n",
    "\n",
    "# Invert the y-axis to show the highest count at the top\n",
    "fig.update_yaxes(categoryorder='total descending')\n",
    "\n",
    "# Show the interactive plot\n",
    "fig.show()"
   ]
  },
  {
   "cell_type": "code",
   "execution_count": null,
   "metadata": {},
   "outputs": [],
   "source": [
    "netloc_distribution = r_parsed_links['Netloc'].value_counts()\n",
    "print(\"Netloc distribution:\")\n",
    "print(netloc_distribution)"
   ]
  },
  {
   "cell_type": "code",
   "execution_count": null,
   "metadata": {},
   "outputs": [],
   "source": [
    "# Plot netloc distribution (top 10)\n",
    "plt.figure(figsize=(10, 6))\n",
    "top_netlocs = r_parsed_links['Netloc'].value_counts().nlargest(10)\n",
    "sns.barplot(x=top_netlocs.index, y=top_netlocs.values)\n",
    "plt.title('Top 10 Repackaged Netlocs')\n",
    "plt.xlabel('Netloc')\n",
    "plt.ylabel('Count')\n",
    "plt.xticks(rotation=45)\n",
    "plt.show()"
   ]
  },
  {
   "cell_type": "code",
   "execution_count": null,
   "metadata": {},
   "outputs": [],
   "source": [
    "r_query = r_parsed_links.replace('', pd.NA).dropna(subset=['Query'])\n",
    "print(r_query)"
   ]
  },
  {
   "cell_type": "code",
   "execution_count": null,
   "metadata": {},
   "outputs": [],
   "source": [
    "# Extract and count unique query parameters\n",
    "r_query['Query_Params'] = r_query['Query'].apply(lambda x: len(x.split('&')) if x else 0)\n",
    "query_params_distribution = r_query['Query_Params'].value_counts()\n",
    "print(\"Repackaged Query parameters distribution:\")\n",
    "print(query_params_distribution)\n",
    "\n",
    "# Plot query parameters distribution\n",
    "plt.figure(figsize=(10, 6))\n",
    "sns.countplot(data=r_query, x='Query_Params', order=r_query['Query_Params'].value_counts().index)\n",
    "plt.title('Distribution of Repackaged Query Parameters Count')\n",
    "plt.xlabel('Number of Query Parameters')\n",
    "plt.ylabel('Count')\n",
    "plt.show()"
   ]
  },
  {
   "cell_type": "code",
   "execution_count": null,
   "metadata": {},
   "outputs": [],
   "source": [
    "# Extracting additional insights\n",
    "from collections import Counter\n",
    "\n",
    "# 1. Identify the most common URL paths\n",
    "r_query = r_query['Query']\n",
    "r_query_counts = Counter(r_query)\n",
    "r_most_common_query = r_query_counts.most_common(15)\n",
    "\n",
    "print(\"\\nMost common Repackaged URL paths:\")\n",
    "for path, count in r_most_common_query:\n",
    "    print(f\"{path}: {count}\")"
   ]
  },
  {
   "cell_type": "code",
   "execution_count": null,
   "metadata": {},
   "outputs": [],
   "source": [
    "tables, counts = zip(*r_most_common_query)\n",
    "# Create a DataFrame from the tables and counts\n",
    "data = {'Census Table': tables, 'Number of References': counts}\n",
    "df = pd.DataFrame(data)\n",
    "\n",
    "# Create an interactive horizontal bar chart\n",
    "fig = px.bar(df, \n",
    "             x='Number of References', \n",
    "             y='Census Table', \n",
    "             orientation='h',  # Horizontal bars\n",
    "             title=\"Top 15 Most Referenced U.S. Census Queries in Repackaged Instances\",\n",
    "             labels={'Number of References': 'Number of References', 'Census Table': 'Census Table'},\n",
    "             color='Number of References',  # Color bars based on count\n",
    "             text='Number of References')  # Show count on hover\n",
    "\n",
    "# Customize the hover data (you can modify this to include more details)\n",
    "fig.update_traces(texttemplate='%{text}', textposition='outside')\n",
    "\n",
    "# Invert the y-axis to show the highest count at the top\n",
    "fig.update_yaxes(categoryorder='total descending')\n",
    "\n",
    "# Show the interactive plot\n",
    "fig.show()"
   ]
  },
  {
   "cell_type": "markdown",
   "metadata": {},
   "source": [
    "### Cited"
   ]
  },
  {
   "cell_type": "code",
   "execution_count": null,
   "metadata": {},
   "outputs": [],
   "source": [
    "#Parsing links and creating a dataframe\n",
    "\n",
    "c_parsed = []\n",
    "\n",
    "for url in cited_data_tables_urls:\n",
    "    parsed_url = urlparse(url)\n",
    "    c_parsed.append({\n",
    "        \"URL\": url,\n",
    "        \"Scheme\": parsed_url.scheme,\n",
    "        \"Netloc\": parsed_url.netloc,\n",
    "        \"Path\": parsed_url.path,\n",
    "        \"Query\": parsed_url.query\n",
    "    })\n",
    "\n",
    "# Convert the list of dictionaries to a DataFrame\n",
    "c_parsed_links = pd.DataFrame(c_parsed)\n",
    "\n",
    "print(c_parsed_links)"
   ]
  },
  {
   "cell_type": "code",
   "execution_count": null,
   "metadata": {},
   "outputs": [],
   "source": [
    "#Filter out any row in paths that has NA or only a / in it \n",
    "c_parsed_links = c_parsed_links.replace('', pd.NA).dropna(subset=['Path'])\n",
    "c_parsed_links = c_parsed_links[c_parsed_links['Path'] != '/']\n",
    "\n",
    "print(c_parsed_links)"
   ]
  },
  {
   "cell_type": "code",
   "execution_count": null,
   "metadata": {},
   "outputs": [],
   "source": [
    "# Count the number of URLs\n",
    "url_count = c_parsed_links['URL'].count()\n",
    "print(f\"Total number of URLs: {url_count}\")\n",
    "\n",
    "# Count the number of unique schemes\n",
    "unique_schemes = c_parsed_links['Scheme'].nunique()\n",
    "print(f\"Number of unique schemes: {unique_schemes}\")\n",
    "\n",
    "# Count the number of unique netlocs\n",
    "unique_netlocs = c_parsed_links['Netloc'].nunique()\n",
    "print(f\"Number of unique netlocs: {unique_netlocs}\")\n",
    "\n",
    "# Count the number of unique Paths\n",
    "unique_paths = c_parsed_links['Path'].nunique()\n",
    "print(f\"Number of unique Paths: {unique_paths}\")"
   ]
  },
  {
   "cell_type": "code",
   "execution_count": null,
   "metadata": {},
   "outputs": [],
   "source": [
    "# 1. Identify the most common URL paths\n",
    "c_paths = c_parsed_links['Path']\n",
    "c_path_counts = Counter(c_paths)\n",
    "c_most_common_paths = c_path_counts.most_common(15)\n",
    "\n",
    "print(\"\\nMost common Cited URL paths:\")\n",
    "for path, count in c_most_common_paths:\n",
    "    print(f\"{path}: {count}\")"
   ]
  },
  {
   "cell_type": "code",
   "execution_count": null,
   "metadata": {},
   "outputs": [],
   "source": [
    "tables, counts = zip(*c_most_common_paths)\n",
    "# Create a DataFrame from the tables and counts\n",
    "data = {'Census Table': tables, 'Number of References': counts}\n",
    "df = pd.DataFrame(data)\n",
    "\n",
    "# Create an interactive horizontal bar chart\n",
    "fig = px.bar(df, \n",
    "             x='Number of References', \n",
    "             y='Census Table', \n",
    "             orientation='h',  # Horizontal bars\n",
    "             title=\"Top 15 Most Referenced U.S. Census Paths in Cited Instances\",\n",
    "             labels={'Number of References': 'Number of References', 'Census Table': 'Census Table'},\n",
    "             color='Number of References',  # Color bars based on count\n",
    "             text='Number of References')  # Show count on hover\n",
    "\n",
    "# Customize the hover data (you can modify this to include more details)\n",
    "fig.update_traces(texttemplate='%{text}', textposition='outside')\n",
    "\n",
    "# Invert the y-axis to show the highest count at the top\n",
    "fig.update_yaxes(categoryorder='total descending')\n",
    "\n",
    "# Show the interactive plot\n",
    "fig.show()"
   ]
  },
  {
   "cell_type": "code",
   "execution_count": null,
   "metadata": {},
   "outputs": [],
   "source": [
    "netloc_distribution = c_parsed_links['Netloc'].value_counts()\n",
    "print(\"Netloc distribution:\")\n",
    "print(netloc_distribution)"
   ]
  },
  {
   "cell_type": "code",
   "execution_count": null,
   "metadata": {},
   "outputs": [],
   "source": [
    "# Plot netloc distribution (top 10)\n",
    "plt.figure(figsize=(10, 6))\n",
    "top_netlocs = c_parsed_links['Netloc'].value_counts().nlargest(10)\n",
    "sns.barplot(x=top_netlocs.index, y=top_netlocs.values)\n",
    "plt.title('Top 10 Cited Netlocs')\n",
    "plt.xlabel('Netloc')\n",
    "plt.ylabel('Count')\n",
    "plt.xticks(rotation=45, ha='right')\n",
    "plt.show()"
   ]
  },
  {
   "cell_type": "code",
   "execution_count": null,
   "metadata": {},
   "outputs": [],
   "source": [
    "c_query = c_parsed_links.replace('', pd.NA).dropna(subset=['Query'])\n",
    "print(c_query)"
   ]
  },
  {
   "cell_type": "code",
   "execution_count": null,
   "metadata": {},
   "outputs": [],
   "source": [
    "# Extract and count unique query parameters\n",
    "c_query['Query_Params'] = c_query['Query'].apply(lambda x: len(x.split('&')) if x else 0)\n",
    "query_params_distribution = c_query['Query_Params'].value_counts()\n",
    "print(\"Cited Query parameters distribution:\")\n",
    "print(query_params_distribution)\n",
    "\n",
    "# Plot query parameters distribution\n",
    "plt.figure(figsize=(10, 6))\n",
    "sns.countplot(data=c_query, x='Query_Params', order=c_query['Query_Params'].value_counts().index)\n",
    "plt.title('Distribution of Cited Query Parameters Count')\n",
    "plt.xlabel('Number of Query Parameters')\n",
    "plt.ylabel('Count')\n",
    "plt.show()"
   ]
  },
  {
   "cell_type": "code",
   "execution_count": null,
   "metadata": {},
   "outputs": [],
   "source": [
    "# 1. Identify the most common URL Queries\n",
    "c_query = c_query['Query']\n",
    "c_query_counts = Counter(c_query)\n",
    "c_most_common_query = c_query_counts.most_common(15)\n",
    "\n",
    "print(\"\\nMost common Cited URL Queries:\")\n",
    "for path, count in c_most_common_query:\n",
    "    print(f\"{path}: {count}\")"
   ]
  },
  {
   "cell_type": "code",
   "execution_count": null,
   "metadata": {},
   "outputs": [],
   "source": [
    "tables, counts = zip(*c_most_common_query)\n",
    "# Create a DataFrame from the tables and counts\n",
    "data = {'Census Table': tables, 'Number of References': counts}\n",
    "df = pd.DataFrame(data)\n",
    "\n",
    "# Create an interactive horizontal bar chart\n",
    "fig = px.bar(df, \n",
    "             x='Number of References', \n",
    "             y='Census Table', \n",
    "             orientation='h',  # Horizontal bars\n",
    "             title=\"Top 15 Most Referenced Queries in Cited Instances\",\n",
    "             labels={'Number of References': 'Number of References', 'Census Table': 'Census Table'},\n",
    "             color='Number of References',  # Color bars based on count\n",
    "             text='Number of References')  # Show count on hover\n",
    "\n",
    "# Customize the hover data (you can modify this to include more details)\n",
    "fig.update_traces(texttemplate='%{text}', textposition='outside')\n",
    "\n",
    "# Invert the y-axis to show the highest count at the top\n",
    "fig.update_yaxes(categoryorder='total descending')\n",
    "\n",
    "# Show the interactive plot\n",
    "fig.show()"
   ]
  }
 ],
 "metadata": {
  "kernelspec": {
   "display_name": "base",
   "language": "python",
   "name": "python3"
  },
  "language_info": {
   "codemirror_mode": {
    "name": "ipython",
    "version": 3
   },
   "file_extension": ".py",
   "mimetype": "text/x-python",
   "name": "python",
   "nbconvert_exporter": "python",
   "pygments_lexer": "ipython3",
   "version": "3.11.3"
  }
 },
 "nbformat": 4,
 "nbformat_minor": 2
}

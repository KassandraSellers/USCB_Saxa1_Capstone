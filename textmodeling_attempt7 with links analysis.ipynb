{
 "cells": [
  {
   "cell_type": "markdown",
   "metadata": {},
   "source": [
    "## Set-up"
   ]
  },
  {
   "cell_type": "code",
   "execution_count": 2,
   "metadata": {},
   "outputs": [],
   "source": [
    "# load in libraries\n",
    "import pandas as pd\n",
    "from sklearn.feature_extraction.text import CountVectorizer\n",
    "from sklearn.decomposition import LatentDirichletAllocation\n",
    "from gensim.models.coherencemodel import CoherenceModel\n",
    "from gensim.corpora import Dictionary\n",
    "import numpy as np\n",
    "from nltk.corpus import stopwords\n",
    "from nltk.stem import WordNetLemmatizer\n",
    "import nltk\n",
    "from sklearn.preprocessing import normalize\n",
    "import numpy as np\n",
    "import plotly.express as px\n",
    "import matplotlib.pyplot as plt\n",
    "import seaborn as sns"
   ]
  },
  {
   "cell_type": "code",
   "execution_count": 3,
   "metadata": {},
   "outputs": [
    {
     "data": {
      "text/plain": [
       "<bound method NDFrame.head of                                                    url  \\\n",
       "0    http://bonddad.blogspot.com/2021/12/manufactur...   \n",
       "1    http://bonddad.blogspot.com/2023/09/initial-jo...   \n",
       "2    http://bostongis.org/?content_name=umn_datasou...   \n",
       "3    http://bostongis.org/?content_name=umn_datasou...   \n",
       "4    http://colonialsense.com/society-lifestyle/cen...   \n",
       "..                                                 ...   \n",
       "767   https://www.medfieldpubliclibrary.org/databases/   \n",
       "768  https://www.nature.com/articles/s41893-020-006...   \n",
       "769  https://www.plannedparenthoodaction.org/florid...   \n",
       "770  https://www.socialexplorer.com/data/acs2006/me...   \n",
       "771        https://yelmwa.gov/news_detail_t10_r448.php   \n",
       "\n",
       "                                           Found Links  \\\n",
       "0                      http://www.census.gov/econ/www/   \n",
       "1                      http://www.census.gov/econ/www/   \n",
       "2       http://www.census.gov/geo/www/tiger/index.html   \n",
       "3     http://www.census.gov/geo/www/cob/bdy_files.html   \n",
       "4    mailto:?subject=Colonial Sense: Society-Lifest...   \n",
       "..                                                 ...   \n",
       "767         http://www.census.gov/data/data-tools.html   \n",
       "768  https://www.census.gov/programs-surveys/acs/da...   \n",
       "769   https://www.census.gov/prod/2013pubs/p20-570.pdf   \n",
       "770  http://www.census.gov/hhes/www/poverty/newguid...   \n",
       "771                          https://2020census.gov/en   \n",
       "\n",
       "                                               content  \n",
       "0    the bonddad blog manufacturing still red hot c...  \n",
       "1    the bonddad blog initial jobless claims remain...  \n",
       "2    ogr odbcboston geographic information systemsh...  \n",
       "3    ogr odbcboston geographic information systemsh...  \n",
       "4    colonial sense societylifestyle census governa...  \n",
       "..                                                 ...  \n",
       "767   508 3594544  medfieldminlibnetaccount catalog...  \n",
       "768  skip to main contentadvertisementnature sustai...  \n",
       "769  go to contentgo to navigationgo to site search...  \n",
       "770  whats newdata releasenow live on social explor...  \n",
       "771  skip to contentyelm washingtonnavigation logoe...  \n",
       "\n",
       "[772 rows x 3 columns]>"
      ]
     },
     "execution_count": 3,
     "metadata": {},
     "output_type": "execute_result"
    }
   ],
   "source": [
    "# read in data\n",
    "foundlinks = pd.read_excel(\"foundlinks.modeling.xlsx\")\n",
    "foundlinks.head"
   ]
  },
  {
   "cell_type": "code",
   "execution_count": 4,
   "metadata": {},
   "outputs": [],
   "source": [
    "#Saving Found Links into a list for later analysis\n",
    "urls = foundlinks['Found Links'].tolist()"
   ]
  },
  {
   "cell_type": "code",
   "execution_count": 108,
   "metadata": {},
   "outputs": [
    {
     "data": {
      "text/plain": [
       "False"
      ]
     },
     "execution_count": 108,
     "metadata": {},
     "output_type": "execute_result"
    }
   ],
   "source": [
    "#Checking for any missing values\n",
    "anyna = foundlinks.isnull().values.any()\n",
    "anyna"
   ]
  },
  {
   "cell_type": "code",
   "execution_count": 109,
   "metadata": {},
   "outputs": [
    {
     "name": "stderr",
     "output_type": "stream",
     "text": [
      "C:\\Users\\Ksell\\AppData\\Local\\Temp\\ipykernel_45544\\4161804740.py:6: FutureWarning:\n",
      "\n",
      "DataFrame.applymap has been deprecated. Use DataFrame.map instead.\n",
      "\n"
     ]
    }
   ],
   "source": [
    "#getting rid of special characters and lower caseing content\n",
    "pattern = r'[^a-zA-Z0-9\\s]'\n",
    "foundlinks['content'] = foundlinks['content'].str.replace(pattern,'',regex=True)\n",
    "# Remove new line characters\n",
    "foundlinks['content'] = foundlinks['content'].str.replace(r'\\n', '', regex=True)\n",
    "foundlinks = foundlinks.applymap(lambda x: x.lower() if isinstance(x, str) else x)"
   ]
  },
  {
   "cell_type": "code",
   "execution_count": 110,
   "metadata": {},
   "outputs": [
    {
     "data": {
      "text/html": [
       "<div>\n",
       "<style scoped>\n",
       "    .dataframe tbody tr th:only-of-type {\n",
       "        vertical-align: middle;\n",
       "    }\n",
       "\n",
       "    .dataframe tbody tr th {\n",
       "        vertical-align: top;\n",
       "    }\n",
       "\n",
       "    .dataframe thead th {\n",
       "        text-align: right;\n",
       "    }\n",
       "</style>\n",
       "<table border=\"1\" class=\"dataframe\">\n",
       "  <thead>\n",
       "    <tr style=\"text-align: right;\">\n",
       "      <th></th>\n",
       "      <th>url</th>\n",
       "      <th>Found Links</th>\n",
       "    </tr>\n",
       "  </thead>\n",
       "  <tbody>\n",
       "    <tr>\n",
       "      <th>0</th>\n",
       "      <td>http://bonddad.blogspot.com/2021/12/manufactur...</td>\n",
       "      <td>[http://www.census.gov/econ/www/]</td>\n",
       "    </tr>\n",
       "    <tr>\n",
       "      <th>1</th>\n",
       "      <td>http://bonddad.blogspot.com/2023/09/initial-jo...</td>\n",
       "      <td>[http://www.census.gov/econ/www/]</td>\n",
       "    </tr>\n",
       "    <tr>\n",
       "      <th>2</th>\n",
       "      <td>http://bostongis.org/?content_name=umn_datasou...</td>\n",
       "      <td>[http://www.census.gov/geo/www/tiger/index.htm...</td>\n",
       "    </tr>\n",
       "    <tr>\n",
       "      <th>3</th>\n",
       "      <td>http://colonialsense.com/society-lifestyle/cen...</td>\n",
       "      <td>[mailto:?subject=colonial sense: society-lifes...</td>\n",
       "    </tr>\n",
       "    <tr>\n",
       "      <th>4</th>\n",
       "      <td>http://fileformats.archiveteam.org/index.php?t...</td>\n",
       "      <td>[https://www.census.gov/programs-surveys/cps.h...</td>\n",
       "    </tr>\n",
       "    <tr>\n",
       "      <th>...</th>\n",
       "      <td>...</td>\n",
       "      <td>...</td>\n",
       "    </tr>\n",
       "    <tr>\n",
       "      <th>324</th>\n",
       "      <td>https://www.withdra.com/p/mind-the-gap-explori...</td>\n",
       "      <td>[https://www.census.gov/library/publications/2...</td>\n",
       "    </tr>\n",
       "    <tr>\n",
       "      <th>325</th>\n",
       "      <td>https://www.wxpr.org/2022-07-28/these-hurrican...</td>\n",
       "      <td>[https://data.census.gov/]</td>\n",
       "    </tr>\n",
       "    <tr>\n",
       "      <th>326</th>\n",
       "      <td>https://www.wyomingpublicmedia.org/news/2021-0...</td>\n",
       "      <td>[https://www.census.gov/data/experimental-data...</td>\n",
       "    </tr>\n",
       "    <tr>\n",
       "      <th>327</th>\n",
       "      <td>https://yelmwa.gov/i_want_to/contact/send_a_no...</td>\n",
       "      <td>[https://2020census.gov/en]</td>\n",
       "    </tr>\n",
       "    <tr>\n",
       "      <th>328</th>\n",
       "      <td>https://yelmwa.gov/news_detail_t10_r448.php</td>\n",
       "      <td>[https://2020census.gov/en]</td>\n",
       "    </tr>\n",
       "  </tbody>\n",
       "</table>\n",
       "<p>329 rows × 2 columns</p>\n",
       "</div>"
      ],
      "text/plain": [
       "                                                   url  \\\n",
       "0    http://bonddad.blogspot.com/2021/12/manufactur...   \n",
       "1    http://bonddad.blogspot.com/2023/09/initial-jo...   \n",
       "2    http://bostongis.org/?content_name=umn_datasou...   \n",
       "3    http://colonialsense.com/society-lifestyle/cen...   \n",
       "4    http://fileformats.archiveteam.org/index.php?t...   \n",
       "..                                                 ...   \n",
       "324  https://www.withdra.com/p/mind-the-gap-explori...   \n",
       "325  https://www.wxpr.org/2022-07-28/these-hurrican...   \n",
       "326  https://www.wyomingpublicmedia.org/news/2021-0...   \n",
       "327  https://yelmwa.gov/i_want_to/contact/send_a_no...   \n",
       "328        https://yelmwa.gov/news_detail_t10_r448.php   \n",
       "\n",
       "                                           Found Links  \n",
       "0                    [http://www.census.gov/econ/www/]  \n",
       "1                    [http://www.census.gov/econ/www/]  \n",
       "2    [http://www.census.gov/geo/www/tiger/index.htm...  \n",
       "3    [mailto:?subject=colonial sense: society-lifes...  \n",
       "4    [https://www.census.gov/programs-surveys/cps.h...  \n",
       "..                                                 ...  \n",
       "324  [https://www.census.gov/library/publications/2...  \n",
       "325                         [https://data.census.gov/]  \n",
       "326  [https://www.census.gov/data/experimental-data...  \n",
       "327                        [https://2020census.gov/en]  \n",
       "328                        [https://2020census.gov/en]  \n",
       "\n",
       "[329 rows x 2 columns]"
      ]
     },
     "execution_count": 110,
     "metadata": {},
     "output_type": "execute_result"
    }
   ],
   "source": [
    "#Sites had multiple found links, combining them to reduce duplicate URls and content\n",
    "unique_links_per_url = foundlinks.groupby('url')['Found Links'].unique().reset_index()\n",
    "unique_links_per_url"
   ]
  },
  {
   "cell_type": "code",
   "execution_count": 111,
   "metadata": {},
   "outputs": [
    {
     "data": {
      "text/html": [
       "<div>\n",
       "<style scoped>\n",
       "    .dataframe tbody tr th:only-of-type {\n",
       "        vertical-align: middle;\n",
       "    }\n",
       "\n",
       "    .dataframe tbody tr th {\n",
       "        vertical-align: top;\n",
       "    }\n",
       "\n",
       "    .dataframe thead th {\n",
       "        text-align: right;\n",
       "    }\n",
       "</style>\n",
       "<table border=\"1\" class=\"dataframe\">\n",
       "  <thead>\n",
       "    <tr style=\"text-align: right;\">\n",
       "      <th></th>\n",
       "      <th>url</th>\n",
       "      <th>Found Links</th>\n",
       "      <th>Source</th>\n",
       "    </tr>\n",
       "  </thead>\n",
       "  <tbody>\n",
       "    <tr>\n",
       "      <th>0</th>\n",
       "      <td>http://bonddad.blogspot.com/2021/12/manufactur...</td>\n",
       "      <td>[http://www.census.gov/econ/www/]</td>\n",
       "      <td>cited</td>\n",
       "    </tr>\n",
       "    <tr>\n",
       "      <th>1</th>\n",
       "      <td>http://bonddad.blogspot.com/2023/09/initial-jo...</td>\n",
       "      <td>[http://www.census.gov/econ/www/]</td>\n",
       "      <td>cited</td>\n",
       "    </tr>\n",
       "    <tr>\n",
       "      <th>2</th>\n",
       "      <td>http://bostongis.org/?content_name=umn_datasou...</td>\n",
       "      <td>[http://www.census.gov/geo/www/tiger/index.htm...</td>\n",
       "      <td>cited</td>\n",
       "    </tr>\n",
       "    <tr>\n",
       "      <th>3</th>\n",
       "      <td>http://colonialsense.com/society-lifestyle/cen...</td>\n",
       "      <td>[mailto:?subject=colonial sense: society-lifes...</td>\n",
       "      <td>cited</td>\n",
       "    </tr>\n",
       "    <tr>\n",
       "      <th>4</th>\n",
       "      <td>http://fileformats.archiveteam.org/index.php?t...</td>\n",
       "      <td>[https://www.census.gov/programs-surveys/cps.h...</td>\n",
       "      <td>cited</td>\n",
       "    </tr>\n",
       "    <tr>\n",
       "      <th>...</th>\n",
       "      <td>...</td>\n",
       "      <td>...</td>\n",
       "      <td>...</td>\n",
       "    </tr>\n",
       "    <tr>\n",
       "      <th>324</th>\n",
       "      <td>https://www.withdra.com/p/mind-the-gap-explori...</td>\n",
       "      <td>[https://www.census.gov/library/publications/2...</td>\n",
       "      <td>cited</td>\n",
       "    </tr>\n",
       "    <tr>\n",
       "      <th>325</th>\n",
       "      <td>https://www.wxpr.org/2022-07-28/these-hurrican...</td>\n",
       "      <td>[https://data.census.gov/]</td>\n",
       "      <td>repackaged</td>\n",
       "    </tr>\n",
       "    <tr>\n",
       "      <th>326</th>\n",
       "      <td>https://www.wyomingpublicmedia.org/news/2021-0...</td>\n",
       "      <td>[https://www.census.gov/data/experimental-data...</td>\n",
       "      <td>repackaged</td>\n",
       "    </tr>\n",
       "    <tr>\n",
       "      <th>327</th>\n",
       "      <td>https://yelmwa.gov/i_want_to/contact/send_a_no...</td>\n",
       "      <td>[https://2020census.gov/en]</td>\n",
       "      <td>cited</td>\n",
       "    </tr>\n",
       "    <tr>\n",
       "      <th>328</th>\n",
       "      <td>https://yelmwa.gov/news_detail_t10_r448.php</td>\n",
       "      <td>[https://2020census.gov/en]</td>\n",
       "      <td>cited</td>\n",
       "    </tr>\n",
       "  </tbody>\n",
       "</table>\n",
       "<p>329 rows × 3 columns</p>\n",
       "</div>"
      ],
      "text/plain": [
       "                                                   url  \\\n",
       "0    http://bonddad.blogspot.com/2021/12/manufactur...   \n",
       "1    http://bonddad.blogspot.com/2023/09/initial-jo...   \n",
       "2    http://bostongis.org/?content_name=umn_datasou...   \n",
       "3    http://colonialsense.com/society-lifestyle/cen...   \n",
       "4    http://fileformats.archiveteam.org/index.php?t...   \n",
       "..                                                 ...   \n",
       "324  https://www.withdra.com/p/mind-the-gap-explori...   \n",
       "325  https://www.wxpr.org/2022-07-28/these-hurrican...   \n",
       "326  https://www.wyomingpublicmedia.org/news/2021-0...   \n",
       "327  https://yelmwa.gov/i_want_to/contact/send_a_no...   \n",
       "328        https://yelmwa.gov/news_detail_t10_r448.php   \n",
       "\n",
       "                                           Found Links      Source  \n",
       "0                    [http://www.census.gov/econ/www/]       cited  \n",
       "1                    [http://www.census.gov/econ/www/]       cited  \n",
       "2    [http://www.census.gov/geo/www/tiger/index.htm...       cited  \n",
       "3    [mailto:?subject=colonial sense: society-lifes...       cited  \n",
       "4    [https://www.census.gov/programs-surveys/cps.h...       cited  \n",
       "..                                                 ...         ...  \n",
       "324  [https://www.census.gov/library/publications/2...       cited  \n",
       "325                         [https://data.census.gov/]  repackaged  \n",
       "326  [https://www.census.gov/data/experimental-data...  repackaged  \n",
       "327                        [https://2020census.gov/en]       cited  \n",
       "328                        [https://2020census.gov/en]       cited  \n",
       "\n",
       "[329 rows x 3 columns]"
      ]
     },
     "execution_count": 111,
     "metadata": {},
     "output_type": "execute_result"
    }
   ],
   "source": [
    "#key words for finding if site is repackaged or cited\n",
    "\n",
    "keywords = [\"tables\",\"table\",\"data\",\"quickfacts\"]\n",
    "\n",
    "pattern = '|'.join(keywords)  # 'census|stats|data'\n",
    "\n",
    "# Function to check if any link in the list contains a keyword\n",
    "def contains_keyword(links, pattern):\n",
    "    # Return True if any link contains a keyword, otherwise False\n",
    "    return any(pd.notna(link) and pd.Series(link).str.contains(pattern, case=False, regex=True).any() \n",
    "               for link in links)\n",
    "\n",
    "# Apply the function to create a new column 'contains_keywords'\n",
    "unique_links_per_url['Source'] = unique_links_per_url['Found Links'].apply(lambda x: contains_keyword(x, pattern))\n",
    "unique_links_per_url['Source'] = unique_links_per_url['Source'].replace({True: 'repackaged', False: 'cited'})\n",
    "\n",
    "unique_links_per_url"
   ]
  },
  {
   "cell_type": "code",
   "execution_count": 112,
   "metadata": {},
   "outputs": [
    {
     "data": {
      "text/html": [
       "<div>\n",
       "<style scoped>\n",
       "    .dataframe tbody tr th:only-of-type {\n",
       "        vertical-align: middle;\n",
       "    }\n",
       "\n",
       "    .dataframe tbody tr th {\n",
       "        vertical-align: top;\n",
       "    }\n",
       "\n",
       "    .dataframe thead th {\n",
       "        text-align: right;\n",
       "    }\n",
       "</style>\n",
       "<table border=\"1\" class=\"dataframe\">\n",
       "  <thead>\n",
       "    <tr style=\"text-align: right;\">\n",
       "      <th></th>\n",
       "      <th>url</th>\n",
       "      <th>content</th>\n",
       "    </tr>\n",
       "  </thead>\n",
       "  <tbody>\n",
       "    <tr>\n",
       "      <th>0</th>\n",
       "      <td>http://bonddad.blogspot.com/2021/12/manufactur...</td>\n",
       "      <td>the bonddad blog manufacturing still red hot c...</td>\n",
       "    </tr>\n",
       "    <tr>\n",
       "      <th>1</th>\n",
       "      <td>http://bonddad.blogspot.com/2023/09/initial-jo...</td>\n",
       "      <td>the bonddad blog initial jobless claims remain...</td>\n",
       "    </tr>\n",
       "    <tr>\n",
       "      <th>2</th>\n",
       "      <td>http://bostongis.org/?content_name=umn_datasou...</td>\n",
       "      <td>ogr odbcboston geographic information systemsh...</td>\n",
       "    </tr>\n",
       "    <tr>\n",
       "      <th>3</th>\n",
       "      <td>http://colonialsense.com/society-lifestyle/cen...</td>\n",
       "      <td>colonial sense societylifestyle census governa...</td>\n",
       "    </tr>\n",
       "    <tr>\n",
       "      <th>4</th>\n",
       "      <td>http://fileformats.archiveteam.org/index.php?t...</td>\n",
       "      <td>cps project  just solve the file format proble...</td>\n",
       "    </tr>\n",
       "    <tr>\n",
       "      <th>...</th>\n",
       "      <td>...</td>\n",
       "      <td>...</td>\n",
       "    </tr>\n",
       "    <tr>\n",
       "      <th>324</th>\n",
       "      <td>https://www.withdra.com/p/mind-the-gap-explori...</td>\n",
       "      <td>vibecession exploring the growing divide betwe...</td>\n",
       "    </tr>\n",
       "    <tr>\n",
       "      <th>325</th>\n",
       "      <td>https://www.wxpr.org/2022-07-28/these-hurrican...</td>\n",
       "      <td>these hurricane flood maps reveal the climate ...</td>\n",
       "    </tr>\n",
       "    <tr>\n",
       "      <th>326</th>\n",
       "      <td>https://www.wyomingpublicmedia.org/news/2021-0...</td>\n",
       "      <td>single mothers bore brunt of coronavirus anxie...</td>\n",
       "    </tr>\n",
       "    <tr>\n",
       "      <th>327</th>\n",
       "      <td>https://yelmwa.gov/i_want_to/contact/send_a_no...</td>\n",
       "      <td>welcome to yelm washingtonskip to contentsearc...</td>\n",
       "    </tr>\n",
       "    <tr>\n",
       "      <th>328</th>\n",
       "      <td>https://yelmwa.gov/news_detail_t10_r448.php</td>\n",
       "      <td>skip to contentyelm washingtonnavigation logoe...</td>\n",
       "    </tr>\n",
       "  </tbody>\n",
       "</table>\n",
       "<p>329 rows × 2 columns</p>\n",
       "</div>"
      ],
      "text/plain": [
       "                                                   url  \\\n",
       "0    http://bonddad.blogspot.com/2021/12/manufactur...   \n",
       "1    http://bonddad.blogspot.com/2023/09/initial-jo...   \n",
       "2    http://bostongis.org/?content_name=umn_datasou...   \n",
       "3    http://colonialsense.com/society-lifestyle/cen...   \n",
       "4    http://fileformats.archiveteam.org/index.php?t...   \n",
       "..                                                 ...   \n",
       "324  https://www.withdra.com/p/mind-the-gap-explori...   \n",
       "325  https://www.wxpr.org/2022-07-28/these-hurrican...   \n",
       "326  https://www.wyomingpublicmedia.org/news/2021-0...   \n",
       "327  https://yelmwa.gov/i_want_to/contact/send_a_no...   \n",
       "328        https://yelmwa.gov/news_detail_t10_r448.php   \n",
       "\n",
       "                                               content  \n",
       "0    the bonddad blog manufacturing still red hot c...  \n",
       "1    the bonddad blog initial jobless claims remain...  \n",
       "2    ogr odbcboston geographic information systemsh...  \n",
       "3    colonial sense societylifestyle census governa...  \n",
       "4    cps project  just solve the file format proble...  \n",
       "..                                                 ...  \n",
       "324  vibecession exploring the growing divide betwe...  \n",
       "325  these hurricane flood maps reveal the climate ...  \n",
       "326  single mothers bore brunt of coronavirus anxie...  \n",
       "327  welcome to yelm washingtonskip to contentsearc...  \n",
       "328  skip to contentyelm washingtonnavigation logoe...  \n",
       "\n",
       "[329 rows x 2 columns]"
      ]
     },
     "execution_count": 112,
     "metadata": {},
     "output_type": "execute_result"
    }
   ],
   "source": [
    "#combining \n",
    "combined_content = foundlinks.groupby('url')['content'].apply(' '.join).reset_index()\n",
    "combined_content"
   ]
  },
  {
   "cell_type": "code",
   "execution_count": 113,
   "metadata": {},
   "outputs": [
    {
     "data": {
      "text/html": [
       "<div>\n",
       "<style scoped>\n",
       "    .dataframe tbody tr th:only-of-type {\n",
       "        vertical-align: middle;\n",
       "    }\n",
       "\n",
       "    .dataframe tbody tr th {\n",
       "        vertical-align: top;\n",
       "    }\n",
       "\n",
       "    .dataframe thead th {\n",
       "        text-align: right;\n",
       "    }\n",
       "</style>\n",
       "<table border=\"1\" class=\"dataframe\">\n",
       "  <thead>\n",
       "    <tr style=\"text-align: right;\">\n",
       "      <th></th>\n",
       "      <th>url</th>\n",
       "      <th>Found Links</th>\n",
       "      <th>Source</th>\n",
       "      <th>content</th>\n",
       "    </tr>\n",
       "  </thead>\n",
       "  <tbody>\n",
       "    <tr>\n",
       "      <th>0</th>\n",
       "      <td>http://bonddad.blogspot.com/2021/12/manufactur...</td>\n",
       "      <td>[http://www.census.gov/econ/www/]</td>\n",
       "      <td>cited</td>\n",
       "      <td>the bonddad blog manufacturing still red hot c...</td>\n",
       "    </tr>\n",
       "    <tr>\n",
       "      <th>1</th>\n",
       "      <td>http://bonddad.blogspot.com/2023/09/initial-jo...</td>\n",
       "      <td>[http://www.census.gov/econ/www/]</td>\n",
       "      <td>cited</td>\n",
       "      <td>the bonddad blog initial jobless claims remain...</td>\n",
       "    </tr>\n",
       "    <tr>\n",
       "      <th>2</th>\n",
       "      <td>http://bostongis.org/?content_name=umn_datasou...</td>\n",
       "      <td>[http://www.census.gov/geo/www/tiger/index.htm...</td>\n",
       "      <td>cited</td>\n",
       "      <td>ogr odbcboston geographic information systemsh...</td>\n",
       "    </tr>\n",
       "    <tr>\n",
       "      <th>3</th>\n",
       "      <td>http://colonialsense.com/society-lifestyle/cen...</td>\n",
       "      <td>[mailto:?subject=colonial sense: society-lifes...</td>\n",
       "      <td>cited</td>\n",
       "      <td>colonial sense societylifestyle census governa...</td>\n",
       "    </tr>\n",
       "    <tr>\n",
       "      <th>4</th>\n",
       "      <td>http://fileformats.archiveteam.org/index.php?t...</td>\n",
       "      <td>[https://www.census.gov/programs-surveys/cps.h...</td>\n",
       "      <td>cited</td>\n",
       "      <td>cps project  just solve the file format proble...</td>\n",
       "    </tr>\n",
       "    <tr>\n",
       "      <th>...</th>\n",
       "      <td>...</td>\n",
       "      <td>...</td>\n",
       "      <td>...</td>\n",
       "      <td>...</td>\n",
       "    </tr>\n",
       "    <tr>\n",
       "      <th>324</th>\n",
       "      <td>https://www.withdra.com/p/mind-the-gap-explori...</td>\n",
       "      <td>[https://www.census.gov/library/publications/2...</td>\n",
       "      <td>cited</td>\n",
       "      <td>vibecession exploring the growing divide betwe...</td>\n",
       "    </tr>\n",
       "    <tr>\n",
       "      <th>325</th>\n",
       "      <td>https://www.wxpr.org/2022-07-28/these-hurrican...</td>\n",
       "      <td>[https://data.census.gov/]</td>\n",
       "      <td>repackaged</td>\n",
       "      <td>these hurricane flood maps reveal the climate ...</td>\n",
       "    </tr>\n",
       "    <tr>\n",
       "      <th>326</th>\n",
       "      <td>https://www.wyomingpublicmedia.org/news/2021-0...</td>\n",
       "      <td>[https://www.census.gov/data/experimental-data...</td>\n",
       "      <td>repackaged</td>\n",
       "      <td>single mothers bore brunt of coronavirus anxie...</td>\n",
       "    </tr>\n",
       "    <tr>\n",
       "      <th>327</th>\n",
       "      <td>https://yelmwa.gov/i_want_to/contact/send_a_no...</td>\n",
       "      <td>[https://2020census.gov/en]</td>\n",
       "      <td>cited</td>\n",
       "      <td>welcome to yelm washingtonskip to contentsearc...</td>\n",
       "    </tr>\n",
       "    <tr>\n",
       "      <th>328</th>\n",
       "      <td>https://yelmwa.gov/news_detail_t10_r448.php</td>\n",
       "      <td>[https://2020census.gov/en]</td>\n",
       "      <td>cited</td>\n",
       "      <td>skip to contentyelm washingtonnavigation logoe...</td>\n",
       "    </tr>\n",
       "  </tbody>\n",
       "</table>\n",
       "<p>329 rows × 4 columns</p>\n",
       "</div>"
      ],
      "text/plain": [
       "                                                   url  \\\n",
       "0    http://bonddad.blogspot.com/2021/12/manufactur...   \n",
       "1    http://bonddad.blogspot.com/2023/09/initial-jo...   \n",
       "2    http://bostongis.org/?content_name=umn_datasou...   \n",
       "3    http://colonialsense.com/society-lifestyle/cen...   \n",
       "4    http://fileformats.archiveteam.org/index.php?t...   \n",
       "..                                                 ...   \n",
       "324  https://www.withdra.com/p/mind-the-gap-explori...   \n",
       "325  https://www.wxpr.org/2022-07-28/these-hurrican...   \n",
       "326  https://www.wyomingpublicmedia.org/news/2021-0...   \n",
       "327  https://yelmwa.gov/i_want_to/contact/send_a_no...   \n",
       "328        https://yelmwa.gov/news_detail_t10_r448.php   \n",
       "\n",
       "                                           Found Links      Source  \\\n",
       "0                    [http://www.census.gov/econ/www/]       cited   \n",
       "1                    [http://www.census.gov/econ/www/]       cited   \n",
       "2    [http://www.census.gov/geo/www/tiger/index.htm...       cited   \n",
       "3    [mailto:?subject=colonial sense: society-lifes...       cited   \n",
       "4    [https://www.census.gov/programs-surveys/cps.h...       cited   \n",
       "..                                                 ...         ...   \n",
       "324  [https://www.census.gov/library/publications/2...       cited   \n",
       "325                         [https://data.census.gov/]  repackaged   \n",
       "326  [https://www.census.gov/data/experimental-data...  repackaged   \n",
       "327                        [https://2020census.gov/en]       cited   \n",
       "328                        [https://2020census.gov/en]       cited   \n",
       "\n",
       "                                               content  \n",
       "0    the bonddad blog manufacturing still red hot c...  \n",
       "1    the bonddad blog initial jobless claims remain...  \n",
       "2    ogr odbcboston geographic information systemsh...  \n",
       "3    colonial sense societylifestyle census governa...  \n",
       "4    cps project  just solve the file format proble...  \n",
       "..                                                 ...  \n",
       "324  vibecession exploring the growing divide betwe...  \n",
       "325  these hurricane flood maps reveal the climate ...  \n",
       "326  single mothers bore brunt of coronavirus anxie...  \n",
       "327  welcome to yelm washingtonskip to contentsearc...  \n",
       "328  skip to contentyelm washingtonnavigation logoe...  \n",
       "\n",
       "[329 rows x 4 columns]"
      ]
     },
     "execution_count": 113,
     "metadata": {},
     "output_type": "execute_result"
    }
   ],
   "source": [
    "final_data = pd.merge(unique_links_per_url, combined_content, on='url')\n",
    "final_data"
   ]
  },
  {
   "cell_type": "markdown",
   "metadata": {},
   "source": [
    "## LDA Modeling"
   ]
  },
  {
   "cell_type": "code",
   "execution_count": 114,
   "metadata": {},
   "outputs": [],
   "source": [
    "# Initialize the lemmatizer\n",
    "lemmatizer = WordNetLemmatizer()\n",
    "\n",
    "# Define stop words\n",
    "stop_words = stopwords.words('english')\n",
    "stop_words.extend([\"data\", \"census\", \"bureau\"])\n",
    "\n",
    "# Preprocessing function to lemmatize text\n",
    "def preprocess(text):\n",
    "    tokens = text.split()  # tokenization\n",
    "    lemmatized = [lemmatizer.lemmatize(token) for token in tokens]  \n",
    "    return ' '.join(lemmatized)  # Return the lemmatized text\n",
    "\n",
    "# Apply the preprocessing function to the content\n",
    "final_data['content'] = final_data['content'].apply(preprocess)\n",
    "\n",
    "# Vectorize the content with CountVectorizer\n",
    "vec = CountVectorizer(stop_words=stop_words, max_df=0.9, min_df=0.1, token_pattern=r'\\b[a-zA-Z]{3,}\\b')\n",
    "X = vec.fit_transform(final_data['content'])\n",
    "\n",
    "# Map terms to their ids for gensim compatibility\n",
    "terms = vec.get_feature_names_out()\n",
    "\n",
    "# Prepare the texts as tokenized lists (for coherence calculation)\n",
    "tokenized_texts = [doc.split() for doc in final_data['content']]\n",
    "\n",
    "# Create dictionary for coherence model\n",
    "dictionary = Dictionary(tokenized_texts)\n",
    "\n",
    "# Range of topic numbers to test\n",
    "topics_range = range(3, 25)"
   ]
  },
  {
   "cell_type": "code",
   "execution_count": 115,
   "metadata": {},
   "outputs": [
    {
     "name": "stdout",
     "output_type": "stream",
     "text": [
      "Topics: 3, Coherence: -0.9821, Exclusivity: 0.8833\n",
      "Topics: 4, Coherence: -0.9253, Exclusivity: 0.8375\n",
      "Topics: 5, Coherence: -1.0263, Exclusivity: 0.8400\n",
      "Topics: 6, Coherence: -1.0938, Exclusivity: 0.8250\n",
      "Topics: 7, Coherence: -1.0877, Exclusivity: 0.8071\n",
      "Topics: 8, Coherence: -1.0589, Exclusivity: 0.7812\n",
      "Topics: 9, Coherence: -1.0478, Exclusivity: 0.7667\n",
      "Topics: 10, Coherence: -1.0440, Exclusivity: 0.7600\n",
      "Topics: 11, Coherence: -1.0060, Exclusivity: 0.7091\n",
      "Topics: 12, Coherence: -1.0013, Exclusivity: 0.7083\n",
      "Topics: 13, Coherence: -1.0344, Exclusivity: 0.7038\n",
      "Topics: 14, Coherence: -1.0099, Exclusivity: 0.6857\n",
      "Topics: 15, Coherence: -1.0222, Exclusivity: 0.6600\n",
      "Topics: 16, Coherence: -1.0268, Exclusivity: 0.6500\n",
      "Topics: 17, Coherence: -0.9997, Exclusivity: 0.6118\n",
      "Topics: 18, Coherence: -1.0328, Exclusivity: 0.6250\n",
      "Topics: 19, Coherence: -1.0263, Exclusivity: 0.5974\n",
      "Topics: 20, Coherence: -1.0365, Exclusivity: 0.5850\n",
      "Topics: 21, Coherence: -1.0132, Exclusivity: 0.5905\n",
      "Topics: 22, Coherence: -1.0107, Exclusivity: 0.5750\n",
      "Topics: 23, Coherence: -1.0310, Exclusivity: 0.5674\n",
      "Topics: 24, Coherence: -1.0252, Exclusivity: 0.5583\n"
     ]
    }
   ],
   "source": [
    "# Define a function to calculate coherence and exclusivity\n",
    "def evaluate_topic_model(X, tokenized_texts, terms, num_topics, dictionary):\n",
    "    # Initialize LDA\n",
    "    lda = LatentDirichletAllocation(n_components=num_topics, random_state=225)\n",
    "    lda.fit(X)\n",
    "\n",
    "    # Calculate Coherence\n",
    "    topics = []\n",
    "    for topic in lda.components_:\n",
    "        top_word_ids = topic.argsort()[-20:][::-1]  \n",
    "        topic_words = [terms[i] for i in top_word_ids]\n",
    "        topics.append(topic_words)\n",
    "\n",
    "    coherence_model = CoherenceModel(\n",
    "        topics=topics,\n",
    "        texts=tokenized_texts,\n",
    "        dictionary=dictionary,\n",
    "        coherence='u_mass'\n",
    "    )\n",
    "    coherence_score = coherence_model.get_coherence()\n",
    "\n",
    "    # Calculate Exclusivity\n",
    "    topic_word_distributions = normalize(lda.components_, norm='l1', axis=1)\n",
    "    exclusivity_scores = []\n",
    "    for i, topic in enumerate(topic_word_distributions):\n",
    "        top_word_ids = topic.argsort()[-20:][::-1]\n",
    "        top_words = [terms[idx] for idx in top_word_ids]\n",
    "\n",
    "        # Calculate exclusivity as uniqueness of each word in the topic\n",
    "        exclusivity = 0\n",
    "        for word in top_words:\n",
    "            word_count = sum(word in other_topic for other_topic in topics)\n",
    "            exclusivity += 1 / word_count  # Higher exclusivity if the word is rare across topics\n",
    "        exclusivity_scores.append(exclusivity / len(top_words))  # Average exclusivity for this topic\n",
    "\n",
    "    # Average exclusivity across all topics\n",
    "    average_exclusivity = np.mean(exclusivity_scores)\n",
    "\n",
    "    return coherence_score, average_exclusivity\n",
    "\n",
    "\n",
    "results = []\n",
    "\n",
    "for num_topics in topics_range:\n",
    "    coherence_score, exclusivity_score = evaluate_topic_model(X, tokenized_texts, terms, num_topics, dictionary)\n",
    "    results.append({\n",
    "        'num_topics': num_topics,\n",
    "        'coherence': coherence_score,\n",
    "        'exclusivity': exclusivity_score\n",
    "    })\n",
    "\n",
    "# Display results\n",
    "for result in results:\n",
    "    print(f\"Topics: {result['num_topics']}, Coherence: {result['coherence']:.4f}, Exclusivity: {result['exclusivity']:.4f}\")"
   ]
  },
  {
   "cell_type": "code",
   "execution_count": 116,
   "metadata": {},
   "outputs": [
    {
     "data": {
      "application/vnd.plotly.v1+json": {
       "config": {
        "plotlyServerURL": "https://plot.ly"
       },
       "data": [
        {
         "hovertemplate": "variable=coherence<br>Number of Topics=%{x}<br>Score=%{y}<extra></extra>",
         "legendgroup": "coherence",
         "line": {
          "color": "#636efa",
          "dash": "solid"
         },
         "marker": {
          "symbol": "circle"
         },
         "mode": "lines",
         "name": "coherence",
         "orientation": "v",
         "showlegend": true,
         "type": "scatter",
         "x": [
          3,
          4,
          5,
          6,
          7,
          8,
          9,
          10,
          11,
          12,
          13,
          14,
          15,
          16,
          17,
          18,
          19,
          20,
          21,
          22,
          23,
          24
         ],
         "xaxis": "x",
         "y": [
          -0.9820568356789056,
          -0.9253367120671012,
          -1.02626189812893,
          -1.093786191132354,
          -1.0876546817919013,
          -1.0589125167811047,
          -1.0478332992725405,
          -1.0440461058660757,
          -1.0060177296496056,
          -1.0012539253471349,
          -1.0344386741870253,
          -1.0099071766858618,
          -1.0221925017089741,
          -1.026809918540451,
          -0.9996969480955559,
          -1.032762726091205,
          -1.0263414436310274,
          -1.0364769341038849,
          -1.0131573017483055,
          -1.0106661040260658,
          -1.0309734150953198,
          -1.025176078445388
         ],
         "yaxis": "y"
        }
       ],
       "layout": {
        "legend": {
         "title": {
          "text": "Metrics"
         },
         "tracegroupgap": 0
        },
        "showlegend": false,
        "template": {
         "data": {
          "bar": [
           {
            "error_x": {
             "color": "#2a3f5f"
            },
            "error_y": {
             "color": "#2a3f5f"
            },
            "marker": {
             "line": {
              "color": "#E5ECF6",
              "width": 0.5
             },
             "pattern": {
              "fillmode": "overlay",
              "size": 10,
              "solidity": 0.2
             }
            },
            "type": "bar"
           }
          ],
          "barpolar": [
           {
            "marker": {
             "line": {
              "color": "#E5ECF6",
              "width": 0.5
             },
             "pattern": {
              "fillmode": "overlay",
              "size": 10,
              "solidity": 0.2
             }
            },
            "type": "barpolar"
           }
          ],
          "carpet": [
           {
            "aaxis": {
             "endlinecolor": "#2a3f5f",
             "gridcolor": "white",
             "linecolor": "white",
             "minorgridcolor": "white",
             "startlinecolor": "#2a3f5f"
            },
            "baxis": {
             "endlinecolor": "#2a3f5f",
             "gridcolor": "white",
             "linecolor": "white",
             "minorgridcolor": "white",
             "startlinecolor": "#2a3f5f"
            },
            "type": "carpet"
           }
          ],
          "choropleth": [
           {
            "colorbar": {
             "outlinewidth": 0,
             "ticks": ""
            },
            "type": "choropleth"
           }
          ],
          "contour": [
           {
            "colorbar": {
             "outlinewidth": 0,
             "ticks": ""
            },
            "colorscale": [
             [
              0,
              "#0d0887"
             ],
             [
              0.1111111111111111,
              "#46039f"
             ],
             [
              0.2222222222222222,
              "#7201a8"
             ],
             [
              0.3333333333333333,
              "#9c179e"
             ],
             [
              0.4444444444444444,
              "#bd3786"
             ],
             [
              0.5555555555555556,
              "#d8576b"
             ],
             [
              0.6666666666666666,
              "#ed7953"
             ],
             [
              0.7777777777777778,
              "#fb9f3a"
             ],
             [
              0.8888888888888888,
              "#fdca26"
             ],
             [
              1,
              "#f0f921"
             ]
            ],
            "type": "contour"
           }
          ],
          "contourcarpet": [
           {
            "colorbar": {
             "outlinewidth": 0,
             "ticks": ""
            },
            "type": "contourcarpet"
           }
          ],
          "heatmap": [
           {
            "colorbar": {
             "outlinewidth": 0,
             "ticks": ""
            },
            "colorscale": [
             [
              0,
              "#0d0887"
             ],
             [
              0.1111111111111111,
              "#46039f"
             ],
             [
              0.2222222222222222,
              "#7201a8"
             ],
             [
              0.3333333333333333,
              "#9c179e"
             ],
             [
              0.4444444444444444,
              "#bd3786"
             ],
             [
              0.5555555555555556,
              "#d8576b"
             ],
             [
              0.6666666666666666,
              "#ed7953"
             ],
             [
              0.7777777777777778,
              "#fb9f3a"
             ],
             [
              0.8888888888888888,
              "#fdca26"
             ],
             [
              1,
              "#f0f921"
             ]
            ],
            "type": "heatmap"
           }
          ],
          "heatmapgl": [
           {
            "colorbar": {
             "outlinewidth": 0,
             "ticks": ""
            },
            "colorscale": [
             [
              0,
              "#0d0887"
             ],
             [
              0.1111111111111111,
              "#46039f"
             ],
             [
              0.2222222222222222,
              "#7201a8"
             ],
             [
              0.3333333333333333,
              "#9c179e"
             ],
             [
              0.4444444444444444,
              "#bd3786"
             ],
             [
              0.5555555555555556,
              "#d8576b"
             ],
             [
              0.6666666666666666,
              "#ed7953"
             ],
             [
              0.7777777777777778,
              "#fb9f3a"
             ],
             [
              0.8888888888888888,
              "#fdca26"
             ],
             [
              1,
              "#f0f921"
             ]
            ],
            "type": "heatmapgl"
           }
          ],
          "histogram": [
           {
            "marker": {
             "pattern": {
              "fillmode": "overlay",
              "size": 10,
              "solidity": 0.2
             }
            },
            "type": "histogram"
           }
          ],
          "histogram2d": [
           {
            "colorbar": {
             "outlinewidth": 0,
             "ticks": ""
            },
            "colorscale": [
             [
              0,
              "#0d0887"
             ],
             [
              0.1111111111111111,
              "#46039f"
             ],
             [
              0.2222222222222222,
              "#7201a8"
             ],
             [
              0.3333333333333333,
              "#9c179e"
             ],
             [
              0.4444444444444444,
              "#bd3786"
             ],
             [
              0.5555555555555556,
              "#d8576b"
             ],
             [
              0.6666666666666666,
              "#ed7953"
             ],
             [
              0.7777777777777778,
              "#fb9f3a"
             ],
             [
              0.8888888888888888,
              "#fdca26"
             ],
             [
              1,
              "#f0f921"
             ]
            ],
            "type": "histogram2d"
           }
          ],
          "histogram2dcontour": [
           {
            "colorbar": {
             "outlinewidth": 0,
             "ticks": ""
            },
            "colorscale": [
             [
              0,
              "#0d0887"
             ],
             [
              0.1111111111111111,
              "#46039f"
             ],
             [
              0.2222222222222222,
              "#7201a8"
             ],
             [
              0.3333333333333333,
              "#9c179e"
             ],
             [
              0.4444444444444444,
              "#bd3786"
             ],
             [
              0.5555555555555556,
              "#d8576b"
             ],
             [
              0.6666666666666666,
              "#ed7953"
             ],
             [
              0.7777777777777778,
              "#fb9f3a"
             ],
             [
              0.8888888888888888,
              "#fdca26"
             ],
             [
              1,
              "#f0f921"
             ]
            ],
            "type": "histogram2dcontour"
           }
          ],
          "mesh3d": [
           {
            "colorbar": {
             "outlinewidth": 0,
             "ticks": ""
            },
            "type": "mesh3d"
           }
          ],
          "parcoords": [
           {
            "line": {
             "colorbar": {
              "outlinewidth": 0,
              "ticks": ""
             }
            },
            "type": "parcoords"
           }
          ],
          "pie": [
           {
            "automargin": true,
            "type": "pie"
           }
          ],
          "scatter": [
           {
            "fillpattern": {
             "fillmode": "overlay",
             "size": 10,
             "solidity": 0.2
            },
            "type": "scatter"
           }
          ],
          "scatter3d": [
           {
            "line": {
             "colorbar": {
              "outlinewidth": 0,
              "ticks": ""
             }
            },
            "marker": {
             "colorbar": {
              "outlinewidth": 0,
              "ticks": ""
             }
            },
            "type": "scatter3d"
           }
          ],
          "scattercarpet": [
           {
            "marker": {
             "colorbar": {
              "outlinewidth": 0,
              "ticks": ""
             }
            },
            "type": "scattercarpet"
           }
          ],
          "scattergeo": [
           {
            "marker": {
             "colorbar": {
              "outlinewidth": 0,
              "ticks": ""
             }
            },
            "type": "scattergeo"
           }
          ],
          "scattergl": [
           {
            "marker": {
             "colorbar": {
              "outlinewidth": 0,
              "ticks": ""
             }
            },
            "type": "scattergl"
           }
          ],
          "scattermapbox": [
           {
            "marker": {
             "colorbar": {
              "outlinewidth": 0,
              "ticks": ""
             }
            },
            "type": "scattermapbox"
           }
          ],
          "scatterpolar": [
           {
            "marker": {
             "colorbar": {
              "outlinewidth": 0,
              "ticks": ""
             }
            },
            "type": "scatterpolar"
           }
          ],
          "scatterpolargl": [
           {
            "marker": {
             "colorbar": {
              "outlinewidth": 0,
              "ticks": ""
             }
            },
            "type": "scatterpolargl"
           }
          ],
          "scatterternary": [
           {
            "marker": {
             "colorbar": {
              "outlinewidth": 0,
              "ticks": ""
             }
            },
            "type": "scatterternary"
           }
          ],
          "surface": [
           {
            "colorbar": {
             "outlinewidth": 0,
             "ticks": ""
            },
            "colorscale": [
             [
              0,
              "#0d0887"
             ],
             [
              0.1111111111111111,
              "#46039f"
             ],
             [
              0.2222222222222222,
              "#7201a8"
             ],
             [
              0.3333333333333333,
              "#9c179e"
             ],
             [
              0.4444444444444444,
              "#bd3786"
             ],
             [
              0.5555555555555556,
              "#d8576b"
             ],
             [
              0.6666666666666666,
              "#ed7953"
             ],
             [
              0.7777777777777778,
              "#fb9f3a"
             ],
             [
              0.8888888888888888,
              "#fdca26"
             ],
             [
              1,
              "#f0f921"
             ]
            ],
            "type": "surface"
           }
          ],
          "table": [
           {
            "cells": {
             "fill": {
              "color": "#EBF0F8"
             },
             "line": {
              "color": "white"
             }
            },
            "header": {
             "fill": {
              "color": "#C8D4E3"
             },
             "line": {
              "color": "white"
             }
            },
            "type": "table"
           }
          ]
         },
         "layout": {
          "annotationdefaults": {
           "arrowcolor": "#2a3f5f",
           "arrowhead": 0,
           "arrowwidth": 1
          },
          "autotypenumbers": "strict",
          "coloraxis": {
           "colorbar": {
            "outlinewidth": 0,
            "ticks": ""
           }
          },
          "colorscale": {
           "diverging": [
            [
             0,
             "#8e0152"
            ],
            [
             0.1,
             "#c51b7d"
            ],
            [
             0.2,
             "#de77ae"
            ],
            [
             0.3,
             "#f1b6da"
            ],
            [
             0.4,
             "#fde0ef"
            ],
            [
             0.5,
             "#f7f7f7"
            ],
            [
             0.6,
             "#e6f5d0"
            ],
            [
             0.7,
             "#b8e186"
            ],
            [
             0.8,
             "#7fbc41"
            ],
            [
             0.9,
             "#4d9221"
            ],
            [
             1,
             "#276419"
            ]
           ],
           "sequential": [
            [
             0,
             "#0d0887"
            ],
            [
             0.1111111111111111,
             "#46039f"
            ],
            [
             0.2222222222222222,
             "#7201a8"
            ],
            [
             0.3333333333333333,
             "#9c179e"
            ],
            [
             0.4444444444444444,
             "#bd3786"
            ],
            [
             0.5555555555555556,
             "#d8576b"
            ],
            [
             0.6666666666666666,
             "#ed7953"
            ],
            [
             0.7777777777777778,
             "#fb9f3a"
            ],
            [
             0.8888888888888888,
             "#fdca26"
            ],
            [
             1,
             "#f0f921"
            ]
           ],
           "sequentialminus": [
            [
             0,
             "#0d0887"
            ],
            [
             0.1111111111111111,
             "#46039f"
            ],
            [
             0.2222222222222222,
             "#7201a8"
            ],
            [
             0.3333333333333333,
             "#9c179e"
            ],
            [
             0.4444444444444444,
             "#bd3786"
            ],
            [
             0.5555555555555556,
             "#d8576b"
            ],
            [
             0.6666666666666666,
             "#ed7953"
            ],
            [
             0.7777777777777778,
             "#fb9f3a"
            ],
            [
             0.8888888888888888,
             "#fdca26"
            ],
            [
             1,
             "#f0f921"
            ]
           ]
          },
          "colorway": [
           "#636efa",
           "#EF553B",
           "#00cc96",
           "#ab63fa",
           "#FFA15A",
           "#19d3f3",
           "#FF6692",
           "#B6E880",
           "#FF97FF",
           "#FECB52"
          ],
          "font": {
           "color": "#2a3f5f"
          },
          "geo": {
           "bgcolor": "white",
           "lakecolor": "white",
           "landcolor": "#E5ECF6",
           "showlakes": true,
           "showland": true,
           "subunitcolor": "white"
          },
          "hoverlabel": {
           "align": "left"
          },
          "hovermode": "closest",
          "mapbox": {
           "style": "light"
          },
          "paper_bgcolor": "white",
          "plot_bgcolor": "#E5ECF6",
          "polar": {
           "angularaxis": {
            "gridcolor": "white",
            "linecolor": "white",
            "ticks": ""
           },
           "bgcolor": "#E5ECF6",
           "radialaxis": {
            "gridcolor": "white",
            "linecolor": "white",
            "ticks": ""
           }
          },
          "scene": {
           "xaxis": {
            "backgroundcolor": "#E5ECF6",
            "gridcolor": "white",
            "gridwidth": 2,
            "linecolor": "white",
            "showbackground": true,
            "ticks": "",
            "zerolinecolor": "white"
           },
           "yaxis": {
            "backgroundcolor": "#E5ECF6",
            "gridcolor": "white",
            "gridwidth": 2,
            "linecolor": "white",
            "showbackground": true,
            "ticks": "",
            "zerolinecolor": "white"
           },
           "zaxis": {
            "backgroundcolor": "#E5ECF6",
            "gridcolor": "white",
            "gridwidth": 2,
            "linecolor": "white",
            "showbackground": true,
            "ticks": "",
            "zerolinecolor": "white"
           }
          },
          "shapedefaults": {
           "line": {
            "color": "#2a3f5f"
           }
          },
          "ternary": {
           "aaxis": {
            "gridcolor": "white",
            "linecolor": "white",
            "ticks": ""
           },
           "baxis": {
            "gridcolor": "white",
            "linecolor": "white",
            "ticks": ""
           },
           "bgcolor": "#E5ECF6",
           "caxis": {
            "gridcolor": "white",
            "linecolor": "white",
            "ticks": ""
           }
          },
          "title": {
           "x": 0.05
          },
          "xaxis": {
           "automargin": true,
           "gridcolor": "white",
           "linecolor": "white",
           "ticks": "",
           "title": {
            "standoff": 15
           },
           "zerolinecolor": "white",
           "zerolinewidth": 2
          },
          "yaxis": {
           "automargin": true,
           "gridcolor": "white",
           "linecolor": "white",
           "ticks": "",
           "title": {
            "standoff": 15
           },
           "zerolinecolor": "white",
           "zerolinewidth": 2
          }
         }
        },
        "title": {
         "text": "Coherence Scores for Different Number of Topics"
        },
        "xaxis": {
         "anchor": "y",
         "domain": [
          0,
          1
         ],
         "title": {
          "text": "Number of Topics"
         }
        },
        "yaxis": {
         "anchor": "x",
         "domain": [
          0,
          1
         ],
         "title": {
          "text": "Score"
         }
        }
       }
      }
     },
     "metadata": {},
     "output_type": "display_data"
    }
   ],
   "source": [
    "# Convert results to a DataFrame\n",
    "df_results = pd.DataFrame(results)\n",
    "\n",
    "# Line plot for coherence over the range of topics\n",
    "fig = px.line(\n",
    "    df_results,\n",
    "    x='num_topics',\n",
    "    y=['coherence',],\n",
    "    labels={'num_topics': 'Number of Topics', 'value': 'Score'},\n",
    "    title='Coherence Scores for Different Number of Topics'\n",
    ")\n",
    "\n",
    "# Update layout for better readability\n",
    "fig.update_layout(\n",
    "    xaxis_title='Number of Topics',\n",
    "    yaxis_title='Score',\n",
    "    legend_title_text='Metrics',\n",
    "    showlegend=False\n",
    ")\n",
    "\n",
    "fig.show()"
   ]
  },
  {
   "cell_type": "code",
   "execution_count": 117,
   "metadata": {},
   "outputs": [
    {
     "data": {
      "application/vnd.plotly.v1+json": {
       "config": {
        "plotlyServerURL": "https://plot.ly"
       },
       "data": [
        {
         "hovertemplate": "variable=exclusivity<br>Number of Topics=%{x}<br>Score=%{y}<extra></extra>",
         "legendgroup": "exclusivity",
         "line": {
          "color": "#636efa",
          "dash": "solid"
         },
         "marker": {
          "symbol": "circle"
         },
         "mode": "lines",
         "name": "exclusivity",
         "orientation": "v",
         "showlegend": true,
         "type": "scatter",
         "x": [
          3,
          4,
          5,
          6,
          7,
          8,
          9,
          10,
          11,
          12,
          13,
          14,
          15,
          16,
          17,
          18,
          19,
          20,
          21,
          22,
          23,
          24
         ],
         "xaxis": "x",
         "y": [
          0.8833333333333333,
          0.8374999999999999,
          0.8400000000000001,
          0.8250000000000001,
          0.8071428571428572,
          0.78125,
          0.7666666666666667,
          0.76,
          0.7090909090909091,
          0.7083333333333331,
          0.7038461538461538,
          0.6857142857142857,
          0.66,
          0.65,
          0.611764705882353,
          0.6250000000000001,
          0.5973684210526315,
          0.5850000000000002,
          0.5904761904761905,
          0.5750000000000001,
          0.5673913043478261,
          0.5583333333333333
         ],
         "yaxis": "y"
        }
       ],
       "layout": {
        "legend": {
         "title": {
          "text": "Metrics"
         },
         "tracegroupgap": 0
        },
        "showlegend": false,
        "template": {
         "data": {
          "bar": [
           {
            "error_x": {
             "color": "#2a3f5f"
            },
            "error_y": {
             "color": "#2a3f5f"
            },
            "marker": {
             "line": {
              "color": "#E5ECF6",
              "width": 0.5
             },
             "pattern": {
              "fillmode": "overlay",
              "size": 10,
              "solidity": 0.2
             }
            },
            "type": "bar"
           }
          ],
          "barpolar": [
           {
            "marker": {
             "line": {
              "color": "#E5ECF6",
              "width": 0.5
             },
             "pattern": {
              "fillmode": "overlay",
              "size": 10,
              "solidity": 0.2
             }
            },
            "type": "barpolar"
           }
          ],
          "carpet": [
           {
            "aaxis": {
             "endlinecolor": "#2a3f5f",
             "gridcolor": "white",
             "linecolor": "white",
             "minorgridcolor": "white",
             "startlinecolor": "#2a3f5f"
            },
            "baxis": {
             "endlinecolor": "#2a3f5f",
             "gridcolor": "white",
             "linecolor": "white",
             "minorgridcolor": "white",
             "startlinecolor": "#2a3f5f"
            },
            "type": "carpet"
           }
          ],
          "choropleth": [
           {
            "colorbar": {
             "outlinewidth": 0,
             "ticks": ""
            },
            "type": "choropleth"
           }
          ],
          "contour": [
           {
            "colorbar": {
             "outlinewidth": 0,
             "ticks": ""
            },
            "colorscale": [
             [
              0,
              "#0d0887"
             ],
             [
              0.1111111111111111,
              "#46039f"
             ],
             [
              0.2222222222222222,
              "#7201a8"
             ],
             [
              0.3333333333333333,
              "#9c179e"
             ],
             [
              0.4444444444444444,
              "#bd3786"
             ],
             [
              0.5555555555555556,
              "#d8576b"
             ],
             [
              0.6666666666666666,
              "#ed7953"
             ],
             [
              0.7777777777777778,
              "#fb9f3a"
             ],
             [
              0.8888888888888888,
              "#fdca26"
             ],
             [
              1,
              "#f0f921"
             ]
            ],
            "type": "contour"
           }
          ],
          "contourcarpet": [
           {
            "colorbar": {
             "outlinewidth": 0,
             "ticks": ""
            },
            "type": "contourcarpet"
           }
          ],
          "heatmap": [
           {
            "colorbar": {
             "outlinewidth": 0,
             "ticks": ""
            },
            "colorscale": [
             [
              0,
              "#0d0887"
             ],
             [
              0.1111111111111111,
              "#46039f"
             ],
             [
              0.2222222222222222,
              "#7201a8"
             ],
             [
              0.3333333333333333,
              "#9c179e"
             ],
             [
              0.4444444444444444,
              "#bd3786"
             ],
             [
              0.5555555555555556,
              "#d8576b"
             ],
             [
              0.6666666666666666,
              "#ed7953"
             ],
             [
              0.7777777777777778,
              "#fb9f3a"
             ],
             [
              0.8888888888888888,
              "#fdca26"
             ],
             [
              1,
              "#f0f921"
             ]
            ],
            "type": "heatmap"
           }
          ],
          "heatmapgl": [
           {
            "colorbar": {
             "outlinewidth": 0,
             "ticks": ""
            },
            "colorscale": [
             [
              0,
              "#0d0887"
             ],
             [
              0.1111111111111111,
              "#46039f"
             ],
             [
              0.2222222222222222,
              "#7201a8"
             ],
             [
              0.3333333333333333,
              "#9c179e"
             ],
             [
              0.4444444444444444,
              "#bd3786"
             ],
             [
              0.5555555555555556,
              "#d8576b"
             ],
             [
              0.6666666666666666,
              "#ed7953"
             ],
             [
              0.7777777777777778,
              "#fb9f3a"
             ],
             [
              0.8888888888888888,
              "#fdca26"
             ],
             [
              1,
              "#f0f921"
             ]
            ],
            "type": "heatmapgl"
           }
          ],
          "histogram": [
           {
            "marker": {
             "pattern": {
              "fillmode": "overlay",
              "size": 10,
              "solidity": 0.2
             }
            },
            "type": "histogram"
           }
          ],
          "histogram2d": [
           {
            "colorbar": {
             "outlinewidth": 0,
             "ticks": ""
            },
            "colorscale": [
             [
              0,
              "#0d0887"
             ],
             [
              0.1111111111111111,
              "#46039f"
             ],
             [
              0.2222222222222222,
              "#7201a8"
             ],
             [
              0.3333333333333333,
              "#9c179e"
             ],
             [
              0.4444444444444444,
              "#bd3786"
             ],
             [
              0.5555555555555556,
              "#d8576b"
             ],
             [
              0.6666666666666666,
              "#ed7953"
             ],
             [
              0.7777777777777778,
              "#fb9f3a"
             ],
             [
              0.8888888888888888,
              "#fdca26"
             ],
             [
              1,
              "#f0f921"
             ]
            ],
            "type": "histogram2d"
           }
          ],
          "histogram2dcontour": [
           {
            "colorbar": {
             "outlinewidth": 0,
             "ticks": ""
            },
            "colorscale": [
             [
              0,
              "#0d0887"
             ],
             [
              0.1111111111111111,
              "#46039f"
             ],
             [
              0.2222222222222222,
              "#7201a8"
             ],
             [
              0.3333333333333333,
              "#9c179e"
             ],
             [
              0.4444444444444444,
              "#bd3786"
             ],
             [
              0.5555555555555556,
              "#d8576b"
             ],
             [
              0.6666666666666666,
              "#ed7953"
             ],
             [
              0.7777777777777778,
              "#fb9f3a"
             ],
             [
              0.8888888888888888,
              "#fdca26"
             ],
             [
              1,
              "#f0f921"
             ]
            ],
            "type": "histogram2dcontour"
           }
          ],
          "mesh3d": [
           {
            "colorbar": {
             "outlinewidth": 0,
             "ticks": ""
            },
            "type": "mesh3d"
           }
          ],
          "parcoords": [
           {
            "line": {
             "colorbar": {
              "outlinewidth": 0,
              "ticks": ""
             }
            },
            "type": "parcoords"
           }
          ],
          "pie": [
           {
            "automargin": true,
            "type": "pie"
           }
          ],
          "scatter": [
           {
            "fillpattern": {
             "fillmode": "overlay",
             "size": 10,
             "solidity": 0.2
            },
            "type": "scatter"
           }
          ],
          "scatter3d": [
           {
            "line": {
             "colorbar": {
              "outlinewidth": 0,
              "ticks": ""
             }
            },
            "marker": {
             "colorbar": {
              "outlinewidth": 0,
              "ticks": ""
             }
            },
            "type": "scatter3d"
           }
          ],
          "scattercarpet": [
           {
            "marker": {
             "colorbar": {
              "outlinewidth": 0,
              "ticks": ""
             }
            },
            "type": "scattercarpet"
           }
          ],
          "scattergeo": [
           {
            "marker": {
             "colorbar": {
              "outlinewidth": 0,
              "ticks": ""
             }
            },
            "type": "scattergeo"
           }
          ],
          "scattergl": [
           {
            "marker": {
             "colorbar": {
              "outlinewidth": 0,
              "ticks": ""
             }
            },
            "type": "scattergl"
           }
          ],
          "scattermapbox": [
           {
            "marker": {
             "colorbar": {
              "outlinewidth": 0,
              "ticks": ""
             }
            },
            "type": "scattermapbox"
           }
          ],
          "scatterpolar": [
           {
            "marker": {
             "colorbar": {
              "outlinewidth": 0,
              "ticks": ""
             }
            },
            "type": "scatterpolar"
           }
          ],
          "scatterpolargl": [
           {
            "marker": {
             "colorbar": {
              "outlinewidth": 0,
              "ticks": ""
             }
            },
            "type": "scatterpolargl"
           }
          ],
          "scatterternary": [
           {
            "marker": {
             "colorbar": {
              "outlinewidth": 0,
              "ticks": ""
             }
            },
            "type": "scatterternary"
           }
          ],
          "surface": [
           {
            "colorbar": {
             "outlinewidth": 0,
             "ticks": ""
            },
            "colorscale": [
             [
              0,
              "#0d0887"
             ],
             [
              0.1111111111111111,
              "#46039f"
             ],
             [
              0.2222222222222222,
              "#7201a8"
             ],
             [
              0.3333333333333333,
              "#9c179e"
             ],
             [
              0.4444444444444444,
              "#bd3786"
             ],
             [
              0.5555555555555556,
              "#d8576b"
             ],
             [
              0.6666666666666666,
              "#ed7953"
             ],
             [
              0.7777777777777778,
              "#fb9f3a"
             ],
             [
              0.8888888888888888,
              "#fdca26"
             ],
             [
              1,
              "#f0f921"
             ]
            ],
            "type": "surface"
           }
          ],
          "table": [
           {
            "cells": {
             "fill": {
              "color": "#EBF0F8"
             },
             "line": {
              "color": "white"
             }
            },
            "header": {
             "fill": {
              "color": "#C8D4E3"
             },
             "line": {
              "color": "white"
             }
            },
            "type": "table"
           }
          ]
         },
         "layout": {
          "annotationdefaults": {
           "arrowcolor": "#2a3f5f",
           "arrowhead": 0,
           "arrowwidth": 1
          },
          "autotypenumbers": "strict",
          "coloraxis": {
           "colorbar": {
            "outlinewidth": 0,
            "ticks": ""
           }
          },
          "colorscale": {
           "diverging": [
            [
             0,
             "#8e0152"
            ],
            [
             0.1,
             "#c51b7d"
            ],
            [
             0.2,
             "#de77ae"
            ],
            [
             0.3,
             "#f1b6da"
            ],
            [
             0.4,
             "#fde0ef"
            ],
            [
             0.5,
             "#f7f7f7"
            ],
            [
             0.6,
             "#e6f5d0"
            ],
            [
             0.7,
             "#b8e186"
            ],
            [
             0.8,
             "#7fbc41"
            ],
            [
             0.9,
             "#4d9221"
            ],
            [
             1,
             "#276419"
            ]
           ],
           "sequential": [
            [
             0,
             "#0d0887"
            ],
            [
             0.1111111111111111,
             "#46039f"
            ],
            [
             0.2222222222222222,
             "#7201a8"
            ],
            [
             0.3333333333333333,
             "#9c179e"
            ],
            [
             0.4444444444444444,
             "#bd3786"
            ],
            [
             0.5555555555555556,
             "#d8576b"
            ],
            [
             0.6666666666666666,
             "#ed7953"
            ],
            [
             0.7777777777777778,
             "#fb9f3a"
            ],
            [
             0.8888888888888888,
             "#fdca26"
            ],
            [
             1,
             "#f0f921"
            ]
           ],
           "sequentialminus": [
            [
             0,
             "#0d0887"
            ],
            [
             0.1111111111111111,
             "#46039f"
            ],
            [
             0.2222222222222222,
             "#7201a8"
            ],
            [
             0.3333333333333333,
             "#9c179e"
            ],
            [
             0.4444444444444444,
             "#bd3786"
            ],
            [
             0.5555555555555556,
             "#d8576b"
            ],
            [
             0.6666666666666666,
             "#ed7953"
            ],
            [
             0.7777777777777778,
             "#fb9f3a"
            ],
            [
             0.8888888888888888,
             "#fdca26"
            ],
            [
             1,
             "#f0f921"
            ]
           ]
          },
          "colorway": [
           "#636efa",
           "#EF553B",
           "#00cc96",
           "#ab63fa",
           "#FFA15A",
           "#19d3f3",
           "#FF6692",
           "#B6E880",
           "#FF97FF",
           "#FECB52"
          ],
          "font": {
           "color": "#2a3f5f"
          },
          "geo": {
           "bgcolor": "white",
           "lakecolor": "white",
           "landcolor": "#E5ECF6",
           "showlakes": true,
           "showland": true,
           "subunitcolor": "white"
          },
          "hoverlabel": {
           "align": "left"
          },
          "hovermode": "closest",
          "mapbox": {
           "style": "light"
          },
          "paper_bgcolor": "white",
          "plot_bgcolor": "#E5ECF6",
          "polar": {
           "angularaxis": {
            "gridcolor": "white",
            "linecolor": "white",
            "ticks": ""
           },
           "bgcolor": "#E5ECF6",
           "radialaxis": {
            "gridcolor": "white",
            "linecolor": "white",
            "ticks": ""
           }
          },
          "scene": {
           "xaxis": {
            "backgroundcolor": "#E5ECF6",
            "gridcolor": "white",
            "gridwidth": 2,
            "linecolor": "white",
            "showbackground": true,
            "ticks": "",
            "zerolinecolor": "white"
           },
           "yaxis": {
            "backgroundcolor": "#E5ECF6",
            "gridcolor": "white",
            "gridwidth": 2,
            "linecolor": "white",
            "showbackground": true,
            "ticks": "",
            "zerolinecolor": "white"
           },
           "zaxis": {
            "backgroundcolor": "#E5ECF6",
            "gridcolor": "white",
            "gridwidth": 2,
            "linecolor": "white",
            "showbackground": true,
            "ticks": "",
            "zerolinecolor": "white"
           }
          },
          "shapedefaults": {
           "line": {
            "color": "#2a3f5f"
           }
          },
          "ternary": {
           "aaxis": {
            "gridcolor": "white",
            "linecolor": "white",
            "ticks": ""
           },
           "baxis": {
            "gridcolor": "white",
            "linecolor": "white",
            "ticks": ""
           },
           "bgcolor": "#E5ECF6",
           "caxis": {
            "gridcolor": "white",
            "linecolor": "white",
            "ticks": ""
           }
          },
          "title": {
           "x": 0.05
          },
          "xaxis": {
           "automargin": true,
           "gridcolor": "white",
           "linecolor": "white",
           "ticks": "",
           "title": {
            "standoff": 15
           },
           "zerolinecolor": "white",
           "zerolinewidth": 2
          },
          "yaxis": {
           "automargin": true,
           "gridcolor": "white",
           "linecolor": "white",
           "ticks": "",
           "title": {
            "standoff": 15
           },
           "zerolinecolor": "white",
           "zerolinewidth": 2
          }
         }
        },
        "title": {
         "text": "Exclusivity Scores for Different Number of Topics"
        },
        "xaxis": {
         "anchor": "y",
         "domain": [
          0,
          1
         ],
         "title": {
          "text": "Number of Topics"
         }
        },
        "yaxis": {
         "anchor": "x",
         "domain": [
          0,
          1
         ],
         "title": {
          "text": "Score"
         }
        }
       }
      }
     },
     "metadata": {},
     "output_type": "display_data"
    }
   ],
   "source": [
    "# Line plot for exclusivity over the range of topics\n",
    "fig = px.line(\n",
    "    df_results,\n",
    "    x='num_topics',\n",
    "    y=['exclusivity'],\n",
    "    labels={'num_topics': 'Number of Topics', 'value': 'Score'},\n",
    "    title='Exclusivity Scores for Different Number of Topics'\n",
    ")\n",
    "\n",
    "# Update layout for better readability\n",
    "fig.update_layout(\n",
    "    xaxis_title='Number of Topics',\n",
    "    yaxis_title='Score',\n",
    "    legend_title_text='Metrics',\n",
    "    showlegend=False\n",
    ")\n",
    "\n",
    "fig.show()"
   ]
  },
  {
   "cell_type": "code",
   "execution_count": 118,
   "metadata": {},
   "outputs": [
    {
     "data": {
      "application/vnd.plotly.v1+json": {
       "config": {
        "plotlyServerURL": "https://plot.ly"
       },
       "data": [
        {
         "hovertemplate": "Num Topics: %{marker.color}<br>Coherence: %{x}<br>Exclusivity: %{y}",
         "legendgroup": "",
         "marker": {
          "color": [
           3,
           4,
           5,
           6,
           7,
           8,
           9,
           10,
           11,
           12,
           13,
           14,
           15,
           16,
           17,
           18,
           19,
           20,
           21,
           22,
           23,
           24
          ],
          "coloraxis": "coloraxis",
          "size": 10,
          "symbol": "circle"
         },
         "mode": "markers",
         "name": "",
         "orientation": "v",
         "showlegend": false,
         "type": "scatter",
         "x": [
          -0.9820568356789056,
          -0.9253367120671012,
          -1.02626189812893,
          -1.093786191132354,
          -1.0876546817919013,
          -1.0589125167811047,
          -1.0478332992725405,
          -1.0440461058660757,
          -1.0060177296496056,
          -1.0012539253471349,
          -1.0344386741870253,
          -1.0099071766858618,
          -1.0221925017089741,
          -1.026809918540451,
          -0.9996969480955559,
          -1.032762726091205,
          -1.0263414436310274,
          -1.0364769341038849,
          -1.0131573017483055,
          -1.0106661040260658,
          -1.0309734150953198,
          -1.025176078445388
         ],
         "xaxis": "x",
         "y": [
          0.8833333333333333,
          0.8374999999999999,
          0.8400000000000001,
          0.8250000000000001,
          0.8071428571428572,
          0.78125,
          0.7666666666666667,
          0.76,
          0.7090909090909091,
          0.7083333333333331,
          0.7038461538461538,
          0.6857142857142857,
          0.66,
          0.65,
          0.611764705882353,
          0.6250000000000001,
          0.5973684210526315,
          0.5850000000000002,
          0.5904761904761905,
          0.5750000000000001,
          0.5673913043478261,
          0.5583333333333333
         ],
         "yaxis": "y"
        }
       ],
       "layout": {
        "coloraxis": {
         "colorbar": {
          "title": {
           "text": "Number of Topics"
          }
         },
         "colorscale": [
          [
           0,
           "#0d0887"
          ],
          [
           0.1111111111111111,
           "#46039f"
          ],
          [
           0.2222222222222222,
           "#7201a8"
          ],
          [
           0.3333333333333333,
           "#9c179e"
          ],
          [
           0.4444444444444444,
           "#bd3786"
          ],
          [
           0.5555555555555556,
           "#d8576b"
          ],
          [
           0.6666666666666666,
           "#ed7953"
          ],
          [
           0.7777777777777778,
           "#fb9f3a"
          ],
          [
           0.8888888888888888,
           "#fdca26"
          ],
          [
           1,
           "#f0f921"
          ]
         ]
        },
        "legend": {
         "tracegroupgap": 0
        },
        "template": {
         "data": {
          "bar": [
           {
            "error_x": {
             "color": "#2a3f5f"
            },
            "error_y": {
             "color": "#2a3f5f"
            },
            "marker": {
             "line": {
              "color": "#E5ECF6",
              "width": 0.5
             },
             "pattern": {
              "fillmode": "overlay",
              "size": 10,
              "solidity": 0.2
             }
            },
            "type": "bar"
           }
          ],
          "barpolar": [
           {
            "marker": {
             "line": {
              "color": "#E5ECF6",
              "width": 0.5
             },
             "pattern": {
              "fillmode": "overlay",
              "size": 10,
              "solidity": 0.2
             }
            },
            "type": "barpolar"
           }
          ],
          "carpet": [
           {
            "aaxis": {
             "endlinecolor": "#2a3f5f",
             "gridcolor": "white",
             "linecolor": "white",
             "minorgridcolor": "white",
             "startlinecolor": "#2a3f5f"
            },
            "baxis": {
             "endlinecolor": "#2a3f5f",
             "gridcolor": "white",
             "linecolor": "white",
             "minorgridcolor": "white",
             "startlinecolor": "#2a3f5f"
            },
            "type": "carpet"
           }
          ],
          "choropleth": [
           {
            "colorbar": {
             "outlinewidth": 0,
             "ticks": ""
            },
            "type": "choropleth"
           }
          ],
          "contour": [
           {
            "colorbar": {
             "outlinewidth": 0,
             "ticks": ""
            },
            "colorscale": [
             [
              0,
              "#0d0887"
             ],
             [
              0.1111111111111111,
              "#46039f"
             ],
             [
              0.2222222222222222,
              "#7201a8"
             ],
             [
              0.3333333333333333,
              "#9c179e"
             ],
             [
              0.4444444444444444,
              "#bd3786"
             ],
             [
              0.5555555555555556,
              "#d8576b"
             ],
             [
              0.6666666666666666,
              "#ed7953"
             ],
             [
              0.7777777777777778,
              "#fb9f3a"
             ],
             [
              0.8888888888888888,
              "#fdca26"
             ],
             [
              1,
              "#f0f921"
             ]
            ],
            "type": "contour"
           }
          ],
          "contourcarpet": [
           {
            "colorbar": {
             "outlinewidth": 0,
             "ticks": ""
            },
            "type": "contourcarpet"
           }
          ],
          "heatmap": [
           {
            "colorbar": {
             "outlinewidth": 0,
             "ticks": ""
            },
            "colorscale": [
             [
              0,
              "#0d0887"
             ],
             [
              0.1111111111111111,
              "#46039f"
             ],
             [
              0.2222222222222222,
              "#7201a8"
             ],
             [
              0.3333333333333333,
              "#9c179e"
             ],
             [
              0.4444444444444444,
              "#bd3786"
             ],
             [
              0.5555555555555556,
              "#d8576b"
             ],
             [
              0.6666666666666666,
              "#ed7953"
             ],
             [
              0.7777777777777778,
              "#fb9f3a"
             ],
             [
              0.8888888888888888,
              "#fdca26"
             ],
             [
              1,
              "#f0f921"
             ]
            ],
            "type": "heatmap"
           }
          ],
          "heatmapgl": [
           {
            "colorbar": {
             "outlinewidth": 0,
             "ticks": ""
            },
            "colorscale": [
             [
              0,
              "#0d0887"
             ],
             [
              0.1111111111111111,
              "#46039f"
             ],
             [
              0.2222222222222222,
              "#7201a8"
             ],
             [
              0.3333333333333333,
              "#9c179e"
             ],
             [
              0.4444444444444444,
              "#bd3786"
             ],
             [
              0.5555555555555556,
              "#d8576b"
             ],
             [
              0.6666666666666666,
              "#ed7953"
             ],
             [
              0.7777777777777778,
              "#fb9f3a"
             ],
             [
              0.8888888888888888,
              "#fdca26"
             ],
             [
              1,
              "#f0f921"
             ]
            ],
            "type": "heatmapgl"
           }
          ],
          "histogram": [
           {
            "marker": {
             "pattern": {
              "fillmode": "overlay",
              "size": 10,
              "solidity": 0.2
             }
            },
            "type": "histogram"
           }
          ],
          "histogram2d": [
           {
            "colorbar": {
             "outlinewidth": 0,
             "ticks": ""
            },
            "colorscale": [
             [
              0,
              "#0d0887"
             ],
             [
              0.1111111111111111,
              "#46039f"
             ],
             [
              0.2222222222222222,
              "#7201a8"
             ],
             [
              0.3333333333333333,
              "#9c179e"
             ],
             [
              0.4444444444444444,
              "#bd3786"
             ],
             [
              0.5555555555555556,
              "#d8576b"
             ],
             [
              0.6666666666666666,
              "#ed7953"
             ],
             [
              0.7777777777777778,
              "#fb9f3a"
             ],
             [
              0.8888888888888888,
              "#fdca26"
             ],
             [
              1,
              "#f0f921"
             ]
            ],
            "type": "histogram2d"
           }
          ],
          "histogram2dcontour": [
           {
            "colorbar": {
             "outlinewidth": 0,
             "ticks": ""
            },
            "colorscale": [
             [
              0,
              "#0d0887"
             ],
             [
              0.1111111111111111,
              "#46039f"
             ],
             [
              0.2222222222222222,
              "#7201a8"
             ],
             [
              0.3333333333333333,
              "#9c179e"
             ],
             [
              0.4444444444444444,
              "#bd3786"
             ],
             [
              0.5555555555555556,
              "#d8576b"
             ],
             [
              0.6666666666666666,
              "#ed7953"
             ],
             [
              0.7777777777777778,
              "#fb9f3a"
             ],
             [
              0.8888888888888888,
              "#fdca26"
             ],
             [
              1,
              "#f0f921"
             ]
            ],
            "type": "histogram2dcontour"
           }
          ],
          "mesh3d": [
           {
            "colorbar": {
             "outlinewidth": 0,
             "ticks": ""
            },
            "type": "mesh3d"
           }
          ],
          "parcoords": [
           {
            "line": {
             "colorbar": {
              "outlinewidth": 0,
              "ticks": ""
             }
            },
            "type": "parcoords"
           }
          ],
          "pie": [
           {
            "automargin": true,
            "type": "pie"
           }
          ],
          "scatter": [
           {
            "fillpattern": {
             "fillmode": "overlay",
             "size": 10,
             "solidity": 0.2
            },
            "type": "scatter"
           }
          ],
          "scatter3d": [
           {
            "line": {
             "colorbar": {
              "outlinewidth": 0,
              "ticks": ""
             }
            },
            "marker": {
             "colorbar": {
              "outlinewidth": 0,
              "ticks": ""
             }
            },
            "type": "scatter3d"
           }
          ],
          "scattercarpet": [
           {
            "marker": {
             "colorbar": {
              "outlinewidth": 0,
              "ticks": ""
             }
            },
            "type": "scattercarpet"
           }
          ],
          "scattergeo": [
           {
            "marker": {
             "colorbar": {
              "outlinewidth": 0,
              "ticks": ""
             }
            },
            "type": "scattergeo"
           }
          ],
          "scattergl": [
           {
            "marker": {
             "colorbar": {
              "outlinewidth": 0,
              "ticks": ""
             }
            },
            "type": "scattergl"
           }
          ],
          "scattermapbox": [
           {
            "marker": {
             "colorbar": {
              "outlinewidth": 0,
              "ticks": ""
             }
            },
            "type": "scattermapbox"
           }
          ],
          "scatterpolar": [
           {
            "marker": {
             "colorbar": {
              "outlinewidth": 0,
              "ticks": ""
             }
            },
            "type": "scatterpolar"
           }
          ],
          "scatterpolargl": [
           {
            "marker": {
             "colorbar": {
              "outlinewidth": 0,
              "ticks": ""
             }
            },
            "type": "scatterpolargl"
           }
          ],
          "scatterternary": [
           {
            "marker": {
             "colorbar": {
              "outlinewidth": 0,
              "ticks": ""
             }
            },
            "type": "scatterternary"
           }
          ],
          "surface": [
           {
            "colorbar": {
             "outlinewidth": 0,
             "ticks": ""
            },
            "colorscale": [
             [
              0,
              "#0d0887"
             ],
             [
              0.1111111111111111,
              "#46039f"
             ],
             [
              0.2222222222222222,
              "#7201a8"
             ],
             [
              0.3333333333333333,
              "#9c179e"
             ],
             [
              0.4444444444444444,
              "#bd3786"
             ],
             [
              0.5555555555555556,
              "#d8576b"
             ],
             [
              0.6666666666666666,
              "#ed7953"
             ],
             [
              0.7777777777777778,
              "#fb9f3a"
             ],
             [
              0.8888888888888888,
              "#fdca26"
             ],
             [
              1,
              "#f0f921"
             ]
            ],
            "type": "surface"
           }
          ],
          "table": [
           {
            "cells": {
             "fill": {
              "color": "#EBF0F8"
             },
             "line": {
              "color": "white"
             }
            },
            "header": {
             "fill": {
              "color": "#C8D4E3"
             },
             "line": {
              "color": "white"
             }
            },
            "type": "table"
           }
          ]
         },
         "layout": {
          "annotationdefaults": {
           "arrowcolor": "#2a3f5f",
           "arrowhead": 0,
           "arrowwidth": 1
          },
          "autotypenumbers": "strict",
          "coloraxis": {
           "colorbar": {
            "outlinewidth": 0,
            "ticks": ""
           }
          },
          "colorscale": {
           "diverging": [
            [
             0,
             "#8e0152"
            ],
            [
             0.1,
             "#c51b7d"
            ],
            [
             0.2,
             "#de77ae"
            ],
            [
             0.3,
             "#f1b6da"
            ],
            [
             0.4,
             "#fde0ef"
            ],
            [
             0.5,
             "#f7f7f7"
            ],
            [
             0.6,
             "#e6f5d0"
            ],
            [
             0.7,
             "#b8e186"
            ],
            [
             0.8,
             "#7fbc41"
            ],
            [
             0.9,
             "#4d9221"
            ],
            [
             1,
             "#276419"
            ]
           ],
           "sequential": [
            [
             0,
             "#0d0887"
            ],
            [
             0.1111111111111111,
             "#46039f"
            ],
            [
             0.2222222222222222,
             "#7201a8"
            ],
            [
             0.3333333333333333,
             "#9c179e"
            ],
            [
             0.4444444444444444,
             "#bd3786"
            ],
            [
             0.5555555555555556,
             "#d8576b"
            ],
            [
             0.6666666666666666,
             "#ed7953"
            ],
            [
             0.7777777777777778,
             "#fb9f3a"
            ],
            [
             0.8888888888888888,
             "#fdca26"
            ],
            [
             1,
             "#f0f921"
            ]
           ],
           "sequentialminus": [
            [
             0,
             "#0d0887"
            ],
            [
             0.1111111111111111,
             "#46039f"
            ],
            [
             0.2222222222222222,
             "#7201a8"
            ],
            [
             0.3333333333333333,
             "#9c179e"
            ],
            [
             0.4444444444444444,
             "#bd3786"
            ],
            [
             0.5555555555555556,
             "#d8576b"
            ],
            [
             0.6666666666666666,
             "#ed7953"
            ],
            [
             0.7777777777777778,
             "#fb9f3a"
            ],
            [
             0.8888888888888888,
             "#fdca26"
            ],
            [
             1,
             "#f0f921"
            ]
           ]
          },
          "colorway": [
           "#636efa",
           "#EF553B",
           "#00cc96",
           "#ab63fa",
           "#FFA15A",
           "#19d3f3",
           "#FF6692",
           "#B6E880",
           "#FF97FF",
           "#FECB52"
          ],
          "font": {
           "color": "#2a3f5f"
          },
          "geo": {
           "bgcolor": "white",
           "lakecolor": "white",
           "landcolor": "#E5ECF6",
           "showlakes": true,
           "showland": true,
           "subunitcolor": "white"
          },
          "hoverlabel": {
           "align": "left"
          },
          "hovermode": "closest",
          "mapbox": {
           "style": "light"
          },
          "paper_bgcolor": "white",
          "plot_bgcolor": "#E5ECF6",
          "polar": {
           "angularaxis": {
            "gridcolor": "white",
            "linecolor": "white",
            "ticks": ""
           },
           "bgcolor": "#E5ECF6",
           "radialaxis": {
            "gridcolor": "white",
            "linecolor": "white",
            "ticks": ""
           }
          },
          "scene": {
           "xaxis": {
            "backgroundcolor": "#E5ECF6",
            "gridcolor": "white",
            "gridwidth": 2,
            "linecolor": "white",
            "showbackground": true,
            "ticks": "",
            "zerolinecolor": "white"
           },
           "yaxis": {
            "backgroundcolor": "#E5ECF6",
            "gridcolor": "white",
            "gridwidth": 2,
            "linecolor": "white",
            "showbackground": true,
            "ticks": "",
            "zerolinecolor": "white"
           },
           "zaxis": {
            "backgroundcolor": "#E5ECF6",
            "gridcolor": "white",
            "gridwidth": 2,
            "linecolor": "white",
            "showbackground": true,
            "ticks": "",
            "zerolinecolor": "white"
           }
          },
          "shapedefaults": {
           "line": {
            "color": "#2a3f5f"
           }
          },
          "ternary": {
           "aaxis": {
            "gridcolor": "white",
            "linecolor": "white",
            "ticks": ""
           },
           "baxis": {
            "gridcolor": "white",
            "linecolor": "white",
            "ticks": ""
           },
           "bgcolor": "#E5ECF6",
           "caxis": {
            "gridcolor": "white",
            "linecolor": "white",
            "ticks": ""
           }
          },
          "title": {
           "x": 0.05
          },
          "xaxis": {
           "automargin": true,
           "gridcolor": "white",
           "linecolor": "white",
           "ticks": "",
           "title": {
            "standoff": 15
           },
           "zerolinecolor": "white",
           "zerolinewidth": 2
          },
          "yaxis": {
           "automargin": true,
           "gridcolor": "white",
           "linecolor": "white",
           "ticks": "",
           "title": {
            "standoff": 15
           },
           "zerolinecolor": "white",
           "zerolinewidth": 2
          }
         }
        },
        "title": {
         "text": "Coherence vs. Exclusivity Scores for Different Number of Topics"
        },
        "xaxis": {
         "anchor": "y",
         "domain": [
          0,
          1
         ],
         "title": {
          "text": "Coherence Score"
         }
        },
        "yaxis": {
         "anchor": "x",
         "domain": [
          0,
          1
         ],
         "title": {
          "text": "Exclusivity Score"
         }
        }
       }
      }
     },
     "metadata": {},
     "output_type": "display_data"
    }
   ],
   "source": [
    "#Interactive graph of coherance and exclusivity\n",
    "fig = px.scatter(\n",
    "    df_results,\n",
    "    x='coherence', \n",
    "    y='exclusivity',\n",
    "    color='num_topics', \n",
    "    labels={\n",
    "        'coherence': 'Coherence Score',\n",
    "        'exclusivity': 'Exclusivity Score',\n",
    "        'num_topics': 'Number of Topics'\n",
    "    },\n",
    "    title='Coherence vs. Exclusivity Scores for Different Number of Topics'\n",
    ")\n",
    "\n",
    "fig.update_traces(marker=dict(size=10), hovertemplate='Num Topics: %{marker.color}<br>Coherence: %{x}<br>Exclusivity: %{y}')\n",
    "\n",
    "fig.update_layout(\n",
    "    xaxis_title='Coherence Score',\n",
    "    yaxis_title='Exclusivity Score',\n",
    "    coloraxis_colorbar=dict(title='Number of Topics')\n",
    ")\n",
    "\n",
    "fig.show()"
   ]
  },
  {
   "cell_type": "code",
   "execution_count": 119,
   "metadata": {},
   "outputs": [],
   "source": [
    "import plotly.io as pio\n",
    "# Save the interactive graph to an HTML file to inbed in the power point presentation\n",
    "pio.write_html(fig, file='Coherence_Exclusivity_interactive_graph.html', auto_open=True)"
   ]
  },
  {
   "cell_type": "code",
   "execution_count": 120,
   "metadata": {},
   "outputs": [
    {
     "name": "stdout",
     "output_type": "stream",
     "text": [
      "5\n",
      "213\n"
     ]
    }
   ],
   "source": [
    "#LDA Topic Modeling\n",
    "vec = CountVectorizer(stop_words=stop_words, max_df=0.80, min_df=0.20, token_pattern=r'\\b[a-zA-Z]{3,}\\b')\n",
    "X = vec.fit_transform(final_data['content'])\n",
    "lda = LatentDirichletAllocation(n_components=5, random_state=225)\n",
    "doc_topics = lda.fit_transform(X)\n",
    "print(lda.components_.shape[0]) #topics\n",
    "print(lda.components_.shape[1]) #words"
   ]
  },
  {
   "cell_type": "code",
   "execution_count": 121,
   "metadata": {},
   "outputs": [
    {
     "name": "stdout",
     "output_type": "stream",
     "text": [
      "Topic #0: county, estimate, state, code, household, income, united, information, use, source, website, file, area, official, government, population, person, place, address, updated\n",
      "Topic #1: survey, age, health, child, population, question, people, school, national, community, american, year, group, person, across, information, work, change, resource, level\n",
      "Topic #2: state, home, new, health, care, city, information, community, public, service, business, research, access, resource, online, center, program, policy, department, including\n",
      "Topic #3: house, good, statistic, housing, area, price, service, value, home, month, new, estimate, used, cost, made, state, percent, average, annual, united\n",
      "Topic #4: year, may, people, one, market, also, time, new, like, march, would, family, business, rate, day, number, make, get, work, way\n"
     ]
    }
   ],
   "source": [
    "vocab = np.array(vec.get_feature_names_out())\n",
    "\n",
    "n_words = 20\n",
    "n_topics = 5 \n",
    "\n",
    "def imp_words(topic, n_words):\n",
    "    # Get indices of the top 'n_words' in descending order\n",
    "    top_word_indices = np.argsort(topic)[-n_words:][::-1]\n",
    "    return vocab[top_word_indices]\n",
    "words_in_topic = [imp_words(topic, n_words) for topic in lda.components_]\n",
    "\n",
    "# Display only the specified number of topics\n",
    "for idx, words in enumerate(words_in_topic[:n_topics]):\n",
    "    print(f\"Topic #{idx}: {', '.join(words)}\")"
   ]
  },
  {
   "cell_type": "code",
   "execution_count": 122,
   "metadata": {},
   "outputs": [
    {
     "name": "stdout",
     "output_type": "stream",
     "text": [
      "Topic 0:\n",
      "   county: 0.1071\n",
      "   estimate: 0.0572\n",
      "   state: 0.0379\n",
      "   code: 0.0346\n",
      "   household: 0.0259\n",
      "   income: 0.0246\n",
      "   united: 0.0240\n",
      "   information: 0.0239\n",
      "   use: 0.0211\n",
      "   source: 0.0207\n",
      "   website: 0.0200\n",
      "   file: 0.0195\n",
      "   area: 0.0191\n",
      "   official: 0.0166\n",
      "   government: 0.0162\n",
      "   population: 0.0135\n",
      "   person: 0.0134\n",
      "   place: 0.0133\n",
      "   address: 0.0133\n",
      "   updated: 0.0131\n",
      "Topic 1:\n",
      "   survey: 0.1291\n",
      "   age: 0.0959\n",
      "   health: 0.0947\n",
      "   child: 0.0704\n",
      "   population: 0.0573\n",
      "   question: 0.0375\n",
      "   people: 0.0310\n",
      "   school: 0.0300\n",
      "   national: 0.0276\n",
      "   community: 0.0273\n",
      "   american: 0.0261\n",
      "   year: 0.0254\n",
      "   group: 0.0184\n",
      "   person: 0.0117\n",
      "   across: 0.0110\n",
      "   information: 0.0108\n",
      "   work: 0.0102\n",
      "   change: 0.0098\n",
      "   resource: 0.0095\n",
      "   level: 0.0092\n",
      "Topic 2:\n",
      "   state: 0.0326\n",
      "   home: 0.0257\n",
      "   new: 0.0253\n",
      "   health: 0.0231\n",
      "   care: 0.0224\n",
      "   city: 0.0215\n",
      "   information: 0.0198\n",
      "   community: 0.0194\n",
      "   public: 0.0189\n",
      "   service: 0.0175\n",
      "   business: 0.0158\n",
      "   research: 0.0157\n",
      "   access: 0.0151\n",
      "   resource: 0.0144\n",
      "   online: 0.0137\n",
      "   center: 0.0127\n",
      "   program: 0.0126\n",
      "   policy: 0.0124\n",
      "   department: 0.0119\n",
      "   including: 0.0117\n",
      "Topic 3:\n",
      "   house: 0.0486\n",
      "   good: 0.0469\n",
      "   statistic: 0.0396\n",
      "   housing: 0.0361\n",
      "   area: 0.0360\n",
      "   price: 0.0305\n",
      "   service: 0.0262\n",
      "   value: 0.0256\n",
      "   home: 0.0205\n",
      "   month: 0.0203\n",
      "   new: 0.0183\n",
      "   estimate: 0.0183\n",
      "   used: 0.0171\n",
      "   cost: 0.0162\n",
      "   made: 0.0150\n",
      "   state: 0.0143\n",
      "   percent: 0.0139\n",
      "   average: 0.0139\n",
      "   annual: 0.0135\n",
      "   united: 0.0133\n",
      "Topic 4:\n",
      "   year: 0.0291\n",
      "   may: 0.0236\n",
      "   people: 0.0219\n",
      "   one: 0.0197\n",
      "   market: 0.0179\n",
      "   also: 0.0173\n",
      "   time: 0.0165\n",
      "   new: 0.0160\n",
      "   like: 0.0145\n",
      "   march: 0.0140\n",
      "   would: 0.0139\n",
      "   family: 0.0139\n",
      "   business: 0.0136\n",
      "   rate: 0.0131\n",
      "   day: 0.0125\n",
      "   number: 0.0119\n",
      "   make: 0.0113\n",
      "   get: 0.0107\n",
      "   work: 0.0105\n",
      "   way: 0.0098\n"
     ]
    }
   ],
   "source": [
    "# Normalize topic-word distributions to get probabilities\n",
    "topic_word_distributions = normalize(lda.components_, norm='l1', axis=1)\n",
    "\n",
    "# Collect top words and their probabilities for each topic\n",
    "top_words_with_probs = {}\n",
    "for topic_idx, topic in enumerate(topic_word_distributions):\n",
    "    top_word_ids = topic.argsort()[-n_words:][::-1]  # Get indices of top n words for this topic\n",
    "    top_words_probs = [(vocab[i], topic[i]) for i in top_word_ids]  # Get word-probability pairs\n",
    "    top_words_with_probs[f'Topic {topic_idx}'] = top_words_probs\n",
    "\n",
    "# Display the results\n",
    "for topic, words in top_words_with_probs.items():\n",
    "    print(f\"{topic}:\")\n",
    "    for word, prob in words:\n",
    "        print(f\"   {word}: {prob:.4f}\")"
   ]
  },
  {
   "cell_type": "code",
   "execution_count": 123,
   "metadata": {},
   "outputs": [],
   "source": [
    "plot_data = []\n",
    "for topic, words in top_words_with_probs.items():\n",
    "    for word, prob in words:\n",
    "        plot_data.append({'Topic': topic, 'Word': word, 'Probability': prob})\n",
    "\n",
    "df_plot = pd.DataFrame(plot_data)\n",
    "df_plot_0 = df_plot[df_plot[\"Topic\"]==\"Topic 0\"]\n",
    "df_plot_1 = df_plot[df_plot[\"Topic\"]==\"Topic 1\"]\n",
    "df_plot_2 = df_plot[df_plot[\"Topic\"]==\"Topic 2\"]\n",
    "df_plot_3 = df_plot[df_plot[\"Topic\"]==\"Topic 3\"]\n",
    "df_plot_4 = df_plot[df_plot[\"Topic\"]==\"Topic 4\"]"
   ]
  },
  {
   "cell_type": "code",
   "execution_count": 124,
   "metadata": {},
   "outputs": [
    {
     "data": {
      "image/png": "[encoded data removed]",
      "text/plain": [
       "<Figure size 1200x600 with 1 Axes>"
      ]
     },
     "metadata": {},
     "output_type": "display_data"
    }
   ],
   "source": [
    "# Plotting the distributions\n",
    "plt.figure(figsize=(12, 6))\n",
    "sns.barplot(data=df_plot_0, x='Word', y='Probability', palette='viridis')\n",
    "\n",
    "# Add title and labels\n",
    "plt.title('Top Words Distribution - Topic 0')\n",
    "plt.xlabel('Words')\n",
    "plt.ylabel('Probability')\n",
    "plt.xticks(rotation=45)\n",
    "plt.tight_layout()\n",
    "plt.show()"
   ]
  },
  {
   "cell_type": "code",
   "execution_count": 125,
   "metadata": {},
   "outputs": [
    {
     "data": {
      "image/png": "[encoded data removed]",
      "text/plain": [
       "<Figure size 1200x600 with 1 Axes>"
      ]
     },
     "metadata": {},
     "output_type": "display_data"
    }
   ],
   "source": [
    "# Plotting the distributions\n",
    "plt.figure(figsize=(12, 6))\n",
    "sns.barplot(data=df_plot_1, x='Word', y='Probability', palette='viridis')\n",
    "\n",
    "# Add title and labels\n",
    "plt.title('Top Words Distribution - Topic 1')\n",
    "plt.xlabel('Words')\n",
    "plt.ylabel('Probability')\n",
    "plt.xticks(rotation=45)\n",
    "plt.tight_layout()\n",
    "plt.show()"
   ]
  },
  {
   "cell_type": "code",
   "execution_count": 126,
   "metadata": {},
   "outputs": [
    {
     "data": {
      "image/png": "[encoded data removed]",
      "text/plain": [
       "<Figure size 1200x600 with 1 Axes>"
      ]
     },
     "metadata": {},
     "output_type": "display_data"
    }
   ],
   "source": [
    "# Plotting the distributions\n",
    "plt.figure(figsize=(12, 6))\n",
    "sns.barplot(data=df_plot_2, x='Word', y='Probability', palette='viridis')\n",
    "\n",
    "# Add title and labels\n",
    "plt.title('Top Words Distribution - Topic 2')\n",
    "plt.xlabel('Words')\n",
    "plt.ylabel('Probability')\n",
    "plt.xticks(rotation=45)\n",
    "plt.tight_layout()\n",
    "plt.show()"
   ]
  },
  {
   "cell_type": "code",
   "execution_count": 127,
   "metadata": {},
   "outputs": [
    {
     "data": {
      "image/png": "[encoded data removed]",
      "text/plain": [
       "<Figure size 1200x600 with 1 Axes>"
      ]
     },
     "metadata": {},
     "output_type": "display_data"
    }
   ],
   "source": [
    "# Plotting the distributions\n",
    "plt.figure(figsize=(12, 6))\n",
    "sns.barplot(data=df_plot_3, x='Word', y='Probability', palette='viridis')\n",
    "\n",
    "# Add title and labels\n",
    "plt.title('Top Words Distribution - Topic 3')\n",
    "plt.xlabel('Words')\n",
    "plt.ylabel('Probability')\n",
    "plt.xticks(rotation=45)\n",
    "plt.tight_layout()\n",
    "plt.show()"
   ]
  },
  {
   "cell_type": "code",
   "execution_count": 128,
   "metadata": {},
   "outputs": [
    {
     "data": {
      "image/png": "[encoded data removed]",
      "text/plain": [
       "<Figure size 1200x600 with 1 Axes>"
      ]
     },
     "metadata": {},
     "output_type": "display_data"
    }
   ],
   "source": [
    "# Plotting the distributions\n",
    "plt.figure(figsize=(12, 6))\n",
    "sns.barplot(data=df_plot_4, x='Word', y='Probability', palette='viridis')\n",
    "\n",
    "# Add title and labels\n",
    "plt.title('Top Words Distribution - Topic 4')\n",
    "plt.xlabel('Words')\n",
    "plt.ylabel('Probability')\n",
    "plt.xticks(rotation=45)\n",
    "plt.tight_layout()\n",
    "plt.show()"
   ]
  },
  {
   "cell_type": "code",
   "execution_count": 129,
   "metadata": {},
   "outputs": [
    {
     "data": {
      "text/html": [
       "<div>\n",
       "<style scoped>\n",
       "    .dataframe tbody tr th:only-of-type {\n",
       "        vertical-align: middle;\n",
       "    }\n",
       "\n",
       "    .dataframe tbody tr th {\n",
       "        vertical-align: top;\n",
       "    }\n",
       "\n",
       "    .dataframe thead th {\n",
       "        text-align: right;\n",
       "    }\n",
       "</style>\n",
       "<table border=\"1\" class=\"dataframe\">\n",
       "  <thead>\n",
       "    <tr style=\"text-align: right;\">\n",
       "      <th></th>\n",
       "      <th>Topic_0</th>\n",
       "      <th>Topic_1</th>\n",
       "      <th>Topic_2</th>\n",
       "      <th>Topic_3</th>\n",
       "      <th>Topic_4</th>\n",
       "    </tr>\n",
       "  </thead>\n",
       "  <tbody>\n",
       "    <tr>\n",
       "      <th>Document_0</th>\n",
       "      <td>0.00</td>\n",
       "      <td>0.00</td>\n",
       "      <td>0.00</td>\n",
       "      <td>0.09</td>\n",
       "      <td>0.91</td>\n",
       "    </tr>\n",
       "    <tr>\n",
       "      <th>Document_1</th>\n",
       "      <td>0.00</td>\n",
       "      <td>0.00</td>\n",
       "      <td>0.00</td>\n",
       "      <td>0.00</td>\n",
       "      <td>0.99</td>\n",
       "    </tr>\n",
       "    <tr>\n",
       "      <th>Document_2</th>\n",
       "      <td>0.33</td>\n",
       "      <td>0.01</td>\n",
       "      <td>0.29</td>\n",
       "      <td>0.02</td>\n",
       "      <td>0.35</td>\n",
       "    </tr>\n",
       "    <tr>\n",
       "      <th>Document_3</th>\n",
       "      <td>0.19</td>\n",
       "      <td>0.04</td>\n",
       "      <td>0.15</td>\n",
       "      <td>0.08</td>\n",
       "      <td>0.54</td>\n",
       "    </tr>\n",
       "    <tr>\n",
       "      <th>Document_4</th>\n",
       "      <td>0.40</td>\n",
       "      <td>0.09</td>\n",
       "      <td>0.36</td>\n",
       "      <td>0.01</td>\n",
       "      <td>0.14</td>\n",
       "    </tr>\n",
       "    <tr>\n",
       "      <th>...</th>\n",
       "      <td>...</td>\n",
       "      <td>...</td>\n",
       "      <td>...</td>\n",
       "      <td>...</td>\n",
       "      <td>...</td>\n",
       "    </tr>\n",
       "    <tr>\n",
       "      <th>Document_324</th>\n",
       "      <td>0.00</td>\n",
       "      <td>0.00</td>\n",
       "      <td>0.00</td>\n",
       "      <td>0.02</td>\n",
       "      <td>0.97</td>\n",
       "    </tr>\n",
       "    <tr>\n",
       "      <th>Document_325</th>\n",
       "      <td>0.03</td>\n",
       "      <td>0.00</td>\n",
       "      <td>0.36</td>\n",
       "      <td>0.15</td>\n",
       "      <td>0.45</td>\n",
       "    </tr>\n",
       "    <tr>\n",
       "      <th>Document_326</th>\n",
       "      <td>0.00</td>\n",
       "      <td>0.02</td>\n",
       "      <td>0.49</td>\n",
       "      <td>0.00</td>\n",
       "      <td>0.48</td>\n",
       "    </tr>\n",
       "    <tr>\n",
       "      <th>Document_327</th>\n",
       "      <td>0.21</td>\n",
       "      <td>0.01</td>\n",
       "      <td>0.78</td>\n",
       "      <td>0.01</td>\n",
       "      <td>0.01</td>\n",
       "    </tr>\n",
       "    <tr>\n",
       "      <th>Document_328</th>\n",
       "      <td>0.02</td>\n",
       "      <td>0.02</td>\n",
       "      <td>0.74</td>\n",
       "      <td>0.02</td>\n",
       "      <td>0.20</td>\n",
       "    </tr>\n",
       "  </tbody>\n",
       "</table>\n",
       "<p>329 rows × 5 columns</p>\n",
       "</div>"
      ],
      "text/plain": [
       "              Topic_0  Topic_1  Topic_2  Topic_3  Topic_4\n",
       "Document_0       0.00     0.00     0.00     0.09     0.91\n",
       "Document_1       0.00     0.00     0.00     0.00     0.99\n",
       "Document_2       0.33     0.01     0.29     0.02     0.35\n",
       "Document_3       0.19     0.04     0.15     0.08     0.54\n",
       "Document_4       0.40     0.09     0.36     0.01     0.14\n",
       "...               ...      ...      ...      ...      ...\n",
       "Document_324     0.00     0.00     0.00     0.02     0.97\n",
       "Document_325     0.03     0.00     0.36     0.15     0.45\n",
       "Document_326     0.00     0.02     0.49     0.00     0.48\n",
       "Document_327     0.21     0.01     0.78     0.01     0.01\n",
       "Document_328     0.02     0.02     0.74     0.02     0.20\n",
       "\n",
       "[329 rows x 5 columns]"
      ]
     },
     "execution_count": 129,
     "metadata": {},
     "output_type": "execute_result"
    }
   ],
   "source": [
    "#Probability of each document per topic\n",
    "cols = [\"Topic_\" + str(each) for each in range(lda.n_components)]\n",
    "docs = [\"Document_\" + str(each) for each in range(X.shape[0])]\n",
    "\n",
    "df_topics = pd.DataFrame(np.round(doc_topics,2),\n",
    "                         columns=cols,\n",
    "                         index=docs)\n",
    "\n",
    "df_topics"
   ]
  },
  {
   "cell_type": "code",
   "execution_count": 130,
   "metadata": {},
   "outputs": [
    {
     "name": "stdout",
     "output_type": "stream",
     "text": [
      "            Topic_0  Topic_1  Topic_2  Topic_3  Topic_4  top_topic\n",
      "Document_0     0.00     0.00     0.00     0.09     0.91          4\n",
      "Document_1     0.00     0.00     0.00     0.00     0.99          4\n",
      "Document_2     0.33     0.01     0.29     0.02     0.35          4\n",
      "Document_3     0.19     0.04     0.15     0.08     0.54          4\n",
      "Document_4     0.40     0.09     0.36     0.01     0.14          0\n",
      "Document_5     0.08     0.05     0.14     0.40     0.34          3\n",
      "Document_6     0.00     0.00     0.98     0.00     0.00          2\n",
      "Document_7     0.47     0.01     0.51     0.01     0.01          2\n",
      "Document_8     0.03     0.00     0.00     0.00     0.97          4\n",
      "Document_9     0.19     0.00     0.73     0.04     0.03          2\n"
     ]
    }
   ],
   "source": [
    "#Assigning each document the topic with the highest probability\n",
    "imp_topic = np.argmax(df_topics.values, axis=1)\n",
    "df_topics[\"top_topic\"] = imp_topic\n",
    "print(df_topics.head(10))"
   ]
  },
  {
   "cell_type": "code",
   "execution_count": 131,
   "metadata": {},
   "outputs": [
    {
     "name": "stdout",
     "output_type": "stream",
     "text": [
      "            Topic_0  Topic_1  Topic_2  Topic_3  Topic_4  top_topic  \\\n",
      "Document_0     0.00     0.00     0.00     0.09     0.91          4   \n",
      "Document_1     0.00     0.00     0.00     0.00     0.99          4   \n",
      "Document_2     0.33     0.01     0.29     0.02     0.35          4   \n",
      "Document_3     0.19     0.04     0.15     0.08     0.54          4   \n",
      "Document_4     0.40     0.09     0.36     0.01     0.14          0   \n",
      "Document_5     0.08     0.05     0.14     0.40     0.34          3   \n",
      "Document_6     0.00     0.00     0.98     0.00     0.00          2   \n",
      "Document_7     0.47     0.01     0.51     0.01     0.01          2   \n",
      "Document_8     0.03     0.00     0.00     0.00     0.97          4   \n",
      "Document_9     0.19     0.00     0.73     0.04     0.03          2   \n",
      "\n",
      "                                                   Topic_Name  \n",
      "Document_0  Annual Market Trends: Business, Family, and Ec...  \n",
      "Document_1  Annual Market Trends: Business, Family, and Ec...  \n",
      "Document_2  Annual Market Trends: Business, Family, and Ec...  \n",
      "Document_3  Annual Market Trends: Business, Family, and Ec...  \n",
      "Document_4  Comprehensive County Data: Population, Income,...  \n",
      "Document_5  Housing Market Analysis: Prices, Values, and S...  \n",
      "Document_6  State and Community Health Services: Access an...  \n",
      "Document_7  State and Community Health Services: Access an...  \n",
      "Document_8  Annual Market Trends: Business, Family, and Ec...  \n",
      "Document_9  State and Community Health Services: Access an...  \n"
     ]
    }
   ],
   "source": [
    "#Adding in topic names\n",
    "conditions = [df_topics[\"top_topic\"] == 0, df_topics[\"top_topic\"] == 1, df_topics[\"top_topic\"] == 2, \n",
    "              df_topics[\"top_topic\"] == 3, df_topics[\"top_topic\"] == 4]\n",
    "\n",
    "choices = [\"Comprehensive County Data: Population, Income, and Government Resources\", \"National Health and Demographic Survey: Insights Across Communities\", \"State and Community Health Services: Access and Resources\", \"Housing Market Analysis: Prices, Values, and Statistics\", \"Annual Market Trends: Business, Family, and Economic Insights\"]\n",
    "\n",
    "df_topics[\"Topic_Name\"] = np.select(conditions, choices, default=\"Other\")\n",
    "\n",
    "# Expand the columns to show the full output\n",
    "pd.set_option('display.max_columns', None)\n",
    "\n",
    "# Show top 10 rows in the DataFrame\n",
    "print(df_topics.head(10))"
   ]
  },
  {
   "cell_type": "code",
   "execution_count": 132,
   "metadata": {},
   "outputs": [
    {
     "data": {
      "text/html": [
       "<div>\n",
       "<style scoped>\n",
       "    .dataframe tbody tr th:only-of-type {\n",
       "        vertical-align: middle;\n",
       "    }\n",
       "\n",
       "    .dataframe tbody tr th {\n",
       "        vertical-align: top;\n",
       "    }\n",
       "\n",
       "    .dataframe thead th {\n",
       "        text-align: right;\n",
       "    }\n",
       "</style>\n",
       "<table border=\"1\" class=\"dataframe\">\n",
       "  <thead>\n",
       "    <tr style=\"text-align: right;\">\n",
       "      <th></th>\n",
       "      <th>url</th>\n",
       "      <th>Found Links</th>\n",
       "      <th>Source</th>\n",
       "      <th>content</th>\n",
       "      <th>Topic_Name</th>\n",
       "    </tr>\n",
       "  </thead>\n",
       "  <tbody>\n",
       "    <tr>\n",
       "      <th>0</th>\n",
       "      <td>http://bonddad.blogspot.com/2021/12/manufactur...</td>\n",
       "      <td>[http://www.census.gov/econ/www/]</td>\n",
       "      <td>cited</td>\n",
       "      <td>the bonddad blog manufacturing still red hot c...</td>\n",
       "      <td>Annual Market Trends: Business, Family, and Ec...</td>\n",
       "    </tr>\n",
       "    <tr>\n",
       "      <th>1</th>\n",
       "      <td>http://bonddad.blogspot.com/2023/09/initial-jo...</td>\n",
       "      <td>[http://www.census.gov/econ/www/]</td>\n",
       "      <td>cited</td>\n",
       "      <td>the bonddad blog initial jobless claim remain ...</td>\n",
       "      <td>Annual Market Trends: Business, Family, and Ec...</td>\n",
       "    </tr>\n",
       "    <tr>\n",
       "      <th>2</th>\n",
       "      <td>http://bostongis.org/?content_name=umn_datasou...</td>\n",
       "      <td>[http://www.census.gov/geo/www/tiger/index.htm...</td>\n",
       "      <td>cited</td>\n",
       "      <td>ogr odbcboston geographic information systemsh...</td>\n",
       "      <td>Annual Market Trends: Business, Family, and Ec...</td>\n",
       "    </tr>\n",
       "    <tr>\n",
       "      <th>3</th>\n",
       "      <td>http://colonialsense.com/society-lifestyle/cen...</td>\n",
       "      <td>[mailto:?subject=colonial sense: society-lifes...</td>\n",
       "      <td>cited</td>\n",
       "      <td>colonial sense societylifestyle census governa...</td>\n",
       "      <td>Annual Market Trends: Business, Family, and Ec...</td>\n",
       "    </tr>\n",
       "    <tr>\n",
       "      <th>4</th>\n",
       "      <td>http://fileformats.archiveteam.org/index.php?t...</td>\n",
       "      <td>[https://www.census.gov/programs-surveys/cps.h...</td>\n",
       "      <td>cited</td>\n",
       "      <td>cps project just solve the file format problem...</td>\n",
       "      <td>Comprehensive County Data: Population, Income,...</td>\n",
       "    </tr>\n",
       "    <tr>\n",
       "      <th>...</th>\n",
       "      <td>...</td>\n",
       "      <td>...</td>\n",
       "      <td>...</td>\n",
       "      <td>...</td>\n",
       "      <td>...</td>\n",
       "    </tr>\n",
       "    <tr>\n",
       "      <th>324</th>\n",
       "      <td>https://www.withdra.com/p/mind-the-gap-explori...</td>\n",
       "      <td>[https://www.census.gov/library/publications/2...</td>\n",
       "      <td>cited</td>\n",
       "      <td>vibecession exploring the growing divide betwe...</td>\n",
       "      <td>Annual Market Trends: Business, Family, and Ec...</td>\n",
       "    </tr>\n",
       "    <tr>\n",
       "      <th>325</th>\n",
       "      <td>https://www.wxpr.org/2022-07-28/these-hurrican...</td>\n",
       "      <td>[https://data.census.gov/]</td>\n",
       "      <td>repackaged</td>\n",
       "      <td>these hurricane flood map reveal the climate f...</td>\n",
       "      <td>Annual Market Trends: Business, Family, and Ec...</td>\n",
       "    </tr>\n",
       "    <tr>\n",
       "      <th>326</th>\n",
       "      <td>https://www.wyomingpublicmedia.org/news/2021-0...</td>\n",
       "      <td>[https://www.census.gov/data/experimental-data...</td>\n",
       "      <td>repackaged</td>\n",
       "      <td>single mother bore brunt of coronavirus anxiet...</td>\n",
       "      <td>State and Community Health Services: Access an...</td>\n",
       "    </tr>\n",
       "    <tr>\n",
       "      <th>327</th>\n",
       "      <td>https://yelmwa.gov/i_want_to/contact/send_a_no...</td>\n",
       "      <td>[https://2020census.gov/en]</td>\n",
       "      <td>cited</td>\n",
       "      <td>welcome to yelm washingtonskip to contentsearc...</td>\n",
       "      <td>State and Community Health Services: Access an...</td>\n",
       "    </tr>\n",
       "    <tr>\n",
       "      <th>328</th>\n",
       "      <td>https://yelmwa.gov/news_detail_t10_r448.php</td>\n",
       "      <td>[https://2020census.gov/en]</td>\n",
       "      <td>cited</td>\n",
       "      <td>skip to contentyelm washingtonnavigation logoe...</td>\n",
       "      <td>State and Community Health Services: Access an...</td>\n",
       "    </tr>\n",
       "  </tbody>\n",
       "</table>\n",
       "<p>329 rows × 5 columns</p>\n",
       "</div>"
      ],
      "text/plain": [
       "                                                   url  \\\n",
       "0    http://bonddad.blogspot.com/2021/12/manufactur...   \n",
       "1    http://bonddad.blogspot.com/2023/09/initial-jo...   \n",
       "2    http://bostongis.org/?content_name=umn_datasou...   \n",
       "3    http://colonialsense.com/society-lifestyle/cen...   \n",
       "4    http://fileformats.archiveteam.org/index.php?t...   \n",
       "..                                                 ...   \n",
       "324  https://www.withdra.com/p/mind-the-gap-explori...   \n",
       "325  https://www.wxpr.org/2022-07-28/these-hurrican...   \n",
       "326  https://www.wyomingpublicmedia.org/news/2021-0...   \n",
       "327  https://yelmwa.gov/i_want_to/contact/send_a_no...   \n",
       "328        https://yelmwa.gov/news_detail_t10_r448.php   \n",
       "\n",
       "                                           Found Links      Source  \\\n",
       "0                    [http://www.census.gov/econ/www/]       cited   \n",
       "1                    [http://www.census.gov/econ/www/]       cited   \n",
       "2    [http://www.census.gov/geo/www/tiger/index.htm...       cited   \n",
       "3    [mailto:?subject=colonial sense: society-lifes...       cited   \n",
       "4    [https://www.census.gov/programs-surveys/cps.h...       cited   \n",
       "..                                                 ...         ...   \n",
       "324  [https://www.census.gov/library/publications/2...       cited   \n",
       "325                         [https://data.census.gov/]  repackaged   \n",
       "326  [https://www.census.gov/data/experimental-data...  repackaged   \n",
       "327                        [https://2020census.gov/en]       cited   \n",
       "328                        [https://2020census.gov/en]       cited   \n",
       "\n",
       "                                               content  \\\n",
       "0    the bonddad blog manufacturing still red hot c...   \n",
       "1    the bonddad blog initial jobless claim remain ...   \n",
       "2    ogr odbcboston geographic information systemsh...   \n",
       "3    colonial sense societylifestyle census governa...   \n",
       "4    cps project just solve the file format problem...   \n",
       "..                                                 ...   \n",
       "324  vibecession exploring the growing divide betwe...   \n",
       "325  these hurricane flood map reveal the climate f...   \n",
       "326  single mother bore brunt of coronavirus anxiet...   \n",
       "327  welcome to yelm washingtonskip to contentsearc...   \n",
       "328  skip to contentyelm washingtonnavigation logoe...   \n",
       "\n",
       "                                            Topic_Name  \n",
       "0    Annual Market Trends: Business, Family, and Ec...  \n",
       "1    Annual Market Trends: Business, Family, and Ec...  \n",
       "2    Annual Market Trends: Business, Family, and Ec...  \n",
       "3    Annual Market Trends: Business, Family, and Ec...  \n",
       "4    Comprehensive County Data: Population, Income,...  \n",
       "..                                                 ...  \n",
       "324  Annual Market Trends: Business, Family, and Ec...  \n",
       "325  Annual Market Trends: Business, Family, and Ec...  \n",
       "326  State and Community Health Services: Access an...  \n",
       "327  State and Community Health Services: Access an...  \n",
       "328  State and Community Health Services: Access an...  \n",
       "\n",
       "[329 rows x 5 columns]"
      ]
     },
     "execution_count": 132,
     "metadata": {},
     "output_type": "execute_result"
    }
   ],
   "source": [
    "#Adding topics into original DF\n",
    "conditions = [df_topics[\"top_topic\"] == 0, df_topics[\"top_topic\"] == 1, df_topics[\"top_topic\"] == 2, \n",
    "              df_topics[\"top_topic\"] == 3, df_topics[\"top_topic\"] == 4]\n",
    "\n",
    "choices = [\"Comprehensive County Data: Population, Income, and Government Resources\", \n",
    "           \"National Health and Demographic Survey: Insights Across Communities\", \n",
    "           \"State and Community Health Services: Access and Resources\", \n",
    "           \"Housing Market Analysis: Prices, Values, and Statistics\", \n",
    "           \"Annual Market Trends: Business, Family, and Economic Insights\"]\n",
    "final_data.loc[:,\"Topic_Name\"] = np.select(conditions, choices, default=\"Other\")\n",
    "\n",
    "final_data"
   ]
  },
  {
   "cell_type": "code",
   "execution_count": 133,
   "metadata": {},
   "outputs": [
    {
     "data": {
      "text/plain": [
       "Topic_Name\n",
       "State and Community Health Services: Access and Resources                  124\n",
       "Annual Market Trends: Business, Family, and Economic Insights              115\n",
       "Comprehensive County Data: Population, Income, and Government Resources     69\n",
       "Housing Market Analysis: Prices, Values, and Statistics                     11\n",
       "National Health and Demographic Survey: Insights Across Communities         10\n",
       "Name: count, dtype: int64"
      ]
     },
     "execution_count": 133,
     "metadata": {},
     "output_type": "execute_result"
    }
   ],
   "source": [
    "#Simple count of topics\n",
    "df_topics['Topic_Name'].value_counts()"
   ]
  },
  {
   "cell_type": "markdown",
   "metadata": {},
   "source": [
    "## Mapping"
   ]
  },
  {
   "cell_type": "code",
   "execution_count": 134,
   "metadata": {},
   "outputs": [
    {
     "name": "stderr",
     "output_type": "stream",
     "text": [
      "Status code 403 from https://nominatim.openstreetmap.org/search: ERROR - 403 Client Error: Forbidden for url: https://nominatim.openstreetmap.org/search?q=Tampa%2C+Florida+US&format=jsonv2&addressdetails=1&limit=1\n",
      "Status code 403 from https://nominatim.openstreetmap.org/search: ERROR - 403 Client Error: Forbidden for url: https://nominatim.openstreetmap.org/search?q=Tampa%2C+US&format=jsonv2&addressdetails=1&limit=1\n",
      "Status code 403 from https://nominatim.openstreetmap.org/search: ERROR - 403 Client Error: Forbidden for url: https://nominatim.openstreetmap.org/search?q=Toronto%2C+Ontario+CA&format=jsonv2&addressdetails=1&limit=1\n",
      "Status code 403 from https://nominatim.openstreetmap.org/search: ERROR - 403 Client Error: Forbidden for url: https://nominatim.openstreetmap.org/search?q=Toronto%2C+CA&format=jsonv2&addressdetails=1&limit=1\n",
      "Status code 403 from https://nominatim.openstreetmap.org/search: ERROR - 403 Client Error: Forbidden for url: https://nominatim.openstreetmap.org/search?q=Brea%2C+California+US&format=jsonv2&addressdetails=1&limit=1\n",
      "Status code 403 from https://nominatim.openstreetmap.org/search: ERROR - 403 Client Error: Forbidden for url: https://nominatim.openstreetmap.org/search?q=Brea%2C+US&format=jsonv2&addressdetails=1&limit=1\n",
      "Status code 403 from https://nominatim.openstreetmap.org/search: ERROR - 403 Client Error: Forbidden for url: https://nominatim.openstreetmap.org/search?q=Los+Angeles+%28Playa+Vista%29%2C+California+US&format=jsonv2&addressdetails=1&limit=1\n",
      "Status code 403 from https://nominatim.openstreetmap.org/search: ERROR - 403 Client Error: Forbidden for url: https://nominatim.openstreetmap.org/search?q=Los+Angeles+%28Playa+Vista%29%2C+US&format=jsonv2&addressdetails=1&limit=1\n",
      "Status code 403 from https://nominatim.openstreetmap.org/search: ERROR - 403 Client Error: Forbidden for url: https://nominatim.openstreetmap.org/search?q=North+Bergen%2C+New+Jersey+US&format=jsonv2&addressdetails=1&limit=1\n",
      "Status code 403 from https://nominatim.openstreetmap.org/search: ERROR - 403 Client Error: Forbidden for url: https://nominatim.openstreetmap.org/search?q=North+Bergen%2C+US&format=jsonv2&addressdetails=1&limit=1\n",
      "Status code 403 from https://nominatim.openstreetmap.org/search: ERROR - 403 Client Error: Forbidden for url: https://nominatim.openstreetmap.org/search?q=Ashburn%2C+Virginia+US&format=jsonv2&addressdetails=1&limit=1\n",
      "Status code 403 from https://nominatim.openstreetmap.org/search: ERROR - 403 Client Error: Forbidden for url: https://nominatim.openstreetmap.org/search?q=Ashburn%2C+US&format=jsonv2&addressdetails=1&limit=1\n",
      "Status code 403 from https://nominatim.openstreetmap.org/search: ERROR - 403 Client Error: Forbidden for url: https://nominatim.openstreetmap.org/search?q=Cleveland%2C+Ohio+US&format=jsonv2&addressdetails=1&limit=1\n",
      "Status code 403 from https://nominatim.openstreetmap.org/search: ERROR - 403 Client Error: Forbidden for url: https://nominatim.openstreetmap.org/search?q=Cleveland%2C+US&format=jsonv2&addressdetails=1&limit=1\n",
      "Status code 403 from https://nominatim.openstreetmap.org/search: ERROR - 403 Client Error: Forbidden for url: https://nominatim.openstreetmap.org/search?q=San+Francisco+%28Chinatown%29%2C+California+US&format=jsonv2&addressdetails=1&limit=1\n",
      "Status code 403 from https://nominatim.openstreetmap.org/search: ERROR - 403 Client Error: Forbidden for url: https://nominatim.openstreetmap.org/search?q=San+Francisco+%28Chinatown%29%2C+US&format=jsonv2&addressdetails=1&limit=1\n",
      "Status code 403 from https://nominatim.openstreetmap.org/search: ERROR - 403 Client Error: Forbidden for url: https://nominatim.openstreetmap.org/search?q=Clifton%2C+New+Jersey+US&format=jsonv2&addressdetails=1&limit=1\n",
      "Status code 403 from https://nominatim.openstreetmap.org/search: ERROR - 403 Client Error: Forbidden for url: https://nominatim.openstreetmap.org/search?q=Clifton%2C+US&format=jsonv2&addressdetails=1&limit=1\n",
      "Status code 403 from https://nominatim.openstreetmap.org/search: ERROR - 403 Client Error: Forbidden for url: https://nominatim.openstreetmap.org/search?q=Lithia+Springs%2C+Georgia+US&format=jsonv2&addressdetails=1&limit=1\n",
      "Status code 403 from https://nominatim.openstreetmap.org/search: ERROR - 403 Client Error: Forbidden for url: https://nominatim.openstreetmap.org/search?q=Lithia+Springs%2C+US&format=jsonv2&addressdetails=1&limit=1\n",
      "Status code 403 from https://nominatim.openstreetmap.org/search: ERROR - 403 Client Error: Forbidden for url: https://nominatim.openstreetmap.org/search?q=Mountain+View%2C+California+US&format=jsonv2&addressdetails=1&limit=1\n",
      "Status code 403 from https://nominatim.openstreetmap.org/search: ERROR - 403 Client Error: Forbidden for url: https://nominatim.openstreetmap.org/search?q=Mountain+View%2C+US&format=jsonv2&addressdetails=1&limit=1\n",
      "Status code 403 from https://nominatim.openstreetmap.org/search: ERROR - 403 Client Error: Forbidden for url: https://nominatim.openstreetmap.org/search?q=Los+Angeles+%28Playa+Vista%29%2C+California+US&format=jsonv2&addressdetails=1&limit=1\n",
      "Status code 403 from https://nominatim.openstreetmap.org/search: ERROR - 403 Client Error: Forbidden for url: https://nominatim.openstreetmap.org/search?q=Los+Angeles+%28Playa+Vista%29%2C+US&format=jsonv2&addressdetails=1&limit=1\n",
      "Status code 403 from https://nominatim.openstreetmap.org/search: ERROR - 403 Client Error: Forbidden for url: https://nominatim.openstreetmap.org/search?q=Toronto%2C+Ontario+CA&format=jsonv2&addressdetails=1&limit=1\n",
      "Status code 403 from https://nominatim.openstreetmap.org/search: ERROR - 403 Client Error: Forbidden for url: https://nominatim.openstreetmap.org/search?q=Toronto%2C+CA&format=jsonv2&addressdetails=1&limit=1\n",
      "Status code 403 from https://nominatim.openstreetmap.org/search: ERROR - 403 Client Error: Forbidden for url: https://nominatim.openstreetmap.org/search?q=Montpelier%2C+Vermont+US&format=jsonv2&addressdetails=1&limit=1\n",
      "Status code 403 from https://nominatim.openstreetmap.org/search: ERROR - 403 Client Error: Forbidden for url: https://nominatim.openstreetmap.org/search?q=Montpelier%2C+US&format=jsonv2&addressdetails=1&limit=1\n",
      "Status code 403 from https://nominatim.openstreetmap.org/search: ERROR - 403 Client Error: Forbidden for url: https://nominatim.openstreetmap.org/search?q=Toronto%2C+Ontario+CA&format=jsonv2&addressdetails=1&limit=1\n",
      "Status code 403 from https://nominatim.openstreetmap.org/search: ERROR - 403 Client Error: Forbidden for url: https://nominatim.openstreetmap.org/search?q=Toronto%2C+CA&format=jsonv2&addressdetails=1&limit=1\n",
      "Status code 403 from https://nominatim.openstreetmap.org/search: ERROR - 403 Client Error: Forbidden for url: https://nominatim.openstreetmap.org/search?q=Columbia%2C+Missouri+US&format=jsonv2&addressdetails=1&limit=1\n",
      "Status code 403 from https://nominatim.openstreetmap.org/search: ERROR - 403 Client Error: Forbidden for url: https://nominatim.openstreetmap.org/search?q=Columbia%2C+US&format=jsonv2&addressdetails=1&limit=1\n",
      "Status code 403 from https://nominatim.openstreetmap.org/search: ERROR - 403 Client Error: Forbidden for url: https://nominatim.openstreetmap.org/search?q=Ashburn%2C+Virginia+US&format=jsonv2&addressdetails=1&limit=1\n",
      "Status code 403 from https://nominatim.openstreetmap.org/search: ERROR - 403 Client Error: Forbidden for url: https://nominatim.openstreetmap.org/search?q=Ashburn%2C+US&format=jsonv2&addressdetails=1&limit=1\n",
      "Status code 403 from https://nominatim.openstreetmap.org/search: ERROR - 403 Client Error: Forbidden for url: https://nominatim.openstreetmap.org/search?q=Ashburn%2C+Virginia+US&format=jsonv2&addressdetails=1&limit=1\n",
      "Status code 403 from https://nominatim.openstreetmap.org/search: ERROR - 403 Client Error: Forbidden for url: https://nominatim.openstreetmap.org/search?q=Ashburn%2C+US&format=jsonv2&addressdetails=1&limit=1\n",
      "Status code 403 from https://nominatim.openstreetmap.org/search: ERROR - 403 Client Error: Forbidden for url: https://nominatim.openstreetmap.org/search?q=Tempe+%28South+Tempe%29%2C+Arizona+US&format=jsonv2&addressdetails=1&limit=1\n",
      "Status code 403 from https://nominatim.openstreetmap.org/search: ERROR - 403 Client Error: Forbidden for url: https://nominatim.openstreetmap.org/search?q=Tempe+%28South+Tempe%29%2C+US&format=jsonv2&addressdetails=1&limit=1\n",
      "Status code 403 from https://nominatim.openstreetmap.org/search: ERROR - 403 Client Error: Forbidden for url: https://nominatim.openstreetmap.org/search?q=Minneapolis%2C+Minnesota+US&format=jsonv2&addressdetails=1&limit=1\n",
      "Status code 403 from https://nominatim.openstreetmap.org/search: ERROR - 403 Client Error: Forbidden for url: https://nominatim.openstreetmap.org/search?q=Minneapolis%2C+US&format=jsonv2&addressdetails=1&limit=1\n",
      "Status code 403 from https://nominatim.openstreetmap.org/search: ERROR - 403 Client Error: Forbidden for url: https://nominatim.openstreetmap.org/search?q=Cambridge+%28East+Cambridge%29%2C+Massachusetts+US&format=jsonv2&addressdetails=1&limit=1\n",
      "Status code 403 from https://nominatim.openstreetmap.org/search: ERROR - 403 Client Error: Forbidden for url: https://nominatim.openstreetmap.org/search?q=Cambridge+%28East+Cambridge%29%2C+US&format=jsonv2&addressdetails=1&limit=1\n",
      "Status code 403 from https://nominatim.openstreetmap.org/search: ERROR - 403 Client Error: Forbidden for url: https://nominatim.openstreetmap.org/search?q=Washington+D.C.+%28Northwest+Washington%29%2C+District+of+Columbia+US&format=jsonv2&addressdetails=1&limit=1\n",
      "Status code 403 from https://nominatim.openstreetmap.org/search: ERROR - 403 Client Error: Forbidden for url: https://nominatim.openstreetmap.org/search?q=Washington+D.C.+%28Northwest+Washington%29%2C+US&format=jsonv2&addressdetails=1&limit=1\n",
      "Status code 403 from https://nominatim.openstreetmap.org/search: ERROR - 403 Client Error: Forbidden for url: https://nominatim.openstreetmap.org/search?q=Lithia+Springs%2C+Georgia+US&format=jsonv2&addressdetails=1&limit=1\n",
      "Status code 403 from https://nominatim.openstreetmap.org/search: ERROR - 403 Client Error: Forbidden for url: https://nominatim.openstreetmap.org/search?q=Lithia+Springs%2C+US&format=jsonv2&addressdetails=1&limit=1\n",
      "Status code 403 from https://nominatim.openstreetmap.org/search: ERROR - 403 Client Error: Forbidden for url: https://nominatim.openstreetmap.org/search?q=Seattle+%28South+Lake+Union%29%2C+Washington+US&format=jsonv2&addressdetails=1&limit=1\n",
      "Status code 403 from https://nominatim.openstreetmap.org/search: ERROR - 403 Client Error: Forbidden for url: https://nominatim.openstreetmap.org/search?q=Seattle+%28South+Lake+Union%29%2C+US&format=jsonv2&addressdetails=1&limit=1\n",
      "Status code 403 from https://nominatim.openstreetmap.org/search: ERROR - 403 Client Error: Forbidden for url: https://nominatim.openstreetmap.org/search?q=Clifton%2C+New+Jersey+US&format=jsonv2&addressdetails=1&limit=1\n",
      "Status code 403 from https://nominatim.openstreetmap.org/search: ERROR - 403 Client Error: Forbidden for url: https://nominatim.openstreetmap.org/search?q=Clifton%2C+US&format=jsonv2&addressdetails=1&limit=1\n",
      "Status code 403 from https://nominatim.openstreetmap.org/search: ERROR - 403 Client Error: Forbidden for url: https://nominatim.openstreetmap.org/search?q=Toronto%2C+Ontario+CA&format=jsonv2&addressdetails=1&limit=1\n",
      "Status code 403 from https://nominatim.openstreetmap.org/search: ERROR - 403 Client Error: Forbidden for url: https://nominatim.openstreetmap.org/search?q=Toronto%2C+CA&format=jsonv2&addressdetails=1&limit=1\n",
      "Status code 403 from https://nominatim.openstreetmap.org/search: ERROR - 403 Client Error: Forbidden for url: https://nominatim.openstreetmap.org/search?q=Oakland+%28Downtown+Oakland%29%2C+California+US&format=jsonv2&addressdetails=1&limit=1\n",
      "Status code 403 from https://nominatim.openstreetmap.org/search: ERROR - 403 Client Error: Forbidden for url: https://nominatim.openstreetmap.org/search?q=Oakland+%28Downtown+Oakland%29%2C+US&format=jsonv2&addressdetails=1&limit=1\n",
      "Status code 403 from https://nominatim.openstreetmap.org/search: ERROR - 403 Client Error: Forbidden for url: https://nominatim.openstreetmap.org/search?q=Toronto%2C+Ontario+CA&format=jsonv2&addressdetails=1&limit=1\n",
      "Status code 403 from https://nominatim.openstreetmap.org/search: ERROR - 403 Client Error: Forbidden for url: https://nominatim.openstreetmap.org/search?q=Toronto%2C+CA&format=jsonv2&addressdetails=1&limit=1\n",
      "Status code 403 from https://nominatim.openstreetmap.org/search: ERROR - 403 Client Error: Forbidden for url: https://nominatim.openstreetmap.org/search?q=Toronto%2C+Ontario+CA&format=jsonv2&addressdetails=1&limit=1\n",
      "Status code 403 from https://nominatim.openstreetmap.org/search: ERROR - 403 Client Error: Forbidden for url: https://nominatim.openstreetmap.org/search?q=Toronto%2C+CA&format=jsonv2&addressdetails=1&limit=1\n",
      "Status code 403 from https://nominatim.openstreetmap.org/search: ERROR - 403 Client Error: Forbidden for url: https://nominatim.openstreetmap.org/search?q=Tempe+%28South+Tempe%29%2C+Arizona+US&format=jsonv2&addressdetails=1&limit=1\n",
      "Status code 403 from https://nominatim.openstreetmap.org/search: ERROR - 403 Client Error: Forbidden for url: https://nominatim.openstreetmap.org/search?q=Tempe+%28South+Tempe%29%2C+US&format=jsonv2&addressdetails=1&limit=1\n",
      "Status code 403 from https://nominatim.openstreetmap.org/search: ERROR - 403 Client Error: Forbidden for url: https://nominatim.openstreetmap.org/search?q=Toronto%2C+Ontario+CA&format=jsonv2&addressdetails=1&limit=1\n",
      "Status code 403 from https://nominatim.openstreetmap.org/search: ERROR - 403 Client Error: Forbidden for url: https://nominatim.openstreetmap.org/search?q=Toronto%2C+CA&format=jsonv2&addressdetails=1&limit=1\n",
      "Status code 403 from https://nominatim.openstreetmap.org/search: ERROR - 403 Client Error: Forbidden for url: https://nominatim.openstreetmap.org/search?q=Mountain+View%2C+California+US&format=jsonv2&addressdetails=1&limit=1\n",
      "Status code 403 from https://nominatim.openstreetmap.org/search: ERROR - 403 Client Error: Forbidden for url: https://nominatim.openstreetmap.org/search?q=Mountain+View%2C+US&format=jsonv2&addressdetails=1&limit=1\n",
      "Status code 403 from https://nominatim.openstreetmap.org/search: ERROR - 403 Client Error: Forbidden for url: https://nominatim.openstreetmap.org/search?q=San+Francisco+%28Chinatown%29%2C+California+US&format=jsonv2&addressdetails=1&limit=1\n",
      "Status code 403 from https://nominatim.openstreetmap.org/search: ERROR - 403 Client Error: Forbidden for url: https://nominatim.openstreetmap.org/search?q=San+Francisco+%28Chinatown%29%2C+US&format=jsonv2&addressdetails=1&limit=1\n",
      "Status code 403 from https://nominatim.openstreetmap.org/search: ERROR - 403 Client Error: Forbidden for url: https://nominatim.openstreetmap.org/search?q=Helsinki%2C+Uusimaa+FI&format=jsonv2&addressdetails=1&limit=1\n",
      "Status code 403 from https://nominatim.openstreetmap.org/search: ERROR - 403 Client Error: Forbidden for url: https://nominatim.openstreetmap.org/search?q=Helsinki%2C+FI&format=jsonv2&addressdetails=1&limit=1\n",
      "Status code 403 from https://nominatim.openstreetmap.org/search: ERROR - 403 Client Error: Forbidden for url: https://nominatim.openstreetmap.org/search?q=Toronto%2C+Ontario+CA&format=jsonv2&addressdetails=1&limit=1\n",
      "Status code 403 from https://nominatim.openstreetmap.org/search: ERROR - 403 Client Error: Forbidden for url: https://nominatim.openstreetmap.org/search?q=Toronto%2C+CA&format=jsonv2&addressdetails=1&limit=1\n",
      "Status code 403 from https://nominatim.openstreetmap.org/search: ERROR - 403 Client Error: Forbidden for url: https://nominatim.openstreetmap.org/search?q=Los+Angeles%2C+California+US&format=jsonv2&addressdetails=1&limit=1\n",
      "Status code 403 from https://nominatim.openstreetmap.org/search: ERROR - 403 Client Error: Forbidden for url: https://nominatim.openstreetmap.org/search?q=Los+Angeles%2C+US&format=jsonv2&addressdetails=1&limit=1\n",
      "Status code 403 from https://nominatim.openstreetmap.org/search: ERROR - 403 Client Error: Forbidden for url: https://nominatim.openstreetmap.org/search?q=Toronto%2C+Ontario+CA&format=jsonv2&addressdetails=1&limit=1\n",
      "Status code 403 from https://nominatim.openstreetmap.org/search: ERROR - 403 Client Error: Forbidden for url: https://nominatim.openstreetmap.org/search?q=Toronto%2C+CA&format=jsonv2&addressdetails=1&limit=1\n",
      "Status code 403 from https://nominatim.openstreetmap.org/search: ERROR - 403 Client Error: Forbidden for url: https://nominatim.openstreetmap.org/search?q=Atlanta%2C+Georgia+US&format=jsonv2&addressdetails=1&limit=1\n",
      "Status code 403 from https://nominatim.openstreetmap.org/search: ERROR - 403 Client Error: Forbidden for url: https://nominatim.openstreetmap.org/search?q=Atlanta%2C+US&format=jsonv2&addressdetails=1&limit=1\n",
      "Status code 403 from https://nominatim.openstreetmap.org/search: ERROR - 403 Client Error: Forbidden for url: https://nominatim.openstreetmap.org/search?q=Atlanta%2C+Georgia+US&format=jsonv2&addressdetails=1&limit=1\n",
      "Status code 403 from https://nominatim.openstreetmap.org/search: ERROR - 403 Client Error: Forbidden for url: https://nominatim.openstreetmap.org/search?q=Atlanta%2C+US&format=jsonv2&addressdetails=1&limit=1\n",
      "Status code 403 from https://nominatim.openstreetmap.org/search: ERROR - 403 Client Error: Forbidden for url: https://nominatim.openstreetmap.org/search?q=Mountain+View%2C+California+US&format=jsonv2&addressdetails=1&limit=1\n",
      "Status code 403 from https://nominatim.openstreetmap.org/search: ERROR - 403 Client Error: Forbidden for url: https://nominatim.openstreetmap.org/search?q=Mountain+View%2C+US&format=jsonv2&addressdetails=1&limit=1\n",
      "Status code 403 from https://nominatim.openstreetmap.org/search: ERROR - 403 Client Error: Forbidden for url: https://nominatim.openstreetmap.org/search?q=Toronto%2C+Ontario+CA&format=jsonv2&addressdetails=1&limit=1\n",
      "Status code 403 from https://nominatim.openstreetmap.org/search: ERROR - 403 Client Error: Forbidden for url: https://nominatim.openstreetmap.org/search?q=Toronto%2C+CA&format=jsonv2&addressdetails=1&limit=1\n",
      "Status code 403 from https://nominatim.openstreetmap.org/search: ERROR - 403 Client Error: Forbidden for url: https://nominatim.openstreetmap.org/search?q=Chicago%2C+Illinois+US&format=jsonv2&addressdetails=1&limit=1\n",
      "Status code 403 from https://nominatim.openstreetmap.org/search: ERROR - 403 Client Error: Forbidden for url: https://nominatim.openstreetmap.org/search?q=Chicago%2C+US&format=jsonv2&addressdetails=1&limit=1\n",
      "Status code 403 from https://nominatim.openstreetmap.org/search: ERROR - 403 Client Error: Forbidden for url: https://nominatim.openstreetmap.org/search?q=Toronto%2C+Ontario+CA&format=jsonv2&addressdetails=1&limit=1\n",
      "Status code 403 from https://nominatim.openstreetmap.org/search: ERROR - 403 Client Error: Forbidden for url: https://nominatim.openstreetmap.org/search?q=Toronto%2C+CA&format=jsonv2&addressdetails=1&limit=1\n",
      "Status code 403 from https://nominatim.openstreetmap.org/search: ERROR - 403 Client Error: Forbidden for url: https://nominatim.openstreetmap.org/search?q=Atlanta%2C+Georgia+US&format=jsonv2&addressdetails=1&limit=1\n",
      "Status code 403 from https://nominatim.openstreetmap.org/search: ERROR - 403 Client Error: Forbidden for url: https://nominatim.openstreetmap.org/search?q=Atlanta%2C+US&format=jsonv2&addressdetails=1&limit=1\n",
      "Status code 403 from https://nominatim.openstreetmap.org/search: ERROR - 403 Client Error: Forbidden for url: https://nominatim.openstreetmap.org/search?q=Toronto%2C+Ontario+CA&format=jsonv2&addressdetails=1&limit=1\n",
      "Status code 403 from https://nominatim.openstreetmap.org/search: ERROR - 403 Client Error: Forbidden for url: https://nominatim.openstreetmap.org/search?q=Toronto%2C+CA&format=jsonv2&addressdetails=1&limit=1\n",
      "Status code 403 from https://nominatim.openstreetmap.org/search: ERROR - 403 Client Error: Forbidden for url: https://nominatim.openstreetmap.org/search?q=Washington%2C+Virginia+US&format=jsonv2&addressdetails=1&limit=1\n",
      "Status code 403 from https://nominatim.openstreetmap.org/search: ERROR - 403 Client Error: Forbidden for url: https://nominatim.openstreetmap.org/search?q=Washington%2C+US&format=jsonv2&addressdetails=1&limit=1\n",
      "Status code 403 from https://nominatim.openstreetmap.org/search: ERROR - 403 Client Error: Forbidden for url: https://nominatim.openstreetmap.org/search?q=San+Francisco+%28Financial+District%29%2C+California+US&format=jsonv2&addressdetails=1&limit=1\n",
      "Status code 403 from https://nominatim.openstreetmap.org/search: ERROR - 403 Client Error: Forbidden for url: https://nominatim.openstreetmap.org/search?q=San+Francisco+%28Financial+District%29%2C+US&format=jsonv2&addressdetails=1&limit=1\n",
      "Status code 403 from https://nominatim.openstreetmap.org/search: ERROR - 403 Client Error: Forbidden for url: https://nominatim.openstreetmap.org/search?q=Toronto%2C+Ontario+CA&format=jsonv2&addressdetails=1&limit=1\n",
      "Status code 403 from https://nominatim.openstreetmap.org/search: ERROR - 403 Client Error: Forbidden for url: https://nominatim.openstreetmap.org/search?q=Toronto%2C+CA&format=jsonv2&addressdetails=1&limit=1\n",
      "Status code 403 from https://nominatim.openstreetmap.org/search: ERROR - 403 Client Error: Forbidden for url: https://nominatim.openstreetmap.org/search?q=Mountain+View%2C+California+US&format=jsonv2&addressdetails=1&limit=1\n",
      "Status code 403 from https://nominatim.openstreetmap.org/search: ERROR - 403 Client Error: Forbidden for url: https://nominatim.openstreetmap.org/search?q=Mountain+View%2C+US&format=jsonv2&addressdetails=1&limit=1\n",
      "Status code 403 from https://nominatim.openstreetmap.org/search: ERROR - 403 Client Error: Forbidden for url: https://nominatim.openstreetmap.org/search?q=Lithia+Springs%2C+Georgia+US&format=jsonv2&addressdetails=1&limit=1\n",
      "Status code 403 from https://nominatim.openstreetmap.org/search: ERROR - 403 Client Error: Forbidden for url: https://nominatim.openstreetmap.org/search?q=Lithia+Springs%2C+US&format=jsonv2&addressdetails=1&limit=1\n",
      "Status code 403 from https://nominatim.openstreetmap.org/search: ERROR - 403 Client Error: Forbidden for url: https://nominatim.openstreetmap.org/search?q=Dallas%2C+Texas+US&format=jsonv2&addressdetails=1&limit=1\n",
      "Status code 403 from https://nominatim.openstreetmap.org/search: ERROR - 403 Client Error: Forbidden for url: https://nominatim.openstreetmap.org/search?q=Dallas%2C+US&format=jsonv2&addressdetails=1&limit=1\n",
      "Status code 403 from https://nominatim.openstreetmap.org/search: ERROR - 403 Client Error: Forbidden for url: https://nominatim.openstreetmap.org/search?q=Toronto%2C+Ontario+CA&format=jsonv2&addressdetails=1&limit=1\n",
      "Status code 403 from https://nominatim.openstreetmap.org/search: ERROR - 403 Client Error: Forbidden for url: https://nominatim.openstreetmap.org/search?q=Toronto%2C+CA&format=jsonv2&addressdetails=1&limit=1\n",
      "Status code 403 from https://nominatim.openstreetmap.org/search: ERROR - 403 Client Error: Forbidden for url: https://nominatim.openstreetmap.org/search?q=Toronto%2C+Ontario+CA&format=jsonv2&addressdetails=1&limit=1\n",
      "Status code 403 from https://nominatim.openstreetmap.org/search: ERROR - 403 Client Error: Forbidden for url: https://nominatim.openstreetmap.org/search?q=Toronto%2C+CA&format=jsonv2&addressdetails=1&limit=1\n",
      "Status code 403 from https://nominatim.openstreetmap.org/search: ERROR - 403 Client Error: Forbidden for url: https://nominatim.openstreetmap.org/search?q=Toronto%2C+Ontario+CA&format=jsonv2&addressdetails=1&limit=1\n",
      "Status code 403 from https://nominatim.openstreetmap.org/search: ERROR - 403 Client Error: Forbidden for url: https://nominatim.openstreetmap.org/search?q=Toronto%2C+CA&format=jsonv2&addressdetails=1&limit=1\n",
      "Status code 403 from https://nominatim.openstreetmap.org/search: ERROR - 403 Client Error: Forbidden for url: https://nominatim.openstreetmap.org/search?q=Lithia+Springs%2C+Georgia+US&format=jsonv2&addressdetails=1&limit=1\n",
      "Status code 403 from https://nominatim.openstreetmap.org/search: ERROR - 403 Client Error: Forbidden for url: https://nominatim.openstreetmap.org/search?q=Lithia+Springs%2C+US&format=jsonv2&addressdetails=1&limit=1\n",
      "Status code 403 from https://nominatim.openstreetmap.org/search: ERROR - 403 Client Error: Forbidden for url: https://nominatim.openstreetmap.org/search?q=Atlanta%2C+Georgia+US&format=jsonv2&addressdetails=1&limit=1\n",
      "Status code 403 from https://nominatim.openstreetmap.org/search: ERROR - 403 Client Error: Forbidden for url: https://nominatim.openstreetmap.org/search?q=Atlanta%2C+US&format=jsonv2&addressdetails=1&limit=1\n",
      "Status code 403 from https://nominatim.openstreetmap.org/search: ERROR - 403 Client Error: Forbidden for url: https://nominatim.openstreetmap.org/search?q=Tempe+%28South+Tempe%29%2C+Arizona+US&format=jsonv2&addressdetails=1&limit=1\n",
      "Status code 403 from https://nominatim.openstreetmap.org/search: ERROR - 403 Client Error: Forbidden for url: https://nominatim.openstreetmap.org/search?q=Tempe+%28South+Tempe%29%2C+US&format=jsonv2&addressdetails=1&limit=1\n",
      "Status code 403 from https://nominatim.openstreetmap.org/search: ERROR - 403 Client Error: Forbidden for url: https://nominatim.openstreetmap.org/search?q=Mountain+View%2C+California+US&format=jsonv2&addressdetails=1&limit=1\n",
      "Status code 403 from https://nominatim.openstreetmap.org/search: ERROR - 403 Client Error: Forbidden for url: https://nominatim.openstreetmap.org/search?q=Mountain+View%2C+US&format=jsonv2&addressdetails=1&limit=1\n",
      "Status code 403 from https://nominatim.openstreetmap.org/search: ERROR - 403 Client Error: Forbidden for url: https://nominatim.openstreetmap.org/search?q=Atlanta%2C+Georgia+US&format=jsonv2&addressdetails=1&limit=1\n",
      "Status code 403 from https://nominatim.openstreetmap.org/search: ERROR - 403 Client Error: Forbidden for url: https://nominatim.openstreetmap.org/search?q=Atlanta%2C+US&format=jsonv2&addressdetails=1&limit=1\n",
      "Status code 403 from https://nominatim.openstreetmap.org/search: ERROR - 403 Client Error: Forbidden for url: https://nominatim.openstreetmap.org/search?q=Boydton%2C+Virginia+US&format=jsonv2&addressdetails=1&limit=1\n",
      "Status code 403 from https://nominatim.openstreetmap.org/search: ERROR - 403 Client Error: Forbidden for url: https://nominatim.openstreetmap.org/search?q=Boydton%2C+US&format=jsonv2&addressdetails=1&limit=1\n",
      "Status code 403 from https://nominatim.openstreetmap.org/search: ERROR - 403 Client Error: Forbidden for url: https://nominatim.openstreetmap.org/search?q=Toronto%2C+Ontario+CA&format=jsonv2&addressdetails=1&limit=1\n",
      "Status code 403 from https://nominatim.openstreetmap.org/search: ERROR - 403 Client Error: Forbidden for url: https://nominatim.openstreetmap.org/search?q=Toronto%2C+CA&format=jsonv2&addressdetails=1&limit=1\n",
      "Status code 403 from https://nominatim.openstreetmap.org/search: ERROR - 403 Client Error: Forbidden for url: https://nominatim.openstreetmap.org/search?q=Chicago%2C+Illinois+US&format=jsonv2&addressdetails=1&limit=1\n",
      "Status code 403 from https://nominatim.openstreetmap.org/search: ERROR - 403 Client Error: Forbidden for url: https://nominatim.openstreetmap.org/search?q=Chicago%2C+US&format=jsonv2&addressdetails=1&limit=1\n",
      "Status code 403 from https://nominatim.openstreetmap.org/search: ERROR - 403 Client Error: Forbidden for url: https://nominatim.openstreetmap.org/search?q=Tampa%2C+Florida+US&format=jsonv2&addressdetails=1&limit=1\n",
      "Status code 403 from https://nominatim.openstreetmap.org/search: ERROR - 403 Client Error: Forbidden for url: https://nominatim.openstreetmap.org/search?q=Tampa%2C+US&format=jsonv2&addressdetails=1&limit=1\n",
      "Status code 403 from https://nominatim.openstreetmap.org/search: ERROR - 403 Client Error: Forbidden for url: https://nominatim.openstreetmap.org/search?q=Ashburn%2C+Virginia+US&format=jsonv2&addressdetails=1&limit=1\n",
      "Status code 403 from https://nominatim.openstreetmap.org/search: ERROR - 403 Client Error: Forbidden for url: https://nominatim.openstreetmap.org/search?q=Ashburn%2C+US&format=jsonv2&addressdetails=1&limit=1\n",
      "Status code 403 from https://nominatim.openstreetmap.org/search: ERROR - 403 Client Error: Forbidden for url: https://nominatim.openstreetmap.org/search?q=San+Francisco+%28Chinatown%29%2C+California+US&format=jsonv2&addressdetails=1&limit=1\n",
      "Status code 403 from https://nominatim.openstreetmap.org/search: ERROR - 403 Client Error: Forbidden for url: https://nominatim.openstreetmap.org/search?q=San+Francisco+%28Chinatown%29%2C+US&format=jsonv2&addressdetails=1&limit=1\n",
      "Status code 403 from https://nominatim.openstreetmap.org/search: ERROR - 403 Client Error: Forbidden for url: https://nominatim.openstreetmap.org/search?q=Washington+D.C.+%28Northwest+Washington%29%2C+District+of+Columbia+US&format=jsonv2&addressdetails=1&limit=1\n",
      "Status code 403 from https://nominatim.openstreetmap.org/search: ERROR - 403 Client Error: Forbidden for url: https://nominatim.openstreetmap.org/search?q=Washington+D.C.+%28Northwest+Washington%29%2C+US&format=jsonv2&addressdetails=1&limit=1\n",
      "Status code 403 from https://nominatim.openstreetmap.org/search: ERROR - 403 Client Error: Forbidden for url: https://nominatim.openstreetmap.org/search?q=Atlanta%2C+Georgia+US&format=jsonv2&addressdetails=1&limit=1\n",
      "Status code 403 from https://nominatim.openstreetmap.org/search: ERROR - 403 Client Error: Forbidden for url: https://nominatim.openstreetmap.org/search?q=Atlanta%2C+US&format=jsonv2&addressdetails=1&limit=1\n",
      "Status code 403 from https://nominatim.openstreetmap.org/search: ERROR - 403 Client Error: Forbidden for url: https://nominatim.openstreetmap.org/search?q=Toronto%2C+Ontario+CA&format=jsonv2&addressdetails=1&limit=1\n",
      "Status code 403 from https://nominatim.openstreetmap.org/search: ERROR - 403 Client Error: Forbidden for url: https://nominatim.openstreetmap.org/search?q=Toronto%2C+CA&format=jsonv2&addressdetails=1&limit=1\n",
      "Status code 403 from https://nominatim.openstreetmap.org/search: ERROR - 403 Client Error: Forbidden for url: https://nominatim.openstreetmap.org/search?q=Springfield+%28Vinegar+Hill%29%2C+Illinois+US&format=jsonv2&addressdetails=1&limit=1\n",
      "Status code 403 from https://nominatim.openstreetmap.org/search: ERROR - 403 Client Error: Forbidden for url: https://nominatim.openstreetmap.org/search?q=Springfield+%28Vinegar+Hill%29%2C+US&format=jsonv2&addressdetails=1&limit=1\n",
      "Status code 403 from https://nominatim.openstreetmap.org/search: ERROR - 403 Client Error: Forbidden for url: https://nominatim.openstreetmap.org/search?q=Ashburn%2C+Virginia+US&format=jsonv2&addressdetails=1&limit=1\n",
      "Status code 403 from https://nominatim.openstreetmap.org/search: ERROR - 403 Client Error: Forbidden for url: https://nominatim.openstreetmap.org/search?q=Ashburn%2C+US&format=jsonv2&addressdetails=1&limit=1\n",
      "Status code 403 from https://nominatim.openstreetmap.org/search: ERROR - 403 Client Error: Forbidden for url: https://nominatim.openstreetmap.org/search?q=Lithia+Springs%2C+Georgia+US&format=jsonv2&addressdetails=1&limit=1\n",
      "Status code 403 from https://nominatim.openstreetmap.org/search: ERROR - 403 Client Error: Forbidden for url: https://nominatim.openstreetmap.org/search?q=Lithia+Springs%2C+US&format=jsonv2&addressdetails=1&limit=1\n",
      "Status code 403 from https://nominatim.openstreetmap.org/search: ERROR - 403 Client Error: Forbidden for url: https://nominatim.openstreetmap.org/search?q=Boston+%28Downtown%29%2C+Massachusetts+US&format=jsonv2&addressdetails=1&limit=1\n",
      "Status code 403 from https://nominatim.openstreetmap.org/search: ERROR - 403 Client Error: Forbidden for url: https://nominatim.openstreetmap.org/search?q=Boston+%28Downtown%29%2C+US&format=jsonv2&addressdetails=1&limit=1\n",
      "Status code 403 from https://nominatim.openstreetmap.org/search: ERROR - 403 Client Error: Forbidden for url: https://nominatim.openstreetmap.org/search?q=Atlanta%2C+Georgia+US&format=jsonv2&addressdetails=1&limit=1\n",
      "Status code 403 from https://nominatim.openstreetmap.org/search: ERROR - 403 Client Error: Forbidden for url: https://nominatim.openstreetmap.org/search?q=Atlanta%2C+US&format=jsonv2&addressdetails=1&limit=1\n"
     ]
    },
    {
     "name": "stdout",
     "output_type": "stream",
     "text": [
      "Could not resolve https://hcup-us.ahrq.gov:443/reports/statbriefs/sb138.jsp: DNS resolution failed\n"
     ]
    },
    {
     "name": "stderr",
     "output_type": "stream",
     "text": [
      "Status code 403 from https://nominatim.openstreetmap.org/search: ERROR - 403 Client Error: Forbidden for url: https://nominatim.openstreetmap.org/search?q=Kansas+City%2C+Missouri+US&format=jsonv2&addressdetails=1&limit=1\n",
      "Status code 403 from https://nominatim.openstreetmap.org/search: ERROR - 403 Client Error: Forbidden for url: https://nominatim.openstreetmap.org/search?q=Kansas+City%2C+US&format=jsonv2&addressdetails=1&limit=1\n",
      "Status code 403 from https://nominatim.openstreetmap.org/search: ERROR - 403 Client Error: Forbidden for url: https://nominatim.openstreetmap.org/search?q=Toronto%2C+Ontario+CA&format=jsonv2&addressdetails=1&limit=1\n",
      "Status code 403 from https://nominatim.openstreetmap.org/search: ERROR - 403 Client Error: Forbidden for url: https://nominatim.openstreetmap.org/search?q=Toronto%2C+CA&format=jsonv2&addressdetails=1&limit=1\n",
      "Status code 403 from https://nominatim.openstreetmap.org/search: ERROR - 403 Client Error: Forbidden for url: https://nominatim.openstreetmap.org/search?q=Toronto+%28Old+Toronto%29%2C+Ontario+CA&format=jsonv2&addressdetails=1&limit=1\n",
      "Status code 403 from https://nominatim.openstreetmap.org/search: ERROR - 403 Client Error: Forbidden for url: https://nominatim.openstreetmap.org/search?q=Toronto+%28Old+Toronto%29%2C+CA&format=jsonv2&addressdetails=1&limit=1\n",
      "Status code 403 from https://nominatim.openstreetmap.org/search: ERROR - 403 Client Error: Forbidden for url: https://nominatim.openstreetmap.org/search?q=Salt+Lake+City%2C+Utah+US&format=jsonv2&addressdetails=1&limit=1\n",
      "Status code 403 from https://nominatim.openstreetmap.org/search: ERROR - 403 Client Error: Forbidden for url: https://nominatim.openstreetmap.org/search?q=Salt+Lake+City%2C+US&format=jsonv2&addressdetails=1&limit=1\n",
      "Status code 403 from https://nominatim.openstreetmap.org/search: ERROR - 403 Client Error: Forbidden for url: https://nominatim.openstreetmap.org/search?q=Washington+D.C.%2C+District+of+Columbia+US&format=jsonv2&addressdetails=1&limit=1\n",
      "Status code 403 from https://nominatim.openstreetmap.org/search: ERROR - 403 Client Error: Forbidden for url: https://nominatim.openstreetmap.org/search?q=Washington+D.C.%2C+US&format=jsonv2&addressdetails=1&limit=1\n",
      "Status code 403 from https://nominatim.openstreetmap.org/search: ERROR - 403 Client Error: Forbidden for url: https://nominatim.openstreetmap.org/search?q=Chicago%2C+Illinois+US&format=jsonv2&addressdetails=1&limit=1\n",
      "Status code 403 from https://nominatim.openstreetmap.org/search: ERROR - 403 Client Error: Forbidden for url: https://nominatim.openstreetmap.org/search?q=Chicago%2C+US&format=jsonv2&addressdetails=1&limit=1\n",
      "Status code 403 from https://nominatim.openstreetmap.org/search: ERROR - 403 Client Error: Forbidden for url: https://nominatim.openstreetmap.org/search?q=Pittsburgh+%28South+Side+Flats%29%2C+Pennsylvania+US&format=jsonv2&addressdetails=1&limit=1\n",
      "Status code 403 from https://nominatim.openstreetmap.org/search: ERROR - 403 Client Error: Forbidden for url: https://nominatim.openstreetmap.org/search?q=Pittsburgh+%28South+Side+Flats%29%2C+US&format=jsonv2&addressdetails=1&limit=1\n",
      "Status code 403 from https://nominatim.openstreetmap.org/search: ERROR - 403 Client Error: Forbidden for url: https://nominatim.openstreetmap.org/search?q=Atlanta%2C+Georgia+US&format=jsonv2&addressdetails=1&limit=1\n",
      "Status code 403 from https://nominatim.openstreetmap.org/search: ERROR - 403 Client Error: Forbidden for url: https://nominatim.openstreetmap.org/search?q=Atlanta%2C+US&format=jsonv2&addressdetails=1&limit=1\n",
      "Status code 403 from https://nominatim.openstreetmap.org/search: ERROR - 403 Client Error: Forbidden for url: https://nominatim.openstreetmap.org/search?q=Carmel%2C+Indiana+US&format=jsonv2&addressdetails=1&limit=1\n",
      "Status code 403 from https://nominatim.openstreetmap.org/search: ERROR - 403 Client Error: Forbidden for url: https://nominatim.openstreetmap.org/search?q=Carmel%2C+US&format=jsonv2&addressdetails=1&limit=1\n",
      "Status code 403 from https://nominatim.openstreetmap.org/search: ERROR - 403 Client Error: Forbidden for url: https://nominatim.openstreetmap.org/search?q=Los+Angeles+%28Playa+Vista%29%2C+California+US&format=jsonv2&addressdetails=1&limit=1\n",
      "Status code 403 from https://nominatim.openstreetmap.org/search: ERROR - 403 Client Error: Forbidden for url: https://nominatim.openstreetmap.org/search?q=Los+Angeles+%28Playa+Vista%29%2C+US&format=jsonv2&addressdetails=1&limit=1\n",
      "Status code 403 from https://nominatim.openstreetmap.org/search: ERROR - 403 Client Error: Forbidden for url: https://nominatim.openstreetmap.org/search?q=Houston+%28South+Central+Houston%29%2C+Texas+US&format=jsonv2&addressdetails=1&limit=1\n",
      "Status code 403 from https://nominatim.openstreetmap.org/search: ERROR - 403 Client Error: Forbidden for url: https://nominatim.openstreetmap.org/search?q=Houston+%28South+Central+Houston%29%2C+US&format=jsonv2&addressdetails=1&limit=1\n",
      "Status code 403 from https://nominatim.openstreetmap.org/search: ERROR - 403 Client Error: Forbidden for url: https://nominatim.openstreetmap.org/search?q=Los+Angeles%2C+California+US&format=jsonv2&addressdetails=1&limit=1\n",
      "Status code 403 from https://nominatim.openstreetmap.org/search: ERROR - 403 Client Error: Forbidden for url: https://nominatim.openstreetmap.org/search?q=Los+Angeles%2C+US&format=jsonv2&addressdetails=1&limit=1\n",
      "Status code 403 from https://nominatim.openstreetmap.org/search: ERROR - 403 Client Error: Forbidden for url: https://nominatim.openstreetmap.org/search?q=Seattle+%28South+Lake+Union%29%2C+Washington+US&format=jsonv2&addressdetails=1&limit=1\n",
      "Status code 403 from https://nominatim.openstreetmap.org/search: ERROR - 403 Client Error: Forbidden for url: https://nominatim.openstreetmap.org/search?q=Seattle+%28South+Lake+Union%29%2C+US&format=jsonv2&addressdetails=1&limit=1\n",
      "Status code 403 from https://nominatim.openstreetmap.org/search: ERROR - 403 Client Error: Forbidden for url: https://nominatim.openstreetmap.org/search?q=London%2C+England+GB&format=jsonv2&addressdetails=1&limit=1\n",
      "Status code 403 from https://nominatim.openstreetmap.org/search: ERROR - 403 Client Error: Forbidden for url: https://nominatim.openstreetmap.org/search?q=London%2C+GB&format=jsonv2&addressdetails=1&limit=1\n",
      "Status code 403 from https://nominatim.openstreetmap.org/search: ERROR - 403 Client Error: Forbidden for url: https://nominatim.openstreetmap.org/search?q=Lithia+Springs%2C+Georgia+US&format=jsonv2&addressdetails=1&limit=1\n",
      "Status code 403 from https://nominatim.openstreetmap.org/search: ERROR - 403 Client Error: Forbidden for url: https://nominatim.openstreetmap.org/search?q=Lithia+Springs%2C+US&format=jsonv2&addressdetails=1&limit=1\n",
      "Status code 403 from https://nominatim.openstreetmap.org/search: ERROR - 403 Client Error: Forbidden for url: https://nominatim.openstreetmap.org/search?q=Ashburn%2C+Virginia+US&format=jsonv2&addressdetails=1&limit=1\n",
      "Status code 403 from https://nominatim.openstreetmap.org/search: ERROR - 403 Client Error: Forbidden for url: https://nominatim.openstreetmap.org/search?q=Ashburn%2C+US&format=jsonv2&addressdetails=1&limit=1\n",
      "Status code 403 from https://nominatim.openstreetmap.org/search: ERROR - 403 Client Error: Forbidden for url: https://nominatim.openstreetmap.org/search?q=Seattle+%28South+Lake+Union%29%2C+Washington+US&format=jsonv2&addressdetails=1&limit=1\n",
      "Status code 403 from https://nominatim.openstreetmap.org/search: ERROR - 403 Client Error: Forbidden for url: https://nominatim.openstreetmap.org/search?q=Seattle+%28South+Lake+Union%29%2C+US&format=jsonv2&addressdetails=1&limit=1\n",
      "Status code 403 from https://nominatim.openstreetmap.org/search: ERROR - 403 Client Error: Forbidden for url: https://nominatim.openstreetmap.org/search?q=Kansas+City%2C+Missouri+US&format=jsonv2&addressdetails=1&limit=1\n",
      "Status code 403 from https://nominatim.openstreetmap.org/search: ERROR - 403 Client Error: Forbidden for url: https://nominatim.openstreetmap.org/search?q=Kansas+City%2C+US&format=jsonv2&addressdetails=1&limit=1\n",
      "Status code 403 from https://nominatim.openstreetmap.org/search: ERROR - 403 Client Error: Forbidden for url: https://nominatim.openstreetmap.org/search?q=North+Bergen%2C+New+Jersey+US&format=jsonv2&addressdetails=1&limit=1\n",
      "Status code 403 from https://nominatim.openstreetmap.org/search: ERROR - 403 Client Error: Forbidden for url: https://nominatim.openstreetmap.org/search?q=North+Bergen%2C+US&format=jsonv2&addressdetails=1&limit=1\n",
      "Status code 403 from https://nominatim.openstreetmap.org/search: ERROR - 403 Client Error: Forbidden for url: https://nominatim.openstreetmap.org/search?q=Lithia+Springs%2C+Georgia+US&format=jsonv2&addressdetails=1&limit=1\n",
      "Status code 403 from https://nominatim.openstreetmap.org/search: ERROR - 403 Client Error: Forbidden for url: https://nominatim.openstreetmap.org/search?q=Lithia+Springs%2C+US&format=jsonv2&addressdetails=1&limit=1\n",
      "Status code 403 from https://nominatim.openstreetmap.org/search: ERROR - 403 Client Error: Forbidden for url: https://nominatim.openstreetmap.org/search?q=Walnut+%28Valle+Lindo%29%2C+California+US&format=jsonv2&addressdetails=1&limit=1\n",
      "Status code 403 from https://nominatim.openstreetmap.org/search: ERROR - 403 Client Error: Forbidden for url: https://nominatim.openstreetmap.org/search?q=Walnut+%28Valle+Lindo%29%2C+US&format=jsonv2&addressdetails=1&limit=1\n",
      "Status code 403 from https://nominatim.openstreetmap.org/search: ERROR - 403 Client Error: Forbidden for url: https://nominatim.openstreetmap.org/search?q=Montpelier%2C+Vermont+US&format=jsonv2&addressdetails=1&limit=1\n",
      "Status code 403 from https://nominatim.openstreetmap.org/search: ERROR - 403 Client Error: Forbidden for url: https://nominatim.openstreetmap.org/search?q=Montpelier%2C+US&format=jsonv2&addressdetails=1&limit=1\n",
      "Status code 403 from https://nominatim.openstreetmap.org/search: ERROR - 403 Client Error: Forbidden for url: https://nominatim.openstreetmap.org/search?q=Lithia+Springs%2C+Georgia+US&format=jsonv2&addressdetails=1&limit=1\n",
      "Status code 403 from https://nominatim.openstreetmap.org/search: ERROR - 403 Client Error: Forbidden for url: https://nominatim.openstreetmap.org/search?q=Lithia+Springs%2C+US&format=jsonv2&addressdetails=1&limit=1\n",
      "Status code 403 from https://nominatim.openstreetmap.org/search: ERROR - 403 Client Error: Forbidden for url: https://nominatim.openstreetmap.org/search?q=Hanover+%28Cedar+Knolls%29%2C+New+Jersey+US&format=jsonv2&addressdetails=1&limit=1\n",
      "Status code 403 from https://nominatim.openstreetmap.org/search: ERROR - 403 Client Error: Forbidden for url: https://nominatim.openstreetmap.org/search?q=Hanover+%28Cedar+Knolls%29%2C+US&format=jsonv2&addressdetails=1&limit=1\n",
      "Status code 403 from https://nominatim.openstreetmap.org/search: ERROR - 403 Client Error: Forbidden for url: https://nominatim.openstreetmap.org/search?q=Ashburn%2C+Virginia+US&format=jsonv2&addressdetails=1&limit=1\n",
      "Status code 403 from https://nominatim.openstreetmap.org/search: ERROR - 403 Client Error: Forbidden for url: https://nominatim.openstreetmap.org/search?q=Ashburn%2C+US&format=jsonv2&addressdetails=1&limit=1\n",
      "Status code 403 from https://nominatim.openstreetmap.org/search: ERROR - 403 Client Error: Forbidden for url: https://nominatim.openstreetmap.org/search?q=Dublin%2C+Ohio+US&format=jsonv2&addressdetails=1&limit=1\n",
      "Status code 403 from https://nominatim.openstreetmap.org/search: ERROR - 403 Client Error: Forbidden for url: https://nominatim.openstreetmap.org/search?q=Dublin%2C+US&format=jsonv2&addressdetails=1&limit=1\n",
      "Status code 403 from https://nominatim.openstreetmap.org/search: ERROR - 403 Client Error: Forbidden for url: https://nominatim.openstreetmap.org/search?q=Toronto%2C+Ontario+CA&format=jsonv2&addressdetails=1&limit=1\n",
      "Status code 403 from https://nominatim.openstreetmap.org/search: ERROR - 403 Client Error: Forbidden for url: https://nominatim.openstreetmap.org/search?q=Toronto%2C+CA&format=jsonv2&addressdetails=1&limit=1\n",
      "Status code 403 from https://nominatim.openstreetmap.org/search: ERROR - 403 Client Error: Forbidden for url: https://nominatim.openstreetmap.org/search?q=Kansas+City%2C+Missouri+US&format=jsonv2&addressdetails=1&limit=1\n",
      "Status code 403 from https://nominatim.openstreetmap.org/search: ERROR - 403 Client Error: Forbidden for url: https://nominatim.openstreetmap.org/search?q=Kansas+City%2C+US&format=jsonv2&addressdetails=1&limit=1\n",
      "Status code 403 from https://nominatim.openstreetmap.org/search: ERROR - 403 Client Error: Forbidden for url: https://nominatim.openstreetmap.org/search?q=Seattle+%28South+Lake+Union%29%2C+Washington+US&format=jsonv2&addressdetails=1&limit=1\n",
      "Status code 403 from https://nominatim.openstreetmap.org/search: ERROR - 403 Client Error: Forbidden for url: https://nominatim.openstreetmap.org/search?q=Seattle+%28South+Lake+Union%29%2C+US&format=jsonv2&addressdetails=1&limit=1\n",
      "Status code 403 from https://nominatim.openstreetmap.org/search: ERROR - 403 Client Error: Forbidden for url: https://nominatim.openstreetmap.org/search?q=Washington+D.C.%2C+District+of+Columbia+US&format=jsonv2&addressdetails=1&limit=1\n",
      "Status code 403 from https://nominatim.openstreetmap.org/search: ERROR - 403 Client Error: Forbidden for url: https://nominatim.openstreetmap.org/search?q=Washington+D.C.%2C+US&format=jsonv2&addressdetails=1&limit=1\n",
      "Status code 403 from https://nominatim.openstreetmap.org/search: ERROR - 403 Client Error: Forbidden for url: https://nominatim.openstreetmap.org/search?q=Cleveland%2C+Ohio+US&format=jsonv2&addressdetails=1&limit=1\n",
      "Status code 403 from https://nominatim.openstreetmap.org/search: ERROR - 403 Client Error: Forbidden for url: https://nominatim.openstreetmap.org/search?q=Cleveland%2C+US&format=jsonv2&addressdetails=1&limit=1\n",
      "Status code 403 from https://nominatim.openstreetmap.org/search: ERROR - 403 Client Error: Forbidden for url: https://nominatim.openstreetmap.org/search?q=Toronto%2C+Ontario+CA&format=jsonv2&addressdetails=1&limit=1\n",
      "Status code 403 from https://nominatim.openstreetmap.org/search: ERROR - 403 Client Error: Forbidden for url: https://nominatim.openstreetmap.org/search?q=Toronto%2C+CA&format=jsonv2&addressdetails=1&limit=1\n",
      "Status code 403 from https://nominatim.openstreetmap.org/search: ERROR - 403 Client Error: Forbidden for url: https://nominatim.openstreetmap.org/search?q=Los+Angeles+%28Playa+Vista%29%2C+California+US&format=jsonv2&addressdetails=1&limit=1\n",
      "Status code 403 from https://nominatim.openstreetmap.org/search: ERROR - 403 Client Error: Forbidden for url: https://nominatim.openstreetmap.org/search?q=Los+Angeles+%28Playa+Vista%29%2C+US&format=jsonv2&addressdetails=1&limit=1\n",
      "Status code 403 from https://nominatim.openstreetmap.org/search: ERROR - 403 Client Error: Forbidden for url: https://nominatim.openstreetmap.org/search?q=Washington+D.C.%2C+District+of+Columbia+US&format=jsonv2&addressdetails=1&limit=1\n",
      "Status code 403 from https://nominatim.openstreetmap.org/search: ERROR - 403 Client Error: Forbidden for url: https://nominatim.openstreetmap.org/search?q=Washington+D.C.%2C+US&format=jsonv2&addressdetails=1&limit=1\n",
      "Status code 403 from https://nominatim.openstreetmap.org/search: ERROR - 403 Client Error: Forbidden for url: https://nominatim.openstreetmap.org/search?q=Reston%2C+Virginia+US&format=jsonv2&addressdetails=1&limit=1\n",
      "Status code 403 from https://nominatim.openstreetmap.org/search: ERROR - 403 Client Error: Forbidden for url: https://nominatim.openstreetmap.org/search?q=Reston%2C+US&format=jsonv2&addressdetails=1&limit=1\n",
      "Status code 403 from https://nominatim.openstreetmap.org/search: ERROR - 403 Client Error: Forbidden for url: https://nominatim.openstreetmap.org/search?q=Washington+D.C.%2C+District+of+Columbia+US&format=jsonv2&addressdetails=1&limit=1\n",
      "Status code 403 from https://nominatim.openstreetmap.org/search: ERROR - 403 Client Error: Forbidden for url: https://nominatim.openstreetmap.org/search?q=Washington+D.C.%2C+US&format=jsonv2&addressdetails=1&limit=1\n",
      "Status code 403 from https://nominatim.openstreetmap.org/search: ERROR - 403 Client Error: Forbidden for url: https://nominatim.openstreetmap.org/search?q=Oakland+%28Downtown+Oakland%29%2C+California+US&format=jsonv2&addressdetails=1&limit=1\n",
      "Status code 403 from https://nominatim.openstreetmap.org/search: ERROR - 403 Client Error: Forbidden for url: https://nominatim.openstreetmap.org/search?q=Oakland+%28Downtown+Oakland%29%2C+US&format=jsonv2&addressdetails=1&limit=1\n",
      "Status code 403 from https://nominatim.openstreetmap.org/search: ERROR - 403 Client Error: Forbidden for url: https://nominatim.openstreetmap.org/search?q=Portland%2C+Oregon+US&format=jsonv2&addressdetails=1&limit=1\n",
      "Status code 403 from https://nominatim.openstreetmap.org/search: ERROR - 403 Client Error: Forbidden for url: https://nominatim.openstreetmap.org/search?q=Portland%2C+US&format=jsonv2&addressdetails=1&limit=1\n",
      "Status code 403 from https://nominatim.openstreetmap.org/search: ERROR - 403 Client Error: Forbidden for url: https://nominatim.openstreetmap.org/search?q=Carmel%2C+Indiana+US&format=jsonv2&addressdetails=1&limit=1\n",
      "Status code 403 from https://nominatim.openstreetmap.org/search: ERROR - 403 Client Error: Forbidden for url: https://nominatim.openstreetmap.org/search?q=Carmel%2C+US&format=jsonv2&addressdetails=1&limit=1\n",
      "Status code 403 from https://nominatim.openstreetmap.org/search: ERROR - 403 Client Error: Forbidden for url: https://nominatim.openstreetmap.org/search?q=Lansing%2C+Michigan+US&format=jsonv2&addressdetails=1&limit=1\n",
      "Status code 403 from https://nominatim.openstreetmap.org/search: ERROR - 403 Client Error: Forbidden for url: https://nominatim.openstreetmap.org/search?q=Lansing%2C+US&format=jsonv2&addressdetails=1&limit=1\n",
      "Status code 403 from https://nominatim.openstreetmap.org/search: ERROR - 403 Client Error: Forbidden for url: https://nominatim.openstreetmap.org/search?q=Ashburn%2C+Virginia+US&format=jsonv2&addressdetails=1&limit=1\n",
      "Status code 403 from https://nominatim.openstreetmap.org/search: ERROR - 403 Client Error: Forbidden for url: https://nominatim.openstreetmap.org/search?q=Ashburn%2C+US&format=jsonv2&addressdetails=1&limit=1\n",
      "Status code 403 from https://nominatim.openstreetmap.org/search: ERROR - 403 Client Error: Forbidden for url: https://nominatim.openstreetmap.org/search?q=Lithia+Springs%2C+Georgia+US&format=jsonv2&addressdetails=1&limit=1\n",
      "Status code 403 from https://nominatim.openstreetmap.org/search: ERROR - 403 Client Error: Forbidden for url: https://nominatim.openstreetmap.org/search?q=Lithia+Springs%2C+US&format=jsonv2&addressdetails=1&limit=1\n",
      "Status code 403 from https://nominatim.openstreetmap.org/search: ERROR - 403 Client Error: Forbidden for url: https://nominatim.openstreetmap.org/search?q=Lithia+Springs%2C+Georgia+US&format=jsonv2&addressdetails=1&limit=1\n",
      "Status code 403 from https://nominatim.openstreetmap.org/search: ERROR - 403 Client Error: Forbidden for url: https://nominatim.openstreetmap.org/search?q=Lithia+Springs%2C+US&format=jsonv2&addressdetails=1&limit=1\n",
      "Status code 403 from https://nominatim.openstreetmap.org/search: ERROR - 403 Client Error: Forbidden for url: https://nominatim.openstreetmap.org/search?q=Toronto%2C+Ontario+CA&format=jsonv2&addressdetails=1&limit=1\n",
      "Status code 403 from https://nominatim.openstreetmap.org/search: ERROR - 403 Client Error: Forbidden for url: https://nominatim.openstreetmap.org/search?q=Toronto%2C+CA&format=jsonv2&addressdetails=1&limit=1\n",
      "Status code 403 from https://nominatim.openstreetmap.org/search: ERROR - 403 Client Error: Forbidden for url: https://nominatim.openstreetmap.org/search?q=Starkville%2C+Mississippi+US&format=jsonv2&addressdetails=1&limit=1\n",
      "Status code 403 from https://nominatim.openstreetmap.org/search: ERROR - 403 Client Error: Forbidden for url: https://nominatim.openstreetmap.org/search?q=Starkville%2C+US&format=jsonv2&addressdetails=1&limit=1\n",
      "Status code 403 from https://nominatim.openstreetmap.org/search: ERROR - 403 Client Error: Forbidden for url: https://nominatim.openstreetmap.org/search?q=Salt+Lake+City%2C+Utah+US&format=jsonv2&addressdetails=1&limit=1\n",
      "Status code 403 from https://nominatim.openstreetmap.org/search: ERROR - 403 Client Error: Forbidden for url: https://nominatim.openstreetmap.org/search?q=Salt+Lake+City%2C+US&format=jsonv2&addressdetails=1&limit=1\n",
      "Status code 403 from https://nominatim.openstreetmap.org/search: ERROR - 403 Client Error: Forbidden for url: https://nominatim.openstreetmap.org/search?q=Ashburn%2C+Virginia+US&format=jsonv2&addressdetails=1&limit=1\n",
      "Status code 403 from https://nominatim.openstreetmap.org/search: ERROR - 403 Client Error: Forbidden for url: https://nominatim.openstreetmap.org/search?q=Ashburn%2C+US&format=jsonv2&addressdetails=1&limit=1\n",
      "Status code 403 from https://nominatim.openstreetmap.org/search: ERROR - 403 Client Error: Forbidden for url: https://nominatim.openstreetmap.org/search?q=Pittsburgh+%28South+Side+Flats%29%2C+Pennsylvania+US&format=jsonv2&addressdetails=1&limit=1\n",
      "Status code 403 from https://nominatim.openstreetmap.org/search: ERROR - 403 Client Error: Forbidden for url: https://nominatim.openstreetmap.org/search?q=Pittsburgh+%28South+Side+Flats%29%2C+US&format=jsonv2&addressdetails=1&limit=1\n",
      "Status code 403 from https://nominatim.openstreetmap.org/search: ERROR - 403 Client Error: Forbidden for url: https://nominatim.openstreetmap.org/search?q=San+Francisco+%28Financial+District%29%2C+California+US&format=jsonv2&addressdetails=1&limit=1\n",
      "Status code 403 from https://nominatim.openstreetmap.org/search: ERROR - 403 Client Error: Forbidden for url: https://nominatim.openstreetmap.org/search?q=San+Francisco+%28Financial+District%29%2C+US&format=jsonv2&addressdetails=1&limit=1\n",
      "Status code 403 from https://nominatim.openstreetmap.org/search: ERROR - 403 Client Error: Forbidden for url: https://nominatim.openstreetmap.org/search?q=Toronto%2C+Ontario+CA&format=jsonv2&addressdetails=1&limit=1\n",
      "Status code 403 from https://nominatim.openstreetmap.org/search: ERROR - 403 Client Error: Forbidden for url: https://nominatim.openstreetmap.org/search?q=Toronto%2C+CA&format=jsonv2&addressdetails=1&limit=1\n",
      "Status code 403 from https://nominatim.openstreetmap.org/search: ERROR - 403 Client Error: Forbidden for url: https://nominatim.openstreetmap.org/search?q=Charlotte+%28Olde+Whitehall%29%2C+North+Carolina+US&format=jsonv2&addressdetails=1&limit=1\n",
      "Status code 403 from https://nominatim.openstreetmap.org/search: ERROR - 403 Client Error: Forbidden for url: https://nominatim.openstreetmap.org/search?q=Charlotte+%28Olde+Whitehall%29%2C+US&format=jsonv2&addressdetails=1&limit=1\n",
      "Status code 403 from https://nominatim.openstreetmap.org/search: ERROR - 403 Client Error: Forbidden for url: https://nominatim.openstreetmap.org/search?q=Mountain+View%2C+California+US&format=jsonv2&addressdetails=1&limit=1\n",
      "Status code 403 from https://nominatim.openstreetmap.org/search: ERROR - 403 Client Error: Forbidden for url: https://nominatim.openstreetmap.org/search?q=Mountain+View%2C+US&format=jsonv2&addressdetails=1&limit=1\n",
      "Status code 403 from https://nominatim.openstreetmap.org/search: ERROR - 403 Client Error: Forbidden for url: https://nominatim.openstreetmap.org/search?q=Toronto%2C+Ontario+CA&format=jsonv2&addressdetails=1&limit=1\n",
      "Status code 403 from https://nominatim.openstreetmap.org/search: ERROR - 403 Client Error: Forbidden for url: https://nominatim.openstreetmap.org/search?q=Toronto%2C+CA&format=jsonv2&addressdetails=1&limit=1\n",
      "Status code 403 from https://nominatim.openstreetmap.org/search: ERROR - 403 Client Error: Forbidden for url: https://nominatim.openstreetmap.org/search?q=San+Francisco%2C+California+US&format=jsonv2&addressdetails=1&limit=1\n",
      "Status code 403 from https://nominatim.openstreetmap.org/search: ERROR - 403 Client Error: Forbidden for url: https://nominatim.openstreetmap.org/search?q=San+Francisco%2C+US&format=jsonv2&addressdetails=1&limit=1\n",
      "Status code 403 from https://nominatim.openstreetmap.org/search: ERROR - 403 Client Error: Forbidden for url: https://nominatim.openstreetmap.org/search?q=Atlanta%2C+Georgia+US&format=jsonv2&addressdetails=1&limit=1\n",
      "Status code 403 from https://nominatim.openstreetmap.org/search: ERROR - 403 Client Error: Forbidden for url: https://nominatim.openstreetmap.org/search?q=Atlanta%2C+US&format=jsonv2&addressdetails=1&limit=1\n",
      "Status code 403 from https://nominatim.openstreetmap.org/search: ERROR - 403 Client Error: Forbidden for url: https://nominatim.openstreetmap.org/search?q=Atlanta%2C+Georgia+US&format=jsonv2&addressdetails=1&limit=1\n",
      "Status code 403 from https://nominatim.openstreetmap.org/search: ERROR - 403 Client Error: Forbidden for url: https://nominatim.openstreetmap.org/search?q=Atlanta%2C+US&format=jsonv2&addressdetails=1&limit=1\n",
      "Status code 403 from https://nominatim.openstreetmap.org/search: ERROR - 403 Client Error: Forbidden for url: https://nominatim.openstreetmap.org/search?q=Berlin+%28Charlottenburg-Wilmersdorf%29%2C+Berlin+DE&format=jsonv2&addressdetails=1&limit=1\n",
      "Status code 403 from https://nominatim.openstreetmap.org/search: ERROR - 403 Client Error: Forbidden for url: https://nominatim.openstreetmap.org/search?q=Berlin+%28Charlottenburg-Wilmersdorf%29%2C+DE&format=jsonv2&addressdetails=1&limit=1\n",
      "Status code 403 from https://nominatim.openstreetmap.org/search: ERROR - 403 Client Error: Forbidden for url: https://nominatim.openstreetmap.org/search?q=Harrisburg%2C+Pennsylvania+US&format=jsonv2&addressdetails=1&limit=1\n",
      "Status code 403 from https://nominatim.openstreetmap.org/search: ERROR - 403 Client Error: Forbidden for url: https://nominatim.openstreetmap.org/search?q=Harrisburg%2C+US&format=jsonv2&addressdetails=1&limit=1\n",
      "Status code 403 from https://nominatim.openstreetmap.org/search: ERROR - 403 Client Error: Forbidden for url: https://nominatim.openstreetmap.org/search?q=Atlanta%2C+Georgia+US&format=jsonv2&addressdetails=1&limit=1\n",
      "Status code 403 from https://nominatim.openstreetmap.org/search: ERROR - 403 Client Error: Forbidden for url: https://nominatim.openstreetmap.org/search?q=Atlanta%2C+US&format=jsonv2&addressdetails=1&limit=1\n",
      "Status code 403 from https://nominatim.openstreetmap.org/search: ERROR - 403 Client Error: Forbidden for url: https://nominatim.openstreetmap.org/search?q=Harrisburg%2C+Pennsylvania+US&format=jsonv2&addressdetails=1&limit=1\n",
      "Status code 403 from https://nominatim.openstreetmap.org/search: ERROR - 403 Client Error: Forbidden for url: https://nominatim.openstreetmap.org/search?q=Harrisburg%2C+US&format=jsonv2&addressdetails=1&limit=1\n",
      "Status code 403 from https://nominatim.openstreetmap.org/search: ERROR - 403 Client Error: Forbidden for url: https://nominatim.openstreetmap.org/search?q=Toronto%2C+Ontario+CA&format=jsonv2&addressdetails=1&limit=1\n",
      "Status code 403 from https://nominatim.openstreetmap.org/search: ERROR - 403 Client Error: Forbidden for url: https://nominatim.openstreetmap.org/search?q=Toronto%2C+CA&format=jsonv2&addressdetails=1&limit=1\n",
      "Status code 403 from https://nominatim.openstreetmap.org/search: ERROR - 403 Client Error: Forbidden for url: https://nominatim.openstreetmap.org/search?q=Lithia+Springs%2C+Georgia+US&format=jsonv2&addressdetails=1&limit=1\n",
      "Status code 403 from https://nominatim.openstreetmap.org/search: ERROR - 403 Client Error: Forbidden for url: https://nominatim.openstreetmap.org/search?q=Lithia+Springs%2C+US&format=jsonv2&addressdetails=1&limit=1\n",
      "Status code 403 from https://nominatim.openstreetmap.org/search: ERROR - 403 Client Error: Forbidden for url: https://nominatim.openstreetmap.org/search?q=Seattle+%28South+Lake+Union%29%2C+Washington+US&format=jsonv2&addressdetails=1&limit=1\n",
      "Status code 403 from https://nominatim.openstreetmap.org/search: ERROR - 403 Client Error: Forbidden for url: https://nominatim.openstreetmap.org/search?q=Seattle+%28South+Lake+Union%29%2C+US&format=jsonv2&addressdetails=1&limit=1\n",
      "Status code 403 from https://nominatim.openstreetmap.org/search: ERROR - 403 Client Error: Forbidden for url: https://nominatim.openstreetmap.org/search?q=Tempe+%28South+Tempe%29%2C+Arizona+US&format=jsonv2&addressdetails=1&limit=1\n",
      "Status code 403 from https://nominatim.openstreetmap.org/search: ERROR - 403 Client Error: Forbidden for url: https://nominatim.openstreetmap.org/search?q=Tempe+%28South+Tempe%29%2C+US&format=jsonv2&addressdetails=1&limit=1\n",
      "Status code 403 from https://nominatim.openstreetmap.org/search: ERROR - 403 Client Error: Forbidden for url: https://nominatim.openstreetmap.org/search?q=Southern+View+%28Harvard+Park%29%2C+Illinois+US&format=jsonv2&addressdetails=1&limit=1\n",
      "Status code 403 from https://nominatim.openstreetmap.org/search: ERROR - 403 Client Error: Forbidden for url: https://nominatim.openstreetmap.org/search?q=Southern+View+%28Harvard+Park%29%2C+US&format=jsonv2&addressdetails=1&limit=1\n",
      "Status code 403 from https://nominatim.openstreetmap.org/search: ERROR - 403 Client Error: Forbidden for url: https://nominatim.openstreetmap.org/search?q=Los+Angeles+%28Playa+Vista%29%2C+California+US&format=jsonv2&addressdetails=1&limit=1\n",
      "Status code 403 from https://nominatim.openstreetmap.org/search: ERROR - 403 Client Error: Forbidden for url: https://nominatim.openstreetmap.org/search?q=Los+Angeles+%28Playa+Vista%29%2C+US&format=jsonv2&addressdetails=1&limit=1\n",
      "Status code 403 from https://nominatim.openstreetmap.org/search: ERROR - 403 Client Error: Forbidden for url: https://nominatim.openstreetmap.org/search?q=Lansing%2C+Michigan+US&format=jsonv2&addressdetails=1&limit=1\n",
      "Status code 403 from https://nominatim.openstreetmap.org/search: ERROR - 403 Client Error: Forbidden for url: https://nominatim.openstreetmap.org/search?q=Lansing%2C+US&format=jsonv2&addressdetails=1&limit=1\n",
      "Status code 403 from https://nominatim.openstreetmap.org/search: ERROR - 403 Client Error: Forbidden for url: https://nominatim.openstreetmap.org/search?q=Ashburn%2C+Virginia+US&format=jsonv2&addressdetails=1&limit=1\n",
      "Status code 403 from https://nominatim.openstreetmap.org/search: ERROR - 403 Client Error: Forbidden for url: https://nominatim.openstreetmap.org/search?q=Ashburn%2C+US&format=jsonv2&addressdetails=1&limit=1\n",
      "Status code 403 from https://nominatim.openstreetmap.org/search: ERROR - 403 Client Error: Forbidden for url: https://nominatim.openstreetmap.org/search?q=Toronto%2C+Ontario+CA&format=jsonv2&addressdetails=1&limit=1\n",
      "Status code 403 from https://nominatim.openstreetmap.org/search: ERROR - 403 Client Error: Forbidden for url: https://nominatim.openstreetmap.org/search?q=Toronto%2C+CA&format=jsonv2&addressdetails=1&limit=1\n",
      "Status code 403 from https://nominatim.openstreetmap.org/search: ERROR - 403 Client Error: Forbidden for url: https://nominatim.openstreetmap.org/search?q=Chicago%2C+Illinois+US&format=jsonv2&addressdetails=1&limit=1\n"
     ]
    },
    {
     "name": "stdout",
     "output_type": "stream",
     "text": [
      "          IP Address                        City      Region Country  \\\n",
      "0     207.38.102.103                 Los Angeles  California      US   \n",
      "1      18.165.116.35                     Atlanta     Georgia      US   \n",
      "2       104.18.10.22                     Toronto     Ontario      CA   \n",
      "3       54.204.66.44                     Ashburn    Virginia      US   \n",
      "4     207.38.102.103                 Los Angeles  California      US   \n",
      "..               ...                         ...         ...     ...   \n",
      "323    18.165.116.96                     Atlanta     Georgia      US   \n",
      "324  162.254.252.238                   Cleveland        Ohio      US   \n",
      "325  192.229.163.160   Los Angeles (Playa Vista)  California      US   \n",
      "326   192.229.163.47   Los Angeles (Playa Vista)  California      US   \n",
      "327    199.34.228.77  Oakland (Downtown Oakland)  California      US   \n",
      "\n",
      "      latitude   longitude                                                URL  \n",
      "0    34.053691 -118.242766  http://www.shashijaggia.com/438-s-buena-vista-...  \n",
      "1    33.748992  -84.390264    https://statisticalatlas.com/zip/62434/overview  \n",
      "2    43.653482  -79.383935  https://www.citytowninfo.com/places/north-caro...  \n",
      "3    39.043719  -77.487490  https://meps.ahrq.gov/data_stats/download_data...  \n",
      "4    34.053691 -118.242766  http://www.janetpepedavis.com/2528-dekoven-bel...  \n",
      "..         ...         ...                                                ...  \n",
      "323  33.748992  -84.390264  https://statisticalatlas.com/place/alabama/pin...  \n",
      "324  41.499657  -81.693677  https://hopewelltwp.com/documents/resolution-r...  \n",
      "325  33.983180 -118.399610  https://kffm.com/ixp/113/p/wine-pairing-dinner...  \n",
      "326  33.983180 -118.399610  https://espnsiouxfalls.com/two-south-dakota-co...  \n",
      "327  37.813093 -122.260719              https://www.sanpete.com/sterling.html  \n",
      "\n",
      "[328 rows x 7 columns]\n"
     ]
    }
   ],
   "source": [
    "from geopy.geocoders import Nominatim\n",
    "from tqdm import tqdm\n",
    "import re\n",
    "import socket\n",
    "import pandas as pd\n",
    "import time\n",
    "from ip2geotools.databases.noncommercial import DbIpCity\n",
    "import idna\n",
    "\n",
    "# Function to get the details of the IP address including city, country, coordinates, etc.\n",
    "def get_details(ip):\n",
    "    res = DbIpCity.get(ip, api_key=\"free\")\n",
    "    return {\n",
    "        \"IP Address\": res.ip_address,\n",
    "        \"City\": res.city,\n",
    "        \"Region\": res.region,\n",
    "        \"Country\": res.country,\n",
    "        \"latitude\": res.latitude, # we will get errors for latitude and longitude; this is resolved in the next step\n",
    "        \"longitude\": res.longitude\n",
    "    }\n",
    "\n",
    "# Function to process a list of URLs and save the results into a DataFrame\n",
    "def process_urls(urls):\n",
    "    data = []\n",
    "    for url in urls:\n",
    "        try:\n",
    "            domain = url.split('//')[-1].split('/')[0]\n",
    "            ip_add = socket.gethostbyname(domain)\n",
    "            details = get_details(ip_add)\n",
    "            details[\"URL\"] = url\n",
    "            data.append(details)\n",
    "            time.sleep(1)  # Add delay to prevent rate limiting\n",
    "        except socket.gaierror:\n",
    "            print(f\"Could not resolve {url}: DNS resolution failed\")\n",
    "        except idna.core.IDNAError as e:\n",
    "            print(f\"Could not process {url}: {e}\")\n",
    "        except Exception as e:\n",
    "            print(f\"Could not process {url}: {e}\")\n",
    "\n",
    "    df = pd.DataFrame(data)\n",
    "    return df\n",
    "\n",
    "# List of URLs to process\n",
    "urls = final_data['url']\n",
    "urls = list(set(urls)) # remove duplicate urls\n",
    "\n",
    "# Process each URL and save the results into a DataFrame\n",
    "map_df_r = process_urls(urls)\n",
    "print(map_df_r)"
   ]
  },
  {
   "cell_type": "code",
   "execution_count": 135,
   "metadata": {},
   "outputs": [
    {
     "name": "stderr",
     "output_type": "stream",
     "text": [
      "100%|██████████| 328/328 [03:25<00:00,  1.59it/s]\n"
     ]
    }
   ],
   "source": [
    "map_df_r['City'] = map_df_r['City'].apply(lambda x: re.sub(r'\\(.*?\\)', '', x).strip()) # removing data in parenthesis for city so we can get lat and long\n",
    "\n",
    "# Initialize the geolocator\n",
    "geolocator = Nominatim(user_agent=\"capstone_data_pull2\")\n",
    "\n",
    "# Function to get latitude and longitude\n",
    "def get_lat_long(city, region, country):\n",
    "    location = geolocator.geocode(f\"{city}, {region}, {country}\", timeout=10)\n",
    "    if location:\n",
    "        return location.latitude, location.longitude\n",
    "    else:\n",
    "        return None, None\n",
    "\n",
    "for index, row in tqdm(map_df_r.iterrows(), total=map_df_r.shape[0]):\n",
    "    latitude, longitude = get_lat_long(row['City'], row['Region'], row['Country'])\n",
    "    map_df_r.at[index, 'latitude'] = latitude\n",
    "    map_df_r.at[index, 'longitude'] = longitude"
   ]
  },
  {
   "cell_type": "code",
   "execution_count": 136,
   "metadata": {},
   "outputs": [
    {
     "data": {
      "text/html": [
       "<div>\n",
       "<style scoped>\n",
       "    .dataframe tbody tr th:only-of-type {\n",
       "        vertical-align: middle;\n",
       "    }\n",
       "\n",
       "    .dataframe tbody tr th {\n",
       "        vertical-align: top;\n",
       "    }\n",
       "\n",
       "    .dataframe thead th {\n",
       "        text-align: right;\n",
       "    }\n",
       "</style>\n",
       "<table border=\"1\" class=\"dataframe\">\n",
       "  <thead>\n",
       "    <tr style=\"text-align: right;\">\n",
       "      <th></th>\n",
       "      <th>IP Address</th>\n",
       "      <th>City</th>\n",
       "      <th>Region</th>\n",
       "      <th>Country</th>\n",
       "      <th>latitude</th>\n",
       "      <th>longitude</th>\n",
       "      <th>url</th>\n",
       "    </tr>\n",
       "  </thead>\n",
       "  <tbody>\n",
       "    <tr>\n",
       "      <th>0</th>\n",
       "      <td>207.38.102.103</td>\n",
       "      <td>Los Angeles</td>\n",
       "      <td>California</td>\n",
       "      <td>US</td>\n",
       "      <td>34.053691</td>\n",
       "      <td>-118.242766</td>\n",
       "      <td>http://www.shashijaggia.com/438-s-buena-vista-...</td>\n",
       "    </tr>\n",
       "    <tr>\n",
       "      <th>1</th>\n",
       "      <td>18.165.116.35</td>\n",
       "      <td>Atlanta</td>\n",
       "      <td>Georgia</td>\n",
       "      <td>US</td>\n",
       "      <td>33.748992</td>\n",
       "      <td>-84.390264</td>\n",
       "      <td>https://statisticalatlas.com/zip/62434/overview</td>\n",
       "    </tr>\n",
       "    <tr>\n",
       "      <th>2</th>\n",
       "      <td>104.18.10.22</td>\n",
       "      <td>Toronto</td>\n",
       "      <td>Ontario</td>\n",
       "      <td>CA</td>\n",
       "      <td>43.653482</td>\n",
       "      <td>-79.383935</td>\n",
       "      <td>https://www.citytowninfo.com/places/north-caro...</td>\n",
       "    </tr>\n",
       "    <tr>\n",
       "      <th>3</th>\n",
       "      <td>54.204.66.44</td>\n",
       "      <td>Ashburn</td>\n",
       "      <td>Virginia</td>\n",
       "      <td>US</td>\n",
       "      <td>39.043719</td>\n",
       "      <td>-77.487490</td>\n",
       "      <td>https://meps.ahrq.gov/data_stats/download_data...</td>\n",
       "    </tr>\n",
       "    <tr>\n",
       "      <th>4</th>\n",
       "      <td>207.38.102.103</td>\n",
       "      <td>Los Angeles</td>\n",
       "      <td>California</td>\n",
       "      <td>US</td>\n",
       "      <td>34.053691</td>\n",
       "      <td>-118.242766</td>\n",
       "      <td>http://www.janetpepedavis.com/2528-dekoven-bel...</td>\n",
       "    </tr>\n",
       "    <tr>\n",
       "      <th>...</th>\n",
       "      <td>...</td>\n",
       "      <td>...</td>\n",
       "      <td>...</td>\n",
       "      <td>...</td>\n",
       "      <td>...</td>\n",
       "      <td>...</td>\n",
       "      <td>...</td>\n",
       "    </tr>\n",
       "    <tr>\n",
       "      <th>323</th>\n",
       "      <td>18.165.116.96</td>\n",
       "      <td>Atlanta</td>\n",
       "      <td>Georgia</td>\n",
       "      <td>US</td>\n",
       "      <td>33.748992</td>\n",
       "      <td>-84.390264</td>\n",
       "      <td>https://statisticalatlas.com/place/alabama/pin...</td>\n",
       "    </tr>\n",
       "    <tr>\n",
       "      <th>324</th>\n",
       "      <td>162.254.252.238</td>\n",
       "      <td>Cleveland</td>\n",
       "      <td>Ohio</td>\n",
       "      <td>US</td>\n",
       "      <td>41.499657</td>\n",
       "      <td>-81.693677</td>\n",
       "      <td>https://hopewelltwp.com/documents/resolution-r...</td>\n",
       "    </tr>\n",
       "    <tr>\n",
       "      <th>325</th>\n",
       "      <td>192.229.163.160</td>\n",
       "      <td>Los Angeles</td>\n",
       "      <td>California</td>\n",
       "      <td>US</td>\n",
       "      <td>34.053691</td>\n",
       "      <td>-118.242766</td>\n",
       "      <td>https://kffm.com/ixp/113/p/wine-pairing-dinner...</td>\n",
       "    </tr>\n",
       "    <tr>\n",
       "      <th>326</th>\n",
       "      <td>192.229.163.47</td>\n",
       "      <td>Los Angeles</td>\n",
       "      <td>California</td>\n",
       "      <td>US</td>\n",
       "      <td>34.053691</td>\n",
       "      <td>-118.242766</td>\n",
       "      <td>https://espnsiouxfalls.com/two-south-dakota-co...</td>\n",
       "    </tr>\n",
       "    <tr>\n",
       "      <th>327</th>\n",
       "      <td>199.34.228.77</td>\n",
       "      <td>Oakland</td>\n",
       "      <td>California</td>\n",
       "      <td>US</td>\n",
       "      <td>37.804456</td>\n",
       "      <td>-122.271356</td>\n",
       "      <td>https://www.sanpete.com/sterling.html</td>\n",
       "    </tr>\n",
       "  </tbody>\n",
       "</table>\n",
       "<p>328 rows × 7 columns</p>\n",
       "</div>"
      ],
      "text/plain": [
       "          IP Address         City      Region Country   latitude   longitude  \\\n",
       "0     207.38.102.103  Los Angeles  California      US  34.053691 -118.242766   \n",
       "1      18.165.116.35      Atlanta     Georgia      US  33.748992  -84.390264   \n",
       "2       104.18.10.22      Toronto     Ontario      CA  43.653482  -79.383935   \n",
       "3       54.204.66.44      Ashburn    Virginia      US  39.043719  -77.487490   \n",
       "4     207.38.102.103  Los Angeles  California      US  34.053691 -118.242766   \n",
       "..               ...          ...         ...     ...        ...         ...   \n",
       "323    18.165.116.96      Atlanta     Georgia      US  33.748992  -84.390264   \n",
       "324  162.254.252.238    Cleveland        Ohio      US  41.499657  -81.693677   \n",
       "325  192.229.163.160  Los Angeles  California      US  34.053691 -118.242766   \n",
       "326   192.229.163.47  Los Angeles  California      US  34.053691 -118.242766   \n",
       "327    199.34.228.77      Oakland  California      US  37.804456 -122.271356   \n",
       "\n",
       "                                                   url  \n",
       "0    http://www.shashijaggia.com/438-s-buena-vista-...  \n",
       "1      https://statisticalatlas.com/zip/62434/overview  \n",
       "2    https://www.citytowninfo.com/places/north-caro...  \n",
       "3    https://meps.ahrq.gov/data_stats/download_data...  \n",
       "4    http://www.janetpepedavis.com/2528-dekoven-bel...  \n",
       "..                                                 ...  \n",
       "323  https://statisticalatlas.com/place/alabama/pin...  \n",
       "324  https://hopewelltwp.com/documents/resolution-r...  \n",
       "325  https://kffm.com/ixp/113/p/wine-pairing-dinner...  \n",
       "326  https://espnsiouxfalls.com/two-south-dakota-co...  \n",
       "327              https://www.sanpete.com/sterling.html  \n",
       "\n",
       "[328 rows x 7 columns]"
      ]
     },
     "execution_count": 136,
     "metadata": {},
     "output_type": "execute_result"
    }
   ],
   "source": [
    "# Renaming the column\n",
    "map_df_r.rename(columns={'URL': 'url'}, inplace=True)\n",
    "map_df_r"
   ]
  },
  {
   "cell_type": "code",
   "execution_count": 137,
   "metadata": {},
   "outputs": [
    {
     "name": "stdout",
     "output_type": "stream",
     "text": [
      "          IP Address         City      Region Country   latitude   longitude  \\\n",
      "0     207.38.102.103  Los Angeles  California      US  34.053691 -118.242766   \n",
      "1      18.165.116.35      Atlanta     Georgia      US  33.748992  -84.390264   \n",
      "2       104.18.10.22      Toronto     Ontario      CA  43.653482  -79.383935   \n",
      "3       54.204.66.44      Ashburn    Virginia      US  39.043719  -77.487490   \n",
      "4     207.38.102.103  Los Angeles  California      US  34.053691 -118.242766   \n",
      "..               ...          ...         ...     ...        ...         ...   \n",
      "323    18.165.116.96      Atlanta     Georgia      US  33.748992  -84.390264   \n",
      "324  162.254.252.238    Cleveland        Ohio      US  41.499657  -81.693677   \n",
      "325  192.229.163.160  Los Angeles  California      US  34.053691 -118.242766   \n",
      "326   192.229.163.47  Los Angeles  California      US  34.053691 -118.242766   \n",
      "327    199.34.228.77      Oakland  California      US  37.804456 -122.271356   \n",
      "\n",
      "                                                   url  \\\n",
      "0    http://www.shashijaggia.com/438-s-buena-vista-...   \n",
      "1      https://statisticalatlas.com/zip/62434/overview   \n",
      "2    https://www.citytowninfo.com/places/north-caro...   \n",
      "3    https://meps.ahrq.gov/data_stats/download_data...   \n",
      "4    http://www.janetpepedavis.com/2528-dekoven-bel...   \n",
      "..                                                 ...   \n",
      "323  https://statisticalatlas.com/place/alabama/pin...   \n",
      "324  https://hopewelltwp.com/documents/resolution-r...   \n",
      "325  https://kffm.com/ixp/113/p/wine-pairing-dinner...   \n",
      "326  https://espnsiouxfalls.com/two-south-dakota-co...   \n",
      "327              https://www.sanpete.com/sterling.html   \n",
      "\n",
      "                                           Found Links      Source  \\\n",
      "0    [/customredirect.aspx?url=http%3a%2f%2ffactfin...       cited   \n",
      "1                             [http://www.census.gov/]       cited   \n",
      "2       [https://www.census.gov/programs-surveys/acs/]       cited   \n",
      "3                   [http://www.census.gov/people/io/]       cited   \n",
      "4    [/customredirect.aspx?url=http%3a%2f%2ffactfin...       cited   \n",
      "..                                                 ...         ...   \n",
      "323                           [http://www.census.gov/]       cited   \n",
      "324  [https://www.census.gov/quickfacts/beavercount...  repackaged   \n",
      "325  [https://www.census.gov/data/tables/time-serie...  repackaged   \n",
      "326                  [https://data.census.gov/cedsci/]  repackaged   \n",
      "327  [https://www.census.gov/quickfacts/fact/table/...  repackaged   \n",
      "\n",
      "                                               content  \\\n",
      "0    select languagelogin sign updirect 6504644211 ...   \n",
      "1    the demographic statistical atlas of the unite...   \n",
      "2    banner elk north carolina city information fas...   \n",
      "3    meps hc163 2013 full year consolidated data fi...   \n",
      "4    direct line 6508673373 email janetpepedavismsn...   \n",
      "..                                                 ...   \n",
      "323  the demographic statistical atlas of the unite...   \n",
      "324  skip to contentskip to main navigationskip to ...   \n",
      "325  the first ever wine pairing dinner at in yakim...   \n",
      "326  two south dakota county are among the healthie...   \n",
      "327  sterling utah sanpete countyhomeexploreoutdoor...   \n",
      "\n",
      "                                            Topic_Name  \n",
      "0    State and Community Health Services: Access an...  \n",
      "1    Comprehensive County Data: Population, Income,...  \n",
      "2    Comprehensive County Data: Population, Income,...  \n",
      "3    Comprehensive County Data: Population, Income,...  \n",
      "4    State and Community Health Services: Access an...  \n",
      "..                                                 ...  \n",
      "323  Comprehensive County Data: Population, Income,...  \n",
      "324  State and Community Health Services: Access an...  \n",
      "325  State and Community Health Services: Access an...  \n",
      "326  State and Community Health Services: Access an...  \n",
      "327  State and Community Health Services: Access an...  \n",
      "\n",
      "[328 rows x 11 columns]\n"
     ]
    }
   ],
   "source": [
    "# Merge the DataFrames on the 'URL' column\n",
    "map_df_r_t = pd.merge(map_df_r, final_data, on='url', how='inner')  # Use 'inner' for intersection, 'outer' for union, etc.\n",
    "\n",
    "print(map_df_r_t)"
   ]
  },
  {
   "cell_type": "code",
   "execution_count": 138,
   "metadata": {},
   "outputs": [],
   "source": [
    "#Splitting data into two dataframes\n",
    "repackaged_data = map_df_r_t[map_df_r_t['Source'] == 'repackaged']\n",
    "cited_data = map_df_r_t[map_df_r_t['Source'] == 'cited']"
   ]
  },
  {
   "cell_type": "code",
   "execution_count": 139,
   "metadata": {},
   "outputs": [
    {
     "data": {
      "image/png": "[encoded data removed]",
      "text/plain": [
       "<Figure size 1000x600 with 1 Axes>"
      ]
     },
     "metadata": {},
     "output_type": "display_data"
    }
   ],
   "source": [
    "#Plotting distribution of repackaged topics\n",
    "\n",
    "import matplotlib.pyplot as plt\n",
    "import textwrap\n",
    "\n",
    "# Get the value counts\n",
    "topic_counts = repackaged_data['Topic_Name'].value_counts()\n",
    "\n",
    "# Define a list of blue shades\n",
    "blue_shades = ['#0000CD', '#4169E1', '#1E90FF', '#87CEEB', '#ADD8E6']\n",
    "\n",
    "# Wrap the x-axis labels\n",
    "wrapped_labels = [textwrap.fill(label, width=20) for label in topic_counts.index]\n",
    "\n",
    "# Create a bar chart\n",
    "plt.figure(figsize=(10, 6))\n",
    "topic_counts.plot(kind='bar', color=blue_shades[:len(topic_counts)])\n",
    "plt.title('Distribution of Repackaged Topics')\n",
    "plt.xlabel('Topics')\n",
    "plt.ylabel('Count')\n",
    "plt.xticks(ticks=range(len(wrapped_labels)), labels=wrapped_labels, rotation=0)\n",
    "plt.grid(axis='y')\n",
    "\n",
    "# Show the plot\n",
    "plt.tight_layout()\n",
    "plt.show()"
   ]
  },
  {
   "cell_type": "code",
   "execution_count": 140,
   "metadata": {},
   "outputs": [
    {
     "data": {
      "image/png": "[encoded data removed]",
      "text/plain": [
       "<Figure size 1000x600 with 1 Axes>"
      ]
     },
     "metadata": {},
     "output_type": "display_data"
    }
   ],
   "source": [
    "#Plotting distribution of cited topics\n",
    "\n",
    "import matplotlib.pyplot as plt\n",
    "import textwrap\n",
    "\n",
    "# Get the value counts\n",
    "topic_counts = cited_data['Topic_Name'].value_counts()\n",
    "\n",
    "# Define a list of blue shades\n",
    "blue_shades = ['#0000CD', '#4169E1', '#1E90FF', '#87CEEB', '#ADD8E6']\n",
    "\n",
    "# Wrap the x-axis labels\n",
    "wrapped_labels = [textwrap.fill(label, width=20) for label in topic_counts.index]\n",
    "\n",
    "# Create a bar chart\n",
    "plt.figure(figsize=(10, 6))\n",
    "topic_counts.plot(kind='bar', color=blue_shades[:len(topic_counts)])\n",
    "plt.title('Distribution of Cited Topics')\n",
    "plt.xlabel('Topics')\n",
    "plt.ylabel('Count')\n",
    "plt.xticks(ticks=range(len(wrapped_labels)), labels=wrapped_labels, rotation=0)\n",
    "plt.grid(axis='y')\n",
    "\n",
    "# Show the plot\n",
    "plt.tight_layout()\n",
    "plt.show()"
   ]
  },
  {
   "cell_type": "markdown",
   "metadata": {},
   "source": [
    "Mapping Data"
   ]
  },
  {
   "cell_type": "code",
   "execution_count": 141,
   "metadata": {},
   "outputs": [
    {
     "name": "stderr",
     "output_type": "stream",
     "text": [
      "C:\\Users\\Ksell\\AppData\\Local\\Temp\\ipykernel_45544\\3646831006.py:15: SettingWithCopyWarning:\n",
      "\n",
      "\n",
      "A value is trying to be set on a copy of a slice from a DataFrame.\n",
      "Try using .loc[row_indexer,col_indexer] = value instead\n",
      "\n",
      "See the caveats in the documentation: https://pandas.pydata.org/pandas-docs/stable/user_guide/indexing.html#returning-a-view-versus-a-copy\n",
      "\n"
     ]
    },
    {
     "data": {
      "application/vnd.plotly.v1+json": {
       "config": {
        "plotlyServerURL": "https://plot.ly"
       },
       "data": [
        {
         "hoverinfo": "text",
         "lat": [
          40.7127281,
          33.9528472,
          39.0437192,
          41.4996574,
          39.0437192,
          33.9528472,
          43.6534817,
          41.4996574,
          33.7939953,
          54.42340085,
          47.3744489,
          43.6534817,
          39.0437192,
          40.7127281,
          33.7489924,
          43.6534817,
          43.4652699,
          39.0437192,
          39.0437192,
          39.0437192,
          33.7489924,
          39.0437192,
          39.0437192,
          37.3893889,
          33.7489924,
          42.098698,
          45.5616075,
          32.9481789,
          34.0536909,
          45.5616075,
          39.0437192,
          42.3554334,
          33.7085883,
          40.7899291,
          43.6534817,
          43.6534817,
          40.7127281,
          37.8044557,
          33.7085883,
          33.7489924,
          33.7489924,
          39.0437192,
          40.7127281,
          40.7127281,
          40.7127281,
          37.7792588,
          43.6534817,
          37.7792588,
          42.8867166,
          39.0437192,
          37.7792588,
          33.4255117,
          40.8042674,
          43.6534817,
          43.6534817,
          33.7085883,
          43.6534817,
          37.3893889,
          43.6534817,
          33.9170444,
          39.0437192,
          41.4996574,
          33.7939953,
          37.3893889,
          34.0536909,
          43.6534817,
          38.951883,
          33.4255117,
          42.3656347,
          43.6534817,
          37.8044557,
          37.3893889,
          43.6534817,
          33.7489924,
          43.6534817,
          43.6534817,
          37.7792588,
          43.6534817,
          33.7939953,
          37.7792588,
          39.0437192,
          41.8755616,
          34.0536909,
          29.7589382,
          47.6038321,
          39.0437192,
          47.6038321,
          39.100105,
          40.8042674,
          33.7085883,
          40.8174216,
          47.6038321,
          38.8950368,
          41.4996574,
          34.0536909,
          38.953055899999995,
          37.8044557,
          45.5202471,
          42.7338254,
          39.0437192,
          33.7939953,
          39.0437192,
          37.7792588,
          37.7792588,
          52.5103817,
          40.2663107,
          33.7489924,
          40.2663107,
          33.7939953,
          47.6038321,
          42.7338254,
          39.0437192,
          39.0437192,
          45.5616075,
          47.6038321,
          37.3541132,
          42.098698,
          33.7489924,
          33.7085883,
          39.0437192,
          39.0437192,
          34.0536909,
          37.7792588,
          41.4996574,
          34.0536909,
          34.0536909,
          37.8044557
         ],
         "lon": [
          -74.0060152,
          -84.5496148,
          -77.4874899,
          -81.6936772,
          -77.4874899,
          -84.5496148,
          -79.3839347,
          -81.6936772,
          -84.6604899,
          -3.425688623372903,
          8.5410422,
          -79.3839347,
          -77.4874899,
          -74.0060152,
          -84.3902644,
          -79.3839347,
          -80.5222961,
          -77.4874899,
          -77.4874899,
          -77.4874899,
          -84.3902644,
          -77.4874899,
          -77.4874899,
          -122.0832101,
          -84.3902644,
          -75.9125187,
          -94.1642004,
          -96.7297206,
          -118.242766,
          -94.1642004,
          -77.4874899,
          -71.060511,
          -117.7926096,
          -74.0566735,
          -79.3839347,
          -79.3839347,
          -74.0060152,
          -122.271356,
          -117.7926096,
          -84.3902644,
          -84.3902644,
          -77.4874899,
          -74.0060152,
          -74.0060152,
          -74.0060152,
          -122.4193286,
          -79.3839347,
          -122.4193286,
          -78.8783922,
          -77.4874899,
          -122.4193286,
          -111.940016,
          -74.012084,
          -79.3839347,
          -79.3839347,
          -117.7926096,
          -79.3839347,
          -122.0832101,
          -79.3839347,
          -117.888855,
          -77.4874899,
          -81.6936772,
          -84.6604899,
          -122.0832101,
          -118.242766,
          -79.3839347,
          -92.3337366,
          -111.940016,
          -71.1040018,
          -79.3839347,
          -122.271356,
          -122.0832101,
          -79.3839347,
          -84.3902644,
          -79.3839347,
          -79.3839347,
          -122.4193286,
          -79.3839347,
          -84.6604899,
          -122.4193286,
          -77.4874899,
          -87.6244212,
          -118.242766,
          -95.3676974,
          -122.330062,
          -77.4874899,
          -122.330062,
          -94.5781416,
          -74.012084,
          -117.7926096,
          -74.3954057,
          -122.330062,
          -77.0365427,
          -81.6936772,
          -118.242766,
          -77.35021396591173,
          -122.271356,
          -122.674194,
          -84.5546295,
          -77.4874899,
          -84.6604899,
          -77.4874899,
          -122.4193286,
          -122.4193286,
          13.4349112,
          -76.8861122,
          -84.3902644,
          -76.8861122,
          -84.6604899,
          -122.330062,
          -84.5546295,
          -77.4874899,
          -77.4874899,
          -94.1642004,
          -122.330062,
          -121.955174,
          -75.9125187,
          -84.3902644,
          -117.7926096,
          -77.4874899,
          -77.4874899,
          -118.242766,
          -122.4193286,
          -81.6936772,
          -118.242766,
          -118.242766,
          -122.271356
         ],
         "marker": {
          "color": [
           "red",
           "blue",
           "red",
           "red",
           "blue",
           "purple",
           "red",
           "red",
           "purple",
           "orange",
           "orange",
           "red",
           "orange",
           "red",
           "orange",
           "red",
           "orange",
           "red",
           "red",
           "red",
           "orange",
           "blue",
           "red",
           "orange",
           "red",
           "blue",
           "red",
           "red",
           "orange",
           "red",
           "blue",
           "red",
           "blue",
           "red",
           "red",
           "red",
           "red",
           "red",
           "blue",
           "orange",
           "orange",
           "blue",
           "red",
           "red",
           "red",
           "blue",
           "green",
           "orange",
           "orange",
           "orange",
           "orange",
           "blue",
           "blue",
           "blue",
           "blue",
           "blue",
           "red",
           "orange",
           "red",
           "orange",
           "red",
           "red",
           "blue",
           "orange",
           "red",
           "orange",
           "red",
           "blue",
           "orange",
           "red",
           "orange",
           "orange",
           "orange",
           "red",
           "red",
           "red",
           "blue",
           "orange",
           "orange",
           "orange",
           "red",
           "orange",
           "red",
           "red",
           "red",
           "red",
           "red",
           "orange",
           "blue",
           "orange",
           "orange",
           "blue",
           "red",
           "red",
           "orange",
           "orange",
           "red",
           "orange",
           "orange",
           "blue",
           "red",
           "blue",
           "blue",
           "red",
           "orange",
           "blue",
           "red",
           "blue",
           "blue",
           "red",
           "red",
           "red",
           "blue",
           "red",
           "red",
           "orange",
           "blue",
           "red",
           "blue",
           "red",
           "red",
           "orange",
           "red",
           "red",
           "red",
           "red",
           "red"
          ],
          "line": {
           "color": "black",
           "width": 1
          },
          "size": 10
         },
         "mode": "markers",
         "showlegend": false,
         "text": [
          "https://cuyahogacounty.gov/county-events/county-event-detail/2020/09/24/boards-and-commissions/technicaladvisorycommitteemeeting-_c2fbfb0a-d5d0-497b-98b1-eae8b5558b3d",
          "https://fred.stlouisfed.org/series/pua0t17mn27063a647ncen",
          "https://guides.mclibrary.duke.edu/healthstatistics",
          "https://hopewelltwp.com/documents/pa-child-abuse-clearance-form/",
          "https://catalog.data.gov/dataset/tiger-line-shapefile-2019-county-dearborn-county-in-all-roads-county-based-shapefile",
          "https://www.bea.gov/news/2024/us-international-trade-goods-and-services-april-2024",
          "https://web.oceansidechamber.com/external/wcpages/wcdirectory/results/listing.aspx?listingid=4217",
          "https://hopewelltwp.com/documents/ordinance-o1999-3/",
          "https://www.census.gov/construction/chars/definitions/index.html",
          "https://vaersanalysis.info/2021/09/10/vaers-summary-for-covid-19-vaccines-through-9-03-2021/",
          "https://www.boronsambo379.sbs/w/index.php?title=the_old_kingdom&action=edit&section=30",
          "https://memberportal.keywestchamber.org/v12/directory/public-utilities/keys-energy-services-364",
          "https://www.wxpr.org/2022-07-28/these-hurricane-flood-maps-reveal-the-climate-future-for-miami-nyc-and-d-c",
          "https://cuyahogacounty.gov/department-of-development-old",
          "https://www.apr.org/science-health/2020-07-01/to-be-young-a-doctor-and-black-overcoming-racial-barriers-in-medical-training",
          "https://www.politifact.com/factchecks/2018/oct/02/d-cole-phelps/does-nc-have-5th-highest-health-insurance-premiums/",
          "https://economistmom.com/tag/shecession/",
          "https://libraryguides.nau.edu/c.php?g=1296183&p=9521124",
          "https://libguides.twu.edu/c.php?g=270126&p=4375579",
          "https://ocls.indwes.edu/tutorials/criminal-justice-political-science-websites",
          "https://www.forbes.com/sites/michaelgoldstein/2022/12/08/why-do-women-like-to-travel-more-than-men/?sh=596558c6339b",
          "https://catalog.data.gov/dataset/tiger-line-shapefile-2019-county-guanica-municipio-pr-all-roads-county-based-shapefile",
          "https://libguides.csun.edu/gis",
          "https://stuffblackpeopledontlike.blogspot.com/2017/07/not-joke-fear-of-black-violence-cancels.html?showcomment=1499164899773",
          "https://bmcpublichealth.biomedcentral.com/articles/10.1186/s12889-022-14149-x",
          "https://broomecountyny.gov/dpw/release/roadwork71723",
          "https://chamber.hollywoodchamber.org/list/member/canada-florida-chamber-of-commerce-9885",
          "https://orangecityiowa.com/places/category/tv-internet/",
          "https://97x.com/kansas-officials-catch-someone-fishing-with-a-9mm-handgun/",
          "https://fortscott.com/events/details/game-night-every-friday-at-the-museum-of-creativity-03-29-2024-21344",
          "https://catalog.data.gov/dataset/tiger-line-shapefile-2022-county-toa-alta-municipio-pr-topological-faces-area-hydrography-relat",
          "https://proagency.tripod.com/skp-co.html",
          "https://www.incomebyzipcode.com/alabama/35089",
          "https://sprawltag.com/promote-your-business-in-dfw/",
          "https://www.disasterloanadvisors.com/kentucky-eviction-tenant-rental-assistance-programs/",
          "https://web.keywestchamber.org/wedding-ceremonyreception-locations/hyatt-centric-key-west-resort-and-spa-3085",
          "https://wsbs.com/light-up-2022-deadline-reminder/",
          "https://www.keywestchamber.org/latest-community-news/key-to-business-premiers-on-yacht-rock-937-fm",
          "https://www.incomebyzipcode.com/california/95222",
          "https://www.randomacts.org/kindness-stories/random-acts-board-member-helps-feed-families-with-our-table-lawrence/",
          "https://www.nature.com/articles/s41893-020-00678-z?utm_source=natureasia&utm_medium=referral&utm_content=jp_content&utm_campaign=jjpn_1_rm01_jp_natsustain_article_2021&error=cookies_not_supported&code=b5cbd035-cacd-4092-9ed3-ad29d7fd515a",
          "https://catalog.data.gov/dataset/tiger-line-shapefile-2020-county-covington-city-va-all-roads",
          "https://www.cuyahogacounty.gov/calendar?pagesize=24&it=current%20events&year_month=2024%2fapril%2c2024%2foctober%2c2024%2fjune",
          "https://cuyahogacounty.gov/calendar/event-detail/2011/08/17/boards-and-commissions/8-17-2011_aaad5ee8-befb-410c-9b48-01c2b96920d8",
          "https://cuyahogacounty.gov/county-events/county-event-detail/2024/05/23/consumer-affairs-calendar/in-the-neighborhood",
          "https://www.wikidata.org/wiki/q578055",
          "https://censusreporter.org/topics/disability/",
          "https://www.marketplace.org/2012/11/07/two-americas-election-map-divided-paycheck/",
          "https://www.hawaiifreepress.com/articles-main/id/22718/hawaii-2nd-worst-state-for-drivers",
          "https://www.pineapplemoney.com/make-money/is-157000-a-good-salary",
          "https://newsbusters.org/blogs/nb/tom-blumer/2015/11/03/ap-quickly-takes-story-awful-factory-orders-top-business-news-page?utm_source=akdart",
          "https://smokerisehoa.org/smoke-rise-census-data/",
          "https://policescorecard.org/tx/police-department/bertram",
          "https://www.citytistics.com/city/soperton-georgia/",
          "https://www.laalmanac.com/population/po16ad.php",
          "https://www.incomebyzipcode.com/florida/32439",
          "https://memberportal.keywestchamber.org/2021/night-club",
          "https://www.bauaw.org/2017/03/bauaw2003-bauaw-newsletter-thursday.html",
          "https://openvpn.net/blog/vpn-app-for-iphone/",
          "https://bldgblog.com/2015/01/the-electromagnetic-fortification-of-the-suburbs/",
          "https://libguides.columbiasouthern.edu/c.php?g=377987&p=8638933",
          "https://hopewelltwp.com/documents/resolution-2012-07-beavercountyhazard/",
          "https://alfred.stlouisfed.org/series?seid=puaany36055a647ncen&utm_source=series_page&utm_medium=related_content&utm_term=related_resources&utm_campaign=alfred",
          "https://daytonology.blogspot.com/2008/03/",
          "https://nick975.com/states-people-live-longest/",
          "https://migranttales.net/race-files-why-racist-is-such-a-powerful-word/",
          "https://careshq.org/keywords/congress/",
          "http://www.tuscco.com/event/tuscaloosa-county-land-tax-sale/",
          "https://www.komodohealth.com/perspectives/drug-snapshot-hem-onc",
          "https://www.urban.org/features/ghosts-housing-discrimination-reach-beyond-redlining",
          "https://www.oceansidechamber.com/oceanside-blog/from-refugee-to-a-businesswoman-an-american-success-story",
          "https://davidllorito.blogspot.com/2006/10/philippine-export-numbers.html",
          "https://crimeresearch.org/2024/01/updated-information-on-mass-public-shootings-from-1998-through-october-2023/",
          "https://www.caring.com/senior-living/memory-care-facilities/hawaii/honolulu-county",
          "https://memberportal.keywestchamber.org/restaurants/duffy%27s-steak-and-lobster-house-3953",
          "https://www.wakeforestnc.gov/file/10549",
          "https://www.wikidata.org/wiki/q1546",
          "https://www.spacecoastflmortgage.com/home-equity-can-be-a-game-changer-when-you-sell/",
          "https://www.kennedy.senate.gov/public/2023/3/kennedy-stop-and-frisk-is-constitutional-let-new-orleans-use-it-to-prevent-crime",
          "https://www.hrw.org/news/2020/09/23/us-needs-address-economic-hardship-rights-impacts-covid-19",
          "https://lindenhall.libguides.com/c.php?g=775369&p=7341863",
          "https://apartmentpropertyvaluation.com/cap-rate/idaho/",
          "https://929thebull.com/spill-the-beans-rumors-percolate-as-yakima-may-get-a-new-cafe/",
          "https://www.mdanderson.org/education-training/clinical-training/graduate-medical-education/residencies-fellowships/neuro-oncology.html",
          "https://www.deltami.gov/residents/flooded_home_.php",
          "https://libguides.richmond.edu/c.php?g=1351186&p=10161190",
          "https://www.camillaga.net/how_do_i/contact_us/index.php",
          "https://www.byjoecapozzi.com/post/food-charity-relocating-weekly-lake-worth-beach-distribution-site-to-boynton-beach-mall",
          "https://www.harriscountyga.gov/2020/page/4/",
          "https://www.moneygeek.com/insurance/auto/why-is-your-car-insurance-so-expensive/florida/",
          "http://li558-193.members.linode.com/index.php?threads/fixing-inequality-through-taxes.397225/page-27#post-1064921429",
          "https://www.spencercountyky.gov/contacts/maps.php",
          "https://hillcountryportal.com/sansabacounty.html",
          "https://hopewelltwp.com/documents/ordinance-o1961-7/",
          "https://kingfm.com/cheyenne-named-top-city-in-wyoming-to-get-a-job-in-2021/",
          "https://positivechangepc.com/uncategorized/dominion-scana-merger-in-doubt-as-south-carolina-mulls-nixing-cost-recovery-for-summer-nuke-project/",
          "https://www.evolverealtynv.com/resources.html",
          "https://soldbyde.com/your-home-equity-can-offset-affordability-challenges/",
          "https://polaristradinggroup.com/trade-strategy-7-3-19/",
          "https://catalog.data.gov/dataset/tiger-line-shapefile-2022-county-calhoun-county-ar-area-hydrography",
          "https://fred.stlouisfed.org/series/smu06310845552410001sa",
          "https://catalog.data.gov/dataset/tiger-line-shapefile-2019-county-clinton-county-oh-address-range-feature-county-based",
          "https://ar.wikipedia.org/wiki/%d8%a8%d9%84%d8%af%d8%a9_%d8%a5%d9%8a%d8%b1%d8%a8%d9%84%d9%8a%d9%86_(%d9%85%d9%8a%d8%b4%d9%8a%d8%ba%d8%a7%d9%86)",
          "https://astoriapost.com/city-expands-list-of-queens-neighborhoods-prioritized-for-covid-19-vaccine-distribution",
          "https://comecon.media/background/grammy-awards-u-s-census-bureau-publishes-industry-data/760/",
          "https://www.adamscountypa.gov/municipalities/tyronetownship",
          "https://oklahoma.gov/health/locations/county-health-departments/noble-county-health-department-draft/data-and-statistics.html",
          "https://www.adamscountypa.gov/departments/commissioners/calendar/adams-county-annual-salary-board-meeting/adams-county-annual-salary-board-meeting",
          "https://www.bts.gov/content/principal-means-transportation-work",
          "https://reason.org/k12-ed-spending/k-12-education-spending-spotlight/?gclid=cjwkcajwvdajbhbeeiwaemh1uyduhci_z-lb1xg1b9o_xusmbbwd1lcfckpuglgt1wvnbiwhnur4rbocnrgqavd_bwe",
          "https://www.connetquotlibrary.org/digital/",
          "https://www.chesapeakecommons.org/post/accessing-environmental-justice-datasets",
          "https://catalog.data.gov/dataset/tiger-line-shapefile-2019-county-johnson-county-ks-area-hydrography-county-based-shapefile",
          "https://fortscott.com/members/ql/housing-apartments-61",
          "https://co.clarion.pa.us/newslist.php",
          "https://investment.org/capital-gain-tax-rates/california/1031-exchange-fullerton-california/",
          "https://gobroomecounty.com/e911/fire-training-schedule",
          "https://www.wyomingpublicmedia.org/news/2021-07-27/report-single-mothers-bore-brunt-of-pandemic-anxieties",
          "https://www.incomebyzipcode.com/california/95303",
          "https://www.votemadison.com/election-information/election-results",
          "https://libguides.luc.edu/c.php?g=49661&p=320200",
          "https://womiowensboro.com/bucees-now-open-in-richmond-kentucky/",
          "https://www.medfieldpubliclibrary.org/databases/",
          "https://hopewelltwp.com/documents/resolution-r1999-129/",
          "https://kffm.com/ixp/113/p/wine-pairing-dinner-the-seasons-yakima/",
          "https://espnsiouxfalls.com/two-south-dakota-counties-are-among-the-healthiest-in-america/",
          "https://www.sanpete.com/sterling.html"
         ],
         "type": "scattergeo"
        },
        {
         "lat": [
          null
         ],
         "lon": [
          null
         ],
         "marker": {
          "color": "blue",
          "size": 10
         },
         "mode": "markers",
         "name": "Comprehensive County Data: Population, Income, and Government Resources",
         "type": "scattergeo"
        },
        {
         "lat": [
          null
         ],
         "lon": [
          null
         ],
         "marker": {
          "color": "green",
          "size": 10
         },
         "mode": "markers",
         "name": "National Health and Demographic Survey: Insights Across Communities",
         "type": "scattergeo"
        },
        {
         "lat": [
          null
         ],
         "lon": [
          null
         ],
         "marker": {
          "color": "red",
          "size": 10
         },
         "mode": "markers",
         "name": "State and Community Health Services: Access and Resources",
         "type": "scattergeo"
        },
        {
         "lat": [
          null
         ],
         "lon": [
          null
         ],
         "marker": {
          "color": "purple",
          "size": 10
         },
         "mode": "markers",
         "name": "Housing Market Analysis: Prices, Values, and Statistics",
         "type": "scattergeo"
        },
        {
         "lat": [
          null
         ],
         "lon": [
          null
         ],
         "marker": {
          "color": "orange",
          "size": 10
         },
         "mode": "markers",
         "name": "Annual Market Trends: Business, Family, and Economic Insights",
         "type": "scattergeo"
        },
        {
         "lat": [
          null
         ],
         "lon": [
          null
         ],
         "marker": {
          "color": "gray",
          "size": 10
         },
         "mode": "markers",
         "name": "Other",
         "type": "scattergeo"
        }
       ],
       "layout": {
        "geo": {
         "scope": "north america"
        },
        "legend": {
         "itemsizing": "constant",
         "title": {
          "text": "Topics"
         }
        },
        "template": {
         "data": {
          "bar": [
           {
            "error_x": {
             "color": "#2a3f5f"
            },
            "error_y": {
             "color": "#2a3f5f"
            },
            "marker": {
             "line": {
              "color": "#E5ECF6",
              "width": 0.5
             },
             "pattern": {
              "fillmode": "overlay",
              "size": 10,
              "solidity": 0.2
             }
            },
            "type": "bar"
           }
          ],
          "barpolar": [
           {
            "marker": {
             "line": {
              "color": "#E5ECF6",
              "width": 0.5
             },
             "pattern": {
              "fillmode": "overlay",
              "size": 10,
              "solidity": 0.2
             }
            },
            "type": "barpolar"
           }
          ],
          "carpet": [
           {
            "aaxis": {
             "endlinecolor": "#2a3f5f",
             "gridcolor": "white",
             "linecolor": "white",
             "minorgridcolor": "white",
             "startlinecolor": "#2a3f5f"
            },
            "baxis": {
             "endlinecolor": "#2a3f5f",
             "gridcolor": "white",
             "linecolor": "white",
             "minorgridcolor": "white",
             "startlinecolor": "#2a3f5f"
            },
            "type": "carpet"
           }
          ],
          "choropleth": [
           {
            "colorbar": {
             "outlinewidth": 0,
             "ticks": ""
            },
            "type": "choropleth"
           }
          ],
          "contour": [
           {
            "colorbar": {
             "outlinewidth": 0,
             "ticks": ""
            },
            "colorscale": [
             [
              0,
              "#0d0887"
             ],
             [
              0.1111111111111111,
              "#46039f"
             ],
             [
              0.2222222222222222,
              "#7201a8"
             ],
             [
              0.3333333333333333,
              "#9c179e"
             ],
             [
              0.4444444444444444,
              "#bd3786"
             ],
             [
              0.5555555555555556,
              "#d8576b"
             ],
             [
              0.6666666666666666,
              "#ed7953"
             ],
             [
              0.7777777777777778,
              "#fb9f3a"
             ],
             [
              0.8888888888888888,
              "#fdca26"
             ],
             [
              1,
              "#f0f921"
             ]
            ],
            "type": "contour"
           }
          ],
          "contourcarpet": [
           {
            "colorbar": {
             "outlinewidth": 0,
             "ticks": ""
            },
            "type": "contourcarpet"
           }
          ],
          "heatmap": [
           {
            "colorbar": {
             "outlinewidth": 0,
             "ticks": ""
            },
            "colorscale": [
             [
              0,
              "#0d0887"
             ],
             [
              0.1111111111111111,
              "#46039f"
             ],
             [
              0.2222222222222222,
              "#7201a8"
             ],
             [
              0.3333333333333333,
              "#9c179e"
             ],
             [
              0.4444444444444444,
              "#bd3786"
             ],
             [
              0.5555555555555556,
              "#d8576b"
             ],
             [
              0.6666666666666666,
              "#ed7953"
             ],
             [
              0.7777777777777778,
              "#fb9f3a"
             ],
             [
              0.8888888888888888,
              "#fdca26"
             ],
             [
              1,
              "#f0f921"
             ]
            ],
            "type": "heatmap"
           }
          ],
          "heatmapgl": [
           {
            "colorbar": {
             "outlinewidth": 0,
             "ticks": ""
            },
            "colorscale": [
             [
              0,
              "#0d0887"
             ],
             [
              0.1111111111111111,
              "#46039f"
             ],
             [
              0.2222222222222222,
              "#7201a8"
             ],
             [
              0.3333333333333333,
              "#9c179e"
             ],
             [
              0.4444444444444444,
              "#bd3786"
             ],
             [
              0.5555555555555556,
              "#d8576b"
             ],
             [
              0.6666666666666666,
              "#ed7953"
             ],
             [
              0.7777777777777778,
              "#fb9f3a"
             ],
             [
              0.8888888888888888,
              "#fdca26"
             ],
             [
              1,
              "#f0f921"
             ]
            ],
            "type": "heatmapgl"
           }
          ],
          "histogram": [
           {
            "marker": {
             "pattern": {
              "fillmode": "overlay",
              "size": 10,
              "solidity": 0.2
             }
            },
            "type": "histogram"
           }
          ],
          "histogram2d": [
           {
            "colorbar": {
             "outlinewidth": 0,
             "ticks": ""
            },
            "colorscale": [
             [
              0,
              "#0d0887"
             ],
             [
              0.1111111111111111,
              "#46039f"
             ],
             [
              0.2222222222222222,
              "#7201a8"
             ],
             [
              0.3333333333333333,
              "#9c179e"
             ],
             [
              0.4444444444444444,
              "#bd3786"
             ],
             [
              0.5555555555555556,
              "#d8576b"
             ],
             [
              0.6666666666666666,
              "#ed7953"
             ],
             [
              0.7777777777777778,
              "#fb9f3a"
             ],
             [
              0.8888888888888888,
              "#fdca26"
             ],
             [
              1,
              "#f0f921"
             ]
            ],
            "type": "histogram2d"
           }
          ],
          "histogram2dcontour": [
           {
            "colorbar": {
             "outlinewidth": 0,
             "ticks": ""
            },
            "colorscale": [
             [
              0,
              "#0d0887"
             ],
             [
              0.1111111111111111,
              "#46039f"
             ],
             [
              0.2222222222222222,
              "#7201a8"
             ],
             [
              0.3333333333333333,
              "#9c179e"
             ],
             [
              0.4444444444444444,
              "#bd3786"
             ],
             [
              0.5555555555555556,
              "#d8576b"
             ],
             [
              0.6666666666666666,
              "#ed7953"
             ],
             [
              0.7777777777777778,
              "#fb9f3a"
             ],
             [
              0.8888888888888888,
              "#fdca26"
             ],
             [
              1,
              "#f0f921"
             ]
            ],
            "type": "histogram2dcontour"
           }
          ],
          "mesh3d": [
           {
            "colorbar": {
             "outlinewidth": 0,
             "ticks": ""
            },
            "type": "mesh3d"
           }
          ],
          "parcoords": [
           {
            "line": {
             "colorbar": {
              "outlinewidth": 0,
              "ticks": ""
             }
            },
            "type": "parcoords"
           }
          ],
          "pie": [
           {
            "automargin": true,
            "type": "pie"
           }
          ],
          "scatter": [
           {
            "fillpattern": {
             "fillmode": "overlay",
             "size": 10,
             "solidity": 0.2
            },
            "type": "scatter"
           }
          ],
          "scatter3d": [
           {
            "line": {
             "colorbar": {
              "outlinewidth": 0,
              "ticks": ""
             }
            },
            "marker": {
             "colorbar": {
              "outlinewidth": 0,
              "ticks": ""
             }
            },
            "type": "scatter3d"
           }
          ],
          "scattercarpet": [
           {
            "marker": {
             "colorbar": {
              "outlinewidth": 0,
              "ticks": ""
             }
            },
            "type": "scattercarpet"
           }
          ],
          "scattergeo": [
           {
            "marker": {
             "colorbar": {
              "outlinewidth": 0,
              "ticks": ""
             }
            },
            "type": "scattergeo"
           }
          ],
          "scattergl": [
           {
            "marker": {
             "colorbar": {
              "outlinewidth": 0,
              "ticks": ""
             }
            },
            "type": "scattergl"
           }
          ],
          "scattermapbox": [
           {
            "marker": {
             "colorbar": {
              "outlinewidth": 0,
              "ticks": ""
             }
            },
            "type": "scattermapbox"
           }
          ],
          "scatterpolar": [
           {
            "marker": {
             "colorbar": {
              "outlinewidth": 0,
              "ticks": ""
             }
            },
            "type": "scatterpolar"
           }
          ],
          "scatterpolargl": [
           {
            "marker": {
             "colorbar": {
              "outlinewidth": 0,
              "ticks": ""
             }
            },
            "type": "scatterpolargl"
           }
          ],
          "scatterternary": [
           {
            "marker": {
             "colorbar": {
              "outlinewidth": 0,
              "ticks": ""
             }
            },
            "type": "scatterternary"
           }
          ],
          "surface": [
           {
            "colorbar": {
             "outlinewidth": 0,
             "ticks": ""
            },
            "colorscale": [
             [
              0,
              "#0d0887"
             ],
             [
              0.1111111111111111,
              "#46039f"
             ],
             [
              0.2222222222222222,
              "#7201a8"
             ],
             [
              0.3333333333333333,
              "#9c179e"
             ],
             [
              0.4444444444444444,
              "#bd3786"
             ],
             [
              0.5555555555555556,
              "#d8576b"
             ],
             [
              0.6666666666666666,
              "#ed7953"
             ],
             [
              0.7777777777777778,
              "#fb9f3a"
             ],
             [
              0.8888888888888888,
              "#fdca26"
             ],
             [
              1,
              "#f0f921"
             ]
            ],
            "type": "surface"
           }
          ],
          "table": [
           {
            "cells": {
             "fill": {
              "color": "#EBF0F8"
             },
             "line": {
              "color": "white"
             }
            },
            "header": {
             "fill": {
              "color": "#C8D4E3"
             },
             "line": {
              "color": "white"
             }
            },
            "type": "table"
           }
          ]
         },
         "layout": {
          "annotationdefaults": {
           "arrowcolor": "#2a3f5f",
           "arrowhead": 0,
           "arrowwidth": 1
          },
          "autotypenumbers": "strict",
          "coloraxis": {
           "colorbar": {
            "outlinewidth": 0,
            "ticks": ""
           }
          },
          "colorscale": {
           "diverging": [
            [
             0,
             "#8e0152"
            ],
            [
             0.1,
             "#c51b7d"
            ],
            [
             0.2,
             "#de77ae"
            ],
            [
             0.3,
             "#f1b6da"
            ],
            [
             0.4,
             "#fde0ef"
            ],
            [
             0.5,
             "#f7f7f7"
            ],
            [
             0.6,
             "#e6f5d0"
            ],
            [
             0.7,
             "#b8e186"
            ],
            [
             0.8,
             "#7fbc41"
            ],
            [
             0.9,
             "#4d9221"
            ],
            [
             1,
             "#276419"
            ]
           ],
           "sequential": [
            [
             0,
             "#0d0887"
            ],
            [
             0.1111111111111111,
             "#46039f"
            ],
            [
             0.2222222222222222,
             "#7201a8"
            ],
            [
             0.3333333333333333,
             "#9c179e"
            ],
            [
             0.4444444444444444,
             "#bd3786"
            ],
            [
             0.5555555555555556,
             "#d8576b"
            ],
            [
             0.6666666666666666,
             "#ed7953"
            ],
            [
             0.7777777777777778,
             "#fb9f3a"
            ],
            [
             0.8888888888888888,
             "#fdca26"
            ],
            [
             1,
             "#f0f921"
            ]
           ],
           "sequentialminus": [
            [
             0,
             "#0d0887"
            ],
            [
             0.1111111111111111,
             "#46039f"
            ],
            [
             0.2222222222222222,
             "#7201a8"
            ],
            [
             0.3333333333333333,
             "#9c179e"
            ],
            [
             0.4444444444444444,
             "#bd3786"
            ],
            [
             0.5555555555555556,
             "#d8576b"
            ],
            [
             0.6666666666666666,
             "#ed7953"
            ],
            [
             0.7777777777777778,
             "#fb9f3a"
            ],
            [
             0.8888888888888888,
             "#fdca26"
            ],
            [
             1,
             "#f0f921"
            ]
           ]
          },
          "colorway": [
           "#636efa",
           "#EF553B",
           "#00cc96",
           "#ab63fa",
           "#FFA15A",
           "#19d3f3",
           "#FF6692",
           "#B6E880",
           "#FF97FF",
           "#FECB52"
          ],
          "font": {
           "color": "#2a3f5f"
          },
          "geo": {
           "bgcolor": "white",
           "lakecolor": "white",
           "landcolor": "#E5ECF6",
           "showlakes": true,
           "showland": true,
           "subunitcolor": "white"
          },
          "hoverlabel": {
           "align": "left"
          },
          "hovermode": "closest",
          "mapbox": {
           "style": "light"
          },
          "paper_bgcolor": "white",
          "plot_bgcolor": "#E5ECF6",
          "polar": {
           "angularaxis": {
            "gridcolor": "white",
            "linecolor": "white",
            "ticks": ""
           },
           "bgcolor": "#E5ECF6",
           "radialaxis": {
            "gridcolor": "white",
            "linecolor": "white",
            "ticks": ""
           }
          },
          "scene": {
           "xaxis": {
            "backgroundcolor": "#E5ECF6",
            "gridcolor": "white",
            "gridwidth": 2,
            "linecolor": "white",
            "showbackground": true,
            "ticks": "",
            "zerolinecolor": "white"
           },
           "yaxis": {
            "backgroundcolor": "#E5ECF6",
            "gridcolor": "white",
            "gridwidth": 2,
            "linecolor": "white",
            "showbackground": true,
            "ticks": "",
            "zerolinecolor": "white"
           },
           "zaxis": {
            "backgroundcolor": "#E5ECF6",
            "gridcolor": "white",
            "gridwidth": 2,
            "linecolor": "white",
            "showbackground": true,
            "ticks": "",
            "zerolinecolor": "white"
           }
          },
          "shapedefaults": {
           "line": {
            "color": "#2a3f5f"
           }
          },
          "ternary": {
           "aaxis": {
            "gridcolor": "white",
            "linecolor": "white",
            "ticks": ""
           },
           "baxis": {
            "gridcolor": "white",
            "linecolor": "white",
            "ticks": ""
           },
           "bgcolor": "#E5ECF6",
           "caxis": {
            "gridcolor": "white",
            "linecolor": "white",
            "ticks": ""
           }
          },
          "title": {
           "x": 0.05
          },
          "xaxis": {
           "automargin": true,
           "gridcolor": "white",
           "linecolor": "white",
           "ticks": "",
           "title": {
            "standoff": 15
           },
           "zerolinecolor": "white",
           "zerolinewidth": 2
          },
          "yaxis": {
           "automargin": true,
           "gridcolor": "white",
           "linecolor": "white",
           "ticks": "",
           "title": {
            "standoff": 15
           },
           "zerolinecolor": "white",
           "zerolinewidth": 2
          }
         }
        },
        "title": {
         "text": "Instances of Repackaged Census Data"
        }
       }
      }
     },
     "metadata": {},
     "output_type": "display_data"
    }
   ],
   "source": [
    "#Mapping repackaged data\n",
    "import plotly.graph_objects as go\n",
    "\n",
    "# Define a color map for the topics\n",
    "color_map = {\n",
    "    'Comprehensive County Data: Population, Income, and Government Resources': 'blue',\n",
    "    'National Health and Demographic Survey: Insights Across Communities': 'green',\n",
    "    'State and Community Health Services: Access and Resources': 'red',\n",
    "    'Housing Market Analysis: Prices, Values, and Statistics': 'purple',\n",
    "    'Annual Market Trends: Business, Family, and Economic Insights': 'orange',\n",
    "    'Other': 'gray'\n",
    "}\n",
    "\n",
    "# Map the Topic_Name to colors\n",
    "repackaged_data['color'] = repackaged_data['Topic_Name'].map(color_map)\n",
    "\n",
    "# Create the scatter geo plot\n",
    "fig = go.Figure(data=go.Scattergeo(\n",
    "    lon=repackaged_data['longitude'],\n",
    "    lat=repackaged_data['latitude'],\n",
    "    mode='markers',\n",
    "    text=repackaged_data['url'],\n",
    "    hoverinfo='text',\n",
    "    marker=dict(color=repackaged_data['color'], size=10, line=dict(width=1, color='black')),\n",
    "    showlegend=False\n",
    "))\n",
    "\n",
    "# Update the layout to include a legend\n",
    "fig.update_layout(\n",
    "    title='Instances of Repackaged Census Data',\n",
    "    geo_scope='north america',\n",
    "    legend_title_text='Topics',\n",
    "    legend=dict(\n",
    "        itemsizing='constant'\n",
    "    )\n",
    ")\n",
    "\n",
    "# Add legend items manually\n",
    "for topic, color in color_map.items():\n",
    "    fig.add_trace(go.Scattergeo(\n",
    "        lon=[None], lat=[None],\n",
    "        mode='markers',\n",
    "        marker=dict(size=10, color=color),\n",
    "        name=topic\n",
    "    ))\n",
    "\n",
    "# Show the plot\n",
    "fig.show()"
   ]
  },
  {
   "cell_type": "code",
   "execution_count": 142,
   "metadata": {},
   "outputs": [],
   "source": [
    "import plotly.io as pio\n",
    "# Save the interactive graph to an HTML file to imbed in the powerpoint presentation\n",
    "pio.write_html(fig, file='Repackaged_Census_Data_Map.html', auto_open=True)"
   ]
  },
  {
   "cell_type": "code",
   "execution_count": 143,
   "metadata": {},
   "outputs": [
    {
     "name": "stderr",
     "output_type": "stream",
     "text": [
      "C:\\Users\\Ksell\\AppData\\Local\\Temp\\ipykernel_45544\\3921446242.py:15: SettingWithCopyWarning:\n",
      "\n",
      "\n",
      "A value is trying to be set on a copy of a slice from a DataFrame.\n",
      "Try using .loc[row_indexer,col_indexer] = value instead\n",
      "\n",
      "See the caveats in the documentation: https://pandas.pydata.org/pandas-docs/stable/user_guide/indexing.html#returning-a-view-versus-a-copy\n",
      "\n"
     ]
    },
    {
     "data": {
      "application/vnd.plotly.v1+json": {
       "config": {
        "plotlyServerURL": "https://plot.ly"
       },
       "data": [
        {
         "hoverinfo": "text",
         "lat": [
          34.0536909,
          33.7489924,
          43.6534817,
          39.0437192,
          34.0536909,
          33.9528472,
          42.7338254,
          37.3893889,
          33.9528472,
          37.3893889,
          43.6534817,
          42.3554334,
          33.9528472,
          43.6534817,
          33.9528472,
          33.7489924,
          33.7489924,
          35.595363,
          33.7489924,
          43.6534817,
          43.6534817,
          33.9528472,
          33.9528472,
          38.8950368,
          43.6534817,
          37.8044557,
          45.5031824,
          37.3893889,
          37.3893889,
          43.2560802,
          43.6534817,
          40.7127281,
          40.8584328,
          37.3893889,
          43.6534817,
          45.5031824,
          44.2602244,
          33.7489924,
          33.7489924,
          33.9528472,
          37.3893889,
          43.6534817,
          43.6534817,
          47.6038321,
          40.8584328,
          37.3893889,
          34.0536909,
          39.0437192,
          33.7489924,
          41.8328085,
          33.7489924,
          33.4255117,
          37.3893889,
          33.7939953,
          33.7939953,
          32.7762719,
          34.0536909,
          39.0437192,
          33.7939953,
          41.546069,
          33.7939953,
          44.2602244,
          33.7489924,
          41.8755616,
          33.7489924,
          43.51714415,
          37.3893889,
          43.6534817,
          27.9477595,
          60.1674881,
          40.7127281,
          33.7085883,
          43.6534817,
          37.3893889,
          33.9170444,
          43.6534817,
          42.8867166,
          33.2095614,
          47.6038321,
          35.996653,
          37.3893889,
          45.5202471,
          37.8044557,
          33.7489924,
          40.2663107,
          38.8950368,
          43.6534817,
          33.7939953,
          34.0536909,
          33.7489924,
          39.0437192,
          27.9477595,
          43.6534817,
          34.0536909,
          40.8042674,
          37.7792588,
          40.8584328,
          43.6534817,
          44.2602244,
          39.0437192,
          39.0437192,
          44.9772995,
          38.8950368,
          33.7939953,
          47.6038321,
          40.8584328,
          43.6534817,
          43.6534817,
          33.4255117,
          43.6534817,
          37.7792588,
          60.1674881,
          34.0536909,
          43.6534817,
          33.7489924,
          37.3893889,
          41.8755616,
          33.7489924,
          43.6534817,
          36.740236,
          43.6534817,
          37.3893889,
          33.7939953,
          32.7762719,
          43.6534817,
          43.6534817,
          33.7489924,
          33.4255117,
          37.3893889,
          33.7489924,
          36.6673066,
          43.6534817,
          41.8755616,
          27.9477595,
          39.0437192,
          38.8950368,
          33.7489924,
          43.6534817,
          39.7990175,
          33.7939953,
          42.3554334,
          33.7489924,
          39.100105,
          43.6534817,
          43.6534817,
          40.7596198,
          38.8950368,
          40.4416941,
          33.7489924,
          39.9784186,
          34.0536909,
          51.4893335,
          33.7939953,
          33.7939953,
          44.2602244,
          33.7939953,
          39.0437192,
          40.0996009,
          43.6534817,
          39.100105,
          43.6534817,
          38.8950368,
          38.8950368,
          39.9784186,
          33.7939953,
          43.6534817,
          33.4638745,
          40.7596198,
          40.4416941,
          43.6534817,
          35.2272086,
          37.3893889,
          43.6534817,
          33.7489924,
          33.7489924,
          43.6534817,
          33.4255117,
          39.7573207,
          34.0536909,
          43.6534817,
          41.8755616,
          43.6534817,
          33.4255117,
          34.0536909,
          43.6534817,
          42.3656347,
          39.0437192,
          33.7489924,
          43.6534817,
          34.0536909,
          33.4255117,
          40.7127281,
          33.6408845,
          39.0437192,
          34.0536909,
          42.7338254,
          33.7939953,
          33.7939953,
          33.7939953,
          39.0437192,
          33.7489924
         ],
         "lon": [
          -118.242766,
          -84.3902644,
          -79.3839347,
          -77.4874899,
          -118.242766,
          -84.5496148,
          -84.5546295,
          -122.0832101,
          -84.5496148,
          -122.0832101,
          -79.3839347,
          -71.060511,
          -84.5496148,
          -79.3839347,
          -84.5496148,
          -84.3902644,
          -84.3902644,
          -82.5508407,
          -84.3902644,
          -79.3839347,
          -79.3839347,
          -84.5496148,
          -84.5496148,
          -77.0365427,
          -79.3839347,
          -122.271356,
          -73.5698065,
          -122.0832101,
          -122.0832101,
          -79.8728583,
          -79.3839347,
          -74.0060152,
          -74.1637553,
          -122.0832101,
          -79.3839347,
          -73.5698065,
          -72.5750364,
          -84.3902644,
          -84.3902644,
          -84.5496148,
          -122.0832101,
          -79.3839347,
          -79.3839347,
          -122.330062,
          -74.1637553,
          -122.0832101,
          -118.242766,
          -77.4874899,
          -84.3902644,
          -87.9289504,
          -84.3902644,
          -111.940016,
          -122.0832101,
          -84.6604899,
          -84.6604899,
          -96.7968559,
          -118.242766,
          -77.4874899,
          -84.6604899,
          -84.1362047,
          -84.6604899,
          -72.5750364,
          -84.3902644,
          -87.6244212,
          -84.3902644,
          11.763928194732205,
          -122.0832101,
          -79.3839347,
          -82.458444,
          24.9427473,
          -74.0060152,
          -117.7926096,
          -79.3839347,
          -122.0832101,
          -117.888855,
          -79.3839347,
          -78.8783922,
          -87.5675258,
          -122.330062,
          -78.9018053,
          -122.0832101,
          -122.674194,
          -122.271356,
          -84.3902644,
          -76.8861122,
          -77.0365427,
          -79.3839347,
          -84.6604899,
          -118.242766,
          -84.3902644,
          -77.4874899,
          -82.458444,
          -79.3839347,
          -118.242766,
          -74.012084,
          -122.4193286,
          -74.1637553,
          -79.3839347,
          -72.5750364,
          -77.4874899,
          -77.4874899,
          -93.2654692,
          -77.0365427,
          -84.6604899,
          -122.330062,
          -74.1637553,
          -79.3839347,
          -79.3839347,
          -111.940016,
          -79.3839347,
          -122.4193286,
          24.9427473,
          -118.242766,
          -79.3839347,
          -84.3902644,
          -122.0832101,
          -87.6244212,
          -84.3902644,
          -79.3839347,
          -81.9421666,
          -79.3839347,
          -122.0832101,
          -84.6604899,
          -96.7968559,
          -79.3839347,
          -79.3839347,
          -84.3902644,
          -111.940016,
          -122.0832101,
          -84.3902644,
          -78.3882002,
          -79.3839347,
          -87.6244212,
          -82.458444,
          -77.4874899,
          -77.0365427,
          -84.3902644,
          -79.3839347,
          -89.6439575,
          -84.6604899,
          -71.060511,
          -84.3902644,
          -94.5781416,
          -79.3839347,
          -79.3839347,
          -111.886797,
          -77.0365427,
          -79.9900861,
          -84.3902644,
          -86.1283681,
          -118.242766,
          -0.14405508452768728,
          -84.6604899,
          -84.6604899,
          -72.5750364,
          -84.6604899,
          -77.4874899,
          -83.1135563,
          -79.3839347,
          -94.5781416,
          -79.3839347,
          -77.0365427,
          -77.0365427,
          -86.1283681,
          -84.6604899,
          -79.3839347,
          -88.8152074,
          -111.886797,
          -79.9900861,
          -79.3839347,
          -80.8430827,
          -122.0832101,
          -79.3839347,
          -84.3902644,
          -84.3902644,
          -79.3839347,
          -111.940016,
          -89.6536926,
          -118.242766,
          -79.3839347,
          -87.6244212,
          -79.3839347,
          -111.940016,
          -118.242766,
          -79.3839347,
          -71.1040018,
          -77.4874899,
          -84.3902644,
          -79.3839347,
          -118.242766,
          -111.940016,
          -74.0060152,
          -117.6029341,
          -77.4874899,
          -118.242766,
          -84.5546295,
          -84.6604899,
          -84.6604899,
          -84.6604899,
          -77.4874899,
          -84.3902644
         ],
         "marker": {
          "color": [
           "red",
           "blue",
           "blue",
           "blue",
           "red",
           "blue",
           "red",
           "orange",
           "blue",
           "orange",
           "orange",
           "orange",
           "blue",
           "red",
           "blue",
           "orange",
           "red",
           "orange",
           "orange",
           "red",
           "orange",
           "red",
           "blue",
           "orange",
           "red",
           "purple",
           "orange",
           "orange",
           "orange",
           "red",
           "orange",
           "red",
           "purple",
           "blue",
           "orange",
           "orange",
           "red",
           "blue",
           "purple",
           "blue",
           "orange",
           "red",
           "orange",
           "red",
           "red",
           "orange",
           "red",
           "red",
           "orange",
           "orange",
           "orange",
           "orange",
           "orange",
           "blue",
           "blue",
           "orange",
           "red",
           "green",
           "blue",
           "orange",
           "blue",
           "red",
           "orange",
           "purple",
           "purple",
           "purple",
           "orange",
           "red",
           "orange",
           "red",
           "red",
           "orange",
           "red",
           "orange",
           "orange",
           "orange",
           "orange",
           "blue",
           "red",
           "blue",
           "orange",
           "orange",
           "red",
           "orange",
           "red",
           "orange",
           "red",
           "blue",
           "blue",
           "orange",
           "red",
           "orange",
           "blue",
           "orange",
           "orange",
           "orange",
           "orange",
           "blue",
           "red",
           "red",
           "green",
           "orange",
           "red",
           "blue",
           "orange",
           "purple",
           "red",
           "green",
           "orange",
           "orange",
           "orange",
           "red",
           "red",
           "blue",
           "blue",
           "orange",
           "red",
           "red",
           "red",
           "red",
           "orange",
           "orange",
           "blue",
           "red",
           "red",
           "orange",
           "blue",
           "green",
           "orange",
           "green",
           "red",
           "blue",
           "purple",
           "orange",
           "green",
           "red",
           "blue",
           "red",
           "red",
           "blue",
           "red",
           "green",
           "red",
           "orange",
           "orange",
           "blue",
           "red",
           "red",
           "blue",
           "red",
           "red",
           "orange",
           "blue",
           "blue",
           "red",
           "red",
           "red",
           "orange",
           "orange",
           "red",
           "orange",
           "orange",
           "orange",
           "red",
           "purple",
           "blue",
           "orange",
           "blue",
           "orange",
           "orange",
           "green",
           "orange",
           "orange",
           "orange",
           "red",
           "orange",
           "red",
           "red",
           "orange",
           "blue",
           "red",
           "orange",
           "orange",
           "red",
           "orange",
           "orange",
           "orange",
           "orange",
           "orange",
           "red",
           "red",
           "green",
           "blue",
           "orange",
           "red",
           "red",
           "blue",
           "blue",
           "blue",
           "orange",
           "blue"
          ],
          "line": {
           "color": "black",
           "width": 1
          },
          "size": 10
         },
         "mode": "markers",
         "showlegend": false,
         "text": [
          "http://www.shashijaggia.com/438-s-buena-vista-av-san-jose-ca~l5057472",
          "https://statisticalatlas.com/zip/62434/overview",
          "https://www.citytowninfo.com/places/north-carolina/banner-elk",
          "https://meps.ahrq.gov/data_stats/download_data/pufs/h163/h163doc.shtml",
          "http://www.janetpepedavis.com/2528-dekoven-belmont-ca~l5073853",
          "https://alfred.stlouisfed.org/series?seid=b03002001e006073&utm_source=series_page&utm_medium=related_content&utm_term=related_resources&utm_campaign=alfred",
          "https://hardingnj.org/resident/calendar/board-of-adjustment-meeting-1695339000",
          "http://bonddad.blogspot.com/2021/12/manufacturing-still-red-hot.html",
          "https://alfred.stlouisfed.org/series?seid=b080acs020079&utm_source=series_page&utm_medium=related_content&utm_term=related_resources&utm_campaign=alfred",
          "http://www.deferredconsumption.com/2012/10/no-our-incomes-dont-just-feel-like.html",
          "http://www.jsharf.com/view/?m=201507",
          "http://bostongis.org/?content_name=umn_datasources",
          "https://alfred.stlouisfed.org/series?seid=b03002009e041041&utm_source=series_page&utm_medium=related_content&utm_term=related_resources&utm_campaign=alfred",
          "https://www.fortbendcountytx.gov/government/departments/public-transportation/disadvantaged-business-enterprise-program/resources",
          "https://alfred.stlouisfed.org/series?seid=mhiciubnm35057a052ncen",
          "https://www.apartmentlist.com/fl/sugarmill-woods",
          "https://fedscoop.com/census-begins-website-redesign/",
          "https://www.cognitivemarketresearch.com/oral-fluid-drug-test-cassette-market-report",
          "https://www.wgbh.org/news/national/2019-10-14/the-trump-administration-is-trying-hard-to-thwart-obamacare-hows-that-going",
          "https://publicschoolsk12.com/elementary-schools/ok/pittsburg-county/401944002381.html",
          "https://www.withdra.com/p/mind-the-gap-exploring-the-growing",
          "https://fred.stlouisfed.org/series/netlothtax",
          "https://fred.stlouisfed.org/series/ppciubu18in18105a156ncen",
          "http://reddragonleo.com/2017/03/23/es-morning-update-march-23rd-2017/",
          "https://lakeconews.com/news?itemid='''a=''a='&start=48",
          "https://greatbradley.weebly.com/2015-willow-sculpture.html",
          "https://facultyblog.law.ucdavis.edu/?tag=/conflict-of-interest",
          "https://lifetimesthreelivingwithlbd.blogspot.com/2016/01/mandate-prompt-public-release-of.html",
          "https://philvalentineblog.blogspot.com/2019/08/trumps-ultimate-plan-for-china.html",
          "https://library.mcmaster.ca/data/us-census-bureau",
          "https://off-guardian.org/2022/01/22/hiding-the-bodies/",
          "http://laserlab.com/company_profile.php",
          "https://utilitieslocal.com/states/colorado/walsenburg/",
          "http://www.bessettepitney.net/2014/07/the-fourth-of-july.html",
          "https://cornerstonewealth.biz/resources/articles/starting-a-family-the-total-cost-of-a-baby",
          "https://brooksfin.com/resources/articles/child-education-cost",
          "http://www.vtlmi.info/employer.cfm?naics=312111&lvl=6&stfips=50&cty=000&sort=listcity%20desc",
          "https://statisticalatlas.com/zip/62426/household-income",
          "https://statisticalatlas.com/zip/80860/national-origin",
          "https://fred.stlouisfed.org/series/mhiva51021a052ncen",
          "http://www.justupthepike.com/2012/06/building-accessory-apartments-in-moco.html?showcomment=1340911534010",
          "https://readsludge.com/democracy/",
          "https://horasis.org/us-trade-policy-change-in-the-air/",
          "https://yelmwa.gov/news_detail_t10_r448.php",
          "https://www.dorsey-co.com/beat-em-and-join-em-online-retail-neednt-be-the-enemy-of-brick-and-mortar/",
          "http://bonddad.blogspot.com/2023/09/initial-jobless-claims-remain-higher-on.html",
          "https://vote.narf.org/native-american-census/",
          "https://www.wcbe.org/npr-news/2024-06-05/broadband-subsidies-for-rural-americans-are-ending-putting-telehealth-at-risk",
          "https://www.cognizant.com/us/en/insights/insights-blog/developing-a-skills-based-workforce-wf2459000",
          "http://www.proudlyserving.com/archives/2006/09/index.html",
          "https://www.upworthy.com/10-things-that-made-us-smile-this-week-11-18-22?rebelltitem=10",
          "https://geostrategy-direct.com/2015/04/n-korea-warms-to-russia-with-preparations-for-kim-visit-to-moscow/",
          "https://www.globalsmallbusinessblog.com/2008/04/how-to-take-on-world.html",
          "https://fred.stlouisfed.org/series/b03002002e021179",
          "https://fred.stlouisfed.org/series/b01002001e032003",
          "https://punsalad.com/cgi-bin/ps?spec=2006/12",
          "http://www.onlinehomesource.com/185-noyo-dr-san-jose-ca~l5391995",
          "https://www.socialexplorer.com/data/acs2011_5yr/metadata/?ds=acs11_5yr&var=b23001040",
          "https://alfred.stlouisfed.org/series?seid=mhiin18073a052ncen",
          "http://colonialsense.com/society-lifestyle/census/governance.php?cs=12970",
          "https://alfred.stlouisfed.org/series?seid=b03002013e045075",
          "http://www.vtlmi.info/employer.cfm?naics=325211&lvl=6&stfips=50&cty=000&sort=listcity%20desc",
          "https://www.upworthy.com/what-i-said-to-god-after-the-san-bernardino-mass-shooting",
          "https://www.solarenergylocal.com/states/massachusetts/01524/",
          "https://www.wikiwand.com/en/2011_united_kingdom_census",
          "http://iso4app.net/",
          "http://www.junglewatch.info/2023/",
          "http://www.jsharf.com/view/?tag=andrew-jackson",
          "https://www.capitalspectator.com/macro-briefing-25-march-2021/",
          "https://www.pubrecord.org/menominee-county-property-records-michigan/",
          "https://routelines.com/poster.php?id=360",
          "https://gerryavrealtor.com/home-builders-ramp-up-construction-based-on-demand/",
          "https://www.lowerkeysflmortgage.com/are-you-wondering-if-this-is-the-year-to-buy-a-home/",
          "https://ozconservative.blogspot.com/2010/07/?m=0",
          "https://www.benjaminspaulding.com/tag/mash-ups-2/",
          "https://www.citysignal.com/how-to-find-affordable-nyc-apartments/",
          "http://www.cancerrealitycheck.com/2019/07/05/supplementary-materialss1-excel-excel-version-of-the-data-for-figs-figs55c7/",
          "https://www.putnamgeneral.com/getpage.php?name=community&sub=careers",
          "https://yelmwa.gov/i_want_to/contact/send_a_note_to_the_police_chief.php",
          "http://fileformats.archiveteam.org/index.php?title=cps_project&oldid=37627",
          "https://bonddad.blogspot.com/2023/04/scenes-from-march-employment-report-1.html",
          "https://www.autismdad.net/category/autism-and-education/",
          "http://ljm3.aniello.co/utilities.html",
          "http://theeconomiccollapseblog.com/tag/living-paycheck-to-paycheck/",
          "https://www.redistricting.state.pa.us/right-to-know",
          "http://reddragonleo.com/2010/08/25/rally-time/",
          "https://www.losangelesblade.com/2023/06/28/xavier-becerra-karine-jean-pierre-headline-hhs-pride-summit/",
          "https://alfred.stlouisfed.org/series?seid=pe5t17ut49023a647ncen",
          "https://kbat.com/make-yourself-at-home-cities-with-the-most-homeowners/",
          "https://www.ktvq.com/us-news/high-school-facilities-director-discovers-century-old-time-capsule-during-demolition-of-old-building",
          "https://guides.wpunj.edu/c.php?g=723592&p=5162491",
          "https://www.hanifonmedia.com/census-2010-turn-it-in-selma-%e2%80%94-and-america/",
          "https://roadsidethoughts.com/wa/rockford-xx-spokane-profile.htm",
          "https://kffm.com/ixp/139/p/yakima-airport-snack-survey/",
          "https://medicareonvideo.com/tips-for-healthy-aging/",
          "https://bayrising.org/tag/covid-pandemic/",
          "https://thetravelvertical.com/tag/cloudkitchens/",
          "https://www.immihelp.com/greencard-sponsors/168_inc/view-2010-a_07341_02769/",
          "http://labor.state.vt.us/employer.cfm?stfips=50&empid=109153494",
          "https://knightguides.wartburg.edu/sociology/so101",
          "https://www.socialexplorer.com/data/acs2006/metadata/?ds=acs06&var=b18012015",
          "https://www.restorationofamerica.com/restoration-news/eric/heres-the-lefts-playbook-for-rigging-elections-in-2024/",
          "https://data.va.gov/browse?tags=breast+cancer",
          "https://fred.stlouisfed.org/series/b14005dcyacs039141",
          "https://elca.org/our%20work/relief%20and%20development/elca%20world%20hunger",
          "https://utilitieslocal.com/states/louisiana/new-iberia/",
          "https://www.homesnacks.com/ct/ridgefield-cost-of-living/",
          "https://publicschoolsk12.com/all-schools/wi/door-county/",
          "https://par-newhaven.org/category/housing/page/3/",
          "https://wakeupnz.org/blog/wake-up-nz-vaers-is-a-passive-reporting-system-for-adverse-events-covid-19-jabs/",
          "https://equitablegrowth.org/veterans-in-the-u-s-labor-market-face-barriers-to-success-that-can-and-should-be-addressed/",
          "https://websitesimilar.com/louisiana.gov",
          "http://michellelinhomes.com/purple/1886-norton-sound-cm-san-jose-ca~l5057031",
          "https://www.jaildata.com/prison/keokuk-county-jail",
          "https://statisticalatlas.com/zip/36343/race-and-ethnicity",
          "https://grocerants.blogspot.com/2016/09/?m=0",
          "http://villageoflakeorion.org/index.php/forms-info",
          "https://link.springer.com/article/10.1007/s11199-011-9968-6?error=cookies_not_supported&code=ba7fbff0-198f-4882-9175-afb4b18a01d1",
          "https://www.immihelp.com/h1b-visa-sponsors/01interactive_inc/view-2019-i_200_19080_407818/",
          "https://www.indexmundi.com/facts/united-states/state-finances/alabama/total-revenue/amount",
          "https://www.cfodive.com/news/inflation-cools-reassuring-fed-unexpectedly-hot-gains-q1-retail-sales-powell-federal-reserve/716255/?utm_source=sailthru&utm_medium=email&utm_campaign=issue:%202024-05-16%20cfo%20dive%20%5bissue:62114%5d&utm_term=cfo%20dive",
          "https://www.globalsmallbusinessblog.com/2007/08/doing-business-with-world.html",
          "https://alfred.stlouisfed.org/series?seid=dp04acs022109",
          "https://www.asbmb.org/asbmb-today/policy/050223/asbmb-better-wages-benefits-for-postdocs",
          "https://www.plannedparenthoodaction.org/florida-alliance-planned-parenthood-affiliates/press-releases/florida-planned-parenthood-slams-florida-house-republicans-for-passing-the-worst-womens-health-legislation-in-a-generation",
          "https://www.aacsb.edu/insights/articles/2023/03/the-equalizing-power-of-sisterhood",
          "https://statisticalatlas.com/place/alabama/enterprise/languages",
          "https://texascensus.org/our-research/texas-counties-with-high-child-undercounts-in-the-2020-us-census-0/",
          "https://www.globalsmallbusinessblog.com/2021/07/china-and-america-dominate-like-never.html",
          "https://statisticalatlas.com/block-group/washington/snohomish-county/052607-1/ancestry",
          "https://www.ecsmallbiz.org/useful-links/",
          "https://www.americanclassroom.com/school/470288000997-adamsville-elementary/",
          "https://www.solarenergylocal.com/states/hawaii/96703/",
          "https://www.capitalspectator.com/macro-briefing-7-june-2022/",
          "https://www.socialexplorer.com/data/acs2006/metadata/?ds=acs06&var=c17012005",
          "https://nap.nationalacademies.org/read/12956/chapter/11#263",
          "https://statisticalatlas.com/zip/81023/industries",
          "https://www.homesnacks.com/ny/troy-cost-of-living/",
          "https://dceoapps.ildceo.net/buyillinois/dceo/faq.aspx",
          "https://alfred.stlouisfed.org/series?seid=b03002007e022123",
          "https://www.bostongis.com/?content_name=udig",
          "https://statisticalatlas.com/block-group/north-carolina/richmond-county/970100-1/age-and-sex",
          "https://www.northdata.com/?id=35825824",
          "https://meilleurssitesderencontre.info/the-challenges-of-dating-while-living-with-your-parents.html",
          "https://www.libertystorch.info/2022/01/31/just-woke-up-a-short-time-ago/",
          "https://usboundary.com/areas/state%20legislative%20district%20upper%20chamber/virginia/state%20senate%20district%203/201583",
          "https://www.hobbsevents.org/events/tiny-census-live-concerts-featuring-gigi-hess/",
          "https://www.choicesmagazine.org/choices-magazine/submitted-articles/why-we-need-federal-statistical-data-for-states-and-counties",
          "https://statisticalatlas.com/zip/34268/overview",
          "https://governor.wv.gov/news/press-releases/2020/pages/gov.-justice-adds-tanning-businesses-to-list-of-week-4-reopenings.aspx",
          "http://www.motihome.com/324-flora-vista-ave-sunnyvale-ca~l4871825",
          "https://www.papayakart.com/what-are-the-origins-of-international-womens-day/",
          "https://alfred.stlouisfed.org/series?seid=sm443141usn&utm_source=series_page&utm_medium=related_content&utm_term=related_resources&utm_campaign=alfred",
          "https://fred.stlouisfed.org/series/b03002015e048227",
          "http://www.vtlmi.info/employer.cfm?naics=339113&lvl=6&stfips=50&cty=000&sort=liststate%20desc",
          "https://alfred.stlouisfed.org/series?seid=expdacef621allest",
          "https://carmenjacksoncpa.com/newsletter-archives/",
          "http://wcrsfm.org/category/topics/black-lives-matter",
          "https://dwlrealestate.com/magazine/why-todays-housing-inventory-proves-the-market-isnt-headed-for-a-crash",
          "https://www.northdata.com/?id=5351954732",
          "https://www.immihelp.com/h1b-visa-sponsors/3i_infotech_inc/view-2023-i_200_23142_042685/",
          "http://reddragonleo.com/2018/03/22/es-morning-update-march-22nd-2018/",
          "http://reddragonleo.com/2018/01/03/es-morning-update-january-3rd-2018/",
          "https://www.tax.virginia.gov/register-business-virginia",
          "https://fred.stlouisfed.org/series/nhsussptqp",
          "https://census.hawaii.gov/main/2023-county-population-estimates/",
          "http://www.ext.msstate.edu/newsletters/mississippi-marketmaker/2021/vol-11-no-8-seafood-and-fish-markets-the-united-states-and?page=2",
          "https://usboundary.com/areas/state%20legislative%20district%20lower%20chamber/missouri/state%20house%20district%20104/197400",
          "https://otisandjames.com/2009/04/24/well-how-bout-thisits-katie-cody/",
          "https://genfinplan.com/stocks-end-a-volatile-week-mixed-as-signs-of-a-debt-limit-deal-emerge/",
          "https://www.childhealthdata.org/learn-about-the-nsch/survey-instruments?utm_source=drc_newsletter&utm_medium=email&utm_campaign=2021-2022_idq",
          "http://www.andrewtrumper.com/2008/01/war-is-not-cheap.html",
          "https://www.candobetter.net/population",
          "https://www.commondreams.org/tag/wilbur-ross",
          "https://www.gaf.ca/en-ca/blog/residential-roofing/5-ways-for-roofers-to-celebrate-vets-beyond-veterans-day-281474980167054",
          "https://coramdeoifs.com/resources/articles/child-education-cost",
          "https://stromlawyers.com/blog/nursing-home-neglect-is-this-silent-killer-lurking-in-your-loved-ones-home/",
          "https://illinoissenatedemocrats.com/?amp;start=16&start=2284",
          "https://hot1047.com/sioux-falls-had-one-of-the-fastest-growing-pre-covid-economies-in-america/",
          "https://www.homesnacks.com/best-counties-in-texas/",
          "https://www.greenvillecounty.org/businesshours.aspx",
          "https://www.jsharf.com/view/?tag=art",
          "https://geostrategy-direct.com/2022/10/abrams-x-aims-to-keep-u-s-main-battle-tanks-relevant-for-next-cold-war/",
          "http://svmilestone.com/schedule-appointment",
          "http://www.eagentsdemo.com/property-detail-quickcma?lid=240816",
          "https://www.rgfamilylaw.com/blog/2021/february/fighting-to-recover-child-support-in-new-jersey/",
          "https://libguides.library.gatech.edu/latinx-hispanic-communities-heritage/gettingstarted",
          "https://www.upworthy.com/a-guy-hung-an-offensive-sign-around-his-neck-to-make-a-solid-point-and-it-worked?g=3",
          "https://www.googblogs.com/tag/algorithms/page/2/",
          "http://www.lauramillerrealtor.com/property-detail-quickcma?lid=5399132",
          "https://easton.sals.edu/event/easton-volunteer-fire-department-drill-night/?instance_id=3275",
          "https://www.islipida.com/why-islip/market-profile.html",
          "https://docs.melissa.com/on-premise-api/geocoder-object/geocoder-object-reference-guide.html",
          "https://www.dailykos.com/stories/2011/12/02/1041673/-official-unemployment-rate-drops-to-two-year-low,-but-jobs-report-sends-conflicting-signals",
          "http://wolffgroup.biz/gilroy",
          "https://www.equipmentfa.com/industry-data/163/full-report-on-manufacturers-shipments-inventories-and-orders-october-2013",
          "https://fred.stlouisfed.org/series/b03002012e053045",
          "https://fred.stlouisfed.org/series/mhiwy56003a052ncen",
          "https://fred.stlouisfed.org/series/peu18la22053a647ncen",
          "https://forecastcapitalmanagement.com/am-market-commentary/markets-retreat-as-china-dominates-the-news",
          "https://statisticalatlas.com/place/alabama/pinckard/national-origin"
         ],
         "type": "scattergeo"
        },
        {
         "lat": [
          null
         ],
         "lon": [
          null
         ],
         "marker": {
          "color": "blue",
          "size": 10
         },
         "mode": "markers",
         "name": "Comprehensive County Data: Population, Income, and Government Resources",
         "type": "scattergeo"
        },
        {
         "lat": [
          null
         ],
         "lon": [
          null
         ],
         "marker": {
          "color": "green",
          "size": 10
         },
         "mode": "markers",
         "name": "National Health and Demographic Survey: Insights Across Communities",
         "type": "scattergeo"
        },
        {
         "lat": [
          null
         ],
         "lon": [
          null
         ],
         "marker": {
          "color": "red",
          "size": 10
         },
         "mode": "markers",
         "name": "State and Community Health Services: Access and Resources",
         "type": "scattergeo"
        },
        {
         "lat": [
          null
         ],
         "lon": [
          null
         ],
         "marker": {
          "color": "purple",
          "size": 10
         },
         "mode": "markers",
         "name": "Housing Market Analysis: Prices, Values, and Statistics",
         "type": "scattergeo"
        },
        {
         "lat": [
          null
         ],
         "lon": [
          null
         ],
         "marker": {
          "color": "orange",
          "size": 10
         },
         "mode": "markers",
         "name": "Annual Market Trends: Business, Family, and Economic Insights",
         "type": "scattergeo"
        },
        {
         "lat": [
          null
         ],
         "lon": [
          null
         ],
         "marker": {
          "color": "gray",
          "size": 10
         },
         "mode": "markers",
         "name": "Other",
         "type": "scattergeo"
        }
       ],
       "layout": {
        "geo": {
         "scope": "north america"
        },
        "legend": {
         "itemsizing": "constant",
         "title": {
          "text": "Topics"
         }
        },
        "template": {
         "data": {
          "bar": [
           {
            "error_x": {
             "color": "#2a3f5f"
            },
            "error_y": {
             "color": "#2a3f5f"
            },
            "marker": {
             "line": {
              "color": "#E5ECF6",
              "width": 0.5
             },
             "pattern": {
              "fillmode": "overlay",
              "size": 10,
              "solidity": 0.2
             }
            },
            "type": "bar"
           }
          ],
          "barpolar": [
           {
            "marker": {
             "line": {
              "color": "#E5ECF6",
              "width": 0.5
             },
             "pattern": {
              "fillmode": "overlay",
              "size": 10,
              "solidity": 0.2
             }
            },
            "type": "barpolar"
           }
          ],
          "carpet": [
           {
            "aaxis": {
             "endlinecolor": "#2a3f5f",
             "gridcolor": "white",
             "linecolor": "white",
             "minorgridcolor": "white",
             "startlinecolor": "#2a3f5f"
            },
            "baxis": {
             "endlinecolor": "#2a3f5f",
             "gridcolor": "white",
             "linecolor": "white",
             "minorgridcolor": "white",
             "startlinecolor": "#2a3f5f"
            },
            "type": "carpet"
           }
          ],
          "choropleth": [
           {
            "colorbar": {
             "outlinewidth": 0,
             "ticks": ""
            },
            "type": "choropleth"
           }
          ],
          "contour": [
           {
            "colorbar": {
             "outlinewidth": 0,
             "ticks": ""
            },
            "colorscale": [
             [
              0,
              "#0d0887"
             ],
             [
              0.1111111111111111,
              "#46039f"
             ],
             [
              0.2222222222222222,
              "#7201a8"
             ],
             [
              0.3333333333333333,
              "#9c179e"
             ],
             [
              0.4444444444444444,
              "#bd3786"
             ],
             [
              0.5555555555555556,
              "#d8576b"
             ],
             [
              0.6666666666666666,
              "#ed7953"
             ],
             [
              0.7777777777777778,
              "#fb9f3a"
             ],
             [
              0.8888888888888888,
              "#fdca26"
             ],
             [
              1,
              "#f0f921"
             ]
            ],
            "type": "contour"
           }
          ],
          "contourcarpet": [
           {
            "colorbar": {
             "outlinewidth": 0,
             "ticks": ""
            },
            "type": "contourcarpet"
           }
          ],
          "heatmap": [
           {
            "colorbar": {
             "outlinewidth": 0,
             "ticks": ""
            },
            "colorscale": [
             [
              0,
              "#0d0887"
             ],
             [
              0.1111111111111111,
              "#46039f"
             ],
             [
              0.2222222222222222,
              "#7201a8"
             ],
             [
              0.3333333333333333,
              "#9c179e"
             ],
             [
              0.4444444444444444,
              "#bd3786"
             ],
             [
              0.5555555555555556,
              "#d8576b"
             ],
             [
              0.6666666666666666,
              "#ed7953"
             ],
             [
              0.7777777777777778,
              "#fb9f3a"
             ],
             [
              0.8888888888888888,
              "#fdca26"
             ],
             [
              1,
              "#f0f921"
             ]
            ],
            "type": "heatmap"
           }
          ],
          "heatmapgl": [
           {
            "colorbar": {
             "outlinewidth": 0,
             "ticks": ""
            },
            "colorscale": [
             [
              0,
              "#0d0887"
             ],
             [
              0.1111111111111111,
              "#46039f"
             ],
             [
              0.2222222222222222,
              "#7201a8"
             ],
             [
              0.3333333333333333,
              "#9c179e"
             ],
             [
              0.4444444444444444,
              "#bd3786"
             ],
             [
              0.5555555555555556,
              "#d8576b"
             ],
             [
              0.6666666666666666,
              "#ed7953"
             ],
             [
              0.7777777777777778,
              "#fb9f3a"
             ],
             [
              0.8888888888888888,
              "#fdca26"
             ],
             [
              1,
              "#f0f921"
             ]
            ],
            "type": "heatmapgl"
           }
          ],
          "histogram": [
           {
            "marker": {
             "pattern": {
              "fillmode": "overlay",
              "size": 10,
              "solidity": 0.2
             }
            },
            "type": "histogram"
           }
          ],
          "histogram2d": [
           {
            "colorbar": {
             "outlinewidth": 0,
             "ticks": ""
            },
            "colorscale": [
             [
              0,
              "#0d0887"
             ],
             [
              0.1111111111111111,
              "#46039f"
             ],
             [
              0.2222222222222222,
              "#7201a8"
             ],
             [
              0.3333333333333333,
              "#9c179e"
             ],
             [
              0.4444444444444444,
              "#bd3786"
             ],
             [
              0.5555555555555556,
              "#d8576b"
             ],
             [
              0.6666666666666666,
              "#ed7953"
             ],
             [
              0.7777777777777778,
              "#fb9f3a"
             ],
             [
              0.8888888888888888,
              "#fdca26"
             ],
             [
              1,
              "#f0f921"
             ]
            ],
            "type": "histogram2d"
           }
          ],
          "histogram2dcontour": [
           {
            "colorbar": {
             "outlinewidth": 0,
             "ticks": ""
            },
            "colorscale": [
             [
              0,
              "#0d0887"
             ],
             [
              0.1111111111111111,
              "#46039f"
             ],
             [
              0.2222222222222222,
              "#7201a8"
             ],
             [
              0.3333333333333333,
              "#9c179e"
             ],
             [
              0.4444444444444444,
              "#bd3786"
             ],
             [
              0.5555555555555556,
              "#d8576b"
             ],
             [
              0.6666666666666666,
              "#ed7953"
             ],
             [
              0.7777777777777778,
              "#fb9f3a"
             ],
             [
              0.8888888888888888,
              "#fdca26"
             ],
             [
              1,
              "#f0f921"
             ]
            ],
            "type": "histogram2dcontour"
           }
          ],
          "mesh3d": [
           {
            "colorbar": {
             "outlinewidth": 0,
             "ticks": ""
            },
            "type": "mesh3d"
           }
          ],
          "parcoords": [
           {
            "line": {
             "colorbar": {
              "outlinewidth": 0,
              "ticks": ""
             }
            },
            "type": "parcoords"
           }
          ],
          "pie": [
           {
            "automargin": true,
            "type": "pie"
           }
          ],
          "scatter": [
           {
            "fillpattern": {
             "fillmode": "overlay",
             "size": 10,
             "solidity": 0.2
            },
            "type": "scatter"
           }
          ],
          "scatter3d": [
           {
            "line": {
             "colorbar": {
              "outlinewidth": 0,
              "ticks": ""
             }
            },
            "marker": {
             "colorbar": {
              "outlinewidth": 0,
              "ticks": ""
             }
            },
            "type": "scatter3d"
           }
          ],
          "scattercarpet": [
           {
            "marker": {
             "colorbar": {
              "outlinewidth": 0,
              "ticks": ""
             }
            },
            "type": "scattercarpet"
           }
          ],
          "scattergeo": [
           {
            "marker": {
             "colorbar": {
              "outlinewidth": 0,
              "ticks": ""
             }
            },
            "type": "scattergeo"
           }
          ],
          "scattergl": [
           {
            "marker": {
             "colorbar": {
              "outlinewidth": 0,
              "ticks": ""
             }
            },
            "type": "scattergl"
           }
          ],
          "scattermapbox": [
           {
            "marker": {
             "colorbar": {
              "outlinewidth": 0,
              "ticks": ""
             }
            },
            "type": "scattermapbox"
           }
          ],
          "scatterpolar": [
           {
            "marker": {
             "colorbar": {
              "outlinewidth": 0,
              "ticks": ""
             }
            },
            "type": "scatterpolar"
           }
          ],
          "scatterpolargl": [
           {
            "marker": {
             "colorbar": {
              "outlinewidth": 0,
              "ticks": ""
             }
            },
            "type": "scatterpolargl"
           }
          ],
          "scatterternary": [
           {
            "marker": {
             "colorbar": {
              "outlinewidth": 0,
              "ticks": ""
             }
            },
            "type": "scatterternary"
           }
          ],
          "surface": [
           {
            "colorbar": {
             "outlinewidth": 0,
             "ticks": ""
            },
            "colorscale": [
             [
              0,
              "#0d0887"
             ],
             [
              0.1111111111111111,
              "#46039f"
             ],
             [
              0.2222222222222222,
              "#7201a8"
             ],
             [
              0.3333333333333333,
              "#9c179e"
             ],
             [
              0.4444444444444444,
              "#bd3786"
             ],
             [
              0.5555555555555556,
              "#d8576b"
             ],
             [
              0.6666666666666666,
              "#ed7953"
             ],
             [
              0.7777777777777778,
              "#fb9f3a"
             ],
             [
              0.8888888888888888,
              "#fdca26"
             ],
             [
              1,
              "#f0f921"
             ]
            ],
            "type": "surface"
           }
          ],
          "table": [
           {
            "cells": {
             "fill": {
              "color": "#EBF0F8"
             },
             "line": {
              "color": "white"
             }
            },
            "header": {
             "fill": {
              "color": "#C8D4E3"
             },
             "line": {
              "color": "white"
             }
            },
            "type": "table"
           }
          ]
         },
         "layout": {
          "annotationdefaults": {
           "arrowcolor": "#2a3f5f",
           "arrowhead": 0,
           "arrowwidth": 1
          },
          "autotypenumbers": "strict",
          "coloraxis": {
           "colorbar": {
            "outlinewidth": 0,
            "ticks": ""
           }
          },
          "colorscale": {
           "diverging": [
            [
             0,
             "#8e0152"
            ],
            [
             0.1,
             "#c51b7d"
            ],
            [
             0.2,
             "#de77ae"
            ],
            [
             0.3,
             "#f1b6da"
            ],
            [
             0.4,
             "#fde0ef"
            ],
            [
             0.5,
             "#f7f7f7"
            ],
            [
             0.6,
             "#e6f5d0"
            ],
            [
             0.7,
             "#b8e186"
            ],
            [
             0.8,
             "#7fbc41"
            ],
            [
             0.9,
             "#4d9221"
            ],
            [
             1,
             "#276419"
            ]
           ],
           "sequential": [
            [
             0,
             "#0d0887"
            ],
            [
             0.1111111111111111,
             "#46039f"
            ],
            [
             0.2222222222222222,
             "#7201a8"
            ],
            [
             0.3333333333333333,
             "#9c179e"
            ],
            [
             0.4444444444444444,
             "#bd3786"
            ],
            [
             0.5555555555555556,
             "#d8576b"
            ],
            [
             0.6666666666666666,
             "#ed7953"
            ],
            [
             0.7777777777777778,
             "#fb9f3a"
            ],
            [
             0.8888888888888888,
             "#fdca26"
            ],
            [
             1,
             "#f0f921"
            ]
           ],
           "sequentialminus": [
            [
             0,
             "#0d0887"
            ],
            [
             0.1111111111111111,
             "#46039f"
            ],
            [
             0.2222222222222222,
             "#7201a8"
            ],
            [
             0.3333333333333333,
             "#9c179e"
            ],
            [
             0.4444444444444444,
             "#bd3786"
            ],
            [
             0.5555555555555556,
             "#d8576b"
            ],
            [
             0.6666666666666666,
             "#ed7953"
            ],
            [
             0.7777777777777778,
             "#fb9f3a"
            ],
            [
             0.8888888888888888,
             "#fdca26"
            ],
            [
             1,
             "#f0f921"
            ]
           ]
          },
          "colorway": [
           "#636efa",
           "#EF553B",
           "#00cc96",
           "#ab63fa",
           "#FFA15A",
           "#19d3f3",
           "#FF6692",
           "#B6E880",
           "#FF97FF",
           "#FECB52"
          ],
          "font": {
           "color": "#2a3f5f"
          },
          "geo": {
           "bgcolor": "white",
           "lakecolor": "white",
           "landcolor": "#E5ECF6",
           "showlakes": true,
           "showland": true,
           "subunitcolor": "white"
          },
          "hoverlabel": {
           "align": "left"
          },
          "hovermode": "closest",
          "mapbox": {
           "style": "light"
          },
          "paper_bgcolor": "white",
          "plot_bgcolor": "#E5ECF6",
          "polar": {
           "angularaxis": {
            "gridcolor": "white",
            "linecolor": "white",
            "ticks": ""
           },
           "bgcolor": "#E5ECF6",
           "radialaxis": {
            "gridcolor": "white",
            "linecolor": "white",
            "ticks": ""
           }
          },
          "scene": {
           "xaxis": {
            "backgroundcolor": "#E5ECF6",
            "gridcolor": "white",
            "gridwidth": 2,
            "linecolor": "white",
            "showbackground": true,
            "ticks": "",
            "zerolinecolor": "white"
           },
           "yaxis": {
            "backgroundcolor": "#E5ECF6",
            "gridcolor": "white",
            "gridwidth": 2,
            "linecolor": "white",
            "showbackground": true,
            "ticks": "",
            "zerolinecolor": "white"
           },
           "zaxis": {
            "backgroundcolor": "#E5ECF6",
            "gridcolor": "white",
            "gridwidth": 2,
            "linecolor": "white",
            "showbackground": true,
            "ticks": "",
            "zerolinecolor": "white"
           }
          },
          "shapedefaults": {
           "line": {
            "color": "#2a3f5f"
           }
          },
          "ternary": {
           "aaxis": {
            "gridcolor": "white",
            "linecolor": "white",
            "ticks": ""
           },
           "baxis": {
            "gridcolor": "white",
            "linecolor": "white",
            "ticks": ""
           },
           "bgcolor": "#E5ECF6",
           "caxis": {
            "gridcolor": "white",
            "linecolor": "white",
            "ticks": ""
           }
          },
          "title": {
           "x": 0.05
          },
          "xaxis": {
           "automargin": true,
           "gridcolor": "white",
           "linecolor": "white",
           "ticks": "",
           "title": {
            "standoff": 15
           },
           "zerolinecolor": "white",
           "zerolinewidth": 2
          },
          "yaxis": {
           "automargin": true,
           "gridcolor": "white",
           "linecolor": "white",
           "ticks": "",
           "title": {
            "standoff": 15
           },
           "zerolinecolor": "white",
           "zerolinewidth": 2
          }
         }
        },
        "title": {
         "text": "Instances of Cited Census Data"
        }
       }
      }
     },
     "metadata": {},
     "output_type": "display_data"
    }
   ],
   "source": [
    "#Mapping cited data\n",
    "import plotly.graph_objects as go\n",
    "\n",
    "# Define a color map for the topics\n",
    "color_map = {\n",
    "    'Comprehensive County Data: Population, Income, and Government Resources': 'blue',\n",
    "    'National Health and Demographic Survey: Insights Across Communities': 'green',\n",
    "    'State and Community Health Services: Access and Resources': 'red',\n",
    "    'Housing Market Analysis: Prices, Values, and Statistics': 'purple',\n",
    "    'Annual Market Trends: Business, Family, and Economic Insights': 'orange',\n",
    "    'Other': 'gray'\n",
    "}\n",
    "\n",
    "# Map the Topic_Name to colors\n",
    "cited_data['color'] = cited_data['Topic_Name'].map(color_map)\n",
    "\n",
    "# Create the scatter geo plot\n",
    "fig = go.Figure(data=go.Scattergeo(\n",
    "    lon=cited_data['longitude'],\n",
    "    lat=cited_data['latitude'],\n",
    "    mode='markers',\n",
    "    text=cited_data['url'],\n",
    "    hoverinfo='text',\n",
    "    marker=dict(color=cited_data['color'], size=10, line=dict(width=1, color='black')),\n",
    "    showlegend=False\n",
    "))\n",
    "\n",
    "# Update the layout to include a legend\n",
    "fig.update_layout(\n",
    "    title='Instances of Cited Census Data',\n",
    "    geo_scope='north america',\n",
    "    legend_title_text='Topics',\n",
    "    legend=dict(\n",
    "        itemsizing='constant'\n",
    "    )\n",
    ")\n",
    "\n",
    "# Add legend items manually\n",
    "for topic, color in color_map.items():\n",
    "    fig.add_trace(go.Scattergeo(\n",
    "        lon=[None], lat=[None],\n",
    "        mode='markers',\n",
    "        marker=dict(size=10, color=color),\n",
    "        name=topic\n",
    "    ))\n",
    "\n",
    "# Show the plot\n",
    "fig.show()"
   ]
  },
  {
   "cell_type": "code",
   "execution_count": 144,
   "metadata": {},
   "outputs": [],
   "source": [
    "import plotly.io as pio\n",
    "# Save the interactive graph to an HTML file to imbed in the powerpoint presentation\n",
    "pio.write_html(fig, file='Cited_Census_Data_Map.html', auto_open=True)"
   ]
  },
  {
   "cell_type": "markdown",
   "metadata": {},
   "source": [
    "## Link Analysis"
   ]
  },
  {
   "cell_type": "code",
   "execution_count": 5,
   "metadata": {},
   "outputs": [],
   "source": [
    "#Identify patterns for repackaged links\n",
    "data_tables_patterns = ['table', 'dataset', 'data', 'productview']\n",
    "repackaged_data_tables_urls = [url for url in urls if any(pattern in url for pattern in data_tables_patterns)]\n",
    "cited_data_tables_urls = [url for url in urls if not any(pattern in url for pattern in data_tables_patterns)]"
   ]
  },
  {
   "cell_type": "code",
   "execution_count": 6,
   "metadata": {},
   "outputs": [],
   "source": [
    "#Parse URLS to extract domain names\n",
    "from urllib.parse import urlparse\n",
    "\n",
    "r_domains = [urlparse(url).netloc for url in repackaged_data_tables_urls]\n",
    "c_domains = [urlparse(url).netloc for url in cited_data_tables_urls]"
   ]
  },
  {
   "cell_type": "markdown",
   "metadata": {},
   "source": [
    "Repackaged"
   ]
  },
  {
   "cell_type": "code",
   "execution_count": 7,
   "metadata": {},
   "outputs": [],
   "source": [
    "#Counting domain names\n",
    "from collections import Counter\n",
    "\n",
    "r_domain_counts = Counter(r_domains)\n",
    "r_most_common_domains = r_domain_counts.most_common(15)"
   ]
  },
  {
   "cell_type": "code",
   "execution_count": 8,
   "metadata": {},
   "outputs": [],
   "source": [
    "r_data_table_counts = Counter(repackaged_data_tables_urls)\n",
    "r_most_common_data_tables = r_data_table_counts.most_common(15)"
   ]
  },
  {
   "cell_type": "code",
   "execution_count": 9,
   "metadata": {},
   "outputs": [
    {
     "name": "stdout",
     "output_type": "stream",
     "text": [
      "Most frequent domains:\n",
      "https://www.census.gov/quickfacts/fact/table/US/PST045222: 12\n",
      "https://web.archive.org/web/20111028064539/http://2010.census.gov/2010census/data/apportionment-pop-text.php: 11\n",
      "https://data.census.gov/cedsci/: 9\n",
      "https://data.census.gov/: 9\n",
      "https://www.census.gov/quickfacts/fact/table/keywestcityflorida,putnamcountyflorida/PST045221: 8\n",
      "https://www.census.gov/quickfacts/fact/table/cuyahogacountyohio/PST045219: 4\n",
      "https://www.census.gov/data/software/x13as.html: 4\n",
      "http://www.census.gov/foreign-trade/data/index.html: 4\n",
      "https://www.census.gov/data/tables/time-series/demo/geographic-mobility/state-to-state-migration.html: 3\n",
      "https://data.census.gov/cedsci/table?t=Income%20and%20Poverty&g=0100000US,%241600000&tid=ACSST5Y2020.S1902: 3\n",
      "http://www.census.gov/data/data-tools.html: 3\n",
      "https://www.census.gov/quickfacts/fact/table/broomecountynewyork/PST045219: 2\n",
      "https://meta.geo.census.gov/data/existing/decennial/GEO/GPMB/TIGERline/Tiger2019/roads/tl_2019_roads.ea.iso.xml: 2\n",
      "https://meta.geo.census.gov/data/existing/decennial/GEO/GPMB/TIGERline/Archived_19110/tl_2020_roads.shp.ea.iso.xml: 2\n",
      "http://factfinder.census.gov/servlet/DatasetMainPageServlet?_program=DEC&_tabId=DEC1&_submenuId=datasets_1&_lang=en&_ts=224246209722: 2\n"
     ]
    }
   ],
   "source": [
    "#Printing results\n",
    "print(\"Most frequent domains:\")\n",
    "for domain, count in r_most_common_data_tables:\n",
    "    print(f\"{domain}: {count}\")\n",
    "\n"
   ]
  },
  {
   "cell_type": "code",
   "execution_count": 10,
   "metadata": {},
   "outputs": [
    {
     "name": "stdout",
     "output_type": "stream",
     "text": [
      "\n",
      "Most frequent data table URLs:\n",
      "https://www.census.gov/quickfacts/fact/table/US/PST045222: 12\n",
      "https://web.archive.org/web/20111028064539/http://2010.census.gov/2010census/data/apportionment-pop-text.php: 11\n",
      "https://data.census.gov/cedsci/: 9\n",
      "https://data.census.gov/: 9\n",
      "https://www.census.gov/quickfacts/fact/table/keywestcityflorida,putnamcountyflorida/PST045221: 8\n",
      "https://www.census.gov/quickfacts/fact/table/cuyahogacountyohio/PST045219: 4\n",
      "https://www.census.gov/data/software/x13as.html: 4\n",
      "http://www.census.gov/foreign-trade/data/index.html: 4\n",
      "https://www.census.gov/data/tables/time-series/demo/geographic-mobility/state-to-state-migration.html: 3\n",
      "https://data.census.gov/cedsci/table?t=Income%20and%20Poverty&g=0100000US,%241600000&tid=ACSST5Y2020.S1902: 3\n",
      "http://www.census.gov/data/data-tools.html: 3\n",
      "https://www.census.gov/quickfacts/fact/table/broomecountynewyork/PST045219: 2\n",
      "https://meta.geo.census.gov/data/existing/decennial/GEO/GPMB/TIGERline/Tiger2019/roads/tl_2019_roads.ea.iso.xml: 2\n",
      "https://meta.geo.census.gov/data/existing/decennial/GEO/GPMB/TIGERline/Archived_19110/tl_2020_roads.shp.ea.iso.xml: 2\n",
      "http://factfinder.census.gov/servlet/DatasetMainPageServlet?_program=DEC&_tabId=DEC1&_submenuId=datasets_1&_lang=en&_ts=224246209722: 2\n"
     ]
    }
   ],
   "source": [
    "print(\"\\nMost frequent data table URLs:\")\n",
    "for url, count in r_most_common_data_tables:\n",
    "    print(f\"{url}: {count}\")"
   ]
  },
  {
   "cell_type": "code",
   "execution_count": 11,
   "metadata": {},
   "outputs": [
    {
     "name": "stdout",
     "output_type": "stream",
     "text": [
      "\n",
      "Most common URL paths:\n",
      "/cedsci/table: 14\n",
      "/quickfacts/fact/table/US/PST045222: 12\n",
      "/web/20111028064539/http://2010.census.gov/2010census/data/apportionment-pop-text.php: 11\n",
      "/cedsci/: 9\n",
      "/: 9\n",
      "/quickfacts/fact/table/keywestcityflorida,putnamcountyflorida/PST045221: 8\n",
      "/quickfacts/fact/table/cuyahogacountyohio/PST045219: 4\n",
      "/data/software/x13as.html: 4\n",
      "/foreign-trade/data/index.html: 4\n",
      "/all: 4\n"
     ]
    }
   ],
   "source": [
    "# Extracting additional insights\n",
    "\n",
    "# 1. Identify the most common URL paths\n",
    "r_paths = [urlparse(url).path for url in repackaged_data_tables_urls]\n",
    "r_path_counts = Counter(r_paths)\n",
    "r_most_common_paths = r_path_counts.most_common(10)\n",
    "\n",
    "print(\"\\nMost common URL paths:\")\n",
    "for path, count in r_most_common_paths:\n",
    "    print(f\"{path}: {count}\")\n"
   ]
  },
  {
   "cell_type": "code",
   "execution_count": 12,
   "metadata": {},
   "outputs": [
    {
     "data": {
      "image/png": "[encoded data removed]",
      "text/plain": [
       "<Figure size 1000x500 with 1 Axes>"
      ]
     },
     "metadata": {},
     "output_type": "display_data"
    }
   ],
   "source": [
    "# Separate paths and counts for plotting\n",
    "if r_most_common_paths:\n",
    "    paths, counts = zip(*r_most_common_paths)\n",
    "else:\n",
    "    paths, counts = [], []\n",
    "\n",
    "# Plot the graph\n",
    "plt.figure(figsize=(10, 5))\n",
    "plt.barh(paths, counts, color='lightcoral')\n",
    "plt.xlabel('Counts')\n",
    "plt.ylabel('URL Paths')\n",
    "plt.title('Most Common Repackaged URL Paths')\n",
    "plt.tight_layout()\n",
    "plt.show()"
   ]
  },
  {
   "cell_type": "code",
   "execution_count": 13,
   "metadata": {},
   "outputs": [
    {
     "name": "stdout",
     "output_type": "stream",
     "text": [
      "\n",
      "Most common query parameters:\n",
      ": 156\n",
      "t=Income%20and%20Poverty&g=0100000US,%241600000&tid=ACSST5Y2020.S1902: 3\n",
      "pid=DEC_10_SF1_GCTPH1.ST13&prodType=table: 2\n",
      "_program=DEC&_tabId=DEC1&_submenuId=datasets_1&_lang=en&_ts=224246209722: 2\n",
      "q=mortgage: 2\n",
      "q=Age%20By%20State&g=0100000US.04000.001&tid=ACSST1Y2019.S0101&hidePreview=true&moe=false&tp=true: 2\n",
      "d=ACS%205-Year%20Estimates%20Detailed%20Tables: 2\n",
      "t=Populations%20and%20People&g=0100000US,%241600000&y=2020: 2\n",
      "g=0100000US%241600000&y=2010&d=DEC%20Redistricting%20Data%20%28PL%2094-171%29: 2\n",
      "q=S2901%3A%20CITIZEN,%20VOTING-AGE%20POPULATION%20BY%20SELECTED%20CHARACTERISTICS&g=0400000US37&tid=ACSST1Y2019.S2901: 1\n"
     ]
    }
   ],
   "source": [
    "# 2. Identify the most common query parameters\n",
    "r_queries = [urlparse(url).query for url in repackaged_data_tables_urls]\n",
    "r_query_counts = Counter(r_queries)\n",
    "r_most_common_queries = r_query_counts.most_common(10)\n",
    "\n",
    "print(\"\\nMost common query parameters:\")\n",
    "for query, count in r_most_common_queries:\n",
    "    print(f\"{query}: {count}\")"
   ]
  },
  {
   "cell_type": "code",
   "execution_count": 14,
   "metadata": {},
   "outputs": [
    {
     "name": "stdout",
     "output_type": "stream",
     "text": [
      "\n",
      "Most common URL schemes:\n",
      "https: 168\n",
      "http: 18\n",
      "mailto: 2\n"
     ]
    }
   ],
   "source": [
    "# 3. Identify the most common URL schemes (http, https, etc.)\n",
    "r_schemes = [urlparse(url).scheme for url in repackaged_data_tables_urls]\n",
    "r_scheme_counts = Counter(r_schemes)\n",
    "r_most_common_schemes = r_scheme_counts.most_common()\n",
    "\n",
    "print(\"\\nMost common URL schemes:\")\n",
    "for scheme, count in r_most_common_schemes:\n",
    "    print(f\"{scheme}: {count}\")"
   ]
  },
  {
   "cell_type": "code",
   "execution_count": 25,
   "metadata": {},
   "outputs": [
    {
     "data": {
      "application/vnd.plotly.v1+json": {
       "config": {
        "plotlyServerURL": "https://plot.ly"
       },
       "data": [
        {
         "alignmentgroup": "True",
         "hovertemplate": "Number of References=%{marker.color}<br>Census Table=%{y}<extra></extra>",
         "legendgroup": "",
         "marker": {
          "color": [
           14,
           12,
           11,
           9,
           9,
           8,
           4,
           4,
           4,
           4
          ],
          "coloraxis": "coloraxis",
          "pattern": {
           "shape": ""
          }
         },
         "name": "",
         "offsetgroup": "",
         "orientation": "h",
         "showlegend": false,
         "text": [
          14,
          12,
          11,
          9,
          9,
          8,
          4,
          4,
          4,
          4
         ],
         "textposition": "outside",
         "texttemplate": "%{text}",
         "type": "bar",
         "x": [
          14,
          12,
          11,
          9,
          9,
          8,
          4,
          4,
          4,
          4
         ],
         "xaxis": "x",
         "y": [
          "/cedsci/table",
          "/quickfacts/fact/table/US/PST045222",
          "/web/20111028064539/http://2010.census.gov/2010census/data/apportionment-pop-text.php",
          "/cedsci/",
          "/",
          "/quickfacts/fact/table/keywestcityflorida,putnamcountyflorida/PST045221",
          "/quickfacts/fact/table/cuyahogacountyohio/PST045219",
          "/data/software/x13as.html",
          "/foreign-trade/data/index.html",
          "/all"
         ],
         "yaxis": "y"
        }
       ],
       "layout": {
        "barmode": "relative",
        "coloraxis": {
         "colorbar": {
          "title": {
           "text": "Number of References"
          }
         },
         "colorscale": [
          [
           0,
           "#0d0887"
          ],
          [
           0.1111111111111111,
           "#46039f"
          ],
          [
           0.2222222222222222,
           "#7201a8"
          ],
          [
           0.3333333333333333,
           "#9c179e"
          ],
          [
           0.4444444444444444,
           "#bd3786"
          ],
          [
           0.5555555555555556,
           "#d8576b"
          ],
          [
           0.6666666666666666,
           "#ed7953"
          ],
          [
           0.7777777777777778,
           "#fb9f3a"
          ],
          [
           0.8888888888888888,
           "#fdca26"
          ],
          [
           1,
           "#f0f921"
          ]
         ]
        },
        "legend": {
         "tracegroupgap": 0
        },
        "template": {
         "data": {
          "bar": [
           {
            "error_x": {
             "color": "#2a3f5f"
            },
            "error_y": {
             "color": "#2a3f5f"
            },
            "marker": {
             "line": {
              "color": "#E5ECF6",
              "width": 0.5
             },
             "pattern": {
              "fillmode": "overlay",
              "size": 10,
              "solidity": 0.2
             }
            },
            "type": "bar"
           }
          ],
          "barpolar": [
           {
            "marker": {
             "line": {
              "color": "#E5ECF6",
              "width": 0.5
             },
             "pattern": {
              "fillmode": "overlay",
              "size": 10,
              "solidity": 0.2
             }
            },
            "type": "barpolar"
           }
          ],
          "carpet": [
           {
            "aaxis": {
             "endlinecolor": "#2a3f5f",
             "gridcolor": "white",
             "linecolor": "white",
             "minorgridcolor": "white",
             "startlinecolor": "#2a3f5f"
            },
            "baxis": {
             "endlinecolor": "#2a3f5f",
             "gridcolor": "white",
             "linecolor": "white",
             "minorgridcolor": "white",
             "startlinecolor": "#2a3f5f"
            },
            "type": "carpet"
           }
          ],
          "choropleth": [
           {
            "colorbar": {
             "outlinewidth": 0,
             "ticks": ""
            },
            "type": "choropleth"
           }
          ],
          "contour": [
           {
            "colorbar": {
             "outlinewidth": 0,
             "ticks": ""
            },
            "colorscale": [
             [
              0,
              "#0d0887"
             ],
             [
              0.1111111111111111,
              "#46039f"
             ],
             [
              0.2222222222222222,
              "#7201a8"
             ],
             [
              0.3333333333333333,
              "#9c179e"
             ],
             [
              0.4444444444444444,
              "#bd3786"
             ],
             [
              0.5555555555555556,
              "#d8576b"
             ],
             [
              0.6666666666666666,
              "#ed7953"
             ],
             [
              0.7777777777777778,
              "#fb9f3a"
             ],
             [
              0.8888888888888888,
              "#fdca26"
             ],
             [
              1,
              "#f0f921"
             ]
            ],
            "type": "contour"
           }
          ],
          "contourcarpet": [
           {
            "colorbar": {
             "outlinewidth": 0,
             "ticks": ""
            },
            "type": "contourcarpet"
           }
          ],
          "heatmap": [
           {
            "colorbar": {
             "outlinewidth": 0,
             "ticks": ""
            },
            "colorscale": [
             [
              0,
              "#0d0887"
             ],
             [
              0.1111111111111111,
              "#46039f"
             ],
             [
              0.2222222222222222,
              "#7201a8"
             ],
             [
              0.3333333333333333,
              "#9c179e"
             ],
             [
              0.4444444444444444,
              "#bd3786"
             ],
             [
              0.5555555555555556,
              "#d8576b"
             ],
             [
              0.6666666666666666,
              "#ed7953"
             ],
             [
              0.7777777777777778,
              "#fb9f3a"
             ],
             [
              0.8888888888888888,
              "#fdca26"
             ],
             [
              1,
              "#f0f921"
             ]
            ],
            "type": "heatmap"
           }
          ],
          "heatmapgl": [
           {
            "colorbar": {
             "outlinewidth": 0,
             "ticks": ""
            },
            "colorscale": [
             [
              0,
              "#0d0887"
             ],
             [
              0.1111111111111111,
              "#46039f"
             ],
             [
              0.2222222222222222,
              "#7201a8"
             ],
             [
              0.3333333333333333,
              "#9c179e"
             ],
             [
              0.4444444444444444,
              "#bd3786"
             ],
             [
              0.5555555555555556,
              "#d8576b"
             ],
             [
              0.6666666666666666,
              "#ed7953"
             ],
             [
              0.7777777777777778,
              "#fb9f3a"
             ],
             [
              0.8888888888888888,
              "#fdca26"
             ],
             [
              1,
              "#f0f921"
             ]
            ],
            "type": "heatmapgl"
           }
          ],
          "histogram": [
           {
            "marker": {
             "pattern": {
              "fillmode": "overlay",
              "size": 10,
              "solidity": 0.2
             }
            },
            "type": "histogram"
           }
          ],
          "histogram2d": [
           {
            "colorbar": {
             "outlinewidth": 0,
             "ticks": ""
            },
            "colorscale": [
             [
              0,
              "#0d0887"
             ],
             [
              0.1111111111111111,
              "#46039f"
             ],
             [
              0.2222222222222222,
              "#7201a8"
             ],
             [
              0.3333333333333333,
              "#9c179e"
             ],
             [
              0.4444444444444444,
              "#bd3786"
             ],
             [
              0.5555555555555556,
              "#d8576b"
             ],
             [
              0.6666666666666666,
              "#ed7953"
             ],
             [
              0.7777777777777778,
              "#fb9f3a"
             ],
             [
              0.8888888888888888,
              "#fdca26"
             ],
             [
              1,
              "#f0f921"
             ]
            ],
            "type": "histogram2d"
           }
          ],
          "histogram2dcontour": [
           {
            "colorbar": {
             "outlinewidth": 0,
             "ticks": ""
            },
            "colorscale": [
             [
              0,
              "#0d0887"
             ],
             [
              0.1111111111111111,
              "#46039f"
             ],
             [
              0.2222222222222222,
              "#7201a8"
             ],
             [
              0.3333333333333333,
              "#9c179e"
             ],
             [
              0.4444444444444444,
              "#bd3786"
             ],
             [
              0.5555555555555556,
              "#d8576b"
             ],
             [
              0.6666666666666666,
              "#ed7953"
             ],
             [
              0.7777777777777778,
              "#fb9f3a"
             ],
             [
              0.8888888888888888,
              "#fdca26"
             ],
             [
              1,
              "#f0f921"
             ]
            ],
            "type": "histogram2dcontour"
           }
          ],
          "mesh3d": [
           {
            "colorbar": {
             "outlinewidth": 0,
             "ticks": ""
            },
            "type": "mesh3d"
           }
          ],
          "parcoords": [
           {
            "line": {
             "colorbar": {
              "outlinewidth": 0,
              "ticks": ""
             }
            },
            "type": "parcoords"
           }
          ],
          "pie": [
           {
            "automargin": true,
            "type": "pie"
           }
          ],
          "scatter": [
           {
            "fillpattern": {
             "fillmode": "overlay",
             "size": 10,
             "solidity": 0.2
            },
            "type": "scatter"
           }
          ],
          "scatter3d": [
           {
            "line": {
             "colorbar": {
              "outlinewidth": 0,
              "ticks": ""
             }
            },
            "marker": {
             "colorbar": {
              "outlinewidth": 0,
              "ticks": ""
             }
            },
            "type": "scatter3d"
           }
          ],
          "scattercarpet": [
           {
            "marker": {
             "colorbar": {
              "outlinewidth": 0,
              "ticks": ""
             }
            },
            "type": "scattercarpet"
           }
          ],
          "scattergeo": [
           {
            "marker": {
             "colorbar": {
              "outlinewidth": 0,
              "ticks": ""
             }
            },
            "type": "scattergeo"
           }
          ],
          "scattergl": [
           {
            "marker": {
             "colorbar": {
              "outlinewidth": 0,
              "ticks": ""
             }
            },
            "type": "scattergl"
           }
          ],
          "scattermapbox": [
           {
            "marker": {
             "colorbar": {
              "outlinewidth": 0,
              "ticks": ""
             }
            },
            "type": "scattermapbox"
           }
          ],
          "scatterpolar": [
           {
            "marker": {
             "colorbar": {
              "outlinewidth": 0,
              "ticks": ""
             }
            },
            "type": "scatterpolar"
           }
          ],
          "scatterpolargl": [
           {
            "marker": {
             "colorbar": {
              "outlinewidth": 0,
              "ticks": ""
             }
            },
            "type": "scatterpolargl"
           }
          ],
          "scatterternary": [
           {
            "marker": {
             "colorbar": {
              "outlinewidth": 0,
              "ticks": ""
             }
            },
            "type": "scatterternary"
           }
          ],
          "surface": [
           {
            "colorbar": {
             "outlinewidth": 0,
             "ticks": ""
            },
            "colorscale": [
             [
              0,
              "#0d0887"
             ],
             [
              0.1111111111111111,
              "#46039f"
             ],
             [
              0.2222222222222222,
              "#7201a8"
             ],
             [
              0.3333333333333333,
              "#9c179e"
             ],
             [
              0.4444444444444444,
              "#bd3786"
             ],
             [
              0.5555555555555556,
              "#d8576b"
             ],
             [
              0.6666666666666666,
              "#ed7953"
             ],
             [
              0.7777777777777778,
              "#fb9f3a"
             ],
             [
              0.8888888888888888,
              "#fdca26"
             ],
             [
              1,
              "#f0f921"
             ]
            ],
            "type": "surface"
           }
          ],
          "table": [
           {
            "cells": {
             "fill": {
              "color": "#EBF0F8"
             },
             "line": {
              "color": "white"
             }
            },
            "header": {
             "fill": {
              "color": "#C8D4E3"
             },
             "line": {
              "color": "white"
             }
            },
            "type": "table"
           }
          ]
         },
         "layout": {
          "annotationdefaults": {
           "arrowcolor": "#2a3f5f",
           "arrowhead": 0,
           "arrowwidth": 1
          },
          "autotypenumbers": "strict",
          "coloraxis": {
           "colorbar": {
            "outlinewidth": 0,
            "ticks": ""
           }
          },
          "colorscale": {
           "diverging": [
            [
             0,
             "#8e0152"
            ],
            [
             0.1,
             "#c51b7d"
            ],
            [
             0.2,
             "#de77ae"
            ],
            [
             0.3,
             "#f1b6da"
            ],
            [
             0.4,
             "#fde0ef"
            ],
            [
             0.5,
             "#f7f7f7"
            ],
            [
             0.6,
             "#e6f5d0"
            ],
            [
             0.7,
             "#b8e186"
            ],
            [
             0.8,
             "#7fbc41"
            ],
            [
             0.9,
             "#4d9221"
            ],
            [
             1,
             "#276419"
            ]
           ],
           "sequential": [
            [
             0,
             "#0d0887"
            ],
            [
             0.1111111111111111,
             "#46039f"
            ],
            [
             0.2222222222222222,
             "#7201a8"
            ],
            [
             0.3333333333333333,
             "#9c179e"
            ],
            [
             0.4444444444444444,
             "#bd3786"
            ],
            [
             0.5555555555555556,
             "#d8576b"
            ],
            [
             0.6666666666666666,
             "#ed7953"
            ],
            [
             0.7777777777777778,
             "#fb9f3a"
            ],
            [
             0.8888888888888888,
             "#fdca26"
            ],
            [
             1,
             "#f0f921"
            ]
           ],
           "sequentialminus": [
            [
             0,
             "#0d0887"
            ],
            [
             0.1111111111111111,
             "#46039f"
            ],
            [
             0.2222222222222222,
             "#7201a8"
            ],
            [
             0.3333333333333333,
             "#9c179e"
            ],
            [
             0.4444444444444444,
             "#bd3786"
            ],
            [
             0.5555555555555556,
             "#d8576b"
            ],
            [
             0.6666666666666666,
             "#ed7953"
            ],
            [
             0.7777777777777778,
             "#fb9f3a"
            ],
            [
             0.8888888888888888,
             "#fdca26"
            ],
            [
             1,
             "#f0f921"
            ]
           ]
          },
          "colorway": [
           "#636efa",
           "#EF553B",
           "#00cc96",
           "#ab63fa",
           "#FFA15A",
           "#19d3f3",
           "#FF6692",
           "#B6E880",
           "#FF97FF",
           "#FECB52"
          ],
          "font": {
           "color": "#2a3f5f"
          },
          "geo": {
           "bgcolor": "white",
           "lakecolor": "white",
           "landcolor": "#E5ECF6",
           "showlakes": true,
           "showland": true,
           "subunitcolor": "white"
          },
          "hoverlabel": {
           "align": "left"
          },
          "hovermode": "closest",
          "mapbox": {
           "style": "light"
          },
          "paper_bgcolor": "white",
          "plot_bgcolor": "#E5ECF6",
          "polar": {
           "angularaxis": {
            "gridcolor": "white",
            "linecolor": "white",
            "ticks": ""
           },
           "bgcolor": "#E5ECF6",
           "radialaxis": {
            "gridcolor": "white",
            "linecolor": "white",
            "ticks": ""
           }
          },
          "scene": {
           "xaxis": {
            "backgroundcolor": "#E5ECF6",
            "gridcolor": "white",
            "gridwidth": 2,
            "linecolor": "white",
            "showbackground": true,
            "ticks": "",
            "zerolinecolor": "white"
           },
           "yaxis": {
            "backgroundcolor": "#E5ECF6",
            "gridcolor": "white",
            "gridwidth": 2,
            "linecolor": "white",
            "showbackground": true,
            "ticks": "",
            "zerolinecolor": "white"
           },
           "zaxis": {
            "backgroundcolor": "#E5ECF6",
            "gridcolor": "white",
            "gridwidth": 2,
            "linecolor": "white",
            "showbackground": true,
            "ticks": "",
            "zerolinecolor": "white"
           }
          },
          "shapedefaults": {
           "line": {
            "color": "#2a3f5f"
           }
          },
          "ternary": {
           "aaxis": {
            "gridcolor": "white",
            "linecolor": "white",
            "ticks": ""
           },
           "baxis": {
            "gridcolor": "white",
            "linecolor": "white",
            "ticks": ""
           },
           "bgcolor": "#E5ECF6",
           "caxis": {
            "gridcolor": "white",
            "linecolor": "white",
            "ticks": ""
           }
          },
          "title": {
           "x": 0.05
          },
          "xaxis": {
           "automargin": true,
           "gridcolor": "white",
           "linecolor": "white",
           "ticks": "",
           "title": {
            "standoff": 15
           },
           "zerolinecolor": "white",
           "zerolinewidth": 2
          },
          "yaxis": {
           "automargin": true,
           "gridcolor": "white",
           "linecolor": "white",
           "ticks": "",
           "title": {
            "standoff": 15
           },
           "zerolinecolor": "white",
           "zerolinewidth": 2
          }
         }
        },
        "title": {
         "text": "Top 15 Most Referenced U.S. Census Tables in Repackaged Instances"
        },
        "xaxis": {
         "anchor": "y",
         "domain": [
          0,
          1
         ],
         "title": {
          "text": "Number of References"
         }
        },
        "yaxis": {
         "anchor": "x",
         "categoryorder": "total descending",
         "domain": [
          0,
          1
         ],
         "title": {
          "text": "Census Table"
         }
        }
       }
      }
     },
     "metadata": {},
     "output_type": "display_data"
    }
   ],
   "source": [
    "import plotly.express as px\n",
    "import pandas as pd\n",
    "\n",
    "# Assuming 'tables' and 'counts' are already defined as lists of table names and counts\n",
    "# Example: tables = ['Table 1', 'Table 2', ...]\n",
    "#          counts = [50, 30, ...]\n",
    "tables, counts = zip(*r_most_common_paths)\n",
    "# Create a DataFrame from the tables and counts\n",
    "data = {'Census Table': tables, 'Number of References': counts}\n",
    "df = pd.DataFrame(data)\n",
    "\n",
    "# Create an interactive horizontal bar chart\n",
    "fig = px.bar(df, \n",
    "             x='Number of References', \n",
    "             y='Census Table', \n",
    "             orientation='h',  # Horizontal bars\n",
    "             title=\"Top 15 Most Referenced U.S. Census Tables in Repackaged Instances\",\n",
    "             labels={'Number of References': 'Number of References', 'Census Table': 'Census Table'},\n",
    "             color='Number of References',  # Color bars based on count\n",
    "             text='Number of References')  # Show count on hover\n",
    "\n",
    "# Customize the hover data (you can modify this to include more details)\n",
    "fig.update_traces(texttemplate='%{text}', textposition='outside')\n",
    "\n",
    "# Invert the y-axis to show the highest count at the top\n",
    "fig.update_yaxes(categoryorder='total descending')\n",
    "\n",
    "# Show the interactive plot\n",
    "fig.show()"
   ]
  },
  {
   "cell_type": "markdown",
   "metadata": {},
   "source": [
    "# Cited Links"
   ]
  },
  {
   "cell_type": "code",
   "execution_count": 16,
   "metadata": {},
   "outputs": [],
   "source": [
    "#Counting domain names\n",
    "from collections import Counter\n",
    "\n",
    "c_domain_counts = Counter(c_domains)\n",
    "c_most_common_domains = c_domain_counts.most_common(15)"
   ]
  },
  {
   "cell_type": "code",
   "execution_count": 17,
   "metadata": {},
   "outputs": [],
   "source": [
    "c_data_table_counts = Counter(cited_data_tables_urls)\n",
    "c_most_common_data_tables = c_data_table_counts.most_common(15)"
   ]
  },
  {
   "cell_type": "code",
   "execution_count": 18,
   "metadata": {},
   "outputs": [
    {
     "name": "stdout",
     "output_type": "stream",
     "text": [
      "Most frequent Cited domains:\n",
      "http://www.census.gov/: 42\n",
      "/organization/census-gov: 21\n",
      "https://www.census.gov/content/dam/Census/library/publications/2018/acs/acs_general_handbook_2018.pdf: 15\n",
      "https://www.census.gov/programs-surveys/saipe/about.html: 14\n",
      "/organization/about/census-gov: 14\n",
      "https://www.census.gov/: 13\n",
      "http://www.census.gov/retail/index.html: 12\n",
      "http://www.census.gov/hhes/www/disability/ACS_disability.pdf: 12\n",
      "http://www.census.gov: 11\n",
      "https://www.census.gov/programs-surveys/acs/: 11\n",
      "https://qwiexplorer.ces.census.gov/: 10\n",
      "https://www.census.gov/geographies/mapping-files/time-series/geo/tiger-line-file.html: 8\n",
      "http://www.census.gov/acs: 8\n",
      "https://tigerweb.geo.census.gov/arcgis/rest/services/TIGERweb/Transportation/MapServer: 6\n",
      "mailto:geo.geography@census.gov: 6\n"
     ]
    }
   ],
   "source": [
    "#Printing results\n",
    "print(\"Most frequent Cited domains:\")\n",
    "for domain, count in c_most_common_data_tables:\n",
    "    print(f\"{domain}: {count}\")"
   ]
  },
  {
   "cell_type": "code",
   "execution_count": 19,
   "metadata": {},
   "outputs": [
    {
     "name": "stdout",
     "output_type": "stream",
     "text": [
      "\n",
      "Most frequent Cited data table URLs:\n",
      "http://www.census.gov/: 42\n",
      "/organization/census-gov: 21\n",
      "https://www.census.gov/content/dam/Census/library/publications/2018/acs/acs_general_handbook_2018.pdf: 15\n",
      "https://www.census.gov/programs-surveys/saipe/about.html: 14\n",
      "/organization/about/census-gov: 14\n",
      "https://www.census.gov/: 13\n",
      "http://www.census.gov/retail/index.html: 12\n",
      "http://www.census.gov/hhes/www/disability/ACS_disability.pdf: 12\n",
      "http://www.census.gov: 11\n",
      "https://www.census.gov/programs-surveys/acs/: 11\n",
      "https://qwiexplorer.ces.census.gov/: 10\n",
      "https://www.census.gov/geographies/mapping-files/time-series/geo/tiger-line-file.html: 8\n",
      "http://www.census.gov/acs: 8\n",
      "https://tigerweb.geo.census.gov/arcgis/rest/services/TIGERweb/Transportation/MapServer: 6\n",
      "mailto:geo.geography@census.gov: 6\n"
     ]
    }
   ],
   "source": [
    "print(\"\\nMost frequent Cited data table URLs:\")\n",
    "for url, count in c_most_common_data_tables:\n",
    "    print(f\"{url}: {count}\")"
   ]
  },
  {
   "cell_type": "code",
   "execution_count": 20,
   "metadata": {},
   "outputs": [
    {
     "name": "stdout",
     "output_type": "stream",
     "text": [
      "\n",
      "Most common Cited URL paths:\n",
      "/: 75\n",
      ": 27\n",
      "/organization/census-gov: 21\n",
      "/content/dam/Census/library/publications/2018/acs/acs_general_handbook_2018.pdf: 15\n",
      "/programs-surveys/saipe/about.html: 14\n",
      "/organization/about/census-gov: 14\n",
      "/retail/index.html: 12\n",
      "/programs-surveys/acs/: 12\n",
      "/hhes/www/disability/ACS_disability.pdf: 12\n",
      "/naics/: 10\n"
     ]
    }
   ],
   "source": [
    "# Extracting additional insights\n",
    "\n",
    "# 1. Identify the most common URL paths\n",
    "c_paths = [urlparse(url).path for url in cited_data_tables_urls]\n",
    "c_path_counts = Counter(c_paths)\n",
    "c_most_common_paths = c_path_counts.most_common(10)\n",
    "\n",
    "print(\"\\nMost common Cited URL paths:\")\n",
    "for path, count in c_most_common_paths:\n",
    "    print(f\"{path}: {count}\")"
   ]
  },
  {
   "cell_type": "code",
   "execution_count": 21,
   "metadata": {},
   "outputs": [
    {
     "data": {
      "image/png": "[encoded data removed]",
      "text/plain": [
       "<Figure size 1000x500 with 1 Axes>"
      ]
     },
     "metadata": {},
     "output_type": "display_data"
    }
   ],
   "source": [
    "# Filter paths with counts of 21 and under\n",
    "c_filtered_paths = [(path, count) for path, count in c_most_common_paths if count <= 21]\n",
    "\n",
    "# Separate paths and counts for plotting\n",
    "if c_most_common_paths:\n",
    "    paths, counts = zip(*c_filtered_paths)\n",
    "else:\n",
    "    paths, counts = [], []\n",
    "\n",
    "# Plot the graph\n",
    "plt.figure(figsize=(10, 5))\n",
    "plt.barh(paths, counts, color='lightcoral')\n",
    "plt.xlabel('Counts')\n",
    "plt.ylabel('URL Paths')\n",
    "plt.title('Most Common Cited URL Paths')\n",
    "plt.tight_layout()\n",
    "plt.show()"
   ]
  },
  {
   "cell_type": "code",
   "execution_count": 22,
   "metadata": {},
   "outputs": [
    {
     "name": "stdout",
     "output_type": "stream",
     "text": [
      "\n",
      "Most common Cited query parameters:\n",
      ": 552\n",
      "subject=Colonial Sense: Society-Lifestyle: Census: Governance&body=http://colonialsense.com/society-lifestyle/census/governance.php?cs=12970: 2\n",
      "text=Colonial Sense: Society-Lifestyle: Census: Governance:%20&url=http://colonialsense.com/society-lifestyle/census/governance.php?cs=12970: 2\n",
      "u=http://colonialsense.com/society-lifestyle/census/governance.php?cs=12970: 2\n",
      "searchtype=web&cssp=serp&q=lake%20orion%20village,%20michigan: 2\n",
      "url=http%3a%2f%2ffactfinder2.census.gov%2fbkmk%2fqs%2f1.0%2fen%2fgeo_search%3a95030&pp=80589: 1\n",
      "url=http%3a%2f%2ffactfinder2.census.gov%2fbkmk%2fqs%2f1.0%2fen%2fgeo_search%3a95008&pp=42647: 1\n",
      "url=http%3a%2f%2ffactfinder2.census.gov%2fbkmk%2fqs%2f1.0%2fen%2fgeo_search%3a95628&pp=566920: 1\n",
      "url=http%3a%2f%2ffactfinder2.census.gov%2fbkmk%2fqs%2f1.0%2fen%2fgeo_search%3a95014&pp=84517: 1\n",
      "input=51224&year=2022&details=51224: 1\n"
     ]
    }
   ],
   "source": [
    "# 2. Identify the most common query parameters\n",
    "c_queries = [urlparse(url).query for url in cited_data_tables_urls]\n",
    "c_query_counts = Counter(c_queries)\n",
    "c_most_common_queries = c_query_counts.most_common(10)\n",
    "\n",
    "print(\"\\nMost common Cited query parameters:\")\n",
    "for query, count in c_most_common_queries:\n",
    "    print(f\"{query}: {count}\")"
   ]
  },
  {
   "cell_type": "code",
   "execution_count": 23,
   "metadata": {},
   "outputs": [
    {
     "name": "stdout",
     "output_type": "stream",
     "text": [
      "\n",
      "Most common Cited URL schemes:\n",
      "https: 347\n",
      "http: 173\n",
      ": 54\n",
      "mailto: 10\n"
     ]
    }
   ],
   "source": [
    "# 3. Identify the most common URL schemes (http, https, etc.)\n",
    "c_schemes = [urlparse(url).scheme for url in cited_data_tables_urls]\n",
    "c_scheme_counts = Counter(c_schemes)\n",
    "c_most_common_schemes = c_scheme_counts.most_common()\n",
    "\n",
    "print(\"\\nMost common Cited URL schemes:\")\n",
    "for scheme, count in c_most_common_schemes:\n",
    "    print(f\"{scheme}: {count}\")"
   ]
  },
  {
   "cell_type": "code",
   "execution_count": 24,
   "metadata": {},
   "outputs": [
    {
     "data": {
      "application/vnd.plotly.v1+json": {
       "config": {
        "plotlyServerURL": "https://plot.ly"
       },
       "data": [
        {
         "alignmentgroup": "True",
         "hovertemplate": "Number of References=%{marker.color}<br>Census Table=%{y}<extra></extra>",
         "legendgroup": "",
         "marker": {
          "color": [
           75,
           27,
           21,
           15,
           14,
           14,
           12,
           12,
           12,
           10
          ],
          "coloraxis": "coloraxis",
          "pattern": {
           "shape": ""
          }
         },
         "name": "",
         "offsetgroup": "",
         "orientation": "h",
         "showlegend": false,
         "text": [
          75,
          27,
          21,
          15,
          14,
          14,
          12,
          12,
          12,
          10
         ],
         "textposition": "outside",
         "texttemplate": "%{text}",
         "type": "bar",
         "x": [
          75,
          27,
          21,
          15,
          14,
          14,
          12,
          12,
          12,
          10
         ],
         "xaxis": "x",
         "y": [
          "/",
          "",
          "/organization/census-gov",
          "/content/dam/Census/library/publications/2018/acs/acs_general_handbook_2018.pdf",
          "/programs-surveys/saipe/about.html",
          "/organization/about/census-gov",
          "/retail/index.html",
          "/programs-surveys/acs/",
          "/hhes/www/disability/ACS_disability.pdf",
          "/naics/"
         ],
         "yaxis": "y"
        }
       ],
       "layout": {
        "barmode": "relative",
        "coloraxis": {
         "colorbar": {
          "title": {
           "text": "Number of References"
          }
         },
         "colorscale": [
          [
           0,
           "#0d0887"
          ],
          [
           0.1111111111111111,
           "#46039f"
          ],
          [
           0.2222222222222222,
           "#7201a8"
          ],
          [
           0.3333333333333333,
           "#9c179e"
          ],
          [
           0.4444444444444444,
           "#bd3786"
          ],
          [
           0.5555555555555556,
           "#d8576b"
          ],
          [
           0.6666666666666666,
           "#ed7953"
          ],
          [
           0.7777777777777778,
           "#fb9f3a"
          ],
          [
           0.8888888888888888,
           "#fdca26"
          ],
          [
           1,
           "#f0f921"
          ]
         ]
        },
        "legend": {
         "tracegroupgap": 0
        },
        "template": {
         "data": {
          "bar": [
           {
            "error_x": {
             "color": "#2a3f5f"
            },
            "error_y": {
             "color": "#2a3f5f"
            },
            "marker": {
             "line": {
              "color": "#E5ECF6",
              "width": 0.5
             },
             "pattern": {
              "fillmode": "overlay",
              "size": 10,
              "solidity": 0.2
             }
            },
            "type": "bar"
           }
          ],
          "barpolar": [
           {
            "marker": {
             "line": {
              "color": "#E5ECF6",
              "width": 0.5
             },
             "pattern": {
              "fillmode": "overlay",
              "size": 10,
              "solidity": 0.2
             }
            },
            "type": "barpolar"
           }
          ],
          "carpet": [
           {
            "aaxis": {
             "endlinecolor": "#2a3f5f",
             "gridcolor": "white",
             "linecolor": "white",
             "minorgridcolor": "white",
             "startlinecolor": "#2a3f5f"
            },
            "baxis": {
             "endlinecolor": "#2a3f5f",
             "gridcolor": "white",
             "linecolor": "white",
             "minorgridcolor": "white",
             "startlinecolor": "#2a3f5f"
            },
            "type": "carpet"
           }
          ],
          "choropleth": [
           {
            "colorbar": {
             "outlinewidth": 0,
             "ticks": ""
            },
            "type": "choropleth"
           }
          ],
          "contour": [
           {
            "colorbar": {
             "outlinewidth": 0,
             "ticks": ""
            },
            "colorscale": [
             [
              0,
              "#0d0887"
             ],
             [
              0.1111111111111111,
              "#46039f"
             ],
             [
              0.2222222222222222,
              "#7201a8"
             ],
             [
              0.3333333333333333,
              "#9c179e"
             ],
             [
              0.4444444444444444,
              "#bd3786"
             ],
             [
              0.5555555555555556,
              "#d8576b"
             ],
             [
              0.6666666666666666,
              "#ed7953"
             ],
             [
              0.7777777777777778,
              "#fb9f3a"
             ],
             [
              0.8888888888888888,
              "#fdca26"
             ],
             [
              1,
              "#f0f921"
             ]
            ],
            "type": "contour"
           }
          ],
          "contourcarpet": [
           {
            "colorbar": {
             "outlinewidth": 0,
             "ticks": ""
            },
            "type": "contourcarpet"
           }
          ],
          "heatmap": [
           {
            "colorbar": {
             "outlinewidth": 0,
             "ticks": ""
            },
            "colorscale": [
             [
              0,
              "#0d0887"
             ],
             [
              0.1111111111111111,
              "#46039f"
             ],
             [
              0.2222222222222222,
              "#7201a8"
             ],
             [
              0.3333333333333333,
              "#9c179e"
             ],
             [
              0.4444444444444444,
              "#bd3786"
             ],
             [
              0.5555555555555556,
              "#d8576b"
             ],
             [
              0.6666666666666666,
              "#ed7953"
             ],
             [
              0.7777777777777778,
              "#fb9f3a"
             ],
             [
              0.8888888888888888,
              "#fdca26"
             ],
             [
              1,
              "#f0f921"
             ]
            ],
            "type": "heatmap"
           }
          ],
          "heatmapgl": [
           {
            "colorbar": {
             "outlinewidth": 0,
             "ticks": ""
            },
            "colorscale": [
             [
              0,
              "#0d0887"
             ],
             [
              0.1111111111111111,
              "#46039f"
             ],
             [
              0.2222222222222222,
              "#7201a8"
             ],
             [
              0.3333333333333333,
              "#9c179e"
             ],
             [
              0.4444444444444444,
              "#bd3786"
             ],
             [
              0.5555555555555556,
              "#d8576b"
             ],
             [
              0.6666666666666666,
              "#ed7953"
             ],
             [
              0.7777777777777778,
              "#fb9f3a"
             ],
             [
              0.8888888888888888,
              "#fdca26"
             ],
             [
              1,
              "#f0f921"
             ]
            ],
            "type": "heatmapgl"
           }
          ],
          "histogram": [
           {
            "marker": {
             "pattern": {
              "fillmode": "overlay",
              "size": 10,
              "solidity": 0.2
             }
            },
            "type": "histogram"
           }
          ],
          "histogram2d": [
           {
            "colorbar": {
             "outlinewidth": 0,
             "ticks": ""
            },
            "colorscale": [
             [
              0,
              "#0d0887"
             ],
             [
              0.1111111111111111,
              "#46039f"
             ],
             [
              0.2222222222222222,
              "#7201a8"
             ],
             [
              0.3333333333333333,
              "#9c179e"
             ],
             [
              0.4444444444444444,
              "#bd3786"
             ],
             [
              0.5555555555555556,
              "#d8576b"
             ],
             [
              0.6666666666666666,
              "#ed7953"
             ],
             [
              0.7777777777777778,
              "#fb9f3a"
             ],
             [
              0.8888888888888888,
              "#fdca26"
             ],
             [
              1,
              "#f0f921"
             ]
            ],
            "type": "histogram2d"
           }
          ],
          "histogram2dcontour": [
           {
            "colorbar": {
             "outlinewidth": 0,
             "ticks": ""
            },
            "colorscale": [
             [
              0,
              "#0d0887"
             ],
             [
              0.1111111111111111,
              "#46039f"
             ],
             [
              0.2222222222222222,
              "#7201a8"
             ],
             [
              0.3333333333333333,
              "#9c179e"
             ],
             [
              0.4444444444444444,
              "#bd3786"
             ],
             [
              0.5555555555555556,
              "#d8576b"
             ],
             [
              0.6666666666666666,
              "#ed7953"
             ],
             [
              0.7777777777777778,
              "#fb9f3a"
             ],
             [
              0.8888888888888888,
              "#fdca26"
             ],
             [
              1,
              "#f0f921"
             ]
            ],
            "type": "histogram2dcontour"
           }
          ],
          "mesh3d": [
           {
            "colorbar": {
             "outlinewidth": 0,
             "ticks": ""
            },
            "type": "mesh3d"
           }
          ],
          "parcoords": [
           {
            "line": {
             "colorbar": {
              "outlinewidth": 0,
              "ticks": ""
             }
            },
            "type": "parcoords"
           }
          ],
          "pie": [
           {
            "automargin": true,
            "type": "pie"
           }
          ],
          "scatter": [
           {
            "fillpattern": {
             "fillmode": "overlay",
             "size": 10,
             "solidity": 0.2
            },
            "type": "scatter"
           }
          ],
          "scatter3d": [
           {
            "line": {
             "colorbar": {
              "outlinewidth": 0,
              "ticks": ""
             }
            },
            "marker": {
             "colorbar": {
              "outlinewidth": 0,
              "ticks": ""
             }
            },
            "type": "scatter3d"
           }
          ],
          "scattercarpet": [
           {
            "marker": {
             "colorbar": {
              "outlinewidth": 0,
              "ticks": ""
             }
            },
            "type": "scattercarpet"
           }
          ],
          "scattergeo": [
           {
            "marker": {
             "colorbar": {
              "outlinewidth": 0,
              "ticks": ""
             }
            },
            "type": "scattergeo"
           }
          ],
          "scattergl": [
           {
            "marker": {
             "colorbar": {
              "outlinewidth": 0,
              "ticks": ""
             }
            },
            "type": "scattergl"
           }
          ],
          "scattermapbox": [
           {
            "marker": {
             "colorbar": {
              "outlinewidth": 0,
              "ticks": ""
             }
            },
            "type": "scattermapbox"
           }
          ],
          "scatterpolar": [
           {
            "marker": {
             "colorbar": {
              "outlinewidth": 0,
              "ticks": ""
             }
            },
            "type": "scatterpolar"
           }
          ],
          "scatterpolargl": [
           {
            "marker": {
             "colorbar": {
              "outlinewidth": 0,
              "ticks": ""
             }
            },
            "type": "scatterpolargl"
           }
          ],
          "scatterternary": [
           {
            "marker": {
             "colorbar": {
              "outlinewidth": 0,
              "ticks": ""
             }
            },
            "type": "scatterternary"
           }
          ],
          "surface": [
           {
            "colorbar": {
             "outlinewidth": 0,
             "ticks": ""
            },
            "colorscale": [
             [
              0,
              "#0d0887"
             ],
             [
              0.1111111111111111,
              "#46039f"
             ],
             [
              0.2222222222222222,
              "#7201a8"
             ],
             [
              0.3333333333333333,
              "#9c179e"
             ],
             [
              0.4444444444444444,
              "#bd3786"
             ],
             [
              0.5555555555555556,
              "#d8576b"
             ],
             [
              0.6666666666666666,
              "#ed7953"
             ],
             [
              0.7777777777777778,
              "#fb9f3a"
             ],
             [
              0.8888888888888888,
              "#fdca26"
             ],
             [
              1,
              "#f0f921"
             ]
            ],
            "type": "surface"
           }
          ],
          "table": [
           {
            "cells": {
             "fill": {
              "color": "#EBF0F8"
             },
             "line": {
              "color": "white"
             }
            },
            "header": {
             "fill": {
              "color": "#C8D4E3"
             },
             "line": {
              "color": "white"
             }
            },
            "type": "table"
           }
          ]
         },
         "layout": {
          "annotationdefaults": {
           "arrowcolor": "#2a3f5f",
           "arrowhead": 0,
           "arrowwidth": 1
          },
          "autotypenumbers": "strict",
          "coloraxis": {
           "colorbar": {
            "outlinewidth": 0,
            "ticks": ""
           }
          },
          "colorscale": {
           "diverging": [
            [
             0,
             "#8e0152"
            ],
            [
             0.1,
             "#c51b7d"
            ],
            [
             0.2,
             "#de77ae"
            ],
            [
             0.3,
             "#f1b6da"
            ],
            [
             0.4,
             "#fde0ef"
            ],
            [
             0.5,
             "#f7f7f7"
            ],
            [
             0.6,
             "#e6f5d0"
            ],
            [
             0.7,
             "#b8e186"
            ],
            [
             0.8,
             "#7fbc41"
            ],
            [
             0.9,
             "#4d9221"
            ],
            [
             1,
             "#276419"
            ]
           ],
           "sequential": [
            [
             0,
             "#0d0887"
            ],
            [
             0.1111111111111111,
             "#46039f"
            ],
            [
             0.2222222222222222,
             "#7201a8"
            ],
            [
             0.3333333333333333,
             "#9c179e"
            ],
            [
             0.4444444444444444,
             "#bd3786"
            ],
            [
             0.5555555555555556,
             "#d8576b"
            ],
            [
             0.6666666666666666,
             "#ed7953"
            ],
            [
             0.7777777777777778,
             "#fb9f3a"
            ],
            [
             0.8888888888888888,
             "#fdca26"
            ],
            [
             1,
             "#f0f921"
            ]
           ],
           "sequentialminus": [
            [
             0,
             "#0d0887"
            ],
            [
             0.1111111111111111,
             "#46039f"
            ],
            [
             0.2222222222222222,
             "#7201a8"
            ],
            [
             0.3333333333333333,
             "#9c179e"
            ],
            [
             0.4444444444444444,
             "#bd3786"
            ],
            [
             0.5555555555555556,
             "#d8576b"
            ],
            [
             0.6666666666666666,
             "#ed7953"
            ],
            [
             0.7777777777777778,
             "#fb9f3a"
            ],
            [
             0.8888888888888888,
             "#fdca26"
            ],
            [
             1,
             "#f0f921"
            ]
           ]
          },
          "colorway": [
           "#636efa",
           "#EF553B",
           "#00cc96",
           "#ab63fa",
           "#FFA15A",
           "#19d3f3",
           "#FF6692",
           "#B6E880",
           "#FF97FF",
           "#FECB52"
          ],
          "font": {
           "color": "#2a3f5f"
          },
          "geo": {
           "bgcolor": "white",
           "lakecolor": "white",
           "landcolor": "#E5ECF6",
           "showlakes": true,
           "showland": true,
           "subunitcolor": "white"
          },
          "hoverlabel": {
           "align": "left"
          },
          "hovermode": "closest",
          "mapbox": {
           "style": "light"
          },
          "paper_bgcolor": "white",
          "plot_bgcolor": "#E5ECF6",
          "polar": {
           "angularaxis": {
            "gridcolor": "white",
            "linecolor": "white",
            "ticks": ""
           },
           "bgcolor": "#E5ECF6",
           "radialaxis": {
            "gridcolor": "white",
            "linecolor": "white",
            "ticks": ""
           }
          },
          "scene": {
           "xaxis": {
            "backgroundcolor": "#E5ECF6",
            "gridcolor": "white",
            "gridwidth": 2,
            "linecolor": "white",
            "showbackground": true,
            "ticks": "",
            "zerolinecolor": "white"
           },
           "yaxis": {
            "backgroundcolor": "#E5ECF6",
            "gridcolor": "white",
            "gridwidth": 2,
            "linecolor": "white",
            "showbackground": true,
            "ticks": "",
            "zerolinecolor": "white"
           },
           "zaxis": {
            "backgroundcolor": "#E5ECF6",
            "gridcolor": "white",
            "gridwidth": 2,
            "linecolor": "white",
            "showbackground": true,
            "ticks": "",
            "zerolinecolor": "white"
           }
          },
          "shapedefaults": {
           "line": {
            "color": "#2a3f5f"
           }
          },
          "ternary": {
           "aaxis": {
            "gridcolor": "white",
            "linecolor": "white",
            "ticks": ""
           },
           "baxis": {
            "gridcolor": "white",
            "linecolor": "white",
            "ticks": ""
           },
           "bgcolor": "#E5ECF6",
           "caxis": {
            "gridcolor": "white",
            "linecolor": "white",
            "ticks": ""
           }
          },
          "title": {
           "x": 0.05
          },
          "xaxis": {
           "automargin": true,
           "gridcolor": "white",
           "linecolor": "white",
           "ticks": "",
           "title": {
            "standoff": 15
           },
           "zerolinecolor": "white",
           "zerolinewidth": 2
          },
          "yaxis": {
           "automargin": true,
           "gridcolor": "white",
           "linecolor": "white",
           "ticks": "",
           "title": {
            "standoff": 15
           },
           "zerolinecolor": "white",
           "zerolinewidth": 2
          }
         }
        },
        "title": {
         "text": "Top 15 Most Referenced U.S. Census Tables in Cited Instances"
        },
        "xaxis": {
         "anchor": "y",
         "domain": [
          0,
          1
         ],
         "title": {
          "text": "Number of References"
         }
        },
        "yaxis": {
         "anchor": "x",
         "categoryorder": "total descending",
         "domain": [
          0,
          1
         ],
         "title": {
          "text": "Census Table"
         }
        }
       }
      }
     },
     "metadata": {},
     "output_type": "display_data"
    }
   ],
   "source": [
    "import plotly.express as px\n",
    "import pandas as pd\n",
    "\n",
    "# Assuming 'tables' and 'counts' are already defined as lists of table names and counts\n",
    "# Example: tables = ['Table 1', 'Table 2', ...]\n",
    "#          counts = [50, 30, ...]\n",
    "tables, counts = zip(*c_most_common_paths)\n",
    "# Create a DataFrame from the tables and counts\n",
    "data = {'Census Table': tables, 'Number of References': counts}\n",
    "df = pd.DataFrame(data)\n",
    "\n",
    "# Create an interactive horizontal bar chart\n",
    "fig = px.bar(df, \n",
    "             x='Number of References', \n",
    "             y='Census Table', \n",
    "             orientation='h',  # Horizontal bars\n",
    "             title=\"Top 15 Most Referenced U.S. Census Tables in Cited Instances\",\n",
    "             labels={'Number of References': 'Number of References', 'Census Table': 'Census Table'},\n",
    "             color='Number of References',  # Color bars based on count\n",
    "             text='Number of References')  # Show count on hover\n",
    "\n",
    "# Customize the hover data (you can modify this to include more details)\n",
    "fig.update_traces(texttemplate='%{text}', textposition='outside')\n",
    "\n",
    "# Invert the y-axis to show the highest count at the top\n",
    "fig.update_yaxes(categoryorder='total descending')\n",
    "\n",
    "# Show the interactive plot\n",
    "fig.show()"
   ]
  }
 ],
 "metadata": {
  "kernelspec": {
   "display_name": "base",
   "language": "python",
   "name": "python3"
  },
  "language_info": {
   "codemirror_mode": {
    "name": "ipython",
    "version": 3
   },
   "file_extension": ".py",
   "mimetype": "text/x-python",
   "name": "python",
   "nbconvert_exporter": "python",
   "pygments_lexer": "ipython3",
   "version": "3.11.3"
  }
 },
 "nbformat": 4,
 "nbformat_minor": 2
}
